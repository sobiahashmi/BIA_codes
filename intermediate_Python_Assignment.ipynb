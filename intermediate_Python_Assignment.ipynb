{
 "cells": [
  {
   "cell_type": "markdown",
   "metadata": {},
   "source": [
    "## Python Test"
   ]
  },
  {
   "cell_type": "markdown",
   "metadata": {},
   "source": [
    "Problem 1: Dictionary of Squares\n",
    "Write a Python function to print a dictionary where the keys are numbers between 7 and 15 (both included) and the values are the squares of the keys.\n",
    "________________________________________"
   ]
  },
  {
   "cell_type": "code",
   "execution_count": 88,
   "metadata": {},
   "outputs": [
    {
     "name": "stdout",
     "output_type": "stream",
     "text": [
      "Squares in Dictionary:  {7: 49} <class 'dict'>\n"
     ]
    }
   ],
   "source": [
    "dict = {}\n",
    "num = int(input(\"Enter Number:\"))\n",
    "\n",
    "def squares(num):\n",
    "    if num>=7 and num<=15:\n",
    "        square = num*num\n",
    "        return square\n",
    "    else: \n",
    "        print(\"Enter numbers between 7 and 15\")\n",
    "\n",
    "dict[num]=squares(num)\n",
    "print(\"Squares in Dictionary: \",dict,type(dict))"
   ]
  },
  {
   "cell_type": "markdown",
   "metadata": {},
   "source": [
    "Problem 2: Check Sorted Array\n",
    "Write a function check_sorted() that, given an array, returns True if the array is sorted and False otherwise.\n",
    "________________________________________"
   ]
  },
  {
   "cell_type": "code",
   "execution_count": 18,
   "metadata": {},
   "outputs": [
    {
     "name": "stdout",
     "output_type": "stream",
     "text": [
      "Array:  [ 1 88  2 45  3 21  4] <class 'numpy.ndarray'>\n",
      "Sorted Array:  [ 1  2  3  4 21 45 88]\n"
     ]
    }
   ],
   "source": [
    "import numpy as np\n",
    "array = np.array([1,88,2,45, 3,21,4])\n",
    "print(\"Array: \",array,type(array))\n",
    "\n",
    "def check_sorted(array):\n",
    "    sorted_array = np.sort(array)\n",
    "    return sorted_array\n",
    "\n",
    "print(\"Sorted Array: \", check_sorted(array))"
   ]
  },
  {
   "cell_type": "markdown",
   "metadata": {},
   "source": [
    "Problem 3: Reach Last Index\n",
    "Write a Python function that determines whether you can reach the last index of an array by starting at the first index.\n",
    "You are given an array of integers, where each element represents the number of steps you can jump forward from that position. Your goal is to determine if it is possible to reach the last index without jumping out of the array or getting stuck in a loop (i.e., visiting the same index more than once).\n",
    "\n",
    "Inputs:\n",
    "\n",
    "●\tk = 2\n",
    "\n",
    "●\tList = ['A', 'B', 'C', 'A', 'A']\n",
    "\n",
    "Output:\n",
    "\n",
    "['acc', 'acc', 'acc', 'acc', 'rej']\n",
    "________________________________________"
   ]
  },
  {
   "cell_type": "code",
   "execution_count": 38,
   "metadata": {},
   "outputs": [
    {
     "name": "stdout",
     "output_type": "stream",
     "text": [
      "[3, 4, 5, 6, 7, 8, 1, 2]\n"
     ]
    }
   ],
   "source": [
    "list = [1,2,3,4,5,6,7,8,9]\n",
    "k=2\n",
    "\n",
    "print(list[2:8] + list[:-7])"
   ]
  },
  {
   "cell_type": "markdown",
   "metadata": {},
   "source": [
    "Problem 5: Sentence Generation\n",
    "Please write a program to generate all sentences where the subject is in [\"I\", \"You\"], the verb is in [\"Play\", \"Love\"], and the object is in [\"Hockey\", \"Football\"]. Output all possible combinations of the sentences.\n",
    "________________________________________"
   ]
  },
  {
   "cell_type": "code",
   "execution_count": 51,
   "metadata": {},
   "outputs": [
    {
     "name": "stdout",
     "output_type": "stream",
     "text": [
      "I Play Hockey\n",
      "I Play Football\n",
      "I Love Hockey\n",
      "I Love Football\n",
      "You Play Hockey\n",
      "You Play Football\n",
      "You Love Hockey\n",
      "You Love Football\n"
     ]
    }
   ],
   "source": [
    "subject = [\"I\", \"You\"]           # [0][1]       ['I']   \n",
    "verb = [\"Play\", \"Love\"]           # [0][1]      ['Play']\n",
    "object = [\"Hockey\", \"Football\"]    # [0][1]     ['Hockey]\n",
    "\n",
    "for i in subject:\n",
    "    for j in verb:\n",
    "       for k in object:\n",
    "           sentence = i + \" \" + j + \" \" + k\n",
    "           print(sentence)\n"
   ]
  },
  {
   "cell_type": "markdown",
   "metadata": {},
   "source": [
    "Problem 6: Letter Combinations\n",
    "\n",
    "You are given a string containing digits from 2 to 9. Each digit maps to a set of letters, similar to the telephone buttons on old mobile phones. The mapping is as follows:\n",
    "\n",
    "●\t2: \"abc\"\n",
    "●\t3: \"def\"\n",
    "●\t4: \"ghi\"\n",
    "●\t5: \"jkl\"\n",
    "●\t6: \"mno\"\n",
    "●\t7: \"pqrs\"\n",
    "●\t8: \"tuv\"\n",
    "●\t9: \"wxyz\"\n",
    "\n",
    "Inputs:\n",
    "\n",
    "●\tdigits = \"23\"\n",
    "\n",
    "Output:\n",
    "\n",
    "[\"ad\", \"ae\", \"af\", \"bd\", \"be\", \"bf\", \"cd\", \"ce\", \"cf\"]\n",
    "________________________________________\n"
   ]
  },
  {
   "cell_type": "code",
   "execution_count": 99,
   "metadata": {},
   "outputs": [
    {
     "name": "stdout",
     "output_type": "stream",
     "text": [
      "('d', 'g') dg\n",
      "('d', 'h') dh\n",
      "('d', 'i') di\n",
      "('e', 'g') eg\n",
      "('e', 'h') eh\n",
      "('e', 'i') ei\n",
      "('f', 'g') fg\n",
      "('f', 'h') fh\n",
      "('f', 'i') fi\n",
      "ad\n",
      "be\n",
      "cf\n"
     ]
    }
   ],
   "source": [
    "import itertools\n",
    "digits_dict = {\"2\":\"abc\",\"3\":\"def\",\"4\":\"ghi\",\"5\":\"jkl\",\"6\":\"mno\",\"7\":\"pqrs\",\"8\":\"tuv\",\"9\":\"wxyz\"}\n",
    "\n",
    "num1 = input(\"Enter Number between 2 and 9:\")\n",
    "num2 = input(\"Enter Number between 2 and 9:\") \n",
    "\n",
    "#if(str(num1) >= 2 and str(num1) <=2 ): #and num2>=2 and num2 >= 9\n",
    "combination = itertools.product(digits_dict[num1],digits_dict[num2])\n",
    "for i in combination:\n",
    "    print(i,''.join(i)) # join function: Join the letters\n",
    "\n",
    "\n",
    "# Logic Practice : 23\n",
    "print(digits_dict[\"2\"][0] + digits_dict[\"3\"][0])    # ad\n",
    "print(digits_dict[\"2\"][1] + digits_dict[\"3\"][1])    # be\n",
    "print(digits_dict[\"2\"][2] + digits_dict[\"3\"][2])    # cf\n",
    "\n",
    "# We are using itertools.product\n",
    "# This can also be solve by using for loop. We can use Nested Loop 9 times, then it will check eack value.\n",
    "# But it will be very lengthy and time consuming. So we are using itertools.product.\n"
   ]
  },
  {
   "cell_type": "markdown",
   "metadata": {},
   "source": [
    "Problem 7: First Non-Repeating Character\n",
    "\n",
    "Given a string s, write a Python function to find the first non-repeating character in it and return its index. If it does not exist, return -1.\n",
    "Inputs:\n",
    "●\ts = \"leetcode\"\n",
    "Output:\n",
    "0\n",
    "\n",
    "Inputs:\n",
    "●\ts = \"loveleetcode\"\n",
    "Output:\n",
    "2\n",
    "\n",
    "Inputs:\n",
    "●\ts = \"aabb\"\n",
    "Output:\n",
    "-1\n",
    "________________________________________\n"
   ]
  },
  {
   "cell_type": "code",
   "execution_count": 83,
   "metadata": {},
   "outputs": [
    {
     "name": "stdout",
     "output_type": "stream",
     "text": [
      "{'l': 1, 'e': 3, 't': 1, 'c': 1, 'o': 1, 'd': 1}\n",
      "dict_items([('l', 1), ('e', 3), ('t', 1), ('c', 1), ('o', 1), ('d', 1)]) <class 'dict'>\n",
      "0\n",
      "{'s': 2, 'o': 1, 'b': 2, 'i': 2, 'a': 2}\n",
      "dict_items([('s', 2), ('o', 1), ('b', 2), ('i', 2), ('a', 2)]) <class 'dict'>\n",
      "-1\n"
     ]
    }
   ],
   "source": [
    "\n",
    "\n",
    "def first_non_repeating_character(str): # Step-1: Count the frequency of each character\n",
    "    freq_count = {}\n",
    "    for char in str:\n",
    "        if char in freq_count:\n",
    "            freq_count[char] += 1\n",
    "        else:\n",
    "            freq_count[char] = 1\n",
    "    print(freq_count)\n",
    "    print(freq_count.items(),type(freq_count))\n",
    "\n",
    "    for index,value in enumerate(str):    # STEP -2 RETURN INDEX NUMBER OF FIRST NON-REPEATING CHARACTER\n",
    "        if freq_count[value] == 1:                 # Enumerate function will keep track of both index and value of String\n",
    "            return index\n",
    "        else: \n",
    "            return -1\n",
    "    \n",
    "\n",
    "print(first_non_repeating_character('leetcode'))\n",
    "print(first_non_repeating_character('ssobbiiaa'))"
   ]
  },
  {
   "cell_type": "markdown",
   "metadata": {},
   "source": [
    "Problem 8: Valid Parentheses\n",
    "Given a string s containing just the characters '(', ')', '{', '}', '[' and ']', write a Python function to determine if the input string is valid.\n",
    "\n",
    "An input string is valid if:\n",
    "●\tOpen brackets must be closed by the same type of brackets.\n",
    "●\tOpen brackets must be closed in the correct order.\n",
    "Inputs:\n",
    "●\ts = \"()[]{}\"\n",
    "Output:\n",
    "True\n",
    "Inputs:\n",
    "●\ts = \"(]\"\n",
    "Output:\n",
    "False\n",
    "Inputs:\n",
    "●\ts = \"([)]\"\n",
    "Output:\n",
    "False\n",
    "Inputs:\n",
    "●\ts = \"{[]}\"\n",
    "Output:\n",
    "True\n",
    "________________________________________\n"
   ]
  },
  {
   "cell_type": "code",
   "execution_count": 118,
   "metadata": {},
   "outputs": [
    {
     "name": "stdout",
     "output_type": "stream",
     "text": [
      "['(', ')']\n",
      "valid\n",
      "Enter (): None\n",
      "['(', ')', '[', ']', '{', '}']\n",
      "valid\n",
      "Enter ()[]{}: None\n",
      "['{', '}']\n",
      "valid\n",
      "None\n"
     ]
    }
   ],
   "source": [
    "#\tOpen brackets must be closed by the same type of brackets.\n",
    "#\tOpen brackets must be closed in the correct order.\n",
    "\n",
    "#string_list = ['(', ')' , '{' , '}' , '[', ']']\n",
    "emp_dict = {}\n",
    "\n",
    "def check_valid_bracket(input_string):\n",
    "   stack = []\n",
    "   for char in input_string:    # ()   --stack-->    ['(',')']\n",
    "      stack.append(char)\n",
    "   print(stack)     \n",
    "\n",
    "   #   CHECK POINTS:\n",
    "   # 1. First we have to check bracket is OPEN, and then CLOSE.\n",
    "   # 2. Second we have to identify condition for both brackets of same type present then TRUE  \n",
    "   # 3. Third we have to check if the bracket is closed in the correct order. check if the bracket_pair () , [] , {} exists\n",
    "   if (chr(40) and chr(41)) in stack:   # chr(40) = '(' , chr(41) = ')'\n",
    "      print(\"valid\")\n",
    "   elif (chr(123) and chr(125)) in stack:   # chr(123) = '{' , chr(125) = '}'\n",
    "      print(\"valid\")\n",
    "   elif (chr(91) and chr(93)) in stack: # chr(91) = '[' , chr(93) = ']'\n",
    "      print(\"valid\")\n",
    "   else:\n",
    "      print(\"invalid\")\n",
    "   \n",
    "   dict_map = {')': '(', '}': '{', ']': '['} # check if input_string map with stack value\n",
    "   #for i,j in dict_map.items():\n",
    "      # Closing bracket match with key\n",
    "      # Opening bracket match with value\n",
    "      \n",
    "#       emp_dict[i]=j\n",
    "#    print(\"Empty Dictionary contains value to check:\", emp_dict)\n",
    "      \n",
    "\n",
    "print(\"Enter ():\",check_valid_bracket(\"()\")) # valid\n",
    "print(\"Enter ()[]{}:\",check_valid_bracket(\"()[]{}\")) # valid\n",
    "print(check_valid_bracket(\"()}\")) # invalid\n",
    "    "
   ]
  },
  {
   "cell_type": "markdown",
   "metadata": {},
   "source": [
    "Problem 9: Character Frequency Dictionary\n",
    "Write a Python function that takes a list of words and returns a dictionary where the keys are characters and the values are dictionaries containing the frequency of that character in each word.\n",
    "Inputs:\n",
    "●\twords = [\"hello\", \"world\", \"python\"]\n",
    "Output:\n",
    "{\n",
    "  'h': {'hello': 1, 'world': 0, 'python': 1},\n",
    "  'e': {'hello': 1, 'world': 0, 'python': 0},\n",
    "  'l': {'hello': 2, 'world': 1, 'python': 0},\n",
    "  'o': {'hello': 1, 'world': 1, 'python': 0},\n",
    "  'w': {'hello': 0, 'world': 1, 'python': 0},\n",
    "  'r': {'hello': 0, 'world': 1, 'python': 0},\n",
    "  'd': {'hello': 0, 'world': 1, 'python': 0},\n",
    "  'p': {'hello': 0, 'world': 0, 'python': 1},\n",
    "  'y': {'hello': 0, 'world': 0, 'python': 1},\n",
    "  't': {'hello': 0, 'world': 0, 'python': 1},\n",
    "  'n': {'hello': 0, 'world': 0, 'python': 1\n",
    "}\n",
    "________________________________________\n"
   ]
  },
  {
   "cell_type": "code",
   "execution_count": 80,
   "metadata": {},
   "outputs": [
    {
     "name": "stdout",
     "output_type": "stream",
     "text": [
      "{}\n",
      "{'h': {'hello': 1, 'world': 0, 'python': 1}, 'e': {'hello': 1, 'world': 0, 'python': 0}, 'l': {'hello': 2, 'world': 1, 'python': 0}, 'o': {'hello': 1, 'world': 1, 'python': 1}, 'w': {'hello': 0, 'world': 1, 'python': 0}, 'r': {'hello': 0, 'world': 1, 'python': 0}, 'd': {'hello': 0, 'world': 1, 'python': 0}, 'p': {'hello': 0, 'world': 0, 'python': 1}, 'y': {'hello': 0, 'world': 0, 'python': 1}, 't': {'hello': 0, 'world': 0, 'python': 1}, 'n': {'hello': 0, 'world': 0, 'python': 1}} ['hello', 'world', 'python']\n"
     ]
    }
   ],
   "source": [
    "words = [\"hello\", \"world\", \"python\"]\n",
    "emp_dict1 = {}\n",
    "\n",
    "def list_of_words(words):    \n",
    "    for char in words:\n",
    "        for i in char:\n",
    "\n",
    "            if i not in emp_dict1:\n",
    "                emp_dict1[i] = {w:0 for w in words} # Dictionary Comprehension\n",
    "\n",
    "            if i in emp_dict1:\n",
    "                emp_dict1[i][char] += 1\n",
    "            # else:\n",
    "            #     emp_dict1[i] = 1\n",
    "    return emp_dict1\n",
    "\n",
    "print(emp_dict1)\n",
    "print(list_of_words(words),words)\n",
    "            \n"
   ]
  },
  {
   "cell_type": "code",
   "execution_count": 81,
   "metadata": {},
   "outputs": [
    {
     "name": "stdout",
     "output_type": "stream",
     "text": [
      "{'h': {'hello': 1, 'world': 0, 'python': 1}, 'e': {'hello': 1, 'world': 0, 'python': 0}, 'l': {'hello': 2, 'world': 1, 'python': 0}, 'o': {'hello': 1, 'world': 1, 'python': 1}, 'w': {'hello': 0, 'world': 1, 'python': 0}, 'r': {'hello': 0, 'world': 1, 'python': 0}, 'd': {'hello': 0, 'world': 1, 'python': 0}, 'p': {'hello': 0, 'world': 0, 'python': 1}, 'y': {'hello': 0, 'world': 0, 'python': 1}, 't': {'hello': 0, 'world': 0, 'python': 1}, 'n': {'hello': 0, 'world': 0, 'python': 1}}\n"
     ]
    }
   ],
   "source": [
    "words = [\"hello\", \"world\", \"python\"]\n",
    "emp_dict1 = {}\n",
    "\n",
    "def list_of_words(words):\n",
    "    # Initialize emp_dict1 with each character and set counts to 0 for each word\n",
    "    for word in words:\n",
    "        for char in word:\n",
    "            if char not in emp_dict1:\n",
    "                emp_dict1[char] = {w:0 for w in words} # list comprehension\n",
    "\n",
    "    # Update counts for each character in the corresponding word\n",
    "    for word in words:\n",
    "        for char in word:\n",
    "            emp_dict1[char][word] += 1\n",
    "\n",
    "    return emp_dict1\n",
    "\n",
    "# Print the nested dictionary\n",
    "print(list_of_words(words))  # Output will show the count for each character in each word"
   ]
  },
  {
   "cell_type": "markdown",
   "metadata": {},
   "source": [
    "Problem 10: Move Zeros\n",
    "Write a Python function ‘move_zeroes’ that takes an array of integers and moves all the zeroes to the end of the array while maintaining the relative order of the non-zero elements.\n",
    "\n",
    "Input: [0, 1, 0, 3, 0, 12]\n",
    "Output: [1, 3, 12, 0, 0,0]\n",
    "________________________________________"
   ]
  },
  {
   "cell_type": "code",
   "execution_count": 57,
   "metadata": {},
   "outputs": [
    {
     "name": "stdout",
     "output_type": "stream",
     "text": [
      "[0, 1, 0, 3, 0, 12]\n",
      "[1, 3, 12, 0, 0, 0]\n"
     ]
    }
   ],
   "source": [
    "# Method # 1 [Static Input]\n",
    "list = [0, 1, 0, 3, 0, 12]\n",
    "def move_zeros(list):\n",
    "    for i in list:\n",
    "        if i == 0:\n",
    "            list.remove(i)\n",
    "            list.append(0)\n",
    "    return list   \n",
    "print(list)\n",
    "print(move_zeros(list))\n",
    "    "
   ]
  },
  {
   "cell_type": "code",
   "execution_count": 56,
   "metadata": {},
   "outputs": [
    {
     "name": "stdout",
     "output_type": "stream",
     "text": [
      "List: [3, 4, 0, 0, 7, 6]\n",
      "Zero Move: [3, 4, 7, 6, 0, 0]\n"
     ]
    }
   ],
   "source": [
    "# Method # 2 [Dynamic Input]\n",
    "emp_list = []\n",
    "for i in range(6):\n",
    "    emp_list.append(int(input(\"Enter Number: (six times)\")))\n",
    "list2 = emp_list\n",
    "print(\"List:\",list2)\n",
    "\n",
    "def  move_zeros(emp_list):\n",
    "    for j in emp_list:\n",
    "        if j == 0:\n",
    "            emp_list.remove(j)\n",
    "            emp_list.append(0)\n",
    "    \n",
    "    return emp_list\n",
    "\n",
    "move_zeros(emp_list)\n",
    "print(\"Zero Move:\", move_zeros(emp_list))\n",
    "\n",
    "    "
   ]
  },
  {
   "cell_type": "code",
   "execution_count": null,
   "metadata": {},
   "outputs": [],
   "source": []
  }
 ],
 "metadata": {
  "kernelspec": {
   "display_name": "Python 3",
   "language": "python",
   "name": "python3"
  },
  "language_info": {
   "codemirror_mode": {
    "name": "ipython",
    "version": 3
   },
   "file_extension": ".py",
   "mimetype": "text/x-python",
   "name": "python",
   "nbconvert_exporter": "python",
   "pygments_lexer": "ipython3",
   "version": "3.12.3"
  }
 },
 "nbformat": 4,
 "nbformat_minor": 2
}
