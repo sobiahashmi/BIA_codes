{
 "cells": [
  {
   "cell_type": "markdown",
   "metadata": {},
   "source": [
    "<!-- <a id=\"Data_Preparation\"></a> #create a link between chapter and table of content  -->\n",
    "# <b> <span style='color:dimgray'>Generators in Python</span> <span style='color:crimson'>|</span> <span style='color:#53599A'>Pandas Library</span></b>\n",
    "\n",
    "<p style=\"color:crimson\"> Time-Saving: They can make things faster because you start getting parts of your data without waiting for everything to be made first. </p>\n",
    "\n",
    "<p style=\"color:crimson\"> Memory Friendly: They use less memory because they generate items only as you need them. </p>\n",
    "\n",
    "<div>\n",
    "<br>\n",
    "<!-- <a href=\"#Table\" style=\"background-color: #607BB0; color: #ffffff; padding: 7px 10px; text-decoration: none; border-radius: 50px;\">Back to top</a> # Go Back to Top of Notebook (Table of Content For Example) \n",
    "</div> -->"
   ]
  },
  {
   "cell_type": "code",
   "execution_count": 2,
   "metadata": {},
   "outputs": [
    {
     "name": "stdout",
     "output_type": "stream",
     "text": [
      "1\n",
      "2\n",
      "3\n"
     ]
    }
   ],
   "source": [
    "# Example\n",
    "\n",
    "def count_to_three():\n",
    "    yield 1\n",
    "    yield 2\n",
    "    yield 3\n",
    "\n",
    "for num in count_to_three():\n",
    "    print(num)"
   ]
  },
  {
   "cell_type": "code",
   "execution_count": 3,
   "metadata": {},
   "outputs": [
    {
     "name": "stdout",
     "output_type": "stream",
     "text": [
      "1\n",
      "2\n",
      "3\n",
      "4\n",
      "5\n",
      "6\n",
      "7\n",
      "8\n"
     ]
    }
   ],
   "source": [
    "def book_pages():\n",
    "    yield 1\n",
    "    yield 2\n",
    "    yield 3\n",
    "    yield 4\n",
    "    yield 5\n",
    "    yield 6 \n",
    "    yield 7\n",
    "    yield 8\n",
    "\n",
    "for page_num in book_pages():\n",
    "    print(page_num)\n"
   ]
  },
  {
   "cell_type": "markdown",
   "metadata": {},
   "source": [
    "**Question 1:**\n",
    "  \n",
    "Write a generator that gives the first 5 even numbers. "
   ]
  },
  {
   "cell_type": "code",
   "execution_count": 8,
   "metadata": {},
   "outputs": [
    {
     "name": "stdout",
     "output_type": "stream",
     "text": [
      "2\n",
      "4\n",
      "6\n",
      "8\n",
      "10\n"
     ]
    }
   ],
   "source": [
    "def even_nos():\n",
    "    for i in range(1,11):\n",
    "        if i % 2 == 0:\n",
    "            yield i\n",
    "    \n",
    "for even in even_nos():\n",
    "    print(even)"
   ]
  },
  {
   "cell_type": "markdown",
   "metadata": {},
   "source": [
    "**Question 2:**\n",
    "\n",
    "Create a generator that yields \"yes\" if a number is divisible by 10, otherwise yields \"no\", for numbers 1 through 20."
   ]
  },
  {
   "cell_type": "code",
   "execution_count": 11,
   "metadata": {},
   "outputs": [
    {
     "name": "stdout",
     "output_type": "stream",
     "text": [
      "Number:1 is divisible by False\n",
      "Number:2 is divisible by False\n",
      "Number:3 is divisible by False\n",
      "Number:4 is divisible by False\n",
      "Number:5 is divisible by False\n",
      "Number:6 is divisible by False\n",
      "Number:7 is divisible by False\n",
      "Number:8 is divisible by False\n",
      "Number:9 is divisible by False\n",
      "Number:10 is divisible by True\n",
      "Number:11 is divisible by False\n",
      "Number:12 is divisible by False\n",
      "Number:13 is divisible by False\n",
      "Number:14 is divisible by False\n",
      "Number:15 is divisible by False\n",
      "Number:16 is divisible by False\n",
      "Number:17 is divisible by False\n",
      "Number:18 is divisible by False\n",
      "Number:19 is divisible by False\n",
      "Number:20 is divisible by True\n"
     ]
    }
   ],
   "source": [
    "def divisible_by_10():\n",
    "    for i in range(1, 21):\n",
    "        if i % 10 == 0:\n",
    "            yield (i,True)\n",
    "        else:\n",
    "            yield (i,False)\n",
    " # To use the generator and print results:\n",
    "\n",
    "for i,j in divisible_by_10():\n",
    "    print(f\"Number:{i} is divisible by {j}\")"
   ]
  },
  {
   "cell_type": "markdown",
   "metadata": {},
   "source": [
    "**Question 3:** \n",
    "\n",
    "Make a generator that counts down from 10 to 1, then yields \"Liftoff!\". "
   ]
  },
  {
   "cell_type": "code",
   "execution_count": 16,
   "metadata": {},
   "outputs": [
    {
     "name": "stdout",
     "output_type": "stream",
     "text": [
      "Count in Reverse Order: 10\n",
      "Count in Reverse Order: 9\n",
      "Count in Reverse Order: 8\n",
      "Count in Reverse Order: 7\n",
      "Count in Reverse Order: 6\n",
      "Count in Reverse Order: 5\n",
      "Count in Reverse Order: 4\n",
      "Count in Reverse Order: 3\n",
      "Count in Reverse Order: 2\n",
      "Count in Reverse Order: 1\n"
     ]
    }
   ],
   "source": [
    "def count_reverse():\n",
    "    for i in range(10,0,-1):\n",
    "        yield i\n",
    "for j in count_reverse(): \n",
    "    print(f\"Count in Reverse Order: {j}\")"
   ]
  },
  {
   "cell_type": "markdown",
   "metadata": {},
   "source": [
    "**Question 4:**\n",
    "\n",
    "Develop a generator that yields each letter in the word \"Python\" one at a time. "
   ]
  },
  {
   "cell_type": "code",
   "execution_count": 18,
   "metadata": {},
   "outputs": [
    {
     "name": "stdout",
     "output_type": "stream",
     "text": [
      "P\n",
      "y\n",
      "t\n",
      "h\n",
      "o\n",
      "n\n"
     ]
    }
   ],
   "source": [
    "\n",
    "def each_letter_in_word(str):\n",
    "    for i in str:\n",
    "        yield i\n",
    "\n",
    "for j in each_letter_in_word(\"Python\"):\n",
    "    print(j)\n",
    "\n",
    "\n"
   ]
  }
 ],
 "metadata": {
  "kernelspec": {
   "display_name": "Python 3",
   "language": "python",
   "name": "python3"
  },
  "language_info": {
   "codemirror_mode": {
    "name": "ipython",
    "version": 3
   },
   "file_extension": ".py",
   "mimetype": "text/x-python",
   "name": "python",
   "nbconvert_exporter": "python",
   "pygments_lexer": "ipython3",
   "version": "3.12.3"
  }
 },
 "nbformat": 4,
 "nbformat_minor": 2
}
