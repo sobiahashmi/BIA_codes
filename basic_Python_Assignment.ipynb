{
 "cells": [
  {
   "cell_type": "markdown",
   "metadata": {},
   "source": [
    "Problem 1: \n",
    "Write a program that creates a list of five fruits and allows the user to add a new fruit, remove a fruit, and print the updated list.\n"
   ]
  },
  {
   "cell_type": "code",
   "execution_count": 16,
   "metadata": {},
   "outputs": [
    {
     "name": "stdout",
     "output_type": "stream",
     "text": [
      "['apple', 'banana', 'cherry', 'mango', 'peach', 'rasberry']\n",
      "Fruit not found in the list: blueberry\n",
      "['apple', 'banana', 'cherry', 'mango', 'peach', 'rasberry']\n"
     ]
    }
   ],
   "source": [
    "list1 = [\"apple\",\"banana\",\"cherry\",\"mango\",\"peach\"]\n",
    "new_fruit = input(\"Add a new fruit: \")\n",
    "list1.append(new_fruit) # Add a new fruit\n",
    "\n",
    "print(list1)\n",
    "\n",
    "# To remove the fruit\n",
    "\n",
    "user_input = input(\"Remove a fruit: \")\n",
    "\n",
    "if user_input in list1:\n",
    "    list1.remove(user_input) \n",
    "else:\n",
    "    # print(f\"Fruit not found in the list: {user_input}\")\n",
    "    print(\"Fruit not found in the list: {}\".format(user_input))\n",
    "\n",
    "print(list1)\n"
   ]
  },
  {
   "cell_type": "markdown",
   "metadata": {},
   "source": [
    "Problem 2: \n",
    "Create a program that takes a score (0-100) from the user and outputs the corresponding letter grade (A, B, C, D, F).\n",
    "\n",
    "* A: 90-100\n",
    "* B: 80-90\n",
    "* C: 65-80\n",
    "* D: 50-65\n",
    "* F: below 50 "
   ]
  },
  {
   "cell_type": "code",
   "execution_count": 27,
   "metadata": {},
   "outputs": [
    {
     "name": "stdout",
     "output_type": "stream",
     "text": [
      "Grade: B\n"
     ]
    }
   ],
   "source": [
    "score = float(input(\"Enter Number: \"))\n",
    "\n",
    "if score >= 90 and score <= 100: \n",
    "    print(\"Grade: A\")\n",
    "elif score >=80 and score < 90: \n",
    "    print (\"Grade: B\") \n",
    "elif score >=65 and score < 80:\n",
    "    print(\"Grade: C\")\n",
    "elif score >= 50 and score < 65:\n",
    "    print(\"Grade: D\")\n",
    "elif score >= 0 and score < 50:\n",
    "    print(\"Grade F\")\n",
    "else: print(\"Invalid Number\")\n",
    "    "
   ]
  },
  {
   "cell_type": "markdown",
   "metadata": {},
   "source": [
    "Problem 3: \n",
    "Write a program that calculates the factorial of a number using a loop.\n"
   ]
  },
  {
   "cell_type": "code",
   "execution_count": 38,
   "metadata": {},
   "outputs": [
    {
     "name": "stdout",
     "output_type": "stream",
     "text": [
      "Factorial: 4 , Result: 24 \n"
     ]
    }
   ],
   "source": [
    "result = 1\n",
    "factorial = int(input(\"Enter Numner: \"))\n",
    "\n",
    "if factorial > 0:\n",
    "    for i in range(factorial,result,-1):\n",
    "            result = i* result    \n",
    "else:\n",
    "    print(\"Enter valid input\")\n",
    "\n",
    "print(\"Factorial: {} , Result: {} \".format(factorial,result))"
   ]
  },
  {
   "cell_type": "markdown",
   "metadata": {},
   "source": [
    "Problem 4: \n",
    "Write a program that creates a dictionary of student names and their scores. Allow the user to look up a student's score and add a new student.\n"
   ]
  },
  {
   "cell_type": "code",
   "execution_count": 55,
   "metadata": {},
   "outputs": [
    {
     "name": "stdout",
     "output_type": "stream",
     "text": [
      "usman 55\n"
     ]
    }
   ],
   "source": [
    "student = {}\n",
    "student[\"name\"] = input(\"Enter Student name: \") # input name\n",
    "student[\"score\"] = int(input(\"Enter Score: \"))  # input score\n",
    "\n",
    "print(student)  # print dictionary\n",
    "\n",
    "print(student.values(),student[\"name\"]) # values in dictionary\n",
    "print(student.keys(),student[\"score\"])  # keys in dictionary\n",
    "\n",
    "# Add a new student \n",
    "for i,j in student.items():     # print values with loop\n",
    "    print(i,j)\n"
   ]
  },
  {
   "cell_type": "markdown",
   "metadata": {},
   "source": [
    "Problem 5: \n",
    "Create a program that finds the maximum value in a list of integers without using any built-in functions.\n"
   ]
  },
  {
   "cell_type": "code",
   "execution_count": 67,
   "metadata": {},
   "outputs": [
    {
     "name": "stdout",
     "output_type": "stream",
     "text": [
      "Maximum value:  98\n"
     ]
    }
   ],
   "source": [
    "program = [22,97,44,54,98,67,54,77,4,87]\n",
    "program.sort()\n",
    "\n",
    "print(\"Maximum value: \", program[-1]) # pick last value from list"
   ]
  },
  {
   "cell_type": "code",
   "execution_count": 70,
   "metadata": {},
   "outputs": [
    {
     "name": "stdout",
     "output_type": "stream",
     "text": [
      "[3, 4, 5, 44, 33]\n"
     ]
    }
   ],
   "source": [
    "# Take the input from user and store it in a list\n",
    "empty_list = []\n",
    "num = int(input(\"How many numbers you want to input: \"))\n",
    "\n",
    "for i in range(num):\n",
    "    empty_list.append(int(input(\"Enter a number: \")))\n",
    "\n",
    "print(empty_list)"
   ]
  },
  {
   "cell_type": "code",
   "execution_count": null,
   "metadata": {},
   "outputs": [],
   "source": []
  }
 ],
 "metadata": {
  "kernelspec": {
   "display_name": "Python 3",
   "language": "python",
   "name": "python3"
  },
  "language_info": {
   "codemirror_mode": {
    "name": "ipython",
    "version": 3
   },
   "file_extension": ".py",
   "mimetype": "text/x-python",
   "name": "python",
   "nbconvert_exporter": "python",
   "pygments_lexer": "ipython3",
   "version": "3.12.3"
  }
 },
 "nbformat": 4,
 "nbformat_minor": 2
}
