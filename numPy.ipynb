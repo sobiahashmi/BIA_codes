{
 "cells": [
  {
   "cell_type": "code",
   "execution_count": 1,
   "metadata": {},
   "outputs": [
    {
     "name": "stdout",
     "output_type": "stream",
     "text": [
      "[1 2 3 4 5]\n",
      "<class 'numpy.ndarray'>\n"
     ]
    }
   ],
   "source": [
    "import numpy as np\n",
    "\n",
    "# create a numPy array\n",
    "arr = np.array([1,2,3,4,5])\n",
    "print(arr)\n",
    "print(type(arr))\n"
   ]
  },
  {
   "cell_type": "markdown",
   "metadata": {},
   "source": [
    "* Creates a 3*3 array filled with zeros"
   ]
  },
  {
   "cell_type": "code",
   "execution_count": 6,
   "metadata": {},
   "outputs": [
    {
     "name": "stdout",
     "output_type": "stream",
     "text": [
      "[[0. 0.]\n",
      " [0. 0.]\n",
      " [0. 0.]]\n"
     ]
    }
   ],
   "source": [
    "zeros_arr = np.zeros((3,2)) # tuple(3,2) is converted into array of ZEROS 3*2\n",
    "\n",
    "print(zeros_arr)"
   ]
  },
  {
   "cell_type": "code",
   "execution_count": 7,
   "metadata": {},
   "outputs": [
    {
     "name": "stdout",
     "output_type": "stream",
     "text": [
      "[[1. 1.]\n",
      " [1. 1.]]\n"
     ]
    },
    {
     "data": {
      "text/plain": [
       "1.0"
      ]
     },
     "execution_count": 7,
     "metadata": {},
     "output_type": "execute_result"
    }
   ],
   "source": [
    "# create a numPy array filled with ones\n",
    "ones_arr = np.ones((2,2)) # tuple(2,2) is converted into array of ONES 2*2\n",
    "print(ones_arr)\n",
    "ones_arr[1][1]"
   ]
  },
  {
   "cell_type": "markdown",
   "metadata": {},
   "source": [
    "* np.arange()"
   ]
  },
  {
   "cell_type": "code",
   "execution_count": 19,
   "metadata": {},
   "outputs": [
    {
     "name": "stdout",
     "output_type": "stream",
     "text": [
      "Array from arange: [ 2  4  6  8 10 12 14 16 18 20]\n",
      "Array from arange: [ 3  6  9 12 15 18 21 24 27 30]\n"
     ]
    }
   ],
   "source": [
    "# Table of 2\n",
    "arr = np.arange(2,21,2)\n",
    "print(\"Array from arange:\", arr)\n",
    "\n",
    "# Table of 3\n",
    "arr = np.arange(3,31,3)\n",
    "print(\"Array from arange:\", arr)"
   ]
  },
  {
   "cell_type": "markdown",
   "metadata": {},
   "source": [
    "* np.linespace()"
   ]
  },
  {
   "cell_type": "code",
   "execution_count": 10,
   "metadata": {},
   "outputs": [
    {
     "name": "stdout",
     "output_type": "stream",
     "text": [
      "Array from linespace: [0.         0.22222222 0.44444444 0.66666667 0.88888889 1.11111111\n",
      " 1.33333333 1.55555556 1.77777778 2.        ]\n"
     ]
    }
   ],
   "source": [
    "line_array = np.linspace(0,2,10) #create a array with same range/gap from 0 to 2\n",
    "\n",
    "print(\"Array from linespace:\",line_array)"
   ]
  },
  {
   "cell_type": "code",
   "execution_count": 21,
   "metadata": {},
   "outputs": [
    {
     "name": "stdout",
     "output_type": "stream",
     "text": [
      "[ 3.  6.  9. 12. 15. 18. 21. 24. 27. 30.]\n",
      "[ 3.  6.  9. 12. 15. 18. 21. 24. 27. 30. 33. 36. 39. 42. 45. 48. 51. 54.\n",
      " 57. 60.]\n"
     ]
    }
   ],
   "source": [
    "# table of 3 with line space\n",
    "table_of_three = np.linspace(3,30,10)\n",
    "print(table_of_three)\n",
    "\n",
    "# table of 3 with line space till 20\n",
    "table_of_three = np.linspace(3,60,20)\n",
    "print(table_of_three)"
   ]
  },
  {
   "cell_type": "markdown",
   "metadata": {},
   "source": [
    "np.random()"
   ]
  },
  {
   "cell_type": "code",
   "execution_count": 25,
   "metadata": {},
   "outputs": [
    {
     "name": "stdout",
     "output_type": "stream",
     "text": [
      "[[0.52522493 0.4508898  0.22336352]\n",
      " [0.96791073 0.06162023 0.56865873]\n",
      " [0.8442617  0.53316682 0.82333548]]\n",
      "\n",
      "[[28.62321238 25.50354971 24.55987884]\n",
      " [22.33152673 28.28934719 24.84886065]\n",
      " [22.85162015 21.94947554 24.63299673]]\n"
     ]
    }
   ],
   "source": [
    "random = np.random.rand(3,3) # by default value are from 0 to 1\n",
    "print(random)\n",
    "\n",
    "print()\n",
    "\n",
    "rand_arr = 20 + np.random.rand(3,3) * 10\n",
    "print(rand_arr)"
   ]
  },
  {
   "cell_type": "code",
   "execution_count": 29,
   "metadata": {},
   "outputs": [
    {
     "name": "stdout",
     "output_type": "stream",
     "text": [
      "[[783.45507165 908.55384269 760.59973422]\n",
      " [814.44638386 768.71630501 526.22794351]\n",
      " [880.82933987 541.44231064 908.15883123]]\n"
     ]
    }
   ],
   "source": [
    "# Generate values from 500 to 1000\n",
    "values = 500 + np.random.rand(3,3)*500\n",
    "print(values)"
   ]
  },
  {
   "cell_type": "markdown",
   "metadata": {},
   "source": [
    "* ndim = 2\n",
    "* shape\n",
    "* reshape"
   ]
  },
  {
   "cell_type": "code",
   "execution_count": 15,
   "metadata": {},
   "outputs": [
    {
     "name": "stdout",
     "output_type": "stream",
     "text": [
      "[[1 2 3 4]]\n",
      "(1, 4)\n",
      "\n",
      "[[1 2]\n",
      " [3 4]]\n",
      "\n",
      "[[1]\n",
      " [2]\n",
      " [3]\n",
      " [4]] 3\n"
     ]
    }
   ],
   "source": [
    "import numpy as np\n",
    "arr = np.array([1,2,3,4], ndmin = 2)\n",
    "\n",
    "print(arr)\n",
    "print(arr.shape)\n",
    "\n",
    "print()\n",
    "reshap_arr = arr.reshape((2,2))\n",
    "print(reshap_arr)\n",
    "\n",
    "print()\n",
    "reshap_arr = arr.reshape((4,1))\n",
    "print(reshap_arr,reshap_arr[2][0]) # Access 3"
   ]
  },
  {
   "cell_type": "code",
   "execution_count": 17,
   "metadata": {},
   "outputs": [
    {
     "name": "stdout",
     "output_type": "stream",
     "text": [
      "2\n"
     ]
    }
   ],
   "source": [
    "# to check the dimension of array\n",
    "print(arr.ndim)"
   ]
  },
  {
   "cell_type": "markdown",
   "metadata": {},
   "source": [
    "* Data Types in numPy"
   ]
  },
  {
   "cell_type": "code",
   "execution_count": 19,
   "metadata": {},
   "outputs": [
    {
     "name": "stdout",
     "output_type": "stream",
     "text": [
      "String array: ['ABC' 'DEF' '89']\n",
      "<class 'numpy.ndarray'>\n"
     ]
    }
   ],
   "source": [
    "# All the values will be string when we define the datatype dtype = np.str_\n",
    "str_arr = np.array([\"ABC\",\"DEF\",89] , dtype = np.str_) # _ underscore is part of string\n",
    "print(\"String array:\", str_arr)\n",
    "print(type(str_arr))\n"
   ]
  },
  {
   "cell_type": "code",
   "execution_count": 22,
   "metadata": {},
   "outputs": [
    {
     "name": "stdout",
     "output_type": "stream",
     "text": [
      "[[1 2 3 8]]\n"
     ]
    }
   ],
   "source": [
    "# All the numbers converted to int64\n",
    "int_arr = np.array([1,2,3,8.0], dtype = np.int64, ndmin = 2)\n",
    "print(int_arr)"
   ]
  },
  {
   "cell_type": "code",
   "execution_count": 23,
   "metadata": {},
   "outputs": [
    {
     "name": "stdout",
     "output_type": "stream",
     "text": [
      "[[1. 2. 3. 8.]]\n"
     ]
    }
   ],
   "source": [
    "# All the float_numbers converted to float64\n",
    "int_arr = np.array([1,2,3,8.0], dtype = np.float64, ndmin = 2)\n",
    "print(int_arr)"
   ]
  },
  {
   "cell_type": "code",
   "execution_count": 24,
   "metadata": {},
   "outputs": [
    {
     "name": "stdout",
     "output_type": "stream",
     "text": [
      "Boolean array: [ True False  True  True]\n"
     ]
    }
   ],
   "source": [
    "# 0 --> False  1 --> True \n",
    "# False in '0' , All others are True\n",
    "bool_arr = np.array([True,False,True,7], dtype = np.bool_) \n",
    "print(\"Boolean array:\", bool_arr)"
   ]
  },
  {
   "cell_type": "markdown",
   "metadata": {},
   "source": [
    "* ASCII codes [ord] \n",
    "* character [chr]"
   ]
  },
  {
   "cell_type": "code",
   "execution_count": 27,
   "metadata": {},
   "outputs": [
    {
     "name": "stdout",
     "output_type": "stream",
     "text": [
      "65\n",
      "97\n",
      "64\n",
      "A\n",
      "C\n"
     ]
    }
   ],
   "source": [
    "\n",
    "print(ord('A'))\n",
    "print(ord('a'))\n",
    "print(ord('@'))\n",
    "\n",
    "print(chr(65))\n",
    "print(chr(67))"
   ]
  },
  {
   "cell_type": "code",
   "execution_count": 28,
   "metadata": {},
   "outputs": [
    {
     "name": "stdout",
     "output_type": "stream",
     "text": [
      "int32\n"
     ]
    }
   ],
   "source": [
    "# To check the data type\n",
    "arr = np.array([1,2,3,4])\n",
    "print(arr.dtype)"
   ]
  },
  {
   "cell_type": "code",
   "execution_count": 35,
   "metadata": {},
   "outputs": [
    {
     "name": "stdout",
     "output_type": "stream",
     "text": [
      "|S6\n",
      "<U6\n"
     ]
    }
   ],
   "source": [
    "arr = np.array(['dogs','cats','horses'] , dtype='S')\n",
    "print(arr.dtype) # |S6\n",
    "\n",
    "arr = np.array(['dogs','cats','horses'] , dtype='str')\n",
    "print(arr.dtype) # <U6"
   ]
  },
  {
   "cell_type": "markdown",
   "metadata": {},
   "source": [
    "* slicing"
   ]
  },
  {
   "cell_type": "code",
   "execution_count": 38,
   "metadata": {},
   "outputs": [
    {
     "name": "stdout",
     "output_type": "stream",
     "text": [
      "2\n",
      "2\n"
     ]
    }
   ],
   "source": [
    "arr = np.array([[1,2,3],\n",
    "                [4,5,6],\n",
    "                [7,8,9]], ndmin = 2)\n",
    "\n",
    "print(arr.ndim)\n",
    "\n",
    "arr = np.array([[1,2,3],\n",
    "                [4,5,6],\n",
    "                [7,8,9]])\n",
    "\n",
    "print(arr.ndim)"
   ]
  },
  {
   "cell_type": "markdown",
   "metadata": {},
   "source": [
    "* access elements"
   ]
  },
  {
   "cell_type": "code",
   "execution_count": 41,
   "metadata": {},
   "outputs": [
    {
     "name": "stdout",
     "output_type": "stream",
     "text": [
      "8\n",
      "8\n",
      "9\n"
     ]
    }
   ],
   "source": [
    "element = arr[2,1] # more easy\n",
    "print(element)\n",
    "\n",
    "element = arr[2][1]\n",
    "print(element)\n",
    "\n",
    "element = arr[2,2] # more easy\n",
    "print(element)"
   ]
  },
  {
   "cell_type": "code",
   "execution_count": 43,
   "metadata": {},
   "outputs": [
    {
     "name": "stdout",
     "output_type": "stream",
     "text": [
      "Element at First row and second column: 2\n"
     ]
    }
   ],
   "source": [
    "print(\"Element at First row and second column:\", arr[0,1])"
   ]
  },
  {
   "cell_type": "code",
   "execution_count": 59,
   "metadata": {},
   "outputs": [
    {
     "name": "stdout",
     "output_type": "stream",
     "text": [
      "[4 5 6]\n",
      "[4 5]\n",
      "[4 5]\n",
      "[3 6 9]\n",
      "[8 9]\n",
      "[[4 5 6]\n",
      " [7 8 9]]\n"
     ]
    }
   ],
   "source": [
    "# For all the columns\n",
    "# Access [4,5,6]\n",
    "arr[1,:]\n",
    "print(arr[1,:])\n",
    "\n",
    "# Access [4,5]\n",
    "arr[1,:]\n",
    "print(arr[1,:-1])\n",
    "\n",
    "# Access [4,5]\n",
    "arr[1,:]\n",
    "print(arr[1,:2])\n",
    "\n",
    "# Access [3,6,9]\n",
    "print(arr[:,2])\n",
    "\n",
    "# Access [8,9]\n",
    "print(arr[2, 1:3])\n",
    "\n",
    "# Access [4,5,6] [7,8,9]\n",
    "print(arr[1:3,:])"
   ]
  },
  {
   "cell_type": "markdown",
   "metadata": {},
   "source": []
  },
  {
   "cell_type": "code",
   "execution_count": 61,
   "metadata": {},
   "outputs": [
    {
     "name": "stdout",
     "output_type": "stream",
     "text": [
      "Boolean mask for values greater than 5: \n",
      " [[False False False]\n",
      " [False False  True]\n",
      " [ True  True  True]]\n",
      "Values greater than 5: \n",
      " [6 7 8 9]\n"
     ]
    }
   ],
   "source": [
    "arr = np.array([[1,2,3],\n",
    "                [4,5,6],\n",
    "                [7,8,9]], ndmin = 2)\n",
    "\n",
    "mask = arr > 5\n",
    "print(\"Boolean mask for values greater than 5: \\n\",mask)\n",
    "filtered = arr[mask]\n",
    "print(\"Values greater than 5: \\n\", filtered)\n"
   ]
  },
  {
   "cell_type": "code",
   "execution_count": 65,
   "metadata": {},
   "outputs": [
    {
     "ename": "TypeError",
     "evalue": "array() takes from 1 to 2 positional arguments but 3 were given",
     "output_type": "error",
     "traceback": [
      "\u001b[1;31m---------------------------------------------------------------------------\u001b[0m",
      "\u001b[1;31mTypeError\u001b[0m                                 Traceback (most recent call last)",
      "Cell \u001b[1;32mIn[65], line 1\u001b[0m\n\u001b[1;32m----> 1\u001b[0m a \u001b[38;5;241m=\u001b[39m \u001b[43mnp\u001b[49m\u001b[38;5;241;43m.\u001b[39;49m\u001b[43marray\u001b[49m\u001b[43m(\u001b[49m\u001b[43m[\u001b[49m\u001b[38;5;241;43m1\u001b[39;49m\u001b[43m,\u001b[49m\u001b[38;5;241;43m2\u001b[39;49m\u001b[43m,\u001b[49m\u001b[38;5;241;43m3\u001b[39;49m\u001b[43m,\u001b[49m\u001b[38;5;241;43m4\u001b[39;49m\u001b[43m]\u001b[49m\u001b[43m,\u001b[49m\n\u001b[0;32m      2\u001b[0m \u001b[43m             \u001b[49m\u001b[43m[\u001b[49m\u001b[38;5;241;43m5\u001b[39;49m\u001b[43m,\u001b[49m\u001b[38;5;241;43m6\u001b[39;49m\u001b[43m,\u001b[49m\u001b[38;5;241;43m7\u001b[39;49m\u001b[43m,\u001b[49m\u001b[38;5;241;43m8\u001b[39;49m\u001b[43m]\u001b[49m\u001b[43m,\u001b[49m\n\u001b[0;32m      3\u001b[0m \u001b[43m             \u001b[49m\u001b[43m[\u001b[49m\u001b[38;5;241;43m9\u001b[39;49m\u001b[43m,\u001b[49m\u001b[38;5;241;43m10\u001b[39;49m\u001b[43m,\u001b[49m\u001b[38;5;241;43m11\u001b[39;49m\u001b[43m,\u001b[49m\u001b[38;5;241;43m12\u001b[39;49m\u001b[43m]\u001b[49m\u001b[43m)\u001b[49m\n\u001b[0;32m      4\u001b[0m \u001b[38;5;66;03m# SLICING\u001b[39;00m\n\u001b[0;32m      5\u001b[0m b \u001b[38;5;241m=\u001b[39m a[:\u001b[38;5;241m2\u001b[39m,\u001b[38;5;241m1\u001b[39m:\u001b[38;5;241m3\u001b[39m]\n",
      "\u001b[1;31mTypeError\u001b[0m: array() takes from 1 to 2 positional arguments but 3 were given"
     ]
    }
   ],
   "source": [
    "a = np.array([1,2,3,4],\n",
    "             [5,6,7,8],\n",
    "             [9,10,11,12])\n",
    "# SLICING\n",
    "b = a[:2,1:3]\n",
    "c = a[1:,:1]\n",
    "d = a[2:,2:]\n",
    "\n",
    "print(\"Sliced Array:\")\n",
    "print(b)\n",
    "print(c,'\\n',d)"
   ]
  },
  {
   "cell_type": "code",
   "execution_count": 86,
   "metadata": {},
   "outputs": [
    {
     "name": "stdout",
     "output_type": "stream",
     "text": [
      "97\n",
      "{'a': 1, 'b': 2, 'c': 3, 'd': 4, 'e': 5, 'f': 6, 'g': 7, 'h': 8, 'i': 9, 'j': 10, 'k': 11, 'l': 12, 'm': 13, 'n': 14, 'o': 15, 'p': 16, 'q': 17, 'r': 18, 's': 19, 't': 20, 'u': 21, 'v': 22, 'w': 23, 'x': 24, 'y': 25, 'z': 26}\n",
      "{'a': 1, 'b': 2, 'c': 3, 'd': 4, 'e': 5, 'f': 6, 'g': 7, 'h': 8, 'i': 9, 'j': 10, 'k': 11, 'l': 12, 'm': 13, 'n': 14, 'o': 15, 'p': 16, 'q': 17, 'r': 18, 's': 19, 't': 20, 'u': 21, 'v': 22, 'w': 23, 'x': 24, 'y': 25, 'z': 26}\n",
      "{'a': 1, 'b': 2, 'c': 3, 'd': 4, 'e': 5, 'f': 6, 'g': 7, 'h': 8, 'i': 9, 'j': 10, 'k': 11, 'l': 12, 'm': 13, 'n': 14, 'o': 15, 'p': 16, 'q': 17, 'r': 18, 's': 19, 't': 20, 'u': 21, 'v': 22, 'w': 23, 'x': 24, 'y': 25, 'z': 26}\n",
      "\u0001\n"
     ]
    }
   ],
   "source": [
    "# Problem: Generate\n",
    "# {'a':1 , 'b' : 2 , ...... , 'z',26}\n",
    "\n",
    "print(ord('a'))\n",
    "\n",
    "emp_dict = {}\n",
    "for i in range(1,27):\n",
    "    emp_dict[chr(96+i)] = i\n",
    "print(emp_dict)\n",
    "\n",
    "dict_comp1 = {chr(96+i):i for i in range(1,27)}\n",
    "print(dict_comp1)\n",
    " \n",
    "dict_comp2 = {chr(i):i-96 for i in range(ord('a'),ord('z')+1)}\n",
    "print(dict_comp2)\n",
    "\n",
    "print(chr(1))"
   ]
  },
  {
   "cell_type": "code",
   "execution_count": 5,
   "metadata": {},
   "outputs": [
    {
     "name": "stdout",
     "output_type": "stream",
     "text": [
      "{1: 'a', 2: 'b', 3: 'c'}\n",
      "{1: 'a', 2: 'b', 3: 'c'}\n"
     ]
    }
   ],
   "source": [
    "# Problem: swap key and value position\n",
    "dict =  {'a':1 , 'b':2 , 'c':3}\n",
    "emp_dict = {}\n",
    "for i,j in dict.items():\n",
    "    emp_dict[j] = i\n",
    "print(emp_dict)\n",
    "\n",
    "dict_comp = {j:i for i,j in dict.items()}\n",
    "print(dict_comp)"
   ]
  },
  {
   "cell_type": "code",
   "execution_count": null,
   "metadata": {},
   "outputs": [],
   "source": []
  }
 ],
 "metadata": {
  "kernelspec": {
   "display_name": "Python 3",
   "language": "python",
   "name": "python3"
  },
  "language_info": {
   "codemirror_mode": {
    "name": "ipython",
    "version": 3
   },
   "file_extension": ".py",
   "mimetype": "text/x-python",
   "name": "python",
   "nbconvert_exporter": "python",
   "pygments_lexer": "ipython3",
   "version": "3.12.3"
  }
 },
 "nbformat": 4,
 "nbformat_minor": 2
}
