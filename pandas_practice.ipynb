{
 "cells": [
  {
   "cell_type": "code",
   "execution_count": 4,
   "metadata": {},
   "outputs": [],
   "source": [
    "# Load Libraries\n",
    "import pandas as pd\n",
    "import numpy as np"
   ]
  },
  {
   "cell_type": "code",
   "execution_count": 5,
   "metadata": {},
   "outputs": [],
   "source": [
    "# Problem: Create a function named rotate list, that have the parameters\n",
    "# First parameter list that you need to rotate\n",
    "# Second parameter is the number times you want the list to rotate\n",
    "list = [1,2,3,4,5]  [3,4,5,1,2]\n",
    "times = 3"
   ]
  },
  {
   "cell_type": "code",
   "execution_count": 7,
   "metadata": {},
   "outputs": [
    {
     "name": "stdout",
     "output_type": "stream",
     "text": [
      "[3, 4, 5, 1, 2]\n"
     ]
    }
   ],
   "source": [
    "list = [1,2,3,4,5]  #[-5,-4,-3,-2,-1]\n",
    "k=2\n",
    "\n",
    "print(list[2:5] + list[:-3])"
   ]
  },
  {
   "cell_type": "code",
   "execution_count": 8,
   "metadata": {},
   "outputs": [
    {
     "name": "stdout",
     "output_type": "stream",
     "text": [
      "[3, 4, 5, 1, 2]\n"
     ]
    }
   ],
   "source": [
    "def rotate_list(list,times):\n",
    "    Emp_list = []\n",
    "    Emp_list = list[2:5] + list[:-3]\n",
    "    return Emp_list\n",
    "\n",
    "print(rotate_list([1,2,3,4,5], 2))"
   ]
  },
  {
   "cell_type": "code",
   "execution_count": null,
   "metadata": {},
   "outputs": [],
   "source": [
    "# Create a function name invert_dictionary, that have one parameter\n",
    "# a parameter with is dictionary\n",
    "d = {\n",
    "    \"a\":[1,2,3],\n",
    "    \"b\":[2,3,4],\n",
    "    \"c\":[4,5]\n",
    "}\n",
    "\n",
    "# OUTPUT\n",
    "{\n",
    "    1:['a'],\n",
    "    2:['a','b'],\n",
    "    3:['a','b'],\n",
    "    4:['b','c'],\n",
    "    5:['c']\n",
    "}"
   ]
  },
  {
   "cell_type": "code",
   "execution_count": 24,
   "metadata": {},
   "outputs": [
    {
     "name": "stdout",
     "output_type": "stream",
     "text": [
      "[1, 2, 3, 4, 5]\n",
      "{1: ['a'], 2: ['a', 'b'], 3: ['a', 'b'], 4: ['b', 'c'], 5: ['c']}\n"
     ]
    }
   ],
   "source": [
    "Emp_dict = {}\n",
    "Emp_list = []\n",
    "d = {\n",
    "    \"a\":[1,2,3],\n",
    "    \"b\":[2,3,4],\n",
    "    \"c\":[4,5]\n",
    "}\n",
    "for i,j in d.items():\n",
    "    for parameters in j:   # [1,2,3] [2,3,4] [4,5]\n",
    "        if parameters not in Emp_list: \n",
    "            Emp_list.append(parameters) # 1   2   3   4   5\n",
    "            Emp_dict[parameters] = []   # {1: [], 2: [], 3: [], 4: [], 5: []}\n",
    "        Emp_dict[parameters].append(i) \n",
    "        \n",
    "    \n",
    "print(Emp_list)\n",
    "print(Emp_dict)"
   ]
  },
  {
   "cell_type": "code",
   "execution_count": null,
   "metadata": {},
   "outputs": [],
   "source": []
  }
 ],
 "metadata": {
  "kernelspec": {
   "display_name": "Python 3",
   "language": "python",
   "name": "python3"
  },
  "language_info": {
   "codemirror_mode": {
    "name": "ipython",
    "version": 3
   },
   "file_extension": ".py",
   "mimetype": "text/x-python",
   "name": "python",
   "nbconvert_exporter": "python",
   "pygments_lexer": "ipython3",
   "version": "3.12.3"
  }
 },
 "nbformat": 4,
 "nbformat_minor": 2
}
