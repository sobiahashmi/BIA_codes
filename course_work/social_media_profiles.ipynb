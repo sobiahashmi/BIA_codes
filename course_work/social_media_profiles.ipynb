{
 "cells": [
  {
   "cell_type": "markdown",
   "metadata": {},
   "source": []
  },
  {
   "cell_type": "markdown",
   "metadata": {},
   "source": [
    "<div style=\"color:white;display:fill;border-radius:8px;font-size:200%; letter-spacing:1.0px;\"><p style=\"padding: 5px;color:white;text-align:left;\"><b><span style='color:#fc6603'>Social Media Profiles</span></b></p></div>\n",
    "\n",
    "<div style=\"text-align: left;\">\n",
    "    <table>\n",
    "        <tr>\n",
    "            <td><a href=\"https://www.linkedin.com/in/sobia-alamgir-a027b939/\"><img src=\"https://img.shields.io/badge/LinkedIn-Profile-blue?style=for-the-badge&logo=linkedin\" alt=\"LinkedIn\"/></a></td>\n",
    "            <td><a href=\"mailto:sobia.hashmi454@gmail.com\"><img src=\"https://img.shields.io/badge/Gmail-Profile-red?style=for-the-badge&logo=gmail\" alt=\"Gmail\"/></a></td>\n",
    "        </tr>\n",
    "        <tr>\n",
    "            <td><a href=\"https://github.com/sobiahashmi\"><img src=\"https://img.shields.io/badge/GitHub-Profile-green?style=for-the-badge&logo=github\" alt=\"GitHub\"/></a></td>\n",
    "            <td><a href=\"https://x.com/sobiahashmi9\"><img src=\"https://img.shields.io/badge/Twitter-Profile-blue?style=for-the-badge&logo=twitter\" alt=\"Twitter\"/></a></td>\n",
    "        </tr>\n",
    "        <tr>\n",
    "            <td><a href=\"https://www.kaggle.com/sobiahashmi\"><img src=\"https://img.shields.io/badge/Kaggle-Profile-orange?style=for-the-badge&logo=kaggle\" alt=\"Kaggle\"/></a></td>\n",
    "\n",
    "       \n",
    "</div>"
   ]
  },
  {
   "cell_type": "markdown",
   "metadata": {},
   "source": [
    "\n",
    "\n",
    "<a id=\"13\"></a>\n",
    "<h1 style=\"background-color:#435420;font-family:newtimeroman;font-size:300%;text-align:center;border-radius: 15px 50px;color:#FF9900;\">Insights into Success: Exploring large-scale data challenges</h1>\n",
    "\n",
    "### <a id='toc1_1_1_'></a>[Let’s dive into the data to reveal what sets them apart...](#toc0_)\n",
    "### <a id='toc1_1_2_'></a>[[2.3 Million + Application]](#toc0_)\n",
    "![Description](Google_apps.png)\n",
    "<!-- <img src='https://cdn-images-1.medium.com/max/1200/1*JwZ7l0LNnIVP9bPNjI8KZQ.jpeg'></img> -->\n",
    "<figcaption style=\"text-align: center;\">\n",
    "    <strong>\n",
    "    </strong>\n",
    "</figcaption>"
   ]
  },
  {
   "cell_type": "markdown",
   "metadata": {},
   "source": []
  }
 ],
 "metadata": {
  "language_info": {
   "name": "python"
  }
 },
 "nbformat": 4,
 "nbformat_minor": 2
}
