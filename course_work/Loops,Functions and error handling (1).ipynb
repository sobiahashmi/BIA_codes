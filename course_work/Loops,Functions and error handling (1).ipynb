{
 "cells": [
  {
   "cell_type": "markdown",
   "id": "78cf9bea-de98-47dc-8d67-76648a41ccb6",
   "metadata": {},
   "source": [
    "# Conditional Statements"
   ]
  },
  {
   "cell_type": "markdown",
   "id": "0580d5f9-9be2-4e7b-a7dd-6b4a98d809ef",
   "metadata": {},
   "source": [
    "### if Statement: The 'if' statement is used to execute a block of code only if a certain condition is true.\n"
   ]
  },
  {
   "cell_type": "markdown",
   "id": "15fe494e-de6b-4f94-91f8-8da65e240fee",
   "metadata": {},
   "source": [
    "Here's the syntax of the if statement:"
   ]
  },
  {
   "cell_type": "code",
   "execution_count": 2,
   "id": "375bbb25-ec71-4ddd-82d6-3aaba622aa3d",
   "metadata": {},
   "outputs": [
    {
     "name": "stdout",
     "output_type": "stream",
     "text": [
      "x is greater than 5\n"
     ]
    }
   ],
   "source": [
    "# Define a variable 'x'\n",
    "x = 10\n",
    "\n",
    "# Check if the value of 'x' is greater than 5\n",
    "if x > 5:\n",
    "    # If the condition is True, execute the following code block\n",
    "    print(\"x is greater than 5\")\n"
   ]
  },
  {
   "cell_type": "markdown",
   "id": "056d29fd-d1f1-4f09-b202-03cea6d1209c",
   "metadata": {},
   "source": [
    "### If-else Statement: The 'if-else' statement allows us to execute one block of code if a condition is true and another block if it's false.\n"
   ]
  },
  {
   "attachments": {},
   "cell_type": "markdown",
   "id": "5b53eb52-7ce0-455b-83ca-b2004e57c21f",
   "metadata": {},
   "source": [
    "Here's the syntax of the if-else statement:"
   ]
  },
  {
   "cell_type": "code",
   "execution_count": 3,
   "id": "7e360d2d-59d7-459d-bff1-f6207e3b445e",
   "metadata": {},
   "outputs": [
    {
     "name": "stdout",
     "output_type": "stream",
     "text": [
      "x is greater than 5\n"
     ]
    }
   ],
   "source": [
    "# Define a variable 'x'\n",
    "x = 10\n",
    "\n",
    "# Check if the value of 'x' is greater than 5\n",
    "if x > 5:\n",
    "    # If the condition is True, execute the following code block\n",
    "    print(\"x is greater than 5\")\n",
    "else:\n",
    "    # If the condition is False, execute the following code block\n",
    "    print(\"x is not greater than 5\")\n"
   ]
  },
  {
   "cell_type": "markdown",
   "id": "3cbb04a5-5154-442e-9f83-1c5838a06722",
   "metadata": {},
   "source": [
    "### If—elif-else Statement: if-elif-else' statement is used when we have multiple conditions to check.\n"
   ]
  },
  {
   "cell_type": "markdown",
   "id": "3719c33c-c1c7-4b6b-8756-ea1c140f5c0c",
   "metadata": {},
   "source": [
    "Here's the syntax of the If—elif-else Statement:"
   ]
  },
  {
   "cell_type": "code",
   "execution_count": 2,
   "id": "0e5faea1-9888-4df5-8b87-721b1e6e2c59",
   "metadata": {},
   "outputs": [
    {
     "name": "stdout",
     "output_type": "stream",
     "text": [
      "x is equal to 5\n"
     ]
    }
   ],
   "source": [
    "# Define a variable 'x'\n",
    "x = 3\n",
    "\n",
    "# Check if the value of 'x' is greater than 5\n",
    "if x >= 5:\n",
    "    # If the condition is True, execute the following code block\n",
    "    print(\"x is greater than 5\")\n",
    "elif x != 5:\n",
    "    # If the first condition is False and this condition is True, execute the following code block\n",
    "    print(\"x is equal to 5\")\n",
    "else:\n",
    "    # If all previous conditions are False, execute the following code block\n",
    "    print(\"x is less than 5\")\n"
   ]
  },
  {
   "cell_type": "code",
   "execution_count": 3,
   "id": "4a7ec00f",
   "metadata": {},
   "outputs": [
    {
     "data": {
      "text/plain": [
       "False"
      ]
     },
     "execution_count": 3,
     "metadata": {},
     "output_type": "execute_result"
    }
   ],
   "source": [
    "x >= 5"
   ]
  },
  {
   "cell_type": "markdown",
   "id": "6f9efc0c-de47-42c0-a674-ef41617c5113",
   "metadata": {},
   "source": [
    "### Nested Conditional Statements : You can nest conditional statements inside other conditional statements this allows for complex decision-making in your programs."
   ]
  },
  {
   "cell_type": "code",
   "execution_count": 6,
   "id": "eb123b4f-3cd1-491d-a8e4-0ba47fa08596",
   "metadata": {},
   "outputs": [
    {
     "name": "stdout",
     "output_type": "stream",
     "text": [
      "x is greater than 5\n",
      "y is less than 10\n"
     ]
    }
   ],
   "source": [
    "# Define variables 'x' and 'y'\n",
    "x = 10\n",
    "y = 5\n",
    "\n",
    "# Check if the value of 'x' is greater than 5\n",
    "if x > 5:\n",
    "    # If the condition is True, execute the following code block\n",
    "    print(\"x is greater than 5\")\n",
    "    \n",
    "    # Check if the value of 'y' is less than 10\n",
    "    if y < 10:\n",
    "        # If the condition is True, execute the following code block\n",
    "        print(\"y is less than 10\")\n",
    "        if x> 4:\n",
    "            print(\"x is greater than 4\")\n",
    "    elif y<4:\n",
    "        print('jjk')\n",
    "    else:\n",
    "        # If the condition is False, execute the following code block\n",
    "        print(\"y is greater than or equal to 10\")\n",
    "else:\n",
    "    # If the condition is False, execute the following code block\n",
    "    print(\"x is not greater than 5\")\n",
    "\n"
   ]
  },
  {
   "cell_type": "markdown",
   "id": "dc045917-1394-4721-b2d7-5c4a2bfb8473",
   "metadata": {},
   "source": [
    "# Input Function"
   ]
  },
  {
   "cell_type": "markdown",
   "id": "348cabfe-ab4d-4c5d-b4e6-40e09d368f1d",
   "metadata": {},
   "source": [
    "### Input Function: The input() function is used to take user input from the keyboard. It reads a line of text entered by the user and returns it as a string. Here's the basic syntax of the input() function:\n"
   ]
  },
  {
   "cell_type": "code",
   "execution_count": 4,
   "id": "b20d8fd6-f593-4215-adaf-3027d72b3af5",
   "metadata": {},
   "outputs": [
    {
     "name": "stdout",
     "output_type": "stream",
     "text": [
      "Hello, atif ! Welcome to the program.\n"
     ]
    }
   ],
   "source": [
    "# Prompt the user to enter their name and store the input in the variable 'name'\n",
    "name = input(\"Enter your name: \")\n",
    "\n",
    "# Print a greeting message using the entered name\n",
    "print(\"Hello,\", name, \"! Welcome to the program.\")\n"
   ]
  },
  {
   "cell_type": "markdown",
   "id": "7181c4c5-9f16-419e-86b0-9e0aaec71c29",
   "metadata": {},
   "source": [
    "### Keep in mind that input() always returns a string, so if you want to use the user's input as a number, you'll need to convert it using functions like int() or float().\n"
   ]
  },
  {
   "cell_type": "code",
   "execution_count": 6,
   "id": "957f3e82-0e0d-4c37-8411-755161ead43c",
   "metadata": {},
   "outputs": [
    {
     "name": "stdout",
     "output_type": "stream",
     "text": [
      "Your age is: 67\n"
     ]
    }
   ],
   "source": [
    "# Prompt the user to enter their age\n",
    "age_str = input(\"Enter your age: \")\n",
    "\n",
    "# Convert the user's input (which is a string) to an integer using int() function\n",
    "age = int(age_str)\n",
    "\n",
    "# Print the user's age\n",
    "print(\"Your age is:\", age)\n"
   ]
  },
  {
   "cell_type": "markdown",
   "id": "e0d65935-2137-41c4-810d-230bfc1600f6",
   "metadata": {},
   "source": [
    "# Loops in Python"
   ]
  },
  {
   "cell_type": "markdown",
   "id": "04cc25de-25e7-4204-8786-02023d7e1a0e",
   "metadata": {},
   "source": [
    "### The while Loop: While loop is used to repeatedly execute a block of code as long as a specified condition is true.\n"
   ]
  },
  {
   "cell_type": "code",
   "execution_count": 5,
   "id": "79aaf798-029d-44a1-9967-8c7540fff7d7",
   "metadata": {},
   "outputs": [
    {
     "name": "stdout",
     "output_type": "stream",
     "text": [
      "Count: 2\n",
      "Count: 4\n",
      "Count: 6\n",
      "Loop ended.\n"
     ]
    }
   ],
   "source": [
    "# Initialize a variable to control the loop\n",
    "count = 0\n",
    "\n",
    "# Define the condition for the while loop\n",
    "while count < 5:\n",
    "    count = count + 2\n",
    "    # Print the current value of 'count'\n",
    "    print(\"Count:\", count)\n",
    "    \n",
    "    # Increment the value of 'count' by 1\n",
    "    # count += 1\n",
    "    # count = count + 1\n",
    "\n",
    "# Print a message indicating the end of the loop\n",
    "print(\"Loop ended.\")\n"
   ]
  },
  {
   "cell_type": "markdown",
   "id": "d6b727f9-bc56-4f63-830e-f7072b0e124c",
   "metadata": {},
   "source": [
    "### The for Loop:The for loop is used to iterate over a sequence (e.g., a list, tuple, string, or range) and execute a block of code for each item in the sequence.\n"
   ]
  },
  {
   "cell_type": "code",
   "execution_count": 8,
   "id": "8ecf96c6-84d0-49e3-b828-addc70b4bf91",
   "metadata": {},
   "outputs": [
    {
     "name": "stdout",
     "output_type": "stream",
     "text": [
      "apple\n",
      "banana\n",
      "cherry\n",
      "apple\n",
      "banana\n",
      "cherry\n"
     ]
    }
   ],
   "source": [
    "# Define a list of fruits\n",
    "fruits = [\"apple\", \"banana\", \"cherry\", \"cat\", \"bed\"]\n",
    "\n",
    "for i in fruits:\n",
    "    if i.startswith(\"c\"):\n",
    "        print(i)\n",
    "\n",
    "# Iterate over each fruit in the list using a for loop\n",
    "for i in fruits:\n",
    "    # Print each fruit\n",
    "    print(i)\n",
    "\n",
    "for i in range(len(fruits)):\n",
    "    print(fruits[i])\n"
   ]
  },
  {
   "cell_type": "markdown",
   "id": "12e46ca7-bf95-4bca-9cff-f9cda333aa6b",
   "metadata": {},
   "source": [
    "## Loop Control Statements\n"
   ]
  },
  {
   "cell_type": "markdown",
   "id": "dba778dd-9ec4-44c3-afb3-047e25dfbda1",
   "metadata": {},
   "source": [
    "### Break statement: The break statement is used to exit a loop prematurely. It terminates the execution of the innermost loop that encloses it.\n"
   ]
  },
  {
   "cell_type": "code",
   "execution_count": 11,
   "id": "828a4a25-9940-428f-94ee-233dbe63696a",
   "metadata": {},
   "outputs": [
    {
     "name": "stdout",
     "output_type": "stream",
     "text": [
      "0\n",
      "1\n",
      "2\n"
     ]
    }
   ],
   "source": [
    "# Iterate over a sequence of numbers from 0 to 4 using the range() function\n",
    "for i in range(5):\n",
    "    # Check if the current value of 'i' is equal to 3\n",
    "    if i == 3:\n",
    "        # If 'i' is equal to 3, exit the loop using the break statement\n",
    "        break\n",
    "    # Print the current value of 'i' if the condition is not met\n",
    "    print(i)\n"
   ]
  },
  {
   "cell_type": "markdown",
   "id": "ae587198-2252-4c09-8893-3c78cf461fcd",
   "metadata": {},
   "source": [
    "### continue statement: The continue statement is used to skip the rest of the code inside a loop for the current iteration and move to the next iteration.\n",
    "\n"
   ]
  },
  {
   "cell_type": "code",
   "execution_count": 12,
   "id": "c2b0c9af-ee91-44ee-a9c9-2b98177a1fd5",
   "metadata": {},
   "outputs": [
    {
     "name": "stdout",
     "output_type": "stream",
     "text": [
      "1\n",
      "3\n",
      "4\n"
     ]
    }
   ],
   "source": [
    "# Iterate over a sequence of numbers from 0 to 4 using the range() function\n",
    "for i in range(1,5):\n",
    "    # Check if the current value of 'i' is equal to 2\n",
    "    if i == 2:\n",
    "        # If 'i' is equal to 2, skip the rest of the loop and continue with the next iteration\n",
    "        continue\n",
    "    # Print the current value of 'i' if the condition is not met\n",
    "    print(i)\n"
   ]
  },
  {
   "cell_type": "markdown",
   "id": "fee12de2-8181-4411-a459-7a68c2c0630a",
   "metadata": {},
   "source": [
    "### Pass statement: The pass statement is a no-operation statement. It is used when a statement is syntactically required but you don't want to execute any code.\n"
   ]
  },
  {
   "cell_type": "code",
   "execution_count": 13,
   "id": "5062b8c5-8539-4751-b865-0b6e0ba339da",
   "metadata": {},
   "outputs": [
    {
     "name": "stdout",
     "output_type": "stream",
     "text": [
      "0\n",
      "1\n",
      "2\n",
      "3\n",
      "4\n"
     ]
    }
   ],
   "source": [
    "# Iterate over a sequence of numbers from 0 to 4 using the range() function\n",
    "for i in range(5):\n",
    "    # Check if the current value of 'i' is equal to 2\n",
    "    if i == 2:\n",
    "        # If 'i' is equal to 2, do nothing and continue with the next iteration\n",
    "        pass\n",
    "    print(i)\n"
   ]
  },
  {
   "cell_type": "markdown",
   "id": "33e2573b-dc36-4ff5-a193-bfffa0a404ee",
   "metadata": {},
   "source": [
    "# Functions"
   ]
  },
  {
   "cell_type": "markdown",
   "id": "d6a18eaa-2135-472e-906b-0a80515361e8",
   "metadata": {},
   "source": [
    "### Functions allow you to encapsulate a block of code that performs a specific task, giving it a name, and then reuse that code by calling the function wherever you need it. \n"
   ]
  },
  {
   "cell_type": "markdown",
   "id": "fed9e418-e2cd-40f4-b32b-6778ea7ebfd0",
   "metadata": {},
   "source": [
    "### Types:\n"
   ]
  },
  {
   "cell_type": "markdown",
   "id": "e8d74fba-6035-4121-abae-542062055bab",
   "metadata": {},
   "source": [
    "### Built-in Functions: These are functions that are part of Python's standard library and are available for use without the need for any import statements.\n"
   ]
  },
  {
   "cell_type": "markdown",
   "id": "777af7f6-bd51-4c2c-a6e5-7dab1cbb0352",
   "metadata": {},
   "source": [
    "### Print() is Used to print text or values to the console."
   ]
  },
  {
   "cell_type": "code",
   "execution_count": 14,
   "id": "01621219-ecac-4add-abc9-f5e3ea0b2822",
   "metadata": {},
   "outputs": [
    {
     "name": "stdout",
     "output_type": "stream",
     "text": [
      "Hello, world!\n"
     ]
    }
   ],
   "source": [
    "# Print a simple message\n",
    "print(\"Hello, world!\")  # Prints \"Hello, world!\" to the console\n"
   ]
  },
  {
   "cell_type": "code",
   "execution_count": 19,
   "id": "bf0a04b0-2ac8-4c3d-a174-40905b895beb",
   "metadata": {},
   "outputs": [
    {
     "name": "stdout",
     "output_type": "stream",
     "text": [
      "Name: Alice\n",
      "Age: 30\n"
     ]
    }
   ],
   "source": [
    "# Define variables\n",
    "name = \"Alice\"\n",
    "age = 30\n",
    "\n",
    "# Print variables with labels\n",
    "print(\"Name:\", name)  # Prints the value of the variable 'name'\n",
    "print(\"Age:\", age)    # Prints the value of the variable 'age'\n"
   ]
  },
  {
   "attachments": {},
   "cell_type": "markdown",
   "id": "fe42914a-f4df-467e-85b7-52d775f25675",
   "metadata": {},
   "source": [
    "### len(): Returns the length (number of items) of an iterable or the number of characters in a string\n"
   ]
  },
  {
   "cell_type": "code",
   "execution_count": 20,
   "id": "29a95167-b329-49d5-9284-f35c0ed4690e",
   "metadata": {},
   "outputs": [
    {
     "name": "stdout",
     "output_type": "stream",
     "text": [
      "Length of the string: 13\n"
     ]
    }
   ],
   "source": [
    "# Define a string\n",
    "my_string = \"Hello, world!\"\n",
    "\n",
    "# Compute the length of the string\n",
    "length = len(my_string)  # Computes the length of the string\n",
    "\n",
    "# Print the length of the string\n",
    "print(\"Length of the string:\", length)  # Prints the length of the string\n"
   ]
  },
  {
   "cell_type": "code",
   "execution_count": 21,
   "id": "14153b20-34d0-443a-991d-0559b74bfc6f",
   "metadata": {},
   "outputs": [
    {
     "name": "stdout",
     "output_type": "stream",
     "text": [
      "Length of the list: 5\n"
     ]
    }
   ],
   "source": [
    "# Define a list\n",
    "my_list = [1, 2, 3, 4, 5]\n",
    "\n",
    "# Compute the length of the list\n",
    "length = len(my_list)  # Computes the length of the list\n",
    "\n",
    "# Print the length of the list\n",
    "print(\"Length of the list:\", length)  # Prints the length of the list\n"
   ]
  },
  {
   "cell_type": "markdown",
   "id": "33f91fa0-7140-483b-8f2c-41a617a05ce4",
   "metadata": {},
   "source": [
    "### Range(): The range function in Python is used to generate a sequence of numbers within a specified range."
   ]
  },
  {
   "cell_type": "code",
   "execution_count": 22,
   "id": "8a813576-8f01-48c7-835d-22ea4dd9e06d",
   "metadata": {},
   "outputs": [
    {
     "name": "stdout",
     "output_type": "stream",
     "text": [
      "Generated numbers: [0, 1, 2, 3, 4]\n"
     ]
    }
   ],
   "source": [
    "# Generate numbers from 0 to 4 (exclusive)\n",
    "numbers = range(5)  # Generates numbers from 0 to 4 (exclusive)\n",
    "\n",
    "# Print the generated numbers\n",
    "print(\"Generated numbers:\", list(numbers))  # Prints the generated numbers as a list\n"
   ]
  },
  {
   "cell_type": "code",
   "execution_count": 23,
   "id": "640be059-110d-40dd-ab10-5865929c4046",
   "metadata": {},
   "outputs": [
    {
     "name": "stdout",
     "output_type": "stream",
     "text": [
      "Generated numbers: [0, 1, 2, 3, 4]\n"
     ]
    }
   ],
   "source": [
    "# Generate numbers from 0 to 4 (exclusive)\n",
    "numbers = range(5)  # Generates numbers from 0 to 4 (exclusive)\n",
    "\n",
    "# Print the generated numbers\n",
    "print(\"Generated numbers:\", list(numbers))  # Prints the generated numbers as a list\n"
   ]
  },
  {
   "cell_type": "markdown",
   "id": "3d863953-9d9c-4e77-9d70-32b2e806581e",
   "metadata": {},
   "source": [
    "### type(): The type function in Python is used to determine the data type of an object."
   ]
  },
  {
   "cell_type": "code",
   "execution_count": 24,
   "id": "b7c4a23a-314a-45d8-8562-80b4310dec7a",
   "metadata": {},
   "outputs": [
    {
     "name": "stdout",
     "output_type": "stream",
     "text": [
      "Data type of x: <class 'int'>\n"
     ]
    }
   ],
   "source": [
    "# Define a variable\n",
    "x = 10\n",
    "\n",
    "# Determine the data type of the variable\n",
    "data_type = type(x)  # Determines the data type of the variable 'x'\n",
    "\n",
    "# Print the data type of the variable\n",
    "print(\"Data type of x:\", data_type)  # Prints the data type of the variable 'x'\n"
   ]
  },
  {
   "cell_type": "code",
   "execution_count": 25,
   "id": "f0b54ac0-627d-47a3-8681-41bcc4ce1c42",
   "metadata": {},
   "outputs": [
    {
     "name": "stdout",
     "output_type": "stream",
     "text": [
      "Data type of message: <class 'str'>\n"
     ]
    }
   ],
   "source": [
    "# Define a string\n",
    "message = \"Hello, world!\"\n",
    "\n",
    "# Determine the data type of the string\n",
    "data_type = type(message)  # Determines the data type of the string 'message'\n",
    "\n",
    "# Print the data type of the string\n",
    "print(\"Data type of message:\", data_type)  # Prints the data type of the string 'message'\n"
   ]
  },
  {
   "cell_type": "markdown",
   "id": "0975e0ac-bf78-4b97-92a1-cdc51df31a2b",
   "metadata": {},
   "source": [
    "### input(): Reads a line of text from the user through the console."
   ]
  },
  {
   "cell_type": "code",
   "execution_count": 26,
   "id": "36277534-ffed-4b67-8ec8-ebddfc600ca2",
   "metadata": {},
   "outputs": [
    {
     "name": "stdout",
     "output_type": "stream",
     "text": [
      "Enter your name:  ok\n"
     ]
    },
    {
     "name": "stdout",
     "output_type": "stream",
     "text": [
      "Hello, ok\n"
     ]
    }
   ],
   "source": [
    "# Prompt the user to enter their name\n",
    "name = input(\"Enter your name: \")\n",
    "\n",
    "# Print the name entered by the user\n",
    "print(\"Hello,\", name)\n"
   ]
  },
  {
   "cell_type": "code",
   "execution_count": 29,
   "id": "08edb943-91bb-41c3-b350-e77bddf8d237",
   "metadata": {},
   "outputs": [
    {
     "name": "stdout",
     "output_type": "stream",
     "text": [
      "Enter your age:  20\n"
     ]
    },
    {
     "name": "stdout",
     "output_type": "stream",
     "text": [
      "Your age is: 20\n"
     ]
    }
   ],
   "source": [
    "# Prompt the user to enter their age\n",
    "age_str = input(\"Enter your age: \")\n",
    "\n",
    "# Convert the input to an integer\n",
    "age = int(age_str)\n",
    "\n",
    "# Print the user's age\n",
    "print(\"Your age is:\", age)\n"
   ]
  },
  {
   "cell_type": "code",
   "execution_count": 1,
   "id": "38baf620",
   "metadata": {},
   "outputs": [
    {
     "name": "stdout",
     "output_type": "stream",
     "text": [
      "I love reading books, and playing video games.\n"
     ]
    }
   ],
   "source": [
    "with open('my_file.txt', 'r') as file:\n",
    "    content = file.read()\n",
    "    print(content)"
   ]
  },
  {
   "cell_type": "code",
   "execution_count": 2,
   "id": "de331163",
   "metadata": {},
   "outputs": [],
   "source": [
    "with open('my_file.txt', 'a') as file:\n",
    "    file.write('Hello, world!')"
   ]
  },
  {
   "cell_type": "code",
   "execution_count": 5,
   "id": "2e97ccbf",
   "metadata": {},
   "outputs": [],
   "source": [
    "with open(\"D:/Lectures/path/my_file_1.txt\", 'w') as file:\n",
    "    file.write('New info')"
   ]
  },
  {
   "cell_type": "markdown",
   "id": "09666807-c787-49c3-b217-14b8e58f4b41",
   "metadata": {},
   "source": [
    "### sum(): Calculates the sum of all elements in an iterable."
   ]
  },
  {
   "cell_type": "code",
   "execution_count": 30,
   "id": "9fe9dcd1-407e-4220-8957-8d72162688b0",
   "metadata": {},
   "outputs": [
    {
     "name": "stdout",
     "output_type": "stream",
     "text": [
      "Sum of numbers: 15\n"
     ]
    }
   ],
   "source": [
    "# Define a list of numbers\n",
    "numbers = [1, 2, 3, 4, 5]\n",
    "\n",
    "# Calculate the sum of the numbers\n",
    "total = sum(numbers)  # Calculates the sum of all elements in the list\n",
    "\n",
    "# Print the total sum\n",
    "print(\"Sum of numbers:\", total)\n"
   ]
  },
  {
   "cell_type": "code",
   "execution_count": 31,
   "id": "c005565d-8031-45c5-ab62-6ec6eb05fefb",
   "metadata": {},
   "outputs": [
    {
     "name": "stdout",
     "output_type": "stream",
     "text": [
      "Sum of tuple elements: 50\n"
     ]
    }
   ],
   "source": [
    "# Define a tuple of numbers\n",
    "numbers_tuple = (5, 10, 15, 20)\n",
    "\n",
    "# Calculate the sum of the tuple elements\n",
    "total = sum(numbers_tuple)  # Calculates the sum of all elements in the tuple\n",
    "\n",
    "# Print the total sum\n",
    "print(\"Sum of tuple elements:\", total)\n"
   ]
  },
  {
   "cell_type": "markdown",
   "id": "a832a2d2-0266-4e4c-9a3e-35cbc75b07e3",
   "metadata": {},
   "source": [
    "### The max() function returns the maximum value in the specified iterable."
   ]
  },
  {
   "cell_type": "code",
   "execution_count": 16,
   "id": "46fc30b2-4845-4295-a6c4-74c833e1e49e",
   "metadata": {},
   "outputs": [
    {
     "name": "stdout",
     "output_type": "stream",
     "text": [
      "Maximum value: 10\n",
      "2\n"
     ]
    }
   ],
   "source": [
    "# Define a list of numbers\n",
    "numbers = [5, 8, 2, 10, 3]\n",
    "\n",
    "# Find the maximum value in the list\n",
    "max_value = max(numbers)\n",
    "min_value = min(numbers)  # Returns the maximum value in the list\n",
    "\n",
    "# Print the maximum value\n",
    "print(\"Maximum value:\", max_value)\n",
    "print(min_value)\n"
   ]
  },
  {
   "cell_type": "code",
   "execution_count": 33,
   "id": "41d0b15c-ed7c-4472-9963-d6e3f42ee119",
   "metadata": {},
   "outputs": [
    {
     "name": "stdout",
     "output_type": "stream",
     "text": [
      "Maximum character: z\n"
     ]
    }
   ],
   "source": [
    "# Define a tuple of characters\n",
    "characters = ('a', 'z', 'c', 'p')\n",
    "\n",
    "# Find the maximum value (character) in the tuple\n",
    "max_char = max(characters)  # Returns the maximum value in the tuple\n",
    "\n",
    "# Print the maximum character\n",
    "print(\"Maximum character:\", max_char)\n"
   ]
  },
  {
   "cell_type": "markdown",
   "id": "dc516c79-925c-46c5-af7a-21caa5acb2fa",
   "metadata": {},
   "source": [
    "### The min() function returns the minimum value in the specified iterable."
   ]
  },
  {
   "cell_type": "code",
   "execution_count": 34,
   "id": "507b78ca-c043-4df9-b65c-9603db9cb19c",
   "metadata": {},
   "outputs": [
    {
     "name": "stdout",
     "output_type": "stream",
     "text": [
      "Minimum value: 2\n"
     ]
    }
   ],
   "source": [
    "# Define a list of numbers\n",
    "numbers = [5, 8, 2, 10, 3]\n",
    "\n",
    "# Find the minimum value in the list\n",
    "min_value = min(numbers)  # Returns the minimum value in the list\n",
    "\n",
    "# Print the minimum value\n",
    "print(\"Minimum value:\", min_value)\n"
   ]
  },
  {
   "cell_type": "code",
   "execution_count": 38,
   "id": "abfde88d-c614-4ab7-8b56-5dbe3c901811",
   "metadata": {},
   "outputs": [
    {
     "name": "stdout",
     "output_type": "stream",
     "text": [
      "Minimum value: 3\n"
     ]
    }
   ],
   "source": [
    "# Define a list of numbers\n",
    "numbers = [3, 8, 6, 10, 12]\n",
    "\n",
    "# Find the minimum value in the list\n",
    "min_value = min(numbers)  # Returns the minimum value in the list\n",
    "\n",
    "# Print the minimum value\n",
    "print(\"Minimum value:\", min_value)\n",
    "\n"
   ]
  },
  {
   "cell_type": "markdown",
   "id": "3ff60071-b9df-4a6b-806b-bde1b35b0b48",
   "metadata": {},
   "source": [
    "### sorted(): Returns a sorted version of an iterable."
   ]
  },
  {
   "cell_type": "code",
   "execution_count": 39,
   "id": "b04a5486-d151-4c01-b36d-3fd9a3869a97",
   "metadata": {},
   "outputs": [
    {
     "name": "stdout",
     "output_type": "stream",
     "text": [
      "Sorted numbers (ascending): [2, 3, 5, 8, 10]\n"
     ]
    }
   ],
   "source": [
    "# Define a list of numbers\n",
    "numbers = [5, 8, 2, 10, 3]\n",
    "\n",
    "# Sort the list in ascending order\n",
    "sorted_numbers = sorted(numbers)  # Returns a sorted version of the list\n",
    "\n",
    "# Print the sorted list\n",
    "print(\"Sorted numbers (ascending):\", sorted_numbers)\n"
   ]
  },
  {
   "cell_type": "code",
   "execution_count": 40,
   "id": "e5b7688e-3dc4-4c0b-acea-aa6f45db6fa5",
   "metadata": {},
   "outputs": [
    {
     "name": "stdout",
     "output_type": "stream",
     "text": [
      "Sorted fruits (alphabetical): ['apple', 'banana', 'kiwi', 'orange']\n"
     ]
    }
   ],
   "source": [
    "# Define a list of strings\n",
    "fruits = ['banana', 'apple', 'orange', 'kiwi']\n",
    "\n",
    "# Sort the list in alphabetical order\n",
    "sorted_fruits = sorted(fruits)  # Returns a sorted version of the list\n",
    "\n",
    "# Print the sorted list\n",
    "print(\"Sorted fruits (alphabetical):\", sorted_fruits)\n"
   ]
  },
  {
   "cell_type": "markdown",
   "id": "ee048301-08d6-4482-b90d-79a06c22c77c",
   "metadata": {},
   "source": [
    "### enumerate(): Returns an iterator that produces tuples containing indices and values from an iterable"
   ]
  },
  {
   "cell_type": "code",
   "execution_count": 6,
   "id": "1505b450-b424-40c0-9cb0-94fa093dcda1",
   "metadata": {},
   "outputs": [
    {
     "name": "stdout",
     "output_type": "stream",
     "text": [
      "Index: 0 - Fruit: apple\n",
      "Index: 1 - Fruit: banana\n",
      "Index: 2 - Fruit: kiwi\n",
      "Index: 3 - Fruit: orange\n"
     ]
    },
    {
     "data": {
      "text/plain": [
       "'o'"
      ]
     },
     "execution_count": 6,
     "metadata": {},
     "output_type": "execute_result"
    }
   ],
   "source": [
    "# Define a list of fruits\n",
    "fruits = ['apple', 'banana', 'orange', 'kiwi']\n",
    "\n",
    "\n",
    "\n",
    "# Enumerate the list to get indices and values\n",
    "for index, fruit in enumerate(sorted(fruits)):\n",
    "    print(\"Index:\", index, \"- Fruit:\", fruit)\n",
    "\n",
    "fruits[2][0]\n"
   ]
  },
  {
   "cell_type": "code",
   "execution_count": 8,
   "id": "771e2d20-050a-4a35-99ba-0e930b3c3ca7",
   "metadata": {},
   "outputs": [
    {
     "name": "stdout",
     "output_type": "stream",
     "text": [
      "Index: 0 - Character: P\n",
      "Index: 1 - Character: y\n",
      "Index: 2 - Character: t\n",
      "Index: 3 - Character: h\n",
      "Index: 4 - Character: o\n",
      "Index: 5 - Character: n\n"
     ]
    }
   ],
   "source": [
    "# Define a string\n",
    "text = \"Python\"\n",
    "\n",
    "# Enumerate the string to get indices and characters\n",
    "for index, char in enumerate(text):\n",
    "    print(\"Index:\", index, \"- Character:\", char)\n"
   ]
  },
  {
   "cell_type": "markdown",
   "id": "eb6d6c5b-ff57-4243-a7e0-2e59cbd54d93",
   "metadata": {},
   "source": [
    "### The help() function allows you to access the built-in help system interactively. You can pass any Python object, including functions, as an argument to help() to get information about that object"
   ]
  },
  {
   "cell_type": "code",
   "execution_count": 43,
   "id": "63701556-de83-4dcc-bcf9-daeb3cd91e77",
   "metadata": {},
   "outputs": [
    {
     "name": "stdout",
     "output_type": "stream",
     "text": [
      "Help on built-in function sorted in module builtins:\n",
      "\n",
      "sorted(iterable, /, *, key=None, reverse=False)\n",
      "    Return a new list containing all items from the iterable in ascending order.\n",
      "    \n",
      "    A custom key function can be supplied to customize the sort order, and the\n",
      "    reverse flag can be set to request the result in descending order.\n",
      "\n"
     ]
    }
   ],
   "source": [
    "# Get help for the sorted() function\n",
    "help(sorted)\n"
   ]
  },
  {
   "cell_type": "code",
   "execution_count": 44,
   "id": "42d74fc2-1783-48d2-a426-2671cd84d731",
   "metadata": {},
   "outputs": [
    {
     "name": "stdout",
     "output_type": "stream",
     "text": [
      "Help on class list in module builtins:\n",
      "\n",
      "class list(object)\n",
      " |  list(iterable=(), /)\n",
      " |  \n",
      " |  Built-in mutable sequence.\n",
      " |  \n",
      " |  If no argument is given, the constructor creates a new empty list.\n",
      " |  The argument must be an iterable if specified.\n",
      " |  \n",
      " |  Methods defined here:\n",
      " |  \n",
      " |  __add__(self, value, /)\n",
      " |      Return self+value.\n",
      " |  \n",
      " |  __contains__(self, key, /)\n",
      " |      Return key in self.\n",
      " |  \n",
      " |  __delitem__(self, key, /)\n",
      " |      Delete self[key].\n",
      " |  \n",
      " |  __eq__(self, value, /)\n",
      " |      Return self==value.\n",
      " |  \n",
      " |  __ge__(self, value, /)\n",
      " |      Return self>=value.\n",
      " |  \n",
      " |  __getattribute__(self, name, /)\n",
      " |      Return getattr(self, name).\n",
      " |  \n",
      " |  __getitem__(...)\n",
      " |      x.__getitem__(y) <==> x[y]\n",
      " |  \n",
      " |  __gt__(self, value, /)\n",
      " |      Return self>value.\n",
      " |  \n",
      " |  __iadd__(self, value, /)\n",
      " |      Implement self+=value.\n",
      " |  \n",
      " |  __imul__(self, value, /)\n",
      " |      Implement self*=value.\n",
      " |  \n",
      " |  __init__(self, /, *args, **kwargs)\n",
      " |      Initialize self.  See help(type(self)) for accurate signature.\n",
      " |  \n",
      " |  __iter__(self, /)\n",
      " |      Implement iter(self).\n",
      " |  \n",
      " |  __le__(self, value, /)\n",
      " |      Return self<=value.\n",
      " |  \n",
      " |  __len__(self, /)\n",
      " |      Return len(self).\n",
      " |  \n",
      " |  __lt__(self, value, /)\n",
      " |      Return self<value.\n",
      " |  \n",
      " |  __mul__(self, value, /)\n",
      " |      Return self*value.\n",
      " |  \n",
      " |  __ne__(self, value, /)\n",
      " |      Return self!=value.\n",
      " |  \n",
      " |  __repr__(self, /)\n",
      " |      Return repr(self).\n",
      " |  \n",
      " |  __reversed__(self, /)\n",
      " |      Return a reverse iterator over the list.\n",
      " |  \n",
      " |  __rmul__(self, value, /)\n",
      " |      Return value*self.\n",
      " |  \n",
      " |  __setitem__(self, key, value, /)\n",
      " |      Set self[key] to value.\n",
      " |  \n",
      " |  __sizeof__(self, /)\n",
      " |      Return the size of the list in memory, in bytes.\n",
      " |  \n",
      " |  append(self, object, /)\n",
      " |      Append object to the end of the list.\n",
      " |  \n",
      " |  clear(self, /)\n",
      " |      Remove all items from list.\n",
      " |  \n",
      " |  copy(self, /)\n",
      " |      Return a shallow copy of the list.\n",
      " |  \n",
      " |  count(self, value, /)\n",
      " |      Return number of occurrences of value.\n",
      " |  \n",
      " |  extend(self, iterable, /)\n",
      " |      Extend list by appending elements from the iterable.\n",
      " |  \n",
      " |  index(self, value, start=0, stop=9223372036854775807, /)\n",
      " |      Return first index of value.\n",
      " |      \n",
      " |      Raises ValueError if the value is not present.\n",
      " |  \n",
      " |  insert(self, index, object, /)\n",
      " |      Insert object before index.\n",
      " |  \n",
      " |  pop(self, index=-1, /)\n",
      " |      Remove and return item at index (default last).\n",
      " |      \n",
      " |      Raises IndexError if list is empty or index is out of range.\n",
      " |  \n",
      " |  remove(self, value, /)\n",
      " |      Remove first occurrence of value.\n",
      " |      \n",
      " |      Raises ValueError if the value is not present.\n",
      " |  \n",
      " |  reverse(self, /)\n",
      " |      Reverse *IN PLACE*.\n",
      " |  \n",
      " |  sort(self, /, *, key=None, reverse=False)\n",
      " |      Sort the list in ascending order and return None.\n",
      " |      \n",
      " |      The sort is in-place (i.e. the list itself is modified) and stable (i.e. the\n",
      " |      order of two equal elements is maintained).\n",
      " |      \n",
      " |      If a key function is given, apply it once to each list item and sort them,\n",
      " |      ascending or descending, according to their function values.\n",
      " |      \n",
      " |      The reverse flag can be set to sort in descending order.\n",
      " |  \n",
      " |  ----------------------------------------------------------------------\n",
      " |  Class methods defined here:\n",
      " |  \n",
      " |  __class_getitem__(...) from builtins.type\n",
      " |      See PEP 585\n",
      " |  \n",
      " |  ----------------------------------------------------------------------\n",
      " |  Static methods defined here:\n",
      " |  \n",
      " |  __new__(*args, **kwargs) from builtins.type\n",
      " |      Create and return a new object.  See help(type) for accurate signature.\n",
      " |  \n",
      " |  ----------------------------------------------------------------------\n",
      " |  Data and other attributes defined here:\n",
      " |  \n",
      " |  __hash__ = None\n",
      "\n"
     ]
    }
   ],
   "source": [
    "# Get help for the list type\n",
    "help(list)\n"
   ]
  },
  {
   "cell_type": "markdown",
   "id": "d27259fe-d32c-4299-b410-e2de3e51dbc7",
   "metadata": {},
   "source": [
    "#  User Defined Functions\n"
   ]
  },
  {
   "cell_type": "markdown",
   "id": "4c4d6ec4-5971-4c10-b111-1b76d28ee390",
   "metadata": {},
   "source": [
    "### User-Defined Functions in Python are functions that you create yourself to perform a specific task or set of tasks. These functions are defined using the def keyword and can be reused throughout your code.\n"
   ]
  },
  {
   "cell_type": "markdown",
   "id": "eeaa6018-18ae-40d3-a1dd-66addf83c0e3",
   "metadata": {},
   "source": [
    "### def is the keyword used to define a function."
   ]
  },
  {
   "cell_type": "code",
   "execution_count": 27,
   "id": "c27acd1b-06b1-4d97-9360-081f6c022f48",
   "metadata": {},
   "outputs": [
    {
     "name": "stdout",
     "output_type": "stream",
     "text": [
      "Square of 5: 49\n"
     ]
    }
   ],
   "source": [
    "# Define a function named 'square' that takes one parameter 'x'\n",
    "def square(x):\n",
    "    \"\"\"This function calculates the square of a number.\"\"\"\n",
    "    return x * x, 3, 4, 6\n",
    "\n",
    "\n",
    "# Call the 'square' function with an argument and store the result\n",
    "result,a,b,c = square(343)\n",
    "\n",
    "# Print the result\n",
    "print(\"Square of 5:\", result)\n"
   ]
  },
  {
   "cell_type": "code",
   "execution_count": 1,
   "id": "53497604-4abe-4771-b917-ed9939e01d8e",
   "metadata": {},
   "outputs": [
    {
     "name": "stdout",
     "output_type": "stream",
     "text": [
      "('Hello,', 'Alice', '! How are you today?')\n"
     ]
    }
   ],
   "source": [
    "# Define a function named 'greet' that takes one parameter 'name'\n",
    "def greet(name):\n",
    "    \"\"\"This function greets a person by name.\"\"\"\n",
    "    return \"Hello,\", name, \"! How are you today?\"\n",
    "\n",
    "# Call the 'greet' function with an argument\n",
    "print(greet(\"Alice\"))\n",
    "\n"
   ]
  },
  {
   "cell_type": "markdown",
   "id": "044dacef-cbed-4a02-8fa7-403ad151d1fa",
   "metadata": {},
   "source": [
    "### Default Arguments : You can provide default values for function parameters. If an argument is not passed when calling the function, it will use the default value\n"
   ]
  },
  {
   "cell_type": "code",
   "execution_count": 3,
   "id": "a0d971b3-2fe0-41b8-bf93-392a2395d38f",
   "metadata": {},
   "outputs": [
    {
     "name": "stdout",
     "output_type": "stream",
     "text": [
      "Hello Alice\n",
      "Hi Bob\n",
      "Hello Charlie\n",
      "Hello Atif\n",
      "Hola Atif\n"
     ]
    }
   ],
   "source": [
    "def greet(name='Atif', greeting=\"Hello\"):\n",
    "    \"\"\"Greets a person with a customizable greeting.\"\"\"\n",
    "    print(greeting, name)\n",
    "\n",
    "# Calling the function with and without providing the 'greeting' argument\n",
    "greet(\"Alice\")       # Output: Hello, Alice!\n",
    "greet(\"Bob\", \"Hi\")   # Output: Hi, Bob!\n",
    "greet(\"Charlie\")     # Output: Hello, Charlie! (default greeting used)\n",
    "greet()\n",
    "greet(greeting=\"Hola\")\n"
   ]
  },
  {
   "cell_type": "markdown",
   "id": "7f93f84e-5c4a-4952-97de-80c1426e0b65",
   "metadata": {},
   "source": [
    "### function_name is the name you choose for your function. It should follow Python's naming rules."
   ]
  },
  {
   "cell_type": "code",
   "execution_count": 47,
   "id": "8c6e6b28-9226-4c70-9626-4c7db95759e6",
   "metadata": {},
   "outputs": [
    {
     "name": "stdout",
     "output_type": "stream",
     "text": [
      "Factorial of 5: 120\n"
     ]
    }
   ],
   "source": [
    "# Define a function to calculate the factorial of a number\n",
    "def factorial(n):\n",
    "    \"\"\"This function calculates the factorial of a number.\"\"\"\n",
    "    if n == 0:\n",
    "        return 1\n",
    "    else:\n",
    "        return n * factorial(n - 1)\n",
    "\n",
    "# Call the 'factorial' function with an argument and store the result\n",
    "result = factorial(5)\n",
    "\n",
    "# Print the result\n",
    "print(\"Factorial of 5:\", result)\n"
   ]
  },
  {
   "cell_type": "code",
   "execution_count": 48,
   "id": "acdd112f-1cbb-497a-8974-ab1d95dcdee3",
   "metadata": {},
   "outputs": [
    {
     "name": "stdout",
     "output_type": "stream",
     "text": [
      "Is 11 prime? True\n"
     ]
    }
   ],
   "source": [
    "# Define a function to check if a number is prime\n",
    "def is_prime(number):\n",
    "    \"\"\"This function checks if a number is prime.\"\"\"\n",
    "    if number <= 1:\n",
    "        return False\n",
    "    for i in range(2, int(number ** 0.5) + 1):\n",
    "        if number % i == 0:\n",
    "            return False\n",
    "    return True\n",
    "\n",
    "# Call the 'is_prime' function with an argument\n",
    "result = is_prime(11)\n",
    "\n",
    "# Print the result\n",
    "print(\"Is 11 prime?\", result)\n"
   ]
  },
  {
   "cell_type": "code",
   "execution_count": 31,
   "id": "9c4f927f",
   "metadata": {},
   "outputs": [
    {
     "data": {
      "text/plain": [
       "1.7320508075688772"
      ]
     },
     "execution_count": 31,
     "metadata": {},
     "output_type": "execute_result"
    }
   ],
   "source": [
    "number=3\n",
    "number ** 0.5"
   ]
  },
  {
   "cell_type": "markdown",
   "id": "08c0d55a-8f12-40b6-ab8a-329b8448c590",
   "metadata": {},
   "source": [
    "### parameters (optional) are input values that you can pass to the function. These go inside the parentheses."
   ]
  },
  {
   "cell_type": "code",
   "execution_count": 49,
   "id": "d71d23f7-31ff-48da-a181-633365c77f7b",
   "metadata": {},
   "outputs": [
    {
     "name": "stdout",
     "output_type": "stream",
     "text": [
      "Area of rectangle: 15\n"
     ]
    }
   ],
   "source": [
    "# Define a function to calculate the area of a rectangle\n",
    "def calculate_area(length, width):\n",
    "    \"\"\"This function calculates the area of a rectangle.\"\"\"\n",
    "    area = length * width\n",
    "    return area\n",
    "\n",
    "# Call the function with parameters and store the result\n",
    "area_of_rectangle = calculate_area(5, 3)\n",
    "\n",
    "# Print the result\n",
    "print(\"Area of rectangle:\", area_of_rectangle)\n"
   ]
  },
  {
   "cell_type": "code",
   "execution_count": 50,
   "id": "9028ab15-fa80-4f17-8880-6ea81fd84b3a",
   "metadata": {},
   "outputs": [
    {
     "name": "stdout",
     "output_type": "stream",
     "text": [
      "Hello, Alice ! How are you today?\n"
     ]
    }
   ],
   "source": [
    "# Define a function to greet a person\n",
    "def greet_person(name):\n",
    "    \"\"\"This function greets a person by name.\"\"\"\n",
    "    print(\"Hello,\", name, \"! How are you today?\")\n",
    "\n",
    "# Call the function with a parameter\n",
    "greet_person(\"Alice\")\n"
   ]
  },
  {
   "cell_type": "markdown",
   "id": "86c2a7e7-b5e4-4dc6-822a-fb6ebbd8e933",
   "metadata": {},
   "source": [
    "### \"\"\"Docstring (optional)\"\"\" is an optional docstring that describes what the function does."
   ]
  },
  {
   "cell_type": "code",
   "execution_count": 51,
   "id": "b30e87ff-50c5-4cec-b8e6-16d319a41630",
   "metadata": {},
   "outputs": [
    {
     "name": "stdout",
     "output_type": "stream",
     "text": [
      "Square of 5: 25\n"
     ]
    }
   ],
   "source": [
    "def square(x):\n",
    "    \"\"\"\n",
    "    This function calculates the square of a number.\n",
    "\n",
    "    Parameters:\n",
    "    x (int or float): The number to be squared.\n",
    "\n",
    "    Returns:\n",
    "    int or float: The square of the input number.\n",
    "    \"\"\"\n",
    "    return x * x\n",
    "\n",
    "# Call the function with an argument and store the result\n",
    "result = square(5)\n",
    "\n",
    "# Print the result\n",
    "print(\"Square of 5:\", result)\n"
   ]
  },
  {
   "cell_type": "code",
   "execution_count": 52,
   "id": "65fd8964-b360-4a2f-99c4-8f6bac048512",
   "metadata": {},
   "outputs": [
    {
     "name": "stdout",
     "output_type": "stream",
     "text": [
      "Hello, Alice ! How are you today?\n"
     ]
    }
   ],
   "source": [
    "def greet_person(name):\n",
    "    \"\"\"\n",
    "    This function greets a person by name.\n",
    "\n",
    "    Parameters:\n",
    "    name (str): The name of the person to be greeted.\n",
    "    \"\"\"\n",
    "    print(\"Hello,\", name, \"! How are you today?\")\n",
    "\n",
    "# Call the function with a parameter\n",
    "greet_person(\"Alice\")\n"
   ]
  },
  {
   "cell_type": "markdown",
   "id": "204480a9-faa5-47ea-8a52-e92084d6a98c",
   "metadata": {},
   "source": [
    "### The function body contains the code that performs the task.\n",
    " - The function bodies contain straightforward code to perform the tasks.\n",
    " - \n",
    "Comments provide brief descriptions of what each function does\n",
    " - \n",
    "We call the functions with arguments directly within print() statements to show the results."
   ]
  },
  {
   "cell_type": "code",
   "execution_count": 53,
   "id": "27719000-ed00-4b4c-bda4-fe9fb0fbf1e1",
   "metadata": {},
   "outputs": [
    {
     "name": "stdout",
     "output_type": "stream",
     "text": [
      "Factorial of 5: 120\n"
     ]
    }
   ],
   "source": [
    "def factorial(n):\n",
    "    \"\"\"Calculates the factorial of a number.\"\"\"\n",
    "    result = 1\n",
    "    for i in range(1, n + 1):\n",
    "        result *= i\n",
    "    return result\n",
    "\n",
    "# Call the function with an argument and print the result\n",
    "print(\"Factorial of 5:\", factorial(5))\n"
   ]
  },
  {
   "cell_type": "code",
   "execution_count": 54,
   "id": "ab510fcf-26f7-4fd7-a8a2-05cce3a0e073",
   "metadata": {},
   "outputs": [
    {
     "name": "stdout",
     "output_type": "stream",
     "text": [
      "Is 11 prime? True\n"
     ]
    }
   ],
   "source": [
    "def is_prime(number):\n",
    "    \"\"\"Checks if a number is prime.\"\"\"\n",
    "    if number <= 1:\n",
    "        return False\n",
    "    for i in range(2, int(number ** 0.5) + 1):\n",
    "        if number % i == 0:\n",
    "            return False\n",
    "    return True\n",
    "\n",
    "# Call the function with an argument and print the result\n",
    "print(\"Is 11 prime?\", is_prime(11))\n"
   ]
  },
  {
   "cell_type": "markdown",
   "id": "67c1ea29-9f1c-4dff-b80d-6b0ff1e9ce62",
   "metadata": {},
   "source": [
    "### return (optional) is used to return a value from the function to the caller. You can have multiple return statements in a function, but once a return statement is executed, the function terminates.\n"
   ]
  },
  {
   "cell_type": "code",
   "execution_count": 55,
   "id": "2aae5d53-cd45-4af6-ba10-69670ac8a0a8",
   "metadata": {},
   "outputs": [
    {
     "name": "stdout",
     "output_type": "stream",
     "text": [
      "Square of 5: 25\n"
     ]
    }
   ],
   "source": [
    "def square(x):\n",
    "    \"\"\"Calculates the square of a number.\"\"\"\n",
    "    result = x * x\n",
    "    return result\n",
    "\n",
    "# Call the function with an argument and store the result\n",
    "square_of_5 = square(5)\n",
    "\n",
    "# Print the result\n",
    "print(\"Square of 5:\", square_of_5)\n"
   ]
  },
  {
   "cell_type": "code",
   "execution_count": 56,
   "id": "2f1f7a96-0ad3-4f09-aa3d-0ba2f9366e9d",
   "metadata": {},
   "outputs": [
    {
     "name": "stdout",
     "output_type": "stream",
     "text": [
      "-5 is: Negative\n"
     ]
    }
   ],
   "source": [
    "def check_number(n):\n",
    "    \"\"\"Checks if a number is positive, negative, or zero.\"\"\"\n",
    "    if n > 0:\n",
    "        return \"Positive\"\n",
    "    elif n < 0:\n",
    "        return \"Negative\"\n",
    "    else:\n",
    "        return \"Zero\"\n",
    "\n",
    "# Call the function with an argument and store the result\n",
    "result = check_number(-5)\n",
    "\n",
    "# Print the result\n",
    "print(\"-5 is:\", result)\n"
   ]
  },
  {
   "cell_type": "markdown",
   "id": "7c934d25-ce3f-42ff-bbab-2a4959cbbbb3",
   "metadata": {},
   "source": [
    "### Example of a user-defined function that calculates the square of a number:\n",
    "\n"
   ]
  },
  {
   "cell_type": "code",
   "execution_count": 58,
   "id": "42513a8e-43cd-43c1-81c1-889465b649c0",
   "metadata": {},
   "outputs": [
    {
     "name": "stdout",
     "output_type": "stream",
     "text": [
      "25\n"
     ]
    }
   ],
   "source": [
    "def square(x):\n",
    "    \"\"\"This function calculates the square of a number.\"\"\"\n",
    "    # Calculate the square of the input number\n",
    "    result = x * 2\n",
    "    # Return the calculated square\n",
    "    return result\n",
    "\n",
    "# Calling the function with an argument of 5\n",
    "result = square(5)\n",
    "\n",
    "# Print the result\n",
    "print(result)  # Output: 25\n"
   ]
  },
  {
   "cell_type": "markdown",
   "id": "189804e2",
   "metadata": {},
   "source": []
  },
  {
   "cell_type": "code",
   "execution_count": 35,
   "id": "ed48d56c",
   "metadata": {},
   "outputs": [
    {
     "name": "stdout",
     "output_type": "stream",
     "text": [
      "a 1\n",
      "b 2\n",
      "c 3\n"
     ]
    }
   ],
   "source": [
    "diction = {'a':1,\n",
    "           'b':2,\n",
    "           'c':3}\n",
    "\n",
    "for k, v in diction.items():\n",
    "    print(k, v)\n",
    "\n"
   ]
  },
  {
   "attachments": {},
   "cell_type": "markdown",
   "id": "190f27f3-8b05-499f-be79-25430d3935c1",
   "metadata": {},
   "source": [
    "### Variable-Length Arguments (*args and **kwargs)\n",
    "### Python allows functions to accept a variable number of arguments using *args and **kwargs.\n"
   ]
  },
  {
   "cell_type": "markdown",
   "id": "b2798c2d-e25f-4ec2-bb3f-e24d88ad45b5",
   "metadata": {},
   "source": [
    "### *args allows a function to accept any number of positional arguments"
   ]
  },
  {
   "cell_type": "code",
   "execution_count": 38,
   "id": "04690efa-fe8b-4dac-8b29-d2e7efaada77",
   "metadata": {},
   "outputs": [
    {
     "name": "stdout",
     "output_type": "stream",
     "text": [
      "49\n",
      "3\n"
     ]
    }
   ],
   "source": [
    "def add(*args):\n",
    "    \"\"\"Calculates the sum of an arbitrary number of arguments.\"\"\"\n",
    "    result = 0\n",
    "    # Iterate through each argument in 'args'\n",
    "    for num in args:\n",
    "        # Add the current argument to the result\n",
    "        result += num\n",
    "    # Return the final sum\n",
    "    return result\n",
    "\n",
    "# Calling the function with multiple arguments\n",
    "print(add(1, 2))  # Output: 6\n"
   ]
  },
  {
   "cell_type": "markdown",
   "id": "5c3c3027-35f8-4ab3-9964-405c2c850d9c",
   "metadata": {},
   "source": [
    "### **kwargs allows a function to accept any number of keyword arguments:"
   ]
  },
  {
   "cell_type": "code",
   "execution_count": 63,
   "id": "fea5b476-d916-433e-af93-1f5152d04598",
   "metadata": {},
   "outputs": [
    {
     "name": "stdout",
     "output_type": "stream",
     "text": [
      "name: Alice\n",
      "age: 30\n",
      "city: Wonderland\n"
     ]
    }
   ],
   "source": [
    "def display_info(**kwargs):\n",
    "    \"\"\"Displays key-value pairs passed as keyword arguments.\"\"\"\n",
    "    for key, value in kwargs.items():\n",
    "        # Print each key-value pair\n",
    "        print(key,\":\" ,value)\n",
    "\n",
    "# Calling the function with keyword arguments\n",
    "display_info(name=\"Alice\", age=30, city=\"Wonderland\")\n",
    "# Output: name: Alice, age: 30, city: Wonderland\n"
   ]
  },
  {
   "cell_type": "markdown",
   "id": "671a2833-f7bc-4f56-9741-cdaef10a90de",
   "metadata": {},
   "source": [
    "### Recursive Functions\n",
    "### Recursion is a technique in which a function calls itself. A recursive function consists of a base case and a recursive case. The base case defines the termination condition, and the recursive case involves calling the function itself.\n"
   ]
  },
  {
   "cell_type": "code",
   "execution_count": 45,
   "id": "b6c11c05-4772-4c49-a592-7a00a9f99f91",
   "metadata": {},
   "outputs": [
    {
     "name": "stdout",
     "output_type": "stream",
     "text": [
      "6\n"
     ]
    }
   ],
   "source": [
    "def factorial(n):\n",
    "    \"\"\"Defines a function to calculate the factorial of a given number.\"\"\"\n",
    "    if n == 0 or n == 1:\n",
    "        # Base case: If n is 0 or 1, return 1 (factorial of 0 and 1 is 1)\n",
    "        return 1\n",
    "    else:\n",
    "        # Recursive case: Calculate factorial(n-1) and multiply it by n\n",
    "        return n * factorial(n - 1)\n",
    "\n",
    "# Calling the function to calculate factorial of 5\n",
    "print(factorial(3))  # Output: 120 (5! = 5 * 4 * 3 * 2 * 1)\n"
   ]
  },
  {
   "cell_type": "markdown",
   "id": "abfea50c-bf8c-4095-a947-e39ab8d22b95",
   "metadata": {},
   "source": [
    "# Variable Scope"
   ]
  },
  {
   "cell_type": "markdown",
   "id": "6dbf3973-99e2-4bef-9255-a8fa6950d791",
   "metadata": {},
   "source": [
    " - Variables defined inside a function have local scope, which means they are only accessible within that function.\n",
    " - Variables defined outside functions have global scope and can be accessed from anywhere\n"
   ]
  },
  {
   "cell_type": "code",
   "execution_count": 44,
   "id": "ceb16bdd-5984-478a-93a1-00542d521d42",
   "metadata": {},
   "outputs": [
    {
     "name": "stdout",
     "output_type": "stream",
     "text": [
      "10\n",
      "(5, 6)\n"
     ]
    }
   ],
   "source": [
    "global_var = 10  # Global variable\n",
    "\n",
    "def my_function():\n",
    "    local_var = 5  # Local variable\n",
    "    local_var_1 = 6\n",
    "    # print(global_var)  # Accessing global_var from within the function\n",
    "    # print(local_var)\n",
    "    return local_var, local_var_1\n",
    "\n",
    "# my_function()  # Calling the function\n",
    "print(global_var)  # Accessing global_var outside the function\n",
    "x, y = my_function()  # This will raise an error as local_var is not accessible here\n"
   ]
  },
  {
   "cell_type": "markdown",
   "id": "310f2bb1-d4b6-4a15-89d7-eb3aad77042e",
   "metadata": {},
   "source": [
    "# Nested Functions\n"
   ]
  },
  {
   "cell_type": "markdown",
   "id": "eb0977f5-916b-43b3-b6a9-dd17d23d8a2c",
   "metadata": {},
   "source": [
    "### Nested functions refer to functions defined inside another function. They can access variables from their containing (enclosing) function, which can be useful for creating more modular and organized code.\n"
   ]
  },
  {
   "cell_type": "code",
   "execution_count": 68,
   "id": "d271fec2-ebc0-417c-b65d-537fbcd130c0",
   "metadata": {},
   "outputs": [
    {
     "name": "stdout",
     "output_type": "stream",
     "text": [
      "15\n"
     ]
    }
   ],
   "source": [
    "def outer_function(x):\n",
    "    \"\"\"Defines an outer function that returns an inner function.\"\"\"\n",
    "    def inner_function(y):\n",
    "        \"\"\"Defines an inner function that takes one argument y.\"\"\"\n",
    "        return x + y\n",
    "    return inner_function  # Returns the inner function\n",
    "\n",
    "closure = outer_function(10)  # Assigns the inner function to 'closure' variable\n",
    "result = closure(5)  # Calls the inner function with argument 5\n",
    "print(result)  # Output\n"
   ]
  },
  {
   "cell_type": "markdown",
   "id": "c8c029c8-739d-4aa7-9794-293c39bed3a4",
   "metadata": {},
   "source": [
    "# Closures"
   ]
  },
  {
   "cell_type": "markdown",
   "id": "23ca8e27-0dc4-46a1-b493-969488e07395",
   "metadata": {},
   "source": [
    "### A closure is a function object that has access to variables in its lexical scope, even when the function is called outside that scope. It \"closes over\" the environment in which it was created.\n"
   ]
  },
  {
   "cell_type": "code",
   "execution_count": 69,
   "id": "82e2808b-3141-42d5-85c0-17b46e934125",
   "metadata": {},
   "outputs": [
    {
     "name": "stdout",
     "output_type": "stream",
     "text": [
      "15\n"
     ]
    }
   ],
   "source": [
    "def outer_function(x):\n",
    "    # Define an inner function that takes one argument y\n",
    "    def inner_function(y):\n",
    "        return x + y  # Accesses the variable x from the outer scope\n",
    "    return inner_function  # Return the inner function\n",
    "\n",
    "# Call outer_function with argument 10, which returns the inner_function\n",
    "closure = outer_function(10)\n",
    "\n",
    "# Call the inner_function with argument 5, resulting in 10 + 5 = 15\n",
    "result = closure(5)\n",
    "\n",
    "# Print the result\n",
    "print(result)  # Output: 15\n"
   ]
  },
  {
   "cell_type": "markdown",
   "id": "e7fead47-e0a3-423f-8d0f-39872a348708",
   "metadata": {},
   "source": [
    "# Lambda Function\n"
   ]
  },
  {
   "attachments": {},
   "cell_type": "markdown",
   "id": "931dbb6b-ce44-48a1-a1a1-ed75ed54c88d",
   "metadata": {},
   "source": [
    "### Anonymous Functions (lambda function):\n",
    " - Lambda functions, also known as anonymous functions or lambda expressions, are a concise way to create small, one-line functions in Python. \n",
    " - \n",
    "Lambda functions are typically used for simple operations and are often passed as arguments to higher-order functions like map(), filter(), and sorted(). \n"
   ]
  },
  {
   "cell_type": "markdown",
   "id": "a0491525-4fdc-4409-9a04-f579c1727bc1",
   "metadata": {},
   "source": [
    "### Basic Syntax : lambda arguments: expression\n",
    "\n",
    " - lambda is the keyword used to define a lambda function.\n",
    " - arguments are the input arguments (parameters) that the lambda function takes.\n",
    " - expression is the single expression that the lambda function evaluates and returns"
   ]
  },
  {
   "cell_type": "markdown",
   "id": "1b3762db-10a6-4948-96d3-1152068a09c7",
   "metadata": {},
   "source": [
    "### A lambda function that adds two numbers:\n"
   ]
  },
  {
   "cell_type": "code",
   "execution_count": 46,
   "id": "54df3488-02dc-4914-8de5-b75a765064a7",
   "metadata": {},
   "outputs": [
    {
     "name": "stdout",
     "output_type": "stream",
     "text": [
      "8\n"
     ]
    }
   ],
   "source": [
    "# Define a lambda function named 'add' that takes two arguments x and y, and returns their sum\n",
    "add = lambda x, y: x + y\n",
    "\n",
    "# Call the lambda function 'add' with arguments 5 and 3, resulting in 5 + 3 = 8\n",
    "print(add(5, 3))  # Output: 8\n"
   ]
  },
  {
   "cell_type": "markdown",
   "id": "e9fa5e5c-35a6-44bf-a30e-15d6d3f2a2fa",
   "metadata": {},
   "source": [
    "### A lambda function that squares a number:\n"
   ]
  },
  {
   "cell_type": "code",
   "execution_count": 47,
   "id": "1e2ffe3c-4738-44c6-9372-2cff9676054a",
   "metadata": {},
   "outputs": [
    {
     "name": "stdout",
     "output_type": "stream",
     "text": [
      "16\n"
     ]
    }
   ],
   "source": [
    "# Define a lambda function named 'square' that takes one argument x and returns its square\n",
    "square = lambda x: x * x\n",
    "\n",
    "# Call the lambda function 'square' with argument 4, resulting in 4 ** 2 = 16\n",
    "print(square(4))  # Output: 16\n"
   ]
  },
  {
   "cell_type": "markdown",
   "id": "449dfb61-9d95-4fdc-baf8-283f02424d23",
   "metadata": {},
   "source": [
    "### A lambda function that checks if a number is even:\n"
   ]
  },
  {
   "cell_type": "code",
   "execution_count": 48,
   "id": "8c3b66ee-7542-433a-b7f1-aac80784b3c9",
   "metadata": {},
   "outputs": [
    {
     "name": "stdout",
     "output_type": "stream",
     "text": [
      "True\n"
     ]
    },
    {
     "data": {
      "text/plain": [
       "1"
      ]
     },
     "execution_count": 48,
     "metadata": {},
     "output_type": "execute_result"
    }
   ],
   "source": [
    "# Define a lambda function named 'is_even' that takes one argument x and returns True if x is even, False otherwise\n",
    "is_even = lambda x: x % 2 == 0\n",
    "\n",
    "# Call the lambda function 'is_even' with argument 6, which is even, resulting in True\n",
    "print(is_even(6))  # Output: True\n",
    "\n",
    "\n",
    "3%2"
   ]
  },
  {
   "cell_type": "markdown",
   "id": "27eff6f5-14da-4d36-8fe2-f463937a251c",
   "metadata": {},
   "source": [
    "### Use Cases for Lambda Functions - Lambda functions are particularly useful in scenarios where you need a simple function for a short duration, such as when you want to perform an operation on elements in an iterable or pass a quick transformation to a higher-order function.\n"
   ]
  },
  {
   "cell_type": "markdown",
   "id": "bfd5a5a2-03da-4128-ad27-d2419d3a9e7f",
   "metadata": {},
   "source": [
    "### map() Function: Applying a lambda function to each element in an iterable:\n"
   ]
  },
  {
   "cell_type": "code",
   "execution_count": 77,
   "id": "70b083b2-c51a-4764-88a9-ee09390a99b6",
   "metadata": {},
   "outputs": [
    {
     "name": "stdout",
     "output_type": "stream",
     "text": [
      "[1, 4, 9, 16, 25]\n"
     ]
    }
   ],
   "source": [
    "# Define a list of numbers\n",
    "numbers = [1, 2, 3, 4, 5]\n",
    "\n",
    "# Apply a lambda function to square each number in the list using map()\n",
    "# The lambda function squares each element (x) of the list\n",
    "# The map() function applies the lambda function to each element of the numbers list\n",
    "squared_numbers = list(map(lambda x: x ** 2, numbers))\n",
    "\n",
    "# 'squared_numbers' will contain the squared values of the original numbers list\n",
    "# [1, 4, 9, 16, 25]\n",
    "# Print the squared numbers\n",
    "print(squared_numbers)\n"
   ]
  },
  {
   "cell_type": "markdown",
   "id": "bb197de2-2280-458a-9793-0a0e9e289f82",
   "metadata": {},
   "source": [
    "### filter() Function: Filtering elements in an iterable based on a condition"
   ]
  },
  {
   "cell_type": "code",
   "execution_count": 78,
   "id": "8f9772d3-7087-4dd7-aac0-a702ae26b754",
   "metadata": {},
   "outputs": [
    {
     "name": "stdout",
     "output_type": "stream",
     "text": [
      "[2, 4, 6, 8, 10]\n"
     ]
    }
   ],
   "source": [
    "# Define the list of numbers\n",
    "numbers = [1, 2, 3, 4, 5, 6, 7, 8, 9, 10]\n",
    "\n",
    "# Use filter() to filter even numbers from the list using a lambda function\n",
    "even_numbers = list(filter(lambda x: x % 2 == 0, numbers))\n",
    "\n",
    "# Print the filtered even numbers\n",
    "print(even_numbers)\n"
   ]
  },
  {
   "cell_type": "markdown",
   "id": "e801e230-2139-4aa9-beb6-71cc8b8eb4e5",
   "metadata": {},
   "source": [
    "### sorted() Function: Sorting a list of items based on a custom key\n"
   ]
  },
  {
   "cell_type": "code",
   "execution_count": 79,
   "id": "1b9176d2-d44a-4387-b6b9-cb533650a7af",
   "metadata": {},
   "outputs": [
    {
     "name": "stdout",
     "output_type": "stream",
     "text": [
      "['Bob', 'Alice', 'David', 'Charlie']\n"
     ]
    }
   ],
   "source": [
    "# Define the list of names\n",
    "names = [\"Alice\", \"Bob\", \"Charlie\", \"David\"]\n",
    "\n",
    "# Use sorted() function to sort the list of names based on their lengths\n",
    "# The key parameter specifies a function (lambda) to be called on each element\n",
    "# The lambda function takes a name as input and returns its length\n",
    "# This sorts the names based on their lengths in ascending order\n",
    "sorted_names = sorted(names, key=lambda name: len(name))\n",
    "\n",
    "# Print the sorted names\n",
    "print(sorted_names)\n"
   ]
  },
  {
   "cell_type": "markdown",
   "id": "2efaf641-ae74-4d7f-87ca-bf4caef5a498",
   "metadata": {},
   "source": [
    "### Limitations of Lambda Functions\n",
    "\n",
    " - While lambda functions are handy for certain situations, they have limitations compared to regular named functions defined with def:\n",
    "\n",
    " - Single Expression: Lambda functions can only consist of a single expression. They are not suitable for complex operations or functions with multiple statements.\n",
    "\n",
    " - Limited Readability: Using lambda functions for very complex operations can make code less readable compared to using well-named functions.\n",
    "\n",
    " - No Documentation Strings (Docstrings): Lambda functions cannot have docstrings to describe their purpose.\n"
   ]
  },
  {
   "cell_type": "markdown",
   "id": "ef68bd33-81e6-4c3c-bb75-d4d49a630330",
   "metadata": {},
   "source": [
    "### When to Use Lambda Functions\n",
    "\n",
    " - Lambda functions are most appropriate when you need a simple function for a short and focused task, especially when you are working with higher-order functions like map(), filter(), and sorted(). \n",
    " - For more complex or reusable functions, it is recommended to use regular named functions defined with def.\n",
    "\n"
   ]
  },
  {
   "cell_type": "markdown",
   "id": "6a73b0fa-0291-4a0d-80ed-f5e804a2a4fc",
   "metadata": {},
   "source": [
    "### This example demonstrates the usage of a lambda function within the sorted() function to sort a list of dictionaries containing student information based on their scores in descending order."
   ]
  },
  {
   "cell_type": "code",
   "execution_count": 52,
   "id": "e7c140bd-93ea-4712-9c7e-3bea43655a7d",
   "metadata": {},
   "outputs": [
    {
     "name": "stdout",
     "output_type": "stream",
     "text": [
      "[{'name': 'Alice', 'score': 95}, {'name': 'Charlie', 'score': 92}, {'name': 'Bob', 'score': 88}]\n"
     ]
    },
    {
     "data": {
      "text/plain": [
       "'Bob'"
      ]
     },
     "execution_count": 52,
     "metadata": {},
     "output_type": "execute_result"
    }
   ],
   "source": [
    "# Define a list of dictionaries representing student information\n",
    "students = [\n",
    "    {\"name\": \"Alice\", \"score\": 95},\n",
    "    {\"name\": \"Bob\", \"score\": 88},\n",
    "    {\"name\": \"Charlie\", \"score\": 92},\n",
    "]\n",
    "\n",
    "# Use sorted() function to sort the list of students based on their scores\n",
    "# The key parameter specifies a function (lambda) to be called on each element\n",
    "# The lambda function takes a student dictionary as input and returns the value of the \"score\" key\n",
    "# This sorts the students based on their scores in descending order\n",
    "sorted_students = sorted(students, key=lambda student: student[\"score\"], reverse=True)\n",
    "\n",
    "# Print the sorted list of students\n",
    "print(sorted_students)\n",
    "\n",
    "students[1]['name']\n"
   ]
  },
  {
   "cell_type": "markdown",
   "id": "e720d79b-7b2c-4189-aa40-20de93a8261c",
   "metadata": {},
   "source": [
    "## Introduction to Exceptions\n"
   ]
  },
  {
   "cell_type": "markdown",
   "id": "b9b918b9-cecb-4de6-b9d0-f1d97ef20343",
   "metadata": {},
   "source": [
    "### In Python, an exception is an event that occurs during the execution of a program that disrupts the normal flow of instructions. Exceptions are raised when errors or exceptional conditions occur. \n"
   ]
  },
  {
   "cell_type": "markdown",
   "id": "f8140e20-7769-4779-a27a-ba95cd740cc1",
   "metadata": {},
   "source": [
    "### Common Types of Exceptions:\n",
    "\n",
    "- SyntaxError: Raised when the Python interpreter encounters a syntax error in the code.\n",
    "print(\"Hello\"  # Missing closing parenthesis\n",
    "\n",
    "- TypeError: Raised when an operation or function is applied to an object of an inappropriate type.\n",
    "x = \"5\"\n",
    "y = 2\n",
    "print(x + y)  # Concatenation of string and integer\n",
    "\n",
    "- n - ZeroDivisionError: Raised when division or modulo by zero is encountered.\n",
    "result = 10 / 0\n"
   ]
  },
  {
   "cell_type": "markdown",
   "id": "60a89cd9-bc48-493d-8c75-05eb0a345994",
   "metadata": {},
   "source": [
    "# Try, except, and finally Blocks\n"
   ]
  },
  {
   "attachments": {},
   "cell_type": "markdown",
   "id": "f978cc98-025a-4591-9e53-088b9acf607d",
   "metadata": {},
   "source": [
    "### Handling Exceptions using try and except:\n",
    "\n",
    "- The try and except blocks are used to handle exceptions. Code that might raise an exception is placed inside the try block, and the corresponding exception-handling code is placed inside the except block.\n",
    " - In this example, the try block attempts to execute the division, and if a ZeroDivisionError occurs, the except block is executed, printing an error message.\n"
   ]
  },
  {
   "cell_type": "code",
   "execution_count": 58,
   "id": "fca1a7a6-4934-4442-8b2f-c94ecc68060a",
   "metadata": {},
   "outputs": [
    {
     "name": "stdout",
     "output_type": "stream",
     "text": [
      "123\n"
     ]
    }
   ],
   "source": [
    "try:\n",
    "    # Attempt to perform the division operation\n",
    "    result = 10 / 2\n",
    "    print('123')\n",
    "except Exception as e:\n",
    "    # If a ZeroDivisionError occurs, execute this block\n",
    "    print(e)\n"
   ]
  },
  {
   "cell_type": "markdown",
   "id": "40d734b5-9937-4dbb-b3b4-802eea44bbfb",
   "metadata": {},
   "source": [
    "### The Role of the finally Block:\n",
    " - The finally block is optional and is used to define cleanup actions that should be executed under all circumstances, whether an exception occurred or not.\u000b\n",
    "\n",
    " - In this example, the finally block will be executed regardless of whether an exception occurred or not.\n"
   ]
  },
  {
   "cell_type": "code",
   "execution_count": 83,
   "id": "c1c9e997-b522-4d56-8eb0-02598f7ef73c",
   "metadata": {},
   "outputs": [
    {
     "name": "stdout",
     "output_type": "stream",
     "text": [
      "Error: Division by zero.\n",
      "This will always execute.\n"
     ]
    }
   ],
   "source": [
    "try:\n",
    "    # Attempt to perform the division operation\n",
    "    result = 10 / 0\n",
    "except ZeroDivisionError:\n",
    "    # If a ZeroDivisionError occurs, execute this block\n",
    "    print(\"Error: Division by zero.\")\n",
    "finally:\n",
    "    # This block will always execute, regardless of whether an exception occurred or not\n",
    "    print(\"This will always execute.\")\n"
   ]
  },
  {
   "cell_type": "code",
   "execution_count": null,
   "id": "27c4589b-0086-4c1d-9ac4-e1605949f370",
   "metadata": {},
   "outputs": [],
   "source": []
  }
 ],
 "metadata": {
  "kernelspec": {
   "display_name": "Python 3 (ipykernel)",
   "language": "python",
   "name": "python3"
  },
  "language_info": {
   "codemirror_mode": {
    "name": "ipython",
    "version": 3
   },
   "file_extension": ".py",
   "mimetype": "text/x-python",
   "name": "python",
   "nbconvert_exporter": "python",
   "pygments_lexer": "ipython3",
   "version": "3.12.3"
  }
 },
 "nbformat": 4,
 "nbformat_minor": 5
}
