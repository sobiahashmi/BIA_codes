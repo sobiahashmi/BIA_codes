{
 "cells": [
  {
   "cell_type": "markdown",
   "id": "855f4353-1836-4468-bf3b-362e4ab95ec6",
   "metadata": {},
   "source": [
    "# Introduction to Numpy"
   ]
  },
  {
   "cell_type": "markdown",
   "id": "02a5e619-566f-4450-b623-495649f6bcb7",
   "metadata": {},
   "source": [
    "NumPy (Numerical Python) is a fundamental library in Python for numerical and scientific computing.\n",
    "It provides support for arrays, matrices, and a wide range of mathematical functions to work efficiently with large datasets and perform various mathematical operations"
   ]
  },
  {
   "cell_type": "markdown",
   "id": "615238dc-1228-41ea-8795-1b55d7858d4c",
   "metadata": {},
   "source": [
    "# Creating NumPy Array"
   ]
  },
  {
   "cell_type": "markdown",
   "id": "b0529acb-3b70-4be3-ac15-5da2bad724b1",
   "metadata": {},
   "source": [
    "### From List to Tuples"
   ]
  },
  {
   "cell_type": "code",
   "execution_count": 1,
   "id": "5b080497-6b15-4294-ac48-1c0fe4fe8705",
   "metadata": {},
   "outputs": [
    {
     "name": "stdout",
     "output_type": "stream",
     "text": [
      "[1 2 3 4 5]\n",
      "<class 'numpy.ndarray'>\n"
     ]
    }
   ],
   "source": [
    "import numpy as np\n",
    "\n",
    "# Create a NumPy array\n",
    "arr = np.array([1, 2, 3, 4, 5])\n",
    "\n",
    "# Convert NumPy array to pandas DataFrame\n",
    "print(arr)\n",
    "print(type(arr))\n"
   ]
  },
  {
   "cell_type": "code",
   "execution_count": 1,
   "id": "229a0f9a",
   "metadata": {},
   "outputs": [
    {
     "name": "stdout",
     "output_type": "stream",
     "text": [
      "Requirement already satisfied: numpy in c:\\users\\buzz\\appdata\\local\\programs\\python\\python312\\lib\\site-packages (1.26.4)\n"
     ]
    },
    {
     "name": "stderr",
     "output_type": "stream",
     "text": [
      "\n",
      "[notice] A new release of pip is available: 24.0 -> 24.2\n",
      "[notice] To update, run: python.exe -m pip install --upgrade pip\n"
     ]
    }
   ],
   "source": [
    "!pip3 install numpy"
   ]
  },
  {
   "cell_type": "markdown",
   "id": "58e7e836-1623-4a22-b920-4bda4ebd1d6b",
   "metadata": {},
   "source": [
    "### Using Built-in Functions"
   ]
  },
  {
   "cell_type": "markdown",
   "id": "f3cd66a0-aba8-47b9-b8ed-f56d6c092cb8",
   "metadata": {},
   "source": [
    "### Creates a 3x3 array filled with zeros"
   ]
  },
  {
   "cell_type": "code",
   "execution_count": 11,
   "id": "dce30697-59e0-40c3-a0c9-a915da3489e7",
   "metadata": {},
   "outputs": [
    {
     "name": "stdout",
     "output_type": "stream",
     "text": [
      "[[0. 0.]\n",
      " [0. 0.]\n",
      " [0. 0.]]\n"
     ]
    }
   ],
   "source": [
    "import numpy as np\n",
    "\n",
    "# Create a NumPy array filled with zeros\n",
    "zeros_arr = np.zeros((3, 2))\n",
    "\n",
    "# Convert NumPy array to pandas DataFrame\n",
    "print(zeros_arr)\n"
   ]
  },
  {
   "cell_type": "markdown",
   "id": "d69ef4cb-3c9c-4f4a-b929-13902e88fbc6",
   "metadata": {},
   "source": [
    "### Creates a 2x2 array filled with ones"
   ]
  },
  {
   "cell_type": "code",
   "execution_count": 2,
   "id": "3f3c62a0-62fe-49cc-acdc-8b896ae3f2d7",
   "metadata": {},
   "outputs": [
    {
     "name": "stdout",
     "output_type": "stream",
     "text": [
      "[[1. 1.]\n",
      " [1. 1.]]\n"
     ]
    },
    {
     "data": {
      "text/plain": [
       "1.0"
      ]
     },
     "execution_count": 2,
     "metadata": {},
     "output_type": "execute_result"
    }
   ],
   "source": [
    "import numpy as np\n",
    "\n",
    "# Create a NumPy array filled with ones\n",
    "ones_arr = np.ones((2, 2))\n",
    "\n",
    "# Convert NumPy array to pandas DataFrame\n",
    "print(ones_arr)\n",
    "ones_arr[1][1]\n"
   ]
  },
  {
   "cell_type": "markdown",
   "id": "b570dd93-a5fa-45c5-94b5-3d24701b646c",
   "metadata": {},
   "source": [
    "### np.arange() and np.linspace() are NumPy functions used to create arrays with a sequence of numbers."
   ]
  },
  {
   "cell_type": "markdown",
   "id": "52fd88b2-a29c-454b-bbf5-e6a504334b69",
   "metadata": {},
   "source": [
    "### np.arange()"
   ]
  },
  {
   "cell_type": "code",
   "execution_count": 3,
   "id": "f5948257-be17-4ad7-8333-beb6e2ea8cd7",
   "metadata": {},
   "outputs": [
    {
     "name": "stdout",
     "output_type": "stream",
     "text": [
      "Array from arange:\n",
      "[ 0  2  4  6  8 10]\n"
     ]
    }
   ],
   "source": [
    "import numpy as np\n",
    "\n",
    "# Create array using arange\n",
    "arr = np.arange(0, 11, 2)  # Creates an array [0, 2, 4, 6, 8]\n",
    "\n",
    "# Print the array\n",
    "print(\"Array from arange:\")\n",
    "print(arr)\n"
   ]
  },
  {
   "cell_type": "markdown",
   "id": "b53b0e1f-6c1a-4949-9591-9d00335bba25",
   "metadata": {},
   "source": [
    "### np.linspace()"
   ]
  },
  {
   "cell_type": "code",
   "execution_count": 7,
   "id": "bf22e4bd-7d7d-47c1-99cf-14d4149b4a63",
   "metadata": {},
   "outputs": [
    {
     "name": "stdout",
     "output_type": "stream",
     "text": [
      "Array from linspace:\n",
      "[ 3.  6.  9. 12. 15. 18. 21. 24. 27. 30. 33. 36. 39. 42. 45. 48. 51. 54.\n",
      " 57. 60.]\n"
     ]
    }
   ],
   "source": [
    "import numpy as np\n",
    "\n",
    "# Create array using linspace\n",
    "lin_arr = np.linspace(3, 60, 20)  # Creates an array [0.  , 0.25, 0.5 , 0.75, 1.  ]\n",
    "\n",
    "# Print the array\n",
    "print(\"Array from linspace:\")\n",
    "print(lin_arr)\n"
   ]
  },
  {
   "cell_type": "markdown",
   "id": "beeeb54a-7a90-47b1-aafb-f8ad351ceaae",
   "metadata": {},
   "source": [
    "### Random Arrays - Random arrays are arrays whose elements are generated randomly. "
   ]
  },
  {
   "cell_type": "markdown",
   "id": "8d53b4b3-e0ba-4d01-9f9a-6d32bcba31cf",
   "metadata": {},
   "source": [
    "### Creates a 3x3 array with random values between 0 and 1"
   ]
  },
  {
   "cell_type": "code",
   "execution_count": 10,
   "id": "07dd0092-2f51-4174-a1cd-7a5babb63dda",
   "metadata": {},
   "outputs": [
    {
     "name": "stdout",
     "output_type": "stream",
     "text": [
      "[[0.56699701 0.46528853 0.40534777]\n",
      " [0.61527542 0.5340696  0.67526586]\n",
      " [0.68337189 0.17484807 0.00677246]]\n",
      "[[8.30912057 5.04804841 6.4863223 ]\n",
      " [4.97077366 6.2444297  2.64155339]\n",
      " [8.97302637 7.26719    9.13225012]]\n",
      "[[25.15364807 21.40526269 22.06073669]\n",
      " [24.51482709 26.02828593 22.54867862]\n",
      " [28.36909156 27.976847   21.29393863]]\n"
     ]
    }
   ],
   "source": [
    "import numpy as np\n",
    "\n",
    "random = np.random.rand(3, 3)\n",
    "print(random)\n",
    "\n",
    "# Create a 3x3 array with random values between 0 and 1\n",
    "print(np.random.rand(3, 3) * 10)\n",
    "rand_arr = 20 + np.random.rand(3, 3) * 10\n",
    "\n",
    "# Print the random array\n",
    "print(rand_arr)\n"
   ]
  },
  {
   "cell_type": "markdown",
   "id": "7ef04a6b-064a-44b0-9dee-22b221b8e1a0",
   "metadata": {},
   "source": [
    "### Using Dimension to generate N-dimensional arrays"
   ]
  },
  {
   "cell_type": "code",
   "execution_count": 16,
   "id": "2ec7eaa8-f980-471e-a22f-78720b52cd03",
   "metadata": {},
   "outputs": [
    {
     "name": "stdout",
     "output_type": "stream",
     "text": [
      "[[1 2 3 4]]\n",
      "(1, 4)\n"
     ]
    }
   ],
   "source": [
    "import numpy as np\n",
    "\n",
    "# Create a 2-dimensional array with specified dimensions\n",
    "arr = np.array([1, 2, 3, 4], ndmin=2)\n",
    "\n",
    "# Print the array\n",
    "print(arr)\n",
    "print(arr.shape)"
   ]
  },
  {
   "cell_type": "markdown",
   "id": "b2c7446c-a582-4e0a-b254-d30bfb00c1b7",
   "metadata": {},
   "source": [
    "### The reshape() method in NumPy allows you to change the shape of an array"
   ]
  },
  {
   "cell_type": "code",
   "execution_count": 26,
   "id": "0cf5529c-1c90-4f5e-aaf1-ca737b17563e",
   "metadata": {},
   "outputs": [
    {
     "name": "stdout",
     "output_type": "stream",
     "text": [
      "[[1 2 3 4]]\n",
      "[[1]\n",
      " [2]\n",
      " [3]\n",
      " [4]]\n",
      "4\n"
     ]
    }
   ],
   "source": [
    "import numpy as np\n",
    "\n",
    "# Create a 2-dimensional array with specified dimensions\n",
    "arr = np.array([1, 2, 3, 4], ndmin=2)\n",
    "print(arr)\n",
    "\n",
    "# Reshape the array to a 2x2 shape\n",
    "reshaped_arr = arr.reshape((4, 1))\n",
    "\n",
    "# Print the reshaped array\n",
    "print(reshaped_arr)\n",
    "print(reshaped_arr[3][0])\n"
   ]
  },
  {
   "cell_type": "markdown",
   "id": "e47b61c9-e1ce-4499-a15d-7431d436b426",
   "metadata": {},
   "source": [
    "###  You can check the type of the array object using the type() function in Python."
   ]
  },
  {
   "cell_type": "code",
   "execution_count": 12,
   "id": "35974ea2-c87a-47d3-bf58-39f8b1b75623",
   "metadata": {},
   "outputs": [
    {
     "name": "stdout",
     "output_type": "stream",
     "text": [
      "<class 'numpy.ndarray'>\n"
     ]
    }
   ],
   "source": [
    "import numpy as np\n",
    "\n",
    "# Create a 2-dimensional array with specified dimensions\n",
    "arr = np.array([1, 2, 3, 4], ndmin=2)\n",
    "\n",
    "# Print the type of the array object\n",
    "print(type(arr))\n"
   ]
  },
  {
   "cell_type": "markdown",
   "id": "b64d2018-8c99-4080-b6c9-be30c6c074ff",
   "metadata": {},
   "source": [
    "### You can use the shape attribute of a NumPy array to check its dimensions."
   ]
  },
  {
   "cell_type": "code",
   "execution_count": 13,
   "id": "cbcdf928-5164-4c80-871c-38d4b96e6d68",
   "metadata": {},
   "outputs": [
    {
     "name": "stdout",
     "output_type": "stream",
     "text": [
      "(1, 4)\n"
     ]
    }
   ],
   "source": [
    "import numpy as np\n",
    "\n",
    "# Create a 2-dimensional array with specified dimensions\n",
    "arr = np.array([1, 2, 3, 4], ndmin=2)\n",
    "\n",
    "# Print the shape of the array\n",
    "print(arr.shape)\n"
   ]
  },
  {
   "cell_type": "markdown",
   "id": "ee8ea253-dccb-4188-9668-3973b63254f4",
   "metadata": {},
   "source": [
    "### You can use the ndim attribute of a NumPy array to check its number of dimensions."
   ]
  },
  {
   "cell_type": "code",
   "execution_count": 14,
   "id": "62fc9462-dab7-4cb8-9188-172699a9cbcd",
   "metadata": {},
   "outputs": [
    {
     "name": "stdout",
     "output_type": "stream",
     "text": [
      "2\n"
     ]
    }
   ],
   "source": [
    "import numpy as np\n",
    "\n",
    "# Create a 2-dimensional array with specified dimensions\n",
    "arr = np.array([1, 2, 3, 4], ndmin=2)\n",
    "\n",
    "# Print the number of dimensions of the array\n",
    "print(arr.ndim)\n"
   ]
  },
  {
   "cell_type": "markdown",
   "id": "d04584ab-43fa-48d4-b0ac-a457f77a82a5",
   "metadata": {},
   "source": [
    "### Data Types in NumPy"
   ]
  },
  {
   "cell_type": "markdown",
   "id": "9283f636-0020-4ba8-ad33-3852b4d05e69",
   "metadata": {},
   "source": [
    "### Strings are sequences of characters, such as letters, numbers, symbols, or spaces, enclosed within single quotes (') or double quotes (\")."
   ]
  },
  {
   "cell_type": "code",
   "execution_count": 28,
   "id": "814ede5b-94fb-4ab2-87b3-dd09f27c35ad",
   "metadata": {},
   "outputs": [
    {
     "name": "stdout",
     "output_type": "stream",
     "text": [
      "String array: ['ABC' 'DEF' '89']\n",
      "<class 'numpy.ndarray'>\n"
     ]
    }
   ],
   "source": [
    "import numpy as np\n",
    "\n",
    "# Create a NumPy array of strings\n",
    "str_arr = np.array(['ABC', 'DEF', 89], dtype=np.str_)\n",
    "\n",
    "# Print the array\n",
    "print(\"String array:\", str_arr)\n",
    "print(type(str_arr))\n"
   ]
  },
  {
   "cell_type": "markdown",
   "id": "034b8788-d311-4d49-aafa-981debeddc57",
   "metadata": {},
   "source": [
    "### Integers are whole numbers, positive or negative, without any decimal point. "
   ]
  },
  {
   "cell_type": "code",
   "execution_count": 21,
   "id": "42f2a89b-be91-45e9-8b77-59d41b28532c",
   "metadata": {},
   "outputs": [
    {
     "name": "stdout",
     "output_type": "stream",
     "text": [
      "Integer array: [[1 2 3 8]]\n"
     ]
    }
   ],
   "source": [
    "import numpy as np\n",
    "\n",
    "# Create a NumPy array of integers\n",
    "int_arr = np.array([1, 2, 3, 8.0], dtype=np.int64, ndmin=2)\n",
    "\n",
    "# Print the array\n",
    "print(\"Integer array:\", int_arr)\n"
   ]
  },
  {
   "cell_type": "markdown",
   "id": "d99b559f-473c-403c-99a5-6d6279b56958",
   "metadata": {},
   "source": [
    "### Floats (floating-point numbers) are numbers that have a decimal point or use exponential (scientific) notation. They can represent both integer and fractional parts of numbers. "
   ]
  },
  {
   "cell_type": "code",
   "execution_count": 14,
   "id": "b2ac8360-cc38-4508-b302-cd7eb913edb9",
   "metadata": {},
   "outputs": [
    {
     "name": "stdout",
     "output_type": "stream",
     "text": [
      "Float array: [ 5.98  3.14 67.  ]\n"
     ]
    }
   ],
   "source": [
    "import numpy as np\n",
    "\n",
    "# Create a NumPy array of floats\n",
    "float_arr = np.array([5.98, 3.14, 67], dtype=np.float64)\n",
    "\n",
    "# Print the array\n",
    "print(\"Float array:\", float_arr)\n"
   ]
  },
  {
   "cell_type": "markdown",
   "id": "d3e1c6af-6d39-4a97-812a-69d5c41b4792",
   "metadata": {},
   "source": [
    "### Booleans are a data type that represents one of two possible values: True or False."
   ]
  },
  {
   "cell_type": "code",
   "execution_count": 23,
   "id": "c535323c-e4e2-466f-a715-b07717d4ea05",
   "metadata": {},
   "outputs": [
    {
     "name": "stdout",
     "output_type": "stream",
     "text": [
      "Boolean array: [ True False  True  True]\n"
     ]
    }
   ],
   "source": [
    "import numpy as np\n",
    "\n",
    "# Create a NumPy array of booleans\n",
    "bool_arr = np.array([True, False, True, 7], dtype=np.bool_)\n",
    "\n",
    "# Print the array\n",
    "print(\"Boolean array:\", bool_arr)\n"
   ]
  },
  {
   "cell_type": "code",
   "execution_count": 51,
   "id": "87c19ae5",
   "metadata": {},
   "outputs": [
    {
     "name": "stdout",
     "output_type": "stream",
     "text": [
      "97\n",
      "A\n"
     ]
    }
   ],
   "source": [
    "print(ord('a'))\n",
    "print(chr(65))"
   ]
  },
  {
   "cell_type": "markdown",
   "id": "3af913fd-041f-4096-9bf5-9ca2a547312a",
   "metadata": {},
   "source": [
    "### Complex numbers consist of a real part and an imaginary part, where the imaginary part is represented by the letter j or J."
   ]
  },
  {
   "cell_type": "code",
   "execution_count": 16,
   "id": "306e97aa-8e0b-424d-956c-ddcb48ae62b0",
   "metadata": {},
   "outputs": [
    {
     "name": "stdout",
     "output_type": "stream",
     "text": [
      "Complex array: [1.+2.j 3.+4.j]\n",
      "<class 'numpy.ndarray'>\n"
     ]
    }
   ],
   "source": [
    "import numpy as np\n",
    "\n",
    "# Create a NumPy array of complex numbers\n",
    "complex_arr = np.array([1.0 + 2.0j, 3.0 + 4.0j], dtype=np.complex128)\n",
    "\n",
    "# Print the array\n",
    "print(\"Complex array:\", complex_arr)\n",
    "print(type(complex_arr))\n"
   ]
  },
  {
   "cell_type": "markdown",
   "id": "a0f6eb7d-d1e8-48da-8477-b368f435559f",
   "metadata": {},
   "source": [
    "### Creating NumPy arrays with specific data types using the dtype parameter. "
   ]
  },
  {
   "cell_type": "markdown",
   "id": "0ee4b0d5-fea7-484c-b946-311f0363520a",
   "metadata": {},
   "source": [
    "### Creating an array of integers without specifying the data type:"
   ]
  },
  {
   "cell_type": "code",
   "execution_count": 52,
   "id": "04d017b6-1b4e-4923-b215-e8104515fe89",
   "metadata": {},
   "outputs": [
    {
     "name": "stdout",
     "output_type": "stream",
     "text": [
      "int32\n"
     ]
    }
   ],
   "source": [
    "arr = np.array([1, 2, 3, 4])\n",
    "print(arr.dtype)  # int32\n"
   ]
  },
  {
   "cell_type": "markdown",
   "id": "3480d405-2380-472d-8731-214541f90751",
   "metadata": {},
   "source": [
    "### Creating an array of strings with a specific data type ('S' for strings):"
   ]
  },
  {
   "cell_type": "code",
   "execution_count": 54,
   "id": "36f1d384-0ecf-4472-9628-8a5582eddcb3",
   "metadata": {},
   "outputs": [
    {
     "name": "stdout",
     "output_type": "stream",
     "text": [
      "|S6\n"
     ]
    }
   ],
   "source": [
    "arr = np.array(['dogs', 'cats', 'horses'], dtype='S')\n",
    "print(arr.dtype)  # |S6\n"
   ]
  },
  {
   "cell_type": "markdown",
   "id": "03959b82-f270-4ca4-9069-5ccdfb4cc15e",
   "metadata": {},
   "source": [
    "# Indexing and Slicing NumPy Arrays\n"
   ]
  },
  {
   "cell_type": "markdown",
   "id": "97afc0b4-d07b-4816-b7fb-b039c8dd388f",
   "metadata": {},
   "source": [
    "### NumPy arrays can be accessed and sliced similar to Python lists, with the additional ability to index and slice in multiple dimensions for multi-dimensional arrays.\n"
   ]
  },
  {
   "cell_type": "markdown",
   "id": "2fef7f0d-98c0-4cb3-890d-9c15a65154c2",
   "metadata": {},
   "source": [
    "### Create a Numpy Array"
   ]
  },
  {
   "cell_type": "code",
   "execution_count": 55,
   "id": "2e7ea082-3385-458e-8441-923f9a13596a",
   "metadata": {},
   "outputs": [
    {
     "name": "stdout",
     "output_type": "stream",
     "text": [
      "2\n"
     ]
    }
   ],
   "source": [
    "import numpy as np\n",
    "\n",
    "arr = np.array([[1, 2, 3], \n",
    "                [4, 5, 6], \n",
    "                [7, 8, 9]], ndmin=2)\n",
    "print(arr.ndim)"
   ]
  },
  {
   "cell_type": "markdown",
   "id": "02890b58-7ef8-40c2-9726-0175186c84e7",
   "metadata": {},
   "source": [
    "### Accessing elements"
   ]
  },
  {
   "cell_type": "code",
   "execution_count": 57,
   "id": "f25a31cf-885b-4571-b0d2-4895f2c56c16",
   "metadata": {},
   "outputs": [
    {
     "name": "stdout",
     "output_type": "stream",
     "text": [
      "Element at first row and second column: 4\n"
     ]
    }
   ],
   "source": [
    "element = arr[1, 0]  # Accessing the element at the first row and second column\n",
    "print(\"Element at first row and second column:\", element)"
   ]
  },
  {
   "cell_type": "markdown",
   "id": "3880fac0-75f2-4964-aba2-0562532d22c3",
   "metadata": {},
   "source": [
    "### Slicing Rows"
   ]
  },
  {
   "cell_type": "code",
   "execution_count": 71,
   "id": "68c4e316-3b40-48e3-b002-90d8ac51e669",
   "metadata": {},
   "outputs": [
    {
     "name": "stdout",
     "output_type": "stream",
     "text": [
      "Second row: [[4 5 6]\n",
      " [7 8 9]]\n"
     ]
    }
   ],
   "source": [
    "slice_row = arr[1:3, :]  # Slicing the second row\n",
    "print(\"Second row:\", slice_row)"
   ]
  },
  {
   "cell_type": "markdown",
   "id": "8de71573-a75c-4515-9ac9-268b02e2d4f9",
   "metadata": {},
   "source": [
    "### Slicing Columns\n"
   ]
  },
  {
   "cell_type": "code",
   "execution_count": 46,
   "id": "5c2e14f5-380e-4217-9b35-f9eaae9aa7ad",
   "metadata": {},
   "outputs": [
    {
     "name": "stdout",
     "output_type": "stream",
     "text": [
      "Third column: [[1 2 3]\n",
      " [4 5 6]]\n"
     ]
    }
   ],
   "source": [
    "slice_column = arr[0:2,:]  # Slicing the third column\n",
    "print(\"Third column:\", slice_column)"
   ]
  },
  {
   "cell_type": "markdown",
   "id": "91c51d44-5c3e-45aa-92de-7d08f29eb938",
   "metadata": {},
   "source": [
    "### Advanced indexing with boolean masking"
   ]
  },
  {
   "cell_type": "code",
   "execution_count": 27,
   "id": "c3b1b5db-f770-4603-9673-f3ca5046709e",
   "metadata": {},
   "outputs": [
    {
     "name": "stdout",
     "output_type": "stream",
     "text": [
      "Boolean mask for values greater than 5:\n",
      " [[False False False]\n",
      " [False False  True]\n",
      " [ True  True  True]]\n",
      "Values greater than 5:\n",
      " [6 7 8 9]\n"
     ]
    }
   ],
   "source": [
    "arr = np.array([[1, 2, 3], \n",
    "                [4, 5, 6], \n",
    "                [7, 8, 9]], ndmin=2)\n",
    "\n",
    "mask = arr > 5  # Creating a boolean mask for values greater than 5\n",
    "print(\"Boolean mask for values greater than 5:\\n\", mask)\n",
    "filtered = arr[mask]  # Getting values greater than 5\n",
    "print(\"Values greater than 5:\\n\", filtered)"
   ]
  },
  {
   "cell_type": "markdown",
   "id": "c6aa4431-2aa0-42b3-967a-ab5ac8840dff",
   "metadata": {},
   "source": [
    "### Create the following rank 2 array with shape (3, 4)\n"
   ]
  },
  {
   "cell_type": "code",
   "execution_count": 28,
   "id": "3432b37f-f746-4338-9763-6859cec0bd5c",
   "metadata": {},
   "outputs": [
    {
     "name": "stdout",
     "output_type": "stream",
     "text": [
      "[[ 1  2  3  4]\n",
      " [ 5  6  7  8]\n",
      " [ 9 10 11 12]]\n"
     ]
    }
   ],
   "source": [
    "import numpy as np\n",
    "\n",
    "# Given NumPy array\n",
    "a = np.array([[1, 2, 3, 4],\n",
    "              [5, 6, 7, 8],\n",
    "              [9, 10, 11, 12]])\n",
    "\n",
    "# Print the array\n",
    "print(a)\n"
   ]
  },
  {
   "cell_type": "markdown",
   "id": "e1c98abf-ba4e-41a7-bfb2-bc7e9b107004",
   "metadata": {},
   "source": [
    "### Use slicing to pull out the subarray consisting of the first 2 rows and columns 1 and 2; b is the following array of shape (2, 2):\n"
   ]
  },
  {
   "cell_type": "code",
   "execution_count": 73,
   "id": "16b4b4e2-1e87-4066-9b90-d92ebe74cab7",
   "metadata": {},
   "outputs": [
    {
     "name": "stdout",
     "output_type": "stream",
     "text": [
      "Sliced array b:\n",
      "[[2 3]\n",
      " [6 7]]\n",
      "[[4]\n",
      " [9]] \n",
      " [[11 12]]\n"
     ]
    }
   ],
   "source": [
    "import numpy as np\n",
    "\n",
    "# Given NumPy array\n",
    "a = np.array([[1, 2, 3, 4],\n",
    "              [4, 6, 7, 8],\n",
    "              [9, 10, 11, 12]])\n",
    "\n",
    "# Slicing the array\n",
    "b = a[:2, 1:3]\n",
    "c = a[1:,  :1]\n",
    "d = a[2:, 2:]\n",
    "\n",
    "# Print the sliced array\n",
    "print(\"Sliced array b:\")\n",
    "print(b)\n",
    "print(c, '\\n', d)\n"
   ]
  },
  {
   "cell_type": "markdown",
   "id": "d9e94117-f383-4b62-955f-0079c03e206c",
   "metadata": {},
   "source": [
    "### A slice of an array is a view into the same data, so modifying it will modify the original array.\n"
   ]
  },
  {
   "cell_type": "code",
   "execution_count": 74,
   "id": "a472f78b-5e9d-4842-8e26-542a209a1d2d",
   "metadata": {},
   "outputs": [
    {
     "name": "stdout",
     "output_type": "stream",
     "text": [
      "[[2 3]\n",
      " [6 7]]\n",
      "Element of a[0, 1]: 2\n",
      "[[ 1  2 77  4]\n",
      " [ 5  6  7  8]\n",
      " [ 9 10 11 12]]\n"
     ]
    }
   ],
   "source": [
    "import numpy as np\n",
    "\n",
    "# [[2 3]\n",
    "#  [6 7]]\n",
    "\n",
    "# Given NumPy array\n",
    "a = np.array([[1, 2, 3, 4],\n",
    "              [5, 6, 7, 8],\n",
    "              [9, 10, 11, 12]])\n",
    "\n",
    "a[1][2]\n",
    "a[1,2]\n",
    "\n",
    "# Slicing the array\n",
    "b = a[:2, 1:3]\n",
    "\n",
    "print(b)\n",
    "\n",
    "# Print element of a\n",
    "print(\"Element of a[0, 1]:\", a[0, 1])   # Prints \"2\"\n",
    "\n",
    "# Modify element of b\n",
    "b[0, 1] = 77     # b[0, 0] is the same piece of data as a[0, 1]\n",
    "\n",
    "# Print modified element of a\n",
    "print(a)   # Prints \"77\"\n"
   ]
  },
  {
   "cell_type": "markdown",
   "id": "9219d6cf-e9e3-44e9-8890-5835c11d1b46",
   "metadata": {},
   "source": [
    "# Numpy Operations"
   ]
  },
  {
   "cell_type": "markdown",
   "id": "88a948e7-feeb-4e2e-be67-3488ac269edd",
   "metadata": {},
   "source": [
    "### NumPy arrays support a wide range of operations, including arithmetic, statistical, and more. These operations are performed element-wise.\n"
   ]
  },
  {
   "cell_type": "markdown",
   "id": "96b0c594-c58e-41c2-99cb-a3f638e86c13",
   "metadata": {},
   "source": [
    "### Element-wise arithmetic operations - In element-wise operations, corresponding elements of the input structures are operated on together to produce an output structure of the same shape.\n"
   ]
  },
  {
   "cell_type": "code",
   "execution_count": 36,
   "id": "f2c703a6-447c-4053-b9f7-2d04fe95207c",
   "metadata": {},
   "outputs": [],
   "source": [
    "import numpy as np\n",
    "\n",
    "# Given NumPy arrays\n",
    "arr1 = np.array([1, 2, 3])  # Define the first NumPy array\n",
    "arr2 = np.array([4, 5, 6])  # Define the second NumPy array\n",
    "\n"
   ]
  },
  {
   "cell_type": "markdown",
   "id": "a7962760-d524-4226-9137-e7e573ab87d4",
   "metadata": {},
   "source": [
    "### Element-wise Addition:It refers to the process of adding corresponding elements of two arrays, matrices, or vectors together to produce a new array, matrix, or vector of the same shape."
   ]
  },
  {
   "cell_type": "code",
   "execution_count": 37,
   "id": "9ca2528b-411b-4b13-86f8-227c47d9f55d",
   "metadata": {},
   "outputs": [
    {
     "name": "stdout",
     "output_type": "stream",
     "text": [
      "Element-wise addition: [5 7 9]\n"
     ]
    }
   ],
   "source": [
    "addition = arr1 + arr2  # Perform element-wise addition\n",
    "print(\"Element-wise addition:\", addition)  # Print the result of addition\n"
   ]
  },
  {
   "cell_type": "markdown",
   "id": "b95d2463-83f7-46f0-bb3b-347666ef76bd",
   "metadata": {},
   "source": [
    "### Element-wise Subtraction:It is similar to element-wise addition, but instead of adding corresponding elements, it involves subtracting them."
   ]
  },
  {
   "cell_type": "code",
   "execution_count": 41,
   "id": "57131ac2-ef8f-49d2-b0c9-45a176116f1f",
   "metadata": {},
   "outputs": [
    {
     "name": "stdout",
     "output_type": "stream",
     "text": [
      "Element-wise subtraction: [-3 -3 -3]\n"
     ]
    }
   ],
   "source": [
    "subtraction = arr1 - arr2  # Perform element-wise subtraction\n",
    "print(\"Element-wise subtraction:\", subtraction)  # Print the result of subtraction\n"
   ]
  },
  {
   "cell_type": "markdown",
   "id": "51344f53-3fd0-4352-8a2d-05625118466b",
   "metadata": {},
   "source": [
    "### Element-wise Multiplication: It is a mathematical operation in which corresponding elements of two arrays, matrices, or vectors are multiplied together to produce a new array, matrix, or vector of the same shape."
   ]
  },
  {
   "cell_type": "code",
   "execution_count": 42,
   "id": "f62f399c-8424-46e4-8196-2f49781fcab1",
   "metadata": {},
   "outputs": [
    {
     "name": "stdout",
     "output_type": "stream",
     "text": [
      "Element-wise multiplication: [ 4 10 18]\n"
     ]
    }
   ],
   "source": [
    "multiplication = arr1 * arr2  # Perform element-wise multiplication\n",
    "print(\"Element-wise multiplication:\", multiplication)  # Print the result of multiplication\n"
   ]
  },
  {
   "cell_type": "markdown",
   "id": "5402ec5c-a7d7-4784-8299-624ca66ff570",
   "metadata": {},
   "source": [
    "### Element-wise Division: It is a mathematical operation where corresponding elements of one array, matrix, or vector are divided by corresponding elements of another array, matrix, or vector, resulting in a new array, matrix, or vector of the same shape."
   ]
  },
  {
   "cell_type": "code",
   "execution_count": 43,
   "id": "c41e4487-38b9-4dfa-aa8f-661adfff13fd",
   "metadata": {},
   "outputs": [
    {
     "name": "stdout",
     "output_type": "stream",
     "text": [
      "Element-wise division: [0.25 0.4  0.5 ]\n"
     ]
    }
   ],
   "source": [
    "division = arr1 / arr2  # Perform element-wise division\n",
    "print(\"Element-wise division:\", division)  # Print the result of division\n"
   ]
  },
  {
   "cell_type": "markdown",
   "id": "cc65a8df-db42-439d-8ce6-ab52d5ae9be7",
   "metadata": {},
   "source": [
    "### Statistical operations\n"
   ]
  },
  {
   "cell_type": "markdown",
   "id": "e218e2c4-0ced-4b4e-b239-b2ae32798a5a",
   "metadata": {},
   "source": [
    "### Statistical operations refer to various mathematical procedures used to analyze, interpret, summarize, and draw conclusions from data."
   ]
  },
  {
   "cell_type": "code",
   "execution_count": 35,
   "id": "c4dce558-09b8-4cb6-80fd-be9cc5313805",
   "metadata": {},
   "outputs": [
    {
     "name": "stdout",
     "output_type": "stream",
     "text": [
      "Mean of arr1: 2.0\n",
      "Standard deviation of arr2: 0.816496580927726\n"
     ]
    }
   ],
   "source": [
    "import numpy as np\n",
    "\n",
    "# Given NumPy arrays\n",
    "arr1 = np.array([1, 2, 3])  # Define the first NumPy array\n",
    "arr2 = np.array([4, 5, 6])  # Define the second NumPy array\n",
    "\n",
    "# Calculate mean and standard deviation\n",
    "mean_arr1 = np.mean(arr1)  # Calculate the mean of arr1\n",
    "std_dev_arr2 = np.std(arr2)  # Calculate the standard deviation of arr2\n",
    "\n",
    "# Print results\n",
    "print(\"Mean of arr1:\", mean_arr1)  # Print the mean of arr1\n",
    "print(\"Standard deviation of arr2:\", std_dev_arr2)  # Print the standard deviation of arr2\n"
   ]
  },
  {
   "cell_type": "markdown",
   "id": "88f994de-b566-467a-8dba-759abf2daa7f",
   "metadata": {},
   "source": [
    "### Geometric Operations"
   ]
  },
  {
   "cell_type": "markdown",
   "id": "238ae1bd-88d4-45ca-92d2-7b5d82720469",
   "metadata": {},
   "source": [
    "### Exponentiation: Raises each element of the array to the power of Euler's number."
   ]
  },
  {
   "cell_type": "code",
   "execution_count": 44,
   "id": "4aeef844-3903-43c9-a8d7-2f484bf2c7d8",
   "metadata": {},
   "outputs": [
    {
     "name": "stdout",
     "output_type": "stream",
     "text": [
      "Exponentiation of arr1: [ 2.71828183  7.3890561  20.08553692]\n"
     ]
    }
   ],
   "source": [
    "import numpy as np\n",
    "\n",
    "arr1 = np.array([1, 2, 3])  # Define the input array\n",
    "result_exp = np.exp(arr1)   # Compute element-wise exponentiation\n",
    "print(\"Exponentiation of arr1:\", result_exp)\n"
   ]
  },
  {
   "cell_type": "markdown",
   "id": "9ea74606-2491-497c-a7c6-846172d79b9f",
   "metadata": {},
   "source": [
    "### Square Root: Computes the square root of each element in the array."
   ]
  },
  {
   "cell_type": "code",
   "execution_count": 45,
   "id": "07b5b56c-eca3-4475-a3b3-f63c1434a80b",
   "metadata": {},
   "outputs": [
    {
     "name": "stdout",
     "output_type": "stream",
     "text": [
      "Square root of arr1: [2. 3. 4.]\n"
     ]
    }
   ],
   "source": [
    "import numpy as np\n",
    "\n",
    "arr1 = np.array([4, 9, 16])  # Define the input array\n",
    "result_sqrt = np.sqrt(arr1)  # Compute element-wise square root\n",
    "print(\"Square root of arr1:\", result_sqrt)\n"
   ]
  },
  {
   "cell_type": "markdown",
   "id": "c1cb2610-944a-4d29-8488-26124b9e7182",
   "metadata": {},
   "source": [
    "### Sine: Computes the sine of each element in the array treated as angles in radians."
   ]
  },
  {
   "cell_type": "code",
   "execution_count": 46,
   "id": "7193b03c-4643-4947-9eae-94b897d68774",
   "metadata": {},
   "outputs": [
    {
     "name": "stdout",
     "output_type": "stream",
     "text": [
      "Sine of arr1: [0.0000000e+00 1.0000000e+00 1.2246468e-16]\n"
     ]
    }
   ],
   "source": [
    "import numpy as np\n",
    "\n",
    "arr1 = np.array([0, np.pi/2, np.pi])  # Define the input array (angles in radians)\n",
    "result_sin = np.sin(arr1)             # Compute element-wise sine\n",
    "print(\"Sine of arr1:\", result_sin)\n"
   ]
  },
  {
   "cell_type": "markdown",
   "id": "57fd9b7d-54cb-4580-acdb-edbe3080548a",
   "metadata": {},
   "source": [
    "### Cosine: Computes the cosine of each element in the array treated as angles in radians."
   ]
  },
  {
   "cell_type": "code",
   "execution_count": 47,
   "id": "f6da076a-d82b-429e-b850-9a3a9a08a9e3",
   "metadata": {},
   "outputs": [
    {
     "name": "stdout",
     "output_type": "stream",
     "text": [
      "Cosine of arr1: [ 1.000000e+00  6.123234e-17 -1.000000e+00]\n"
     ]
    }
   ],
   "source": [
    "import numpy as np\n",
    "\n",
    "arr1 = np.array([0, np.pi/2, np.pi])  # Define the input array (angles in radians)\n",
    "result_cos = np.cos(arr1)             # Compute element-wise cosine\n",
    "print(\"Cosine of arr1:\", result_cos)\n"
   ]
  },
  {
   "cell_type": "markdown",
   "id": "54c71ea0-b5c1-4d33-8f6f-24522f713907",
   "metadata": {},
   "source": [
    "### Natural Logarithm: Computes the natural logarithm (base e) of each element in the array."
   ]
  },
  {
   "cell_type": "code",
   "execution_count": 48,
   "id": "d489e2e7-85be-430c-ae60-6cd265cbb583",
   "metadata": {},
   "outputs": [
    {
     "name": "stdout",
     "output_type": "stream",
     "text": [
      "Natural logarithm of arr1: [0.         0.69314718 1.09861229]\n"
     ]
    }
   ],
   "source": [
    "import numpy as np\n",
    "\n",
    "arr1 = np.array([1, 2, 3])  # Define the input array\n",
    "result_log = np.log(arr1)   # Compute element-wise natural logarithm\n",
    "print(\"Natural logarithm of arr1:\", result_log)\n"
   ]
  },
  {
   "cell_type": "markdown",
   "id": "ea9359f8-933f-4435-92b9-e9baf5a13592",
   "metadata": {},
   "source": [
    "### Aggregate Functions"
   ]
  },
  {
   "cell_type": "markdown",
   "id": "8824bb79-fc11-4296-8f0d-233583862624",
   "metadata": {},
   "source": [
    "### Sum: Computes the sum of all elements in the array."
   ]
  },
  {
   "cell_type": "code",
   "execution_count": 49,
   "id": "d9883d50-1d08-483b-b072-7f7900ef9803",
   "metadata": {},
   "outputs": [
    {
     "name": "stdout",
     "output_type": "stream",
     "text": [
      "Sum of arr1: 15\n"
     ]
    }
   ],
   "source": [
    "import numpy as np\n",
    "\n",
    "arr1 = np.array([1, 2, 3, 4, 5])  # Define the input array\n",
    "\n",
    "# Sum of all elements in the array\n",
    "sum_result = arr1.sum()\n",
    "print(\"Sum of arr1:\", sum_result)"
   ]
  },
  {
   "cell_type": "markdown",
   "id": "6623c0b2-b628-4735-a264-6a01fc1e2cb1",
   "metadata": {},
   "source": [
    "### Minimum: Finds the minimum value among all elements in the array."
   ]
  },
  {
   "cell_type": "code",
   "execution_count": 50,
   "id": "6174d01b-e0ba-46bb-be7c-ae15f9b8837c",
   "metadata": {},
   "outputs": [
    {
     "name": "stdout",
     "output_type": "stream",
     "text": [
      "Minimum value in arr1: 1\n"
     ]
    }
   ],
   "source": [
    "import numpy as np\n",
    "\n",
    "arr1 = np.array([1, 2, 3, 4, 5])  # Define the input array\n",
    "\n",
    "# Minimum value among all elements in the array\n",
    "min_result = arr1.min()\n",
    "print(\"Minimum value in arr1:\", min_result)"
   ]
  },
  {
   "cell_type": "markdown",
   "id": "9a5332a9-9a58-4711-8325-90e9e636d679",
   "metadata": {},
   "source": [
    "### Maximum: Finds the maximum value among all elements in the array."
   ]
  },
  {
   "cell_type": "code",
   "execution_count": 52,
   "id": "babf3344-afaa-44ab-99ef-0421e43fa6db",
   "metadata": {},
   "outputs": [
    {
     "name": "stdout",
     "output_type": "stream",
     "text": [
      "Maximum value in arr1: 5\n"
     ]
    }
   ],
   "source": [
    "import numpy as np\n",
    "arr1 = np.array([1, 2, 3, 4, 5])  # Define the input array\n",
    "\n",
    "# Maximum value among all elements in the array\n",
    "max_result = arr1.max()\n",
    "print(\"Maximum value in arr1:\", max_result)"
   ]
  },
  {
   "cell_type": "code",
   "execution_count": 75,
   "id": "b40439ce",
   "metadata": {},
   "outputs": [
    {
     "name": "stdout",
     "output_type": "stream",
     "text": [
      "{'a': 1, 'b': 2, 'c': 3, 'd': 4, 'e': 5, 'f': 6, 'g': 7, 'h': 8, 'i': 9, 'j': 10, 'k': 11, 'l': 12, 'm': 13, 'n': 14, 'o': 15, 'p': 16, 'q': 17, 'r': 18, 's': 19, 't': 20, 'u': 21, 'v': 22, 'w': 23, 'x': 24, 'y': 25, 'z': 26}\n"
     ]
    }
   ],
   "source": [
    "# {'a':1, 'b':2 ....... 'z':26}\n",
    "\n",
    "dictionary = {chr(i):i-96 for i in range(ord('a'), ord('z')+1)}\n",
    "print(dictionary)"
   ]
  },
  {
   "cell_type": "code",
   "execution_count": 76,
   "id": "69169112",
   "metadata": {},
   "outputs": [
    {
     "data": {
      "text/plain": [
       "{'a': 1, 'b': 2, 'c': 3}"
      ]
     },
     "execution_count": 76,
     "metadata": {},
     "output_type": "execute_result"
    }
   ],
   "source": [
    "{'a':1, 'b': 2, 'c': 3}\n",
    "# swap keys and values"
   ]
  },
  {
   "cell_type": "markdown",
   "id": "bf80fa22-4723-4db4-b609-c70176694983",
   "metadata": {},
   "source": [
    "# Panda Series"
   ]
  },
  {
   "cell_type": "markdown",
   "id": "ba18dd5a-abfe-4336-a3cf-18e029a5ae26",
   "metadata": {},
   "source": [
    "### Pandas is a Python library for data manipulation and analysis, offering data structures like Series and DataFrame for handling structured data efficiently,"
   ]
  },
  {
   "cell_type": "markdown",
   "id": "01226702-ee59-448b-8152-444bd9831069",
   "metadata": {},
   "source": [
    "### creating a pandas series"
   ]
  },
  {
   "cell_type": "code",
   "execution_count": 1,
   "id": "f03fff28-1aa7-457a-9033-ff8739edcc36",
   "metadata": {},
   "outputs": [
    {
     "name": "stdout",
     "output_type": "stream",
     "text": [
      "0    10\n",
      "1    20\n",
      "2    30\n",
      "3    40\n",
      "4    50\n",
      "dtype: int64\n",
      "<class 'pandas.core.series.Series'>\n"
     ]
    }
   ],
   "source": [
    "import pandas as pd\n",
    "\n",
    "# Creating a Series from a list\n",
    "data = [10, 20, 30, 40, 50]\n",
    "series_from_list = pd.Series(data)\n",
    "print(series_from_list)\n",
    "print(type(series_from_list))\n"
   ]
  },
  {
   "cell_type": "code",
   "execution_count": null,
   "id": "bf6f42d5",
   "metadata": {},
   "outputs": [],
   "source": [
    "!pip install pandas"
   ]
  },
  {
   "cell_type": "code",
   "execution_count": 33,
   "id": "e692218e-0986-4028-a7d0-4c114d8ebb9f",
   "metadata": {},
   "outputs": [
    {
     "name": "stdout",
     "output_type": "stream",
     "text": [
      "0    1\n",
      "1    2\n",
      "2    3\n",
      "3    4\n",
      "4    5\n",
      "dtype: int32\n"
     ]
    }
   ],
   "source": [
    "import pandas as pd\n",
    "import numpy as np\n",
    "\n",
    "# Creating a Series from a NumPy array\n",
    "numpy_array = np.array([1, 2, 3, 4, 5])\n",
    "series_from_numpy = pd.Series(numpy_array)\n",
    "print(series_from_numpy)"
   ]
  },
  {
   "cell_type": "code",
   "execution_count": 35,
   "id": "d834b183-6f59-49b1-8dc9-fb33d8f1b749",
   "metadata": {},
   "outputs": [
    {
     "data": {
      "text/plain": [
       "A    10\n",
       "B    20\n",
       "C    30\n",
       "D    40\n",
       "E    50\n",
       "dtype: int64"
      ]
     },
     "execution_count": 35,
     "metadata": {},
     "output_type": "execute_result"
    }
   ],
   "source": [
    "import pandas as pd\n",
    "\n",
    "# Creating a Series with custom index labels\n",
    "data = [10, 20, 30, 40, 50]\n",
    "custom_index = pd.Series(data, index=['A', 'B', 'C', 'D', 'E'])\n",
    "custom_index\n"
   ]
  },
  {
   "cell_type": "markdown",
   "id": "7aafd262-9948-4c49-b949-e206fa61fb7f",
   "metadata": {},
   "source": [
    "### Accessing elements by position (zero-based index)"
   ]
  },
  {
   "cell_type": "markdown",
   "id": "0a491031-c195-4094-b061-8b223df08e87",
   "metadata": {},
   "source": [
    "This operation retrieves an element from a pandas Series based on its position, which follows a zero-based index (the first element has index 0, the second has index 1, and so on)."
   ]
  },
  {
   "cell_type": "code",
   "execution_count": 36,
   "id": "e19ed6d7-25f2-4d43-b1be-a7bff5ebf229",
   "metadata": {},
   "outputs": [
    {
     "name": "stdout",
     "output_type": "stream",
     "text": [
      "Element at position 2: 30\n"
     ]
    }
   ],
   "source": [
    "# Example:\n",
    "element_at_position_2 = series_from_list[2]\n",
    "print(\"Element at position 2:\", element_at_position_2)\n"
   ]
  },
  {
   "cell_type": "markdown",
   "id": "cce11382-1fcb-4ec0-ab9d-db22daab65c3",
   "metadata": {},
   "source": [
    "### Accessing elements by label"
   ]
  },
  {
   "cell_type": "markdown",
   "id": "d05e8c11-42d3-4b83-9944-b51cbca0ff21",
   "metadata": {},
   "source": [
    " - This operation retrieves an element from a pandas Series based on its label.\n",
    " - When you create a Series with custom index labels, you can access elements using these labels."
   ]
  },
  {
   "cell_type": "code",
   "execution_count": 57,
   "id": "277ea9cf-ccd6-4dba-bbdb-7788ef7a23a6",
   "metadata": {},
   "outputs": [
    {
     "name": "stdout",
     "output_type": "stream",
     "text": [
      "Element with label 'B': 20\n"
     ]
    }
   ],
   "source": [
    "# Example:\n",
    "element_with_label_B = custom_index['B']\n",
    "print(\"Element with label 'B':\", element_with_label_B)\n"
   ]
  },
  {
   "cell_type": "markdown",
   "id": "3cff7d19-e03a-48dc-949c-c7e43cbc0565",
   "metadata": {},
   "source": [
    "### Slicing a series"
   ]
  },
  {
   "cell_type": "markdown",
   "id": "82ce208e-565b-4fa0-b032-b4ec34942f9d",
   "metadata": {},
   "source": [
    "Slicing allows you to select a subset of elements from a Series based on their positions."
   ]
  },
  {
   "cell_type": "code",
   "execution_count": 5,
   "id": "d32f7143-f3cf-42cf-a6e6-d278d285aa19",
   "metadata": {},
   "outputs": [
    {
     "name": "stdout",
     "output_type": "stream",
     "text": [
      "1    20\n",
      "2    30\n",
      "3    40\n",
      "dtype: int64\n"
     ]
    }
   ],
   "source": [
    "# Example:\n",
    "slice_series = series_from_list[1:4]\n",
    "print(slice_series)\n"
   ]
  },
  {
   "cell_type": "markdown",
   "id": "79440d45-72a8-4f79-a95d-12e1e9159699",
   "metadata": {},
   "source": [
    "# Creating Pandas DataFrame"
   ]
  },
  {
   "cell_type": "markdown",
   "id": "2fbd7bdb-7bec-4263-95e8-5903e671c75c",
   "metadata": {},
   "source": [
    "### Creating a DataFrame from a dictionary"
   ]
  },
  {
   "cell_type": "code",
   "execution_count": 7,
   "id": "44e46093-1a63-463f-8704-563c835109d3",
   "metadata": {},
   "outputs": [
    {
     "name": "stdout",
     "output_type": "stream",
     "text": [
      "DataFrame created from dictionary:\n"
     ]
    },
    {
     "data": {
      "text/html": [
       "<div>\n",
       "<style scoped>\n",
       "    .dataframe tbody tr th:only-of-type {\n",
       "        vertical-align: middle;\n",
       "    }\n",
       "\n",
       "    .dataframe tbody tr th {\n",
       "        vertical-align: top;\n",
       "    }\n",
       "\n",
       "    .dataframe thead th {\n",
       "        text-align: right;\n",
       "    }\n",
       "</style>\n",
       "<table border=\"1\" class=\"dataframe\">\n",
       "  <thead>\n",
       "    <tr style=\"text-align: right;\">\n",
       "      <th></th>\n",
       "      <th>Name</th>\n",
       "      <th>Age</th>\n",
       "    </tr>\n",
       "  </thead>\n",
       "  <tbody>\n",
       "    <tr>\n",
       "      <th>0</th>\n",
       "      <td>Alice</td>\n",
       "      <td>25</td>\n",
       "    </tr>\n",
       "    <tr>\n",
       "      <th>1</th>\n",
       "      <td>Bob</td>\n",
       "      <td>30</td>\n",
       "    </tr>\n",
       "    <tr>\n",
       "      <th>2</th>\n",
       "      <td>Charlie</td>\n",
       "      <td>35</td>\n",
       "    </tr>\n",
       "  </tbody>\n",
       "</table>\n",
       "</div>"
      ],
      "text/plain": [
       "      Name  Age\n",
       "0    Alice   25\n",
       "1      Bob   30\n",
       "2  Charlie   35"
      ]
     },
     "metadata": {},
     "output_type": "display_data"
    },
    {
     "data": {
      "text/plain": [
       "pandas.core.frame.DataFrame"
      ]
     },
     "metadata": {},
     "output_type": "display_data"
    }
   ],
   "source": [
    "import pandas as pd\n",
    "\n",
    "# Creating a DataFrame from a dictionary\n",
    "data = {'Name': ['Alice', 'Bob', 'Charlie'],\n",
    "        'Age': [25, 30, 35]}\n",
    "\n",
    "df_from_dict = pd.DataFrame(data)\n",
    "\n",
    "# Print the DataFrame\n",
    "print(\"DataFrame created from dictionary:\")\n",
    "display(df_from_dict)\n",
    "display(type(df_from_dict))\n",
    "\n"
   ]
  },
  {
   "cell_type": "markdown",
   "id": "acdccc1c-e1bc-4b76-854e-84c4551a488a",
   "metadata": {},
   "source": [
    "### Creating a DataFrame from a list of lists with custom column names\n"
   ]
  },
  {
   "cell_type": "code",
   "execution_count": 8,
   "id": "4449b851-05af-40eb-aaed-c5c518af8cb8",
   "metadata": {},
   "outputs": [
    {
     "name": "stdout",
     "output_type": "stream",
     "text": [
      "DataFrame created from list of lists with custom column names:\n"
     ]
    },
    {
     "data": {
      "text/html": [
       "<div>\n",
       "<style scoped>\n",
       "    .dataframe tbody tr th:only-of-type {\n",
       "        vertical-align: middle;\n",
       "    }\n",
       "\n",
       "    .dataframe tbody tr th {\n",
       "        vertical-align: top;\n",
       "    }\n",
       "\n",
       "    .dataframe thead th {\n",
       "        text-align: right;\n",
       "    }\n",
       "</style>\n",
       "<table border=\"1\" class=\"dataframe\">\n",
       "  <thead>\n",
       "    <tr style=\"text-align: right;\">\n",
       "      <th></th>\n",
       "      <th>Name</th>\n",
       "      <th>Age</th>\n",
       "    </tr>\n",
       "  </thead>\n",
       "  <tbody>\n",
       "    <tr>\n",
       "      <th>0</th>\n",
       "      <td>Alice</td>\n",
       "      <td>25</td>\n",
       "    </tr>\n",
       "    <tr>\n",
       "      <th>1</th>\n",
       "      <td>Bob</td>\n",
       "      <td>30</td>\n",
       "    </tr>\n",
       "    <tr>\n",
       "      <th>2</th>\n",
       "      <td>Charlie</td>\n",
       "      <td>35</td>\n",
       "    </tr>\n",
       "  </tbody>\n",
       "</table>\n",
       "</div>"
      ],
      "text/plain": [
       "      Name  Age\n",
       "0    Alice   25\n",
       "1      Bob   30\n",
       "2  Charlie   35"
      ]
     },
     "metadata": {},
     "output_type": "display_data"
    }
   ],
   "source": [
    "import pandas as pd\n",
    "\n",
    "# Creating a DataFrame from a list of lists with custom column names\n",
    "data_list = [['Alice', 25], \n",
    "             ['Bob', 30], \n",
    "             ['Charlie', 35]]\n",
    "df_from_list = pd.DataFrame(data_list, columns=['Name', 'Age'])\n",
    "\n",
    "# Print the DataFrame\n",
    "print(\"DataFrame created from list of lists with custom column names:\")\n",
    "display(df_from_list)\n"
   ]
  },
  {
   "cell_type": "markdown",
   "id": "a95e5722-170d-42a4-8b40-d9cb7fd5e1f7",
   "metadata": {},
   "source": [
    "### Creating a DataFrame from a CSV file\n"
   ]
  },
  {
   "cell_type": "code",
   "execution_count": 11,
   "id": "7573ba8a-a435-4551-8e59-73acb2156106",
   "metadata": {},
   "outputs": [
    {
     "name": "stdout",
     "output_type": "stream",
     "text": [
      "DataFrame created from CSV file:\n"
     ]
    },
    {
     "data": {
      "text/html": [
       "<div>\n",
       "<style scoped>\n",
       "    .dataframe tbody tr th:only-of-type {\n",
       "        vertical-align: middle;\n",
       "    }\n",
       "\n",
       "    .dataframe tbody tr th {\n",
       "        vertical-align: top;\n",
       "    }\n",
       "\n",
       "    .dataframe thead th {\n",
       "        text-align: right;\n",
       "    }\n",
       "</style>\n",
       "<table border=\"1\" class=\"dataframe\">\n",
       "  <thead>\n",
       "    <tr style=\"text-align: right;\">\n",
       "      <th></th>\n",
       "      <th>Index</th>\n",
       "      <th>Customer Id</th>\n",
       "      <th>First Name</th>\n",
       "      <th>Last Name</th>\n",
       "      <th>Company</th>\n",
       "      <th>City</th>\n",
       "      <th>Country</th>\n",
       "      <th>Phone 1</th>\n",
       "      <th>Phone 2</th>\n",
       "      <th>Email</th>\n",
       "      <th>Subscription Date</th>\n",
       "      <th>Website</th>\n",
       "    </tr>\n",
       "  </thead>\n",
       "  <tbody>\n",
       "    <tr>\n",
       "      <th>0</th>\n",
       "      <td>1</td>\n",
       "      <td>DD37Cf93aecA6Dc</td>\n",
       "      <td>Sheryl</td>\n",
       "      <td>Baxter</td>\n",
       "      <td>Rasmussen Group</td>\n",
       "      <td>East Leonard</td>\n",
       "      <td>Chile</td>\n",
       "      <td>229.077.5154</td>\n",
       "      <td>397.884.0519x718</td>\n",
       "      <td>zunigavanessa@smith.info</td>\n",
       "      <td>2020-08-24</td>\n",
       "      <td>http://www.stephenson.com/</td>\n",
       "    </tr>\n",
       "    <tr>\n",
       "      <th>1</th>\n",
       "      <td>2</td>\n",
       "      <td>1Ef7b82A4CAAD10</td>\n",
       "      <td>Preston</td>\n",
       "      <td>Lozano</td>\n",
       "      <td>Vega-Gentry</td>\n",
       "      <td>East Jimmychester</td>\n",
       "      <td>Djibouti</td>\n",
       "      <td>5153435776</td>\n",
       "      <td>686-620-1820x944</td>\n",
       "      <td>vmata@colon.com</td>\n",
       "      <td>2021-04-23</td>\n",
       "      <td>http://www.hobbs.com/</td>\n",
       "    </tr>\n",
       "    <tr>\n",
       "      <th>2</th>\n",
       "      <td>3</td>\n",
       "      <td>6F94879bDAfE5a6</td>\n",
       "      <td>Roy</td>\n",
       "      <td>Berry</td>\n",
       "      <td>Murillo-Perry</td>\n",
       "      <td>Isabelborough</td>\n",
       "      <td>Antigua and Barbuda</td>\n",
       "      <td>+1-539-402-0259</td>\n",
       "      <td>(496)978-3969x58947</td>\n",
       "      <td>beckycarr@hogan.com</td>\n",
       "      <td>2020-03-25</td>\n",
       "      <td>http://www.lawrence.com/</td>\n",
       "    </tr>\n",
       "    <tr>\n",
       "      <th>3</th>\n",
       "      <td>4</td>\n",
       "      <td>5Cef8BFA16c5e3c</td>\n",
       "      <td>Linda</td>\n",
       "      <td>Olsen</td>\n",
       "      <td>Dominguez, Mcmillan and Donovan</td>\n",
       "      <td>Bensonview</td>\n",
       "      <td>Dominican Republic</td>\n",
       "      <td>001-808-617-6467x12895</td>\n",
       "      <td>+1-813-324-8756</td>\n",
       "      <td>stanleyblackwell@benson.org</td>\n",
       "      <td>2020-06-02</td>\n",
       "      <td>http://www.good-lyons.com/</td>\n",
       "    </tr>\n",
       "    <tr>\n",
       "      <th>4</th>\n",
       "      <td>5</td>\n",
       "      <td>053d585Ab6b3159</td>\n",
       "      <td>Joanna</td>\n",
       "      <td>Bender</td>\n",
       "      <td>Martin, Lang and Andrade</td>\n",
       "      <td>West Priscilla</td>\n",
       "      <td>Slovakia (Slovak Republic)</td>\n",
       "      <td>001-234-203-0635x76146</td>\n",
       "      <td>001-199-446-3860x3486</td>\n",
       "      <td>colinalvarado@miles.net</td>\n",
       "      <td>2021-04-17</td>\n",
       "      <td>https://goodwin-ingram.com/</td>\n",
       "    </tr>\n",
       "    <tr>\n",
       "      <th>...</th>\n",
       "      <td>...</td>\n",
       "      <td>...</td>\n",
       "      <td>...</td>\n",
       "      <td>...</td>\n",
       "      <td>...</td>\n",
       "      <td>...</td>\n",
       "      <td>...</td>\n",
       "      <td>...</td>\n",
       "      <td>...</td>\n",
       "      <td>...</td>\n",
       "      <td>...</td>\n",
       "      <td>...</td>\n",
       "    </tr>\n",
       "    <tr>\n",
       "      <th>95</th>\n",
       "      <td>96</td>\n",
       "      <td>cb8E23e48d22Eae</td>\n",
       "      <td>Karl</td>\n",
       "      <td>Greer</td>\n",
       "      <td>Carey LLC</td>\n",
       "      <td>East Richard</td>\n",
       "      <td>Guyana</td>\n",
       "      <td>(188)169-1674x58692</td>\n",
       "      <td>001-841-293-3519x614</td>\n",
       "      <td>hhart@jensen.com</td>\n",
       "      <td>2022-01-30</td>\n",
       "      <td>http://hayes-perez.com/</td>\n",
       "    </tr>\n",
       "    <tr>\n",
       "      <th>96</th>\n",
       "      <td>97</td>\n",
       "      <td>CeD220bdAaCfaDf</td>\n",
       "      <td>Lynn</td>\n",
       "      <td>Atkinson</td>\n",
       "      <td>Ware, Burns and Oneal</td>\n",
       "      <td>New Bradview</td>\n",
       "      <td>Sri Lanka</td>\n",
       "      <td>+1-846-706-2218</td>\n",
       "      <td>605.413.3198</td>\n",
       "      <td>vkemp@ferrell.com</td>\n",
       "      <td>2021-07-10</td>\n",
       "      <td>https://novak-allison.com/</td>\n",
       "    </tr>\n",
       "    <tr>\n",
       "      <th>97</th>\n",
       "      <td>98</td>\n",
       "      <td>28CDbC0dFe4b1Db</td>\n",
       "      <td>Fred</td>\n",
       "      <td>Guerra</td>\n",
       "      <td>Schmitt-Jones</td>\n",
       "      <td>Ortegaland</td>\n",
       "      <td>Solomon Islands</td>\n",
       "      <td>+1-753-067-8419x7170</td>\n",
       "      <td>+1-632-666-7507x92121</td>\n",
       "      <td>swagner@kane.org</td>\n",
       "      <td>2021-09-18</td>\n",
       "      <td>https://www.ross.com/</td>\n",
       "    </tr>\n",
       "    <tr>\n",
       "      <th>98</th>\n",
       "      <td>99</td>\n",
       "      <td>c23d1D9EE8DEB0A</td>\n",
       "      <td>Yvonne</td>\n",
       "      <td>Farmer</td>\n",
       "      <td>Fitzgerald-Harrell</td>\n",
       "      <td>Lake Elijahview</td>\n",
       "      <td>Aruba</td>\n",
       "      <td>(530)311-9786</td>\n",
       "      <td>001-869-452-0943x12424</td>\n",
       "      <td>mccarthystephen@horn-green.biz</td>\n",
       "      <td>2021-08-11</td>\n",
       "      <td>http://watkins.info/</td>\n",
       "    </tr>\n",
       "    <tr>\n",
       "      <th>99</th>\n",
       "      <td>100</td>\n",
       "      <td>2354a0E336A91A1</td>\n",
       "      <td>Clarence</td>\n",
       "      <td>Haynes</td>\n",
       "      <td>Le, Nash and Cross</td>\n",
       "      <td>Judymouth</td>\n",
       "      <td>Honduras</td>\n",
       "      <td>(753)813-6941</td>\n",
       "      <td>783.639.1472</td>\n",
       "      <td>colleen91@faulkner.biz</td>\n",
       "      <td>2020-03-11</td>\n",
       "      <td>http://www.hatfield-saunders.net/</td>\n",
       "    </tr>\n",
       "  </tbody>\n",
       "</table>\n",
       "<p>100 rows × 12 columns</p>\n",
       "</div>"
      ],
      "text/plain": [
       "    Index      Customer Id First Name Last Name  \\\n",
       "0       1  DD37Cf93aecA6Dc     Sheryl    Baxter   \n",
       "1       2  1Ef7b82A4CAAD10    Preston    Lozano   \n",
       "2       3  6F94879bDAfE5a6        Roy     Berry   \n",
       "3       4  5Cef8BFA16c5e3c      Linda     Olsen   \n",
       "4       5  053d585Ab6b3159     Joanna    Bender   \n",
       "..    ...              ...        ...       ...   \n",
       "95     96  cb8E23e48d22Eae       Karl     Greer   \n",
       "96     97  CeD220bdAaCfaDf       Lynn  Atkinson   \n",
       "97     98  28CDbC0dFe4b1Db       Fred    Guerra   \n",
       "98     99  c23d1D9EE8DEB0A     Yvonne    Farmer   \n",
       "99    100  2354a0E336A91A1   Clarence    Haynes   \n",
       "\n",
       "                            Company               City  \\\n",
       "0                   Rasmussen Group       East Leonard   \n",
       "1                       Vega-Gentry  East Jimmychester   \n",
       "2                     Murillo-Perry      Isabelborough   \n",
       "3   Dominguez, Mcmillan and Donovan         Bensonview   \n",
       "4          Martin, Lang and Andrade     West Priscilla   \n",
       "..                              ...                ...   \n",
       "95                        Carey LLC       East Richard   \n",
       "96            Ware, Burns and Oneal       New Bradview   \n",
       "97                    Schmitt-Jones         Ortegaland   \n",
       "98               Fitzgerald-Harrell    Lake Elijahview   \n",
       "99               Le, Nash and Cross          Judymouth   \n",
       "\n",
       "                       Country                 Phone 1  \\\n",
       "0                        Chile            229.077.5154   \n",
       "1                     Djibouti              5153435776   \n",
       "2          Antigua and Barbuda         +1-539-402-0259   \n",
       "3           Dominican Republic  001-808-617-6467x12895   \n",
       "4   Slovakia (Slovak Republic)  001-234-203-0635x76146   \n",
       "..                         ...                     ...   \n",
       "95                      Guyana     (188)169-1674x58692   \n",
       "96                   Sri Lanka         +1-846-706-2218   \n",
       "97             Solomon Islands    +1-753-067-8419x7170   \n",
       "98                       Aruba           (530)311-9786   \n",
       "99                    Honduras           (753)813-6941   \n",
       "\n",
       "                   Phone 2                           Email Subscription Date  \\\n",
       "0         397.884.0519x718        zunigavanessa@smith.info        2020-08-24   \n",
       "1         686-620-1820x944                 vmata@colon.com        2021-04-23   \n",
       "2      (496)978-3969x58947             beckycarr@hogan.com        2020-03-25   \n",
       "3          +1-813-324-8756     stanleyblackwell@benson.org        2020-06-02   \n",
       "4    001-199-446-3860x3486         colinalvarado@miles.net        2021-04-17   \n",
       "..                     ...                             ...               ...   \n",
       "95    001-841-293-3519x614                hhart@jensen.com        2022-01-30   \n",
       "96            605.413.3198               vkemp@ferrell.com        2021-07-10   \n",
       "97   +1-632-666-7507x92121                swagner@kane.org        2021-09-18   \n",
       "98  001-869-452-0943x12424  mccarthystephen@horn-green.biz        2021-08-11   \n",
       "99            783.639.1472          colleen91@faulkner.biz        2020-03-11   \n",
       "\n",
       "                              Website  \n",
       "0          http://www.stephenson.com/  \n",
       "1               http://www.hobbs.com/  \n",
       "2            http://www.lawrence.com/  \n",
       "3          http://www.good-lyons.com/  \n",
       "4         https://goodwin-ingram.com/  \n",
       "..                                ...  \n",
       "95            http://hayes-perez.com/  \n",
       "96         https://novak-allison.com/  \n",
       "97              https://www.ross.com/  \n",
       "98               http://watkins.info/  \n",
       "99  http://www.hatfield-saunders.net/  \n",
       "\n",
       "[100 rows x 12 columns]"
      ]
     },
     "metadata": {},
     "output_type": "display_data"
    }
   ],
   "source": [
    "import pandas as pd\n",
    "\n",
    "# Creating a DataFrame from a CSV file\n",
    "df_from_csv = pd.read_csv('data.csv')\n",
    "\n",
    "# Print the DataFrame\n",
    "print(\"DataFrame created from CSV file:\")\n",
    "display(df_from_csv)\n"
   ]
  },
  {
   "cell_type": "markdown",
   "id": "0200eca6-0abc-4e5d-b33c-cb3dac16a59c",
   "metadata": {},
   "source": [
    "### Creating an empty DataFrame\n"
   ]
  },
  {
   "cell_type": "code",
   "execution_count": 13,
   "id": "12c7197e-ca16-470c-89ed-0c3f276609e6",
   "metadata": {},
   "outputs": [
    {
     "name": "stdout",
     "output_type": "stream",
     "text": [
      "Empty DataFrame\n",
      "Columns: []\n",
      "Index: []\n"
     ]
    }
   ],
   "source": [
    "import pandas as pd\n",
    "\n",
    "# Creating an empty DataFrame\n",
    "empty_df = pd.DataFrame()\n",
    "\n",
    "# Print the empty DataFrame\n",
    "print(empty_df)\n"
   ]
  },
  {
   "cell_type": "markdown",
   "id": "3ccc6145-5503-43b6-b292-e01a2e1374cc",
   "metadata": {},
   "source": [
    "# Indexing a Pandas DataFrame"
   ]
  },
  {
   "cell_type": "markdown",
   "id": "09671603-6e97-4d1e-93cd-0a8d1b34b604",
   "metadata": {},
   "source": [
    "### DataFrames allow for various methods of indexing, including selecting columns, filtering rows, and more.\n"
   ]
  },
  {
   "cell_type": "markdown",
   "id": "a3a5b96a-e9c4-47de-8362-1fc0fab123a7",
   "metadata": {},
   "source": [
    "### Selecting a single column\n"
   ]
  },
  {
   "cell_type": "code",
   "execution_count": 15,
   "id": "a48cbf0d-0ece-4fed-8b62-a4245528121a",
   "metadata": {},
   "outputs": [
    {
     "name": "stdout",
     "output_type": "stream",
     "text": [
      "Index(['Index', 'Customer Id', 'First Name', 'Last Name', 'Company', 'City',\n",
      "       'Country', 'Phone 1', 'Phone 2', 'Email', 'Subscription Date',\n",
      "       'Website'],\n",
      "      dtype='object')\n",
      "0       1\n",
      "1       2\n",
      "2       3\n",
      "3       4\n",
      "4       5\n",
      "     ... \n",
      "95     96\n",
      "96     97\n",
      "97     98\n",
      "98     99\n",
      "99    100\n",
      "Name: Index, Length: 100, dtype: int64\n"
     ]
    }
   ],
   "source": [
    "print(df_from_csv.columns)\n",
    "\n",
    "# Selecting a single column\n",
    "name_column = df_from_csv['Index']\n",
    "print(name_column)\n"
   ]
  },
  {
   "cell_type": "markdown",
   "id": "430b01b8-48bc-4c14-a215-369b7b976b43",
   "metadata": {},
   "source": [
    "###  Selecting multiple columns\n"
   ]
  },
  {
   "cell_type": "code",
   "execution_count": 17,
   "id": "0ec6e34c-0ec0-4216-81d9-2d58e213704f",
   "metadata": {},
   "outputs": [
    {
     "name": "stdout",
     "output_type": "stream",
     "text": [
      "    Index  Index\n",
      "0       1      1\n",
      "1       2      2\n",
      "2       3      3\n",
      "3       4      4\n",
      "4       5      5\n",
      "..    ...    ...\n",
      "95     96     96\n",
      "96     97     97\n",
      "97     98     98\n",
      "98     99     99\n",
      "99    100    100\n",
      "\n",
      "[100 rows x 2 columns]\n"
     ]
    }
   ],
   "source": [
    "# Selecting multiple columns\n",
    "subset = df_from_csv[['Index', 'Index']]\n",
    "print(subset)\n"
   ]
  },
  {
   "cell_type": "markdown",
   "id": "54815ac7-8e18-41e0-90a1-b3deb29cfab3",
   "metadata": {},
   "source": [
    "### Filtering Rows based on a condition"
   ]
  },
  {
   "cell_type": "code",
   "execution_count": 20,
   "id": "6f287cef-c70d-46e6-bbb0-73bc727adceb",
   "metadata": {},
   "outputs": [
    {
     "data": {
      "text/html": [
       "<div>\n",
       "<style scoped>\n",
       "    .dataframe tbody tr th:only-of-type {\n",
       "        vertical-align: middle;\n",
       "    }\n",
       "\n",
       "    .dataframe tbody tr th {\n",
       "        vertical-align: top;\n",
       "    }\n",
       "\n",
       "    .dataframe thead th {\n",
       "        text-align: right;\n",
       "    }\n",
       "</style>\n",
       "<table border=\"1\" class=\"dataframe\">\n",
       "  <thead>\n",
       "    <tr style=\"text-align: right;\">\n",
       "      <th></th>\n",
       "      <th>Index</th>\n",
       "      <th>Customer Id</th>\n",
       "      <th>First Name</th>\n",
       "      <th>Last Name</th>\n",
       "      <th>Company</th>\n",
       "      <th>City</th>\n",
       "      <th>Country</th>\n",
       "      <th>Phone 1</th>\n",
       "      <th>Phone 2</th>\n",
       "      <th>Email</th>\n",
       "      <th>Subscription Date</th>\n",
       "      <th>Website</th>\n",
       "    </tr>\n",
       "  </thead>\n",
       "  <tbody>\n",
       "    <tr>\n",
       "      <th>2</th>\n",
       "      <td>3</td>\n",
       "      <td>6F94879bDAfE5a6</td>\n",
       "      <td>Roy</td>\n",
       "      <td>Berry</td>\n",
       "      <td>Murillo-Perry</td>\n",
       "      <td>Isabelborough</td>\n",
       "      <td>Antigua and Barbuda</td>\n",
       "      <td>+1-539-402-0259</td>\n",
       "      <td>(496)978-3969x58947</td>\n",
       "      <td>beckycarr@hogan.com</td>\n",
       "      <td>2020-03-25</td>\n",
       "      <td>http://www.lawrence.com/</td>\n",
       "    </tr>\n",
       "  </tbody>\n",
       "</table>\n",
       "</div>"
      ],
      "text/plain": [
       "   Index      Customer Id First Name Last Name        Company           City  \\\n",
       "2      3  6F94879bDAfE5a6        Roy     Berry  Murillo-Perry  Isabelborough   \n",
       "\n",
       "               Country          Phone 1              Phone 2  \\\n",
       "2  Antigua and Barbuda  +1-539-402-0259  (496)978-3969x58947   \n",
       "\n",
       "                 Email Subscription Date                   Website  \n",
       "2  beckycarr@hogan.com        2020-03-25  http://www.lawrence.com/  "
      ]
     },
     "metadata": {},
     "output_type": "display_data"
    }
   ],
   "source": [
    "# Filtering rows based on a condition\n",
    "young_people = df_from_csv[df_from_csv['Last Name'] == 'Berry']\n",
    "display(young_people)\n"
   ]
  },
  {
   "cell_type": "markdown",
   "id": "50538b89-9dd6-437d-a837-02c7a69ae1f1",
   "metadata": {},
   "source": [
    "### Accessing a specific cell by row and column label\n"
   ]
  },
  {
   "cell_type": "code",
   "execution_count": 22,
   "id": "759d8076-e2c8-4410-af62-6adaf86466f7",
   "metadata": {},
   "outputs": [
    {
     "name": "stdout",
     "output_type": "stream",
     "text": [
      "Value at cell (row 0, column 'Name'): Le, Nash and Cross\n"
     ]
    }
   ],
   "source": [
    "# Accessing a specific cell by row and column label\n",
    "cell_value = df_from_csv.at[99, 'Company']\n",
    "print(\"Value at cell (row 0, column 'Name'):\", cell_value)\n",
    "\n"
   ]
  },
  {
   "cell_type": "markdown",
   "id": "1f4bf0e0-5d7f-4e01-907d-896af12b656b",
   "metadata": {},
   "source": [
    "# Loading Data from files\n"
   ]
  },
  {
   "cell_type": "markdown",
   "id": "7731cd56-c36a-477e-9b1f-8eca7389da31",
   "metadata": {},
   "source": [
    "### SQL Databases - You can connect to SQL databases and retrieve data using Pandas.\n"
   ]
  },
  {
   "cell_type": "code",
   "execution_count": 73,
   "id": "05618a44-98f7-4ecc-9f1b-22b2f585c445",
   "metadata": {},
   "outputs": [],
   "source": [
    "from sqlalchemy import create_engine"
   ]
  },
  {
   "cell_type": "code",
   "execution_count": 74,
   "id": "9179d615-aa9d-4dc5-890a-77ea5cc0eced",
   "metadata": {},
   "outputs": [],
   "source": [
    "# Create a database connection\n",
    "engine = create_engine('sqlite:///database.db')"
   ]
  },
  {
   "cell_type": "code",
   "execution_count": 75,
   "id": "a42f09f6-7a27-40e7-9e2d-286035b0b742",
   "metadata": {},
   "outputs": [],
   "source": [
    "data_from_sql = pd.read_sql_query('SELECT * FROM tracks', engine)"
   ]
  },
  {
   "cell_type": "code",
   "execution_count": 76,
   "id": "5ee0eb59-6e05-4e8c-9fbd-2bc32ce8a14f",
   "metadata": {},
   "outputs": [
    {
     "data": {
      "text/html": [
       "<div>\n",
       "<style scoped>\n",
       "    .dataframe tbody tr th:only-of-type {\n",
       "        vertical-align: middle;\n",
       "    }\n",
       "\n",
       "    .dataframe tbody tr th {\n",
       "        vertical-align: top;\n",
       "    }\n",
       "\n",
       "    .dataframe thead th {\n",
       "        text-align: right;\n",
       "    }\n",
       "</style>\n",
       "<table border=\"1\" class=\"dataframe\">\n",
       "  <thead>\n",
       "    <tr style=\"text-align: right;\">\n",
       "      <th></th>\n",
       "      <th>TrackId</th>\n",
       "      <th>Name</th>\n",
       "      <th>AlbumId</th>\n",
       "      <th>MediaTypeId</th>\n",
       "      <th>GenreId</th>\n",
       "      <th>Composer</th>\n",
       "      <th>Milliseconds</th>\n",
       "      <th>Bytes</th>\n",
       "      <th>UnitPrice</th>\n",
       "    </tr>\n",
       "  </thead>\n",
       "  <tbody>\n",
       "    <tr>\n",
       "      <th>0</th>\n",
       "      <td>1</td>\n",
       "      <td>For Those About To Rock (We Salute You)</td>\n",
       "      <td>1</td>\n",
       "      <td>1</td>\n",
       "      <td>1</td>\n",
       "      <td>Angus Young, Malcolm Young, Brian Johnson</td>\n",
       "      <td>343719</td>\n",
       "      <td>11170334</td>\n",
       "      <td>0.99</td>\n",
       "    </tr>\n",
       "    <tr>\n",
       "      <th>1</th>\n",
       "      <td>2</td>\n",
       "      <td>Balls to the Wall</td>\n",
       "      <td>2</td>\n",
       "      <td>2</td>\n",
       "      <td>1</td>\n",
       "      <td>None</td>\n",
       "      <td>342562</td>\n",
       "      <td>5510424</td>\n",
       "      <td>0.99</td>\n",
       "    </tr>\n",
       "    <tr>\n",
       "      <th>2</th>\n",
       "      <td>3</td>\n",
       "      <td>Fast As a Shark</td>\n",
       "      <td>3</td>\n",
       "      <td>2</td>\n",
       "      <td>1</td>\n",
       "      <td>F. Baltes, S. Kaufman, U. Dirkscneider &amp; W. Ho...</td>\n",
       "      <td>230619</td>\n",
       "      <td>3990994</td>\n",
       "      <td>0.99</td>\n",
       "    </tr>\n",
       "    <tr>\n",
       "      <th>3</th>\n",
       "      <td>4</td>\n",
       "      <td>Restless and Wild</td>\n",
       "      <td>3</td>\n",
       "      <td>2</td>\n",
       "      <td>1</td>\n",
       "      <td>F. Baltes, R.A. Smith-Diesel, S. Kaufman, U. D...</td>\n",
       "      <td>252051</td>\n",
       "      <td>4331779</td>\n",
       "      <td>0.99</td>\n",
       "    </tr>\n",
       "    <tr>\n",
       "      <th>4</th>\n",
       "      <td>5</td>\n",
       "      <td>Princess of the Dawn</td>\n",
       "      <td>3</td>\n",
       "      <td>2</td>\n",
       "      <td>1</td>\n",
       "      <td>Deaffy &amp; R.A. Smith-Diesel</td>\n",
       "      <td>375418</td>\n",
       "      <td>6290521</td>\n",
       "      <td>0.99</td>\n",
       "    </tr>\n",
       "    <tr>\n",
       "      <th>...</th>\n",
       "      <td>...</td>\n",
       "      <td>...</td>\n",
       "      <td>...</td>\n",
       "      <td>...</td>\n",
       "      <td>...</td>\n",
       "      <td>...</td>\n",
       "      <td>...</td>\n",
       "      <td>...</td>\n",
       "      <td>...</td>\n",
       "    </tr>\n",
       "    <tr>\n",
       "      <th>3498</th>\n",
       "      <td>3499</td>\n",
       "      <td>Pini Di Roma (Pinien Von Rom) \\ I Pini Della V...</td>\n",
       "      <td>343</td>\n",
       "      <td>2</td>\n",
       "      <td>24</td>\n",
       "      <td>None</td>\n",
       "      <td>286741</td>\n",
       "      <td>4718950</td>\n",
       "      <td>0.99</td>\n",
       "    </tr>\n",
       "    <tr>\n",
       "      <th>3499</th>\n",
       "      <td>3500</td>\n",
       "      <td>String Quartet No. 12 in C Minor, D. 703 \"Quar...</td>\n",
       "      <td>344</td>\n",
       "      <td>2</td>\n",
       "      <td>24</td>\n",
       "      <td>Franz Schubert</td>\n",
       "      <td>139200</td>\n",
       "      <td>2283131</td>\n",
       "      <td>0.99</td>\n",
       "    </tr>\n",
       "    <tr>\n",
       "      <th>3500</th>\n",
       "      <td>3501</td>\n",
       "      <td>L'orfeo, Act 3, Sinfonia (Orchestra)</td>\n",
       "      <td>345</td>\n",
       "      <td>2</td>\n",
       "      <td>24</td>\n",
       "      <td>Claudio Monteverdi</td>\n",
       "      <td>66639</td>\n",
       "      <td>1189062</td>\n",
       "      <td>0.99</td>\n",
       "    </tr>\n",
       "    <tr>\n",
       "      <th>3501</th>\n",
       "      <td>3502</td>\n",
       "      <td>Quintet for Horn, Violin, 2 Violas, and Cello ...</td>\n",
       "      <td>346</td>\n",
       "      <td>2</td>\n",
       "      <td>24</td>\n",
       "      <td>Wolfgang Amadeus Mozart</td>\n",
       "      <td>221331</td>\n",
       "      <td>3665114</td>\n",
       "      <td>0.99</td>\n",
       "    </tr>\n",
       "    <tr>\n",
       "      <th>3502</th>\n",
       "      <td>3503</td>\n",
       "      <td>Koyaanisqatsi</td>\n",
       "      <td>347</td>\n",
       "      <td>2</td>\n",
       "      <td>10</td>\n",
       "      <td>Philip Glass</td>\n",
       "      <td>206005</td>\n",
       "      <td>3305164</td>\n",
       "      <td>0.99</td>\n",
       "    </tr>\n",
       "  </tbody>\n",
       "</table>\n",
       "<p>3503 rows × 9 columns</p>\n",
       "</div>"
      ],
      "text/plain": [
       "      TrackId                                               Name  AlbumId  \\\n",
       "0           1            For Those About To Rock (We Salute You)        1   \n",
       "1           2                                  Balls to the Wall        2   \n",
       "2           3                                    Fast As a Shark        3   \n",
       "3           4                                  Restless and Wild        3   \n",
       "4           5                               Princess of the Dawn        3   \n",
       "...       ...                                                ...      ...   \n",
       "3498     3499  Pini Di Roma (Pinien Von Rom) \\ I Pini Della V...      343   \n",
       "3499     3500  String Quartet No. 12 in C Minor, D. 703 \"Quar...      344   \n",
       "3500     3501               L'orfeo, Act 3, Sinfonia (Orchestra)      345   \n",
       "3501     3502  Quintet for Horn, Violin, 2 Violas, and Cello ...      346   \n",
       "3502     3503                                      Koyaanisqatsi      347   \n",
       "\n",
       "      MediaTypeId  GenreId                                           Composer  \\\n",
       "0               1        1          Angus Young, Malcolm Young, Brian Johnson   \n",
       "1               2        1                                               None   \n",
       "2               2        1  F. Baltes, S. Kaufman, U. Dirkscneider & W. Ho...   \n",
       "3               2        1  F. Baltes, R.A. Smith-Diesel, S. Kaufman, U. D...   \n",
       "4               2        1                         Deaffy & R.A. Smith-Diesel   \n",
       "...           ...      ...                                                ...   \n",
       "3498            2       24                                               None   \n",
       "3499            2       24                                     Franz Schubert   \n",
       "3500            2       24                                 Claudio Monteverdi   \n",
       "3501            2       24                            Wolfgang Amadeus Mozart   \n",
       "3502            2       10                                       Philip Glass   \n",
       "\n",
       "      Milliseconds     Bytes  UnitPrice  \n",
       "0           343719  11170334       0.99  \n",
       "1           342562   5510424       0.99  \n",
       "2           230619   3990994       0.99  \n",
       "3           252051   4331779       0.99  \n",
       "4           375418   6290521       0.99  \n",
       "...            ...       ...        ...  \n",
       "3498        286741   4718950       0.99  \n",
       "3499        139200   2283131       0.99  \n",
       "3500         66639   1189062       0.99  \n",
       "3501        221331   3665114       0.99  \n",
       "3502        206005   3305164       0.99  \n",
       "\n",
       "[3503 rows x 9 columns]"
      ]
     },
     "execution_count": 76,
     "metadata": {},
     "output_type": "execute_result"
    }
   ],
   "source": [
    "data_from_sql"
   ]
  },
  {
   "cell_type": "markdown",
   "id": "8e46f221-0cd5-44cc-8a66-e91c134b8462",
   "metadata": {},
   "source": [
    "### Jason Files - JSON (JavaScript Object Notation) files are commonly used for semi-structured data."
   ]
  },
  {
   "cell_type": "code",
   "execution_count": 5,
   "id": "3f0081b2-2894-4abb-a3a3-a03722b9acaa",
   "metadata": {},
   "outputs": [
    {
     "name": "stdout",
     "output_type": "stream",
     "text": [
      "DataFrame created from JSON file:\n"
     ]
    },
    {
     "data": {
      "text/html": [
       "<div>\n",
       "<style scoped>\n",
       "    .dataframe tbody tr th:only-of-type {\n",
       "        vertical-align: middle;\n",
       "    }\n",
       "\n",
       "    .dataframe tbody tr th {\n",
       "        vertical-align: top;\n",
       "    }\n",
       "\n",
       "    .dataframe thead th {\n",
       "        text-align: right;\n",
       "    }\n",
       "</style>\n",
       "<table border=\"1\" class=\"dataframe\">\n",
       "  <thead>\n",
       "    <tr style=\"text-align: right;\">\n",
       "      <th></th>\n",
       "      <th>name</th>\n",
       "      <th>language</th>\n",
       "      <th>id</th>\n",
       "      <th>bio</th>\n",
       "      <th>version</th>\n",
       "    </tr>\n",
       "  </thead>\n",
       "  <tbody>\n",
       "    <tr>\n",
       "      <th>0</th>\n",
       "      <td>Adeel Solangi</td>\n",
       "      <td>Sindhi</td>\n",
       "      <td>V59OF92YF627HFY0</td>\n",
       "      <td>Donec lobortis eleifend condimentum. Cras dict...</td>\n",
       "      <td>6.10</td>\n",
       "    </tr>\n",
       "    <tr>\n",
       "      <th>1</th>\n",
       "      <td>Afzal Ghaffar</td>\n",
       "      <td>Sindhi</td>\n",
       "      <td>ENTOCR13RSCLZ6KU</td>\n",
       "      <td>Aliquam sollicitudin ante ligula, eget malesua...</td>\n",
       "      <td>1.88</td>\n",
       "    </tr>\n",
       "    <tr>\n",
       "      <th>2</th>\n",
       "      <td>Aamir Solangi</td>\n",
       "      <td>Sindhi</td>\n",
       "      <td>IAKPO3R4761JDRVG</td>\n",
       "      <td>Vestibulum pharetra libero et velit gravida eu...</td>\n",
       "      <td>7.27</td>\n",
       "    </tr>\n",
       "    <tr>\n",
       "      <th>3</th>\n",
       "      <td>Abla Dilmurat</td>\n",
       "      <td>Uyghur</td>\n",
       "      <td>5ZVOEPMJUI4MB4EN</td>\n",
       "      <td>Donec lobortis eleifend condimentum. Morbi ac ...</td>\n",
       "      <td>2.53</td>\n",
       "    </tr>\n",
       "    <tr>\n",
       "      <th>4</th>\n",
       "      <td>Adil Eli</td>\n",
       "      <td>Uyghur</td>\n",
       "      <td>6VTI8X6LL0MMPJCC</td>\n",
       "      <td>Vivamus id faucibus velit, id posuere leo. Mor...</td>\n",
       "      <td>6.49</td>\n",
       "    </tr>\n",
       "    <tr>\n",
       "      <th>...</th>\n",
       "      <td>...</td>\n",
       "      <td>...</td>\n",
       "      <td>...</td>\n",
       "      <td>...</td>\n",
       "      <td>...</td>\n",
       "    </tr>\n",
       "    <tr>\n",
       "      <th>15835</th>\n",
       "      <td>Bhupesh Menon</td>\n",
       "      <td>Hindi</td>\n",
       "      <td>0CEPNRDV98KT3ORP</td>\n",
       "      <td>Maecenas tempus neque ut porttitor malesuada. ...</td>\n",
       "      <td>2.69</td>\n",
       "    </tr>\n",
       "    <tr>\n",
       "      <th>15836</th>\n",
       "      <td>Rohini Vasav</td>\n",
       "      <td>Hindi</td>\n",
       "      <td>UEFML43TCGS04KWM</td>\n",
       "      <td>Ut accumsan, est vel fringilla varius, purus a...</td>\n",
       "      <td>9.30</td>\n",
       "    </tr>\n",
       "    <tr>\n",
       "      <th>15837</th>\n",
       "      <td>Sunil Kapoor</td>\n",
       "      <td>Hindi</td>\n",
       "      <td>VY2A0APGVHK5NAW2</td>\n",
       "      <td>Proin tempus eu risus nec mattis. Ut dictum, l...</td>\n",
       "      <td>8.04</td>\n",
       "    </tr>\n",
       "    <tr>\n",
       "      <th>15838</th>\n",
       "      <td>Zamokuhle Zulu</td>\n",
       "      <td>isiZulu</td>\n",
       "      <td>XU7BX2F8M5PVZ1EF</td>\n",
       "      <td>Etiam congue dignissim volutpat. Phasellus tin...</td>\n",
       "      <td>8.39</td>\n",
       "    </tr>\n",
       "    <tr>\n",
       "      <th>15839</th>\n",
       "      <td>Bhupesh Menon</td>\n",
       "      <td>Hindi</td>\n",
       "      <td>0CEPNRDV98KT3ORP</td>\n",
       "      <td>Maecenas tempus neque ut porttitor malesuada. ...</td>\n",
       "      <td>2.69</td>\n",
       "    </tr>\n",
       "  </tbody>\n",
       "</table>\n",
       "<p>15840 rows × 5 columns</p>\n",
       "</div>"
      ],
      "text/plain": [
       "                 name language                id  \\\n",
       "0       Adeel Solangi   Sindhi  V59OF92YF627HFY0   \n",
       "1       Afzal Ghaffar   Sindhi  ENTOCR13RSCLZ6KU   \n",
       "2       Aamir Solangi   Sindhi  IAKPO3R4761JDRVG   \n",
       "3       Abla Dilmurat   Uyghur  5ZVOEPMJUI4MB4EN   \n",
       "4            Adil Eli   Uyghur  6VTI8X6LL0MMPJCC   \n",
       "...               ...      ...               ...   \n",
       "15835   Bhupesh Menon    Hindi  0CEPNRDV98KT3ORP   \n",
       "15836    Rohini Vasav    Hindi  UEFML43TCGS04KWM   \n",
       "15837    Sunil Kapoor    Hindi  VY2A0APGVHK5NAW2   \n",
       "15838  Zamokuhle Zulu  isiZulu  XU7BX2F8M5PVZ1EF   \n",
       "15839   Bhupesh Menon    Hindi  0CEPNRDV98KT3ORP   \n",
       "\n",
       "                                                     bio  version  \n",
       "0      Donec lobortis eleifend condimentum. Cras dict...     6.10  \n",
       "1      Aliquam sollicitudin ante ligula, eget malesua...     1.88  \n",
       "2      Vestibulum pharetra libero et velit gravida eu...     7.27  \n",
       "3      Donec lobortis eleifend condimentum. Morbi ac ...     2.53  \n",
       "4      Vivamus id faucibus velit, id posuere leo. Mor...     6.49  \n",
       "...                                                  ...      ...  \n",
       "15835  Maecenas tempus neque ut porttitor malesuada. ...     2.69  \n",
       "15836  Ut accumsan, est vel fringilla varius, purus a...     9.30  \n",
       "15837  Proin tempus eu risus nec mattis. Ut dictum, l...     8.04  \n",
       "15838  Etiam congue dignissim volutpat. Phasellus tin...     8.39  \n",
       "15839  Maecenas tempus neque ut porttitor malesuada. ...     2.69  \n",
       "\n",
       "[15840 rows x 5 columns]"
      ]
     },
     "execution_count": 5,
     "metadata": {},
     "output_type": "execute_result"
    }
   ],
   "source": [
    "import pandas as pd\n",
    "\n",
    "# Reading data from a JSON file with specified encoding\n",
    "data_from_json = pd.read_json('data.json')\n",
    "\n",
    "# Print the DataFrame\n",
    "print(\"DataFrame created from JSON file:\")\n",
    "data_from_json"
   ]
  },
  {
   "cell_type": "markdown",
   "id": "a2a228f6-ae5d-4c8b-bed2-1693bff661fd",
   "metadata": {},
   "source": [
    "### HTML/Web Scraping: You can aslo Scrape data from HTML tables on webpages"
   ]
  },
  {
   "cell_type": "code",
   "execution_count": 13,
   "id": "aa83d560-cf3d-4c9a-a087-bc557720446e",
   "metadata": {},
   "outputs": [
    {
     "name": "stdout",
     "output_type": "stream",
     "text": [
      "Data scraped from HTML table:\n"
     ]
    },
    {
     "data": {
      "text/html": [
       "<div>\n",
       "<style scoped>\n",
       "    .dataframe tbody tr th:only-of-type {\n",
       "        vertical-align: middle;\n",
       "    }\n",
       "\n",
       "    .dataframe tbody tr th {\n",
       "        vertical-align: top;\n",
       "    }\n",
       "\n",
       "    .dataframe thead th {\n",
       "        text-align: right;\n",
       "    }\n",
       "</style>\n",
       "<table border=\"1\" class=\"dataframe\">\n",
       "  <thead>\n",
       "    <tr style=\"text-align: right;\">\n",
       "      <th></th>\n",
       "      <th>Company</th>\n",
       "      <th>Contact</th>\n",
       "      <th>Country</th>\n",
       "    </tr>\n",
       "  </thead>\n",
       "  <tbody>\n",
       "    <tr>\n",
       "      <th>0</th>\n",
       "      <td>Alfreds Futterkiste</td>\n",
       "      <td>Maria Anders</td>\n",
       "      <td>Germany</td>\n",
       "    </tr>\n",
       "    <tr>\n",
       "      <th>1</th>\n",
       "      <td>Centro comercial Moctezuma</td>\n",
       "      <td>Francisco Chang</td>\n",
       "      <td>Mexico</td>\n",
       "    </tr>\n",
       "    <tr>\n",
       "      <th>2</th>\n",
       "      <td>Ernst Handel</td>\n",
       "      <td>Roland Mendel</td>\n",
       "      <td>Austria</td>\n",
       "    </tr>\n",
       "    <tr>\n",
       "      <th>3</th>\n",
       "      <td>Island Trading</td>\n",
       "      <td>Helen Bennett</td>\n",
       "      <td>UK</td>\n",
       "    </tr>\n",
       "    <tr>\n",
       "      <th>4</th>\n",
       "      <td>Laughing Bacchus Winecellars</td>\n",
       "      <td>Yoshi Tannamuri</td>\n",
       "      <td>Canada</td>\n",
       "    </tr>\n",
       "    <tr>\n",
       "      <th>5</th>\n",
       "      <td>Magazzini Alimentari Riuniti</td>\n",
       "      <td>Giovanni Rovelli</td>\n",
       "      <td>Italy</td>\n",
       "    </tr>\n",
       "  </tbody>\n",
       "</table>\n",
       "</div>"
      ],
      "text/plain": [
       "                        Company           Contact  Country\n",
       "0           Alfreds Futterkiste      Maria Anders  Germany\n",
       "1    Centro comercial Moctezuma   Francisco Chang   Mexico\n",
       "2                  Ernst Handel     Roland Mendel  Austria\n",
       "3                Island Trading     Helen Bennett       UK\n",
       "4  Laughing Bacchus Winecellars   Yoshi Tannamuri   Canada\n",
       "5  Magazzini Alimentari Riuniti  Giovanni Rovelli    Italy"
      ]
     },
     "execution_count": 13,
     "metadata": {},
     "output_type": "execute_result"
    }
   ],
   "source": [
    "import pandas as pd\n",
    "\n",
    "# Reading tables from a webpage\n",
    "data_from_html = pd.read_html('https://www.w3schools.com/html/html_tables.asp')[0]  # Adjust index as needed\n",
    "print(\"Data scraped from HTML table:\")\n",
    "data_from_html\n"
   ]
  },
  {
   "cell_type": "code",
   "execution_count": null,
   "id": "a47e7a49-97a7-4acb-b8f3-b6963508792f",
   "metadata": {},
   "outputs": [],
   "source": []
  }
 ],
 "metadata": {
  "kernelspec": {
   "display_name": "Python 3",
   "language": "python",
   "name": "python3"
  },
  "language_info": {
   "codemirror_mode": {
    "name": "ipython",
    "version": 3
   },
   "file_extension": ".py",
   "mimetype": "text/x-python",
   "name": "python",
   "nbconvert_exporter": "python",
   "pygments_lexer": "ipython3",
   "version": "3.12.3"
  }
 },
 "nbformat": 4,
 "nbformat_minor": 5
}
