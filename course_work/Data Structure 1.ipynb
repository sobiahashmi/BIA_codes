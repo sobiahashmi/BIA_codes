{
 "cells": [
  {
   "cell_type": "markdown",
   "id": "5ab8fa76",
   "metadata": {},
   "source": [
    "<div style=\"color:white;display:fill;border-radius:8px;font-size:200%; letter-spacing:1.0px;\"><p style=\"padding: 5px;color:white;text-align:left;\"><b><span style='color:#fc6603'>Social Media Profiles</span></b></p></div>\n",
    "\n",
    "<div style=\"text-align: left;\">\n",
    "    <table>\n",
    "        <tr>\n",
    "            <td><a href=\"https://www.linkedin.com/in/sobia-alamgir-a027b939/\"><img src=\"https://img.shields.io/badge/LinkedIn-Profile-blue?style=for-the-badge&logo=linkedin\" alt=\"LinkedIn\"/></a></td>\n",
    "            <td><a href=\"mailto:sobia.hashmi454@gmail.com\"><img src=\"https://img.shields.io/badge/Gmail-Profile-red?style=for-the-badge&logo=gmail\" alt=\"Gmail\"/></a></td>\n",
    "        </tr>\n",
    "        <tr>\n",
    "            <td><a href=\"https://github.com/sobiahashmi\"><img src=\"https://img.shields.io/badge/GitHub-Profile-green?style=for-the-badge&logo=github\" alt=\"GitHub\"/></a></td>\n",
    "            <td><a href=\"https://x.com/sobiahashmi9\"><img src=\"https://img.shields.io/badge/Twitter-Profile-blue?style=for-the-badge&logo=twitter\" alt=\"Twitter\"/></a></td>\n",
    "        </tr>\n",
    "        <tr>\n",
    "            <td><a href=\"https://www.kaggle.com/sobiahashmi\"><img src=\"https://img.shields.io/badge/Kaggle-Profile-orange?style=for-the-badge&logo=kaggle\" alt=\"Kaggle\"/></a></td>\n",
    "\n",
    "       \n",
    "</div>"
   ]
  },
  {
   "cell_type": "markdown",
   "id": "eb676cc2",
   "metadata": {},
   "source": [
    "\n",
    "\n",
    "<a id=\"13\"></a>\n",
    "<h1 style=\"background-color:#435420;font-family:newtimeroman;font-size:300%;text-align:center;border-radius: 15px 50px;color:#FF9900;\">Lists, Tuples, Sets, Dictionaries</h1>\n",
    "<figcaption style=\"text-align: center;\">\n",
    "    <strong>\n",
    "    </strong>\n",
    "</figcaption>"
   ]
  },
  {
   "cell_type": "markdown",
   "id": "73c7285a-2f74-4612-9ac9-4faf1139655f",
   "metadata": {},
   "source": [
    "## Lists, Tuples, Sets, Dictionaries: Built-in data structures in Python for various purposes.\n"
   ]
  },
  {
   "cell_type": "markdown",
   "id": "75277dbf-c58d-4eb3-b3ee-8f6a83980cff",
   "metadata": {},
   "source": [
    "### Lists are ordered, mutable collections in Python that can contain elements of different data types\n",
    " - Mutable, meaning you can modify, add, or remove elements after creation.\n",
    " - Syntax: Defined using square brackets []."
   ]
  },
  {
   "cell_type": "markdown",
   "id": "d9979639-44eb-4550-a4d2-89363b9b65bf",
   "metadata": {},
   "source": [
    "### Creating List"
   ]
  },
  {
   "cell_type": "code",
   "execution_count": 1,
   "id": "20ba243b-2122-41a5-b86e-ccc438778be2",
   "metadata": {},
   "outputs": [
    {
     "name": "stdout",
     "output_type": "stream",
     "text": [
      "[1, 2, 3, 4, 5]\n"
     ]
    }
   ],
   "source": [
    "# Creating a list of numbers\n",
    "numbers = [1, 2, 3, 4, 5]\n",
    "\n",
    "# Printing the list\n",
    "print(numbers)\n"
   ]
  },
  {
   "cell_type": "markdown",
   "id": "0de13c1f-60b0-4342-8c07-4e2798a22f4c",
   "metadata": {},
   "source": [
    "### Creating a emty list"
   ]
  },
  {
   "cell_type": "code",
   "execution_count": 11,
   "id": "84cc2535-8b38-4193-871c-2f0e53d9f74d",
   "metadata": {},
   "outputs": [
    {
     "name": "stdout",
     "output_type": "stream",
     "text": [
      "empty_list: []\n"
     ]
    }
   ],
   "source": [
    "empty_list = []\n",
    "print(\"empty_list:\", empty_list)\n"
   ]
  },
  {
   "cell_type": "markdown",
   "id": "778540de-c097-4359-aee1-d267570eb17d",
   "metadata": {},
   "source": [
    "### Creating a List with Elements\n"
   ]
  },
  {
   "cell_type": "code",
   "execution_count": 25,
   "id": "7e74bd8a-383b-41e4-ad30-43465a5e6ff9",
   "metadata": {},
   "outputs": [
    {
     "name": "stdout",
     "output_type": "stream",
     "text": [
      "numeric_list: [1, 2, 3, 4]\n",
      "mixed_list: [1, 'two', 3.0, [4, [1, 2, [3, 8, 5]]]]\n",
      "[1, 2, 4.0, 4]\n"
     ]
    }
   ],
   "source": [
    "n_list = [1, 2, 3, 4]\n",
    "mixed_list = [1, 'two', 3.0, [4, [1,2,[3,8,5]]]]\n",
    "\n",
    "print(\"numeric_list:\", n_list)\n",
    "print(\"mixed_list:\", mixed_list)\n",
    "\n",
    "mixed_list[3][1][2][2]\n",
    "\n",
    "n_list[2] = 4.0\n",
    "print(n_list)\n"
   ]
  },
  {
   "cell_type": "code",
   "execution_count": 23,
   "id": "9e399842",
   "metadata": {},
   "outputs": [
    {
     "name": "stdout",
     "output_type": "stream",
     "text": [
      "['Python', 'is', 'easy', 'and', 'fun 223']\n",
      "Joined sentence: Python is easy and fun 223\n"
     ]
    }
   ],
   "source": [
    "# Define the string variable 'sentence'\n",
    "sentence = \"Python-is-easy-and-fun 223\"\n",
    "\n",
    "# Split the string into words and assign the result to 'words'\n",
    "words = sentence.split(\"-\")  # Defaults to splitting on whitespace\n",
    "\n",
    "print(words)\n",
    "\n",
    "# Join the words back into a single string with space as separator and assign it to 'joined_sentence'\n",
    "joined_sentence = \" \".join(words)\n",
    "\n",
    "# Print the joined sentence along with a comment\n",
    "print(\"Joined sentence:\", joined_sentence)"
   ]
  },
  {
   "attachments": {},
   "cell_type": "markdown",
   "id": "84828405-9cf0-461c-a1d2-374c46c0b00e",
   "metadata": {},
   "source": [
    "### Tuples are ordered, immutable collections in Python, similar to lists but cannot be modified after creation.\n",
    " - Immutability: Immutable, meaning once created, elements cannot be changed, added, or removed.\n",
    " - \n",
    "Syntax: Defined using parentheses ().\n"
   ]
  },
  {
   "cell_type": "code",
   "execution_count": 15,
   "id": "9808a9d8-6adf-41de-bc24-ac2b235032fe",
   "metadata": {},
   "outputs": [
    {
     "name": "stdout",
     "output_type": "stream",
     "text": [
      "('apple', 'banana', 'cherry')\n"
     ]
    }
   ],
   "source": [
    "# Creating a tuple of fruits\n",
    "fruits_tuple = ('apple', 'banana', 'cherry')\n",
    "\n",
    "# Printing the tuple\n",
    "print(fruits_tuple)\n"
   ]
  },
  {
   "cell_type": "markdown",
   "id": "d2eb5a93-698e-4281-af85-f439a6510c09",
   "metadata": {},
   "source": [
    "### my_tuple = (1, 2, 'three', 4.0)\n",
    "### Attempting to change a tuple will result in an error: \n",
    "### my_tuple[2] = 'changed' # This line will raise a TypeError \n"
   ]
  },
  {
   "cell_type": "markdown",
   "id": "846189f6-c472-4a4e-8cf8-7c579ac5de7a",
   "metadata": {},
   "source": [
    "### Flexibility of Data Types:Lists in Python can hold elements of different data types.\n",
    "\n"
   ]
  },
  {
   "cell_type": "code",
   "execution_count": 16,
   "id": "36109622-66bb-41bf-9dd4-4e52010c6665",
   "metadata": {},
   "outputs": [
    {
     "name": "stdout",
     "output_type": "stream",
     "text": [
      "Mixed list: [1, 'two', 3.0, [4, 5]]\n"
     ]
    }
   ],
   "source": [
    "# Creating a mixed list with elements of different data types\n",
    "mixed_list = [1, 'two', 3.0, [4, 5]]\n",
    "\n",
    "# Printing the mixed list\n",
    "print(\"Mixed list:\", mixed_list)\n"
   ]
  },
  {
   "cell_type": "markdown",
   "id": "f98b9305-d0bd-461d-a069-bc2da6238c18",
   "metadata": {},
   "source": [
    "### Common List Operations\n"
   ]
  },
  {
   "cell_type": "markdown",
   "id": "a2837b7d-93e9-4130-8b99-1db57f8400fe",
   "metadata": {},
   "source": [
    "### A) Addition\n"
   ]
  },
  {
   "cell_type": "markdown",
   "id": "bbd176a5-d468-4fb3-a600-5b2ae565d4cd",
   "metadata": {},
   "source": [
    "### Append: Adds an element to the end of the list."
   ]
  },
  {
   "cell_type": "code",
   "execution_count": 26,
   "id": "22699d56-7283-481f-b743-5e3300069b74",
   "metadata": {},
   "outputs": [
    {
     "name": "stdout",
     "output_type": "stream",
     "text": [
      "After append: [1, 2, 3, 10]\n"
     ]
    },
    {
     "data": {
      "text/plain": [
       "['try', 'try', 'try', 'try', 'try']"
      ]
     },
     "execution_count": 26,
     "metadata": {},
     "output_type": "execute_result"
    }
   ],
   "source": [
    "my_list = [1, 2, 3]\n",
    "my_list.append(10)  # Adds 4 at the end\n",
    "print(\"After append:\", my_list)\n",
    "\n",
    "my_list_1 = []\n",
    "for i in range(5):\n",
    "    my_list_1.append('try')\n",
    "my_list_1"
   ]
  },
  {
   "cell_type": "markdown",
   "id": "0a72044e-57bd-4b39-b280-f2e29be3f638",
   "metadata": {},
   "source": [
    "### Extend: Adds elements of another list to the end of the list."
   ]
  },
  {
   "cell_type": "code",
   "execution_count": 27,
   "id": "3c131937-ce5d-4922-9b29-1f4e78a2630c",
   "metadata": {},
   "outputs": [
    {
     "name": "stdout",
     "output_type": "stream",
     "text": [
      "After extend: [1, 2, 3, 4, 5, 1.0]\n"
     ]
    }
   ],
   "source": [
    "list1 = [1, 2, 3]\n",
    "list2 = [4, 5, 1.0]\n",
    "list1.extend(list2)  # Adds elements of list2 to list1\n",
    "print(\"After extend:\", list1)\n",
    "\n"
   ]
  },
  {
   "cell_type": "markdown",
   "id": "e8cd3735-2744-436b-b611-6ac244173cac",
   "metadata": {},
   "source": [
    "### Insert: Inserts an element at a specified position in the list."
   ]
  },
  {
   "cell_type": "code",
   "execution_count": 28,
   "id": "264c004a-469c-4017-bcbb-303b60e1de7a",
   "metadata": {},
   "outputs": [
    {
     "name": "stdout",
     "output_type": "stream",
     "text": [
      "After insert: [1, [66, 77], 2, 3]\n"
     ]
    }
   ],
   "source": [
    "my_list = [1, 2, 3]\n",
    "my_list.insert(1, [66,77])  # Inserts 'new' at index 1\n",
    "print(\"After insert:\", my_list)\n",
    "\n"
   ]
  },
  {
   "cell_type": "code",
   "execution_count": 11,
   "id": "583c55fa",
   "metadata": {},
   "outputs": [
    {
     "data": {
      "text/plain": [
       "[99, [66, 77], 2, 3]"
      ]
     },
     "execution_count": 11,
     "metadata": {},
     "output_type": "execute_result"
    }
   ],
   "source": [
    "my_list[0] = 99\n",
    "my_list"
   ]
  },
  {
   "cell_type": "markdown",
   "id": "2b87328b-be22-4648-88cb-2af9b1cdc33f",
   "metadata": {},
   "source": [
    "### B) Removal\n"
   ]
  },
  {
   "cell_type": "markdown",
   "id": "bf596ae7-1c66-4877-96d2-63ced6cb964d",
   "metadata": {},
   "source": [
    "### remove(): Removes the first occurrence of a specified value from the list."
   ]
  },
  {
   "cell_type": "code",
   "execution_count": 31,
   "id": "3403db99-81e3-4c52-81c8-9b8e1437a7a0",
   "metadata": {},
   "outputs": [
    {
     "name": "stdout",
     "output_type": "stream",
     "text": [
      "After remove: [11, 33, 22, 33]\n"
     ]
    }
   ],
   "source": [
    "my_list = [11, 22, 33, 22, 33]\n",
    "my_list.remove(22)  # Removes the first occurrence of 22\n",
    "print(\"After remove:\", my_list)\n"
   ]
  },
  {
   "cell_type": "markdown",
   "id": "a31d4cdb-6031-4a2c-91b8-c4285e6c3591",
   "metadata": {},
   "source": [
    "### pop(): Removes and returns the element at a specified index. If no index is provided, it removes and returns the last element."
   ]
  },
  {
   "cell_type": "code",
   "execution_count": 32,
   "id": "bd3091a4-7cc2-4166-bf38-46f88cf58aa7",
   "metadata": {},
   "outputs": [
    {
     "name": "stdout",
     "output_type": "stream",
     "text": [
      "Popped item: 2\n",
      "After pop: [1, 3]\n"
     ]
    }
   ],
   "source": [
    "my_list = [1, 2, 3]\n",
    "popped_item = my_list.pop(1)  # Removes and returns element at index 1\n",
    "print(\"Popped item:\", popped_item)\n",
    "print(\"After pop:\", my_list)\n"
   ]
  },
  {
   "cell_type": "markdown",
   "id": "262961a6-5d2a-4542-823f-f1cbb4750fc4",
   "metadata": {},
   "source": [
    "### del: Deletes the element at a specified index."
   ]
  },
  {
   "cell_type": "code",
   "execution_count": 28,
   "id": "a9f882d4-c7dd-4524-93a8-6709c176b291",
   "metadata": {},
   "outputs": [
    {
     "name": "stdout",
     "output_type": "stream",
     "text": [
      "After del: [1, 3]\n"
     ]
    }
   ],
   "source": [
    "my_list = [1, 2, 3]\n",
    "del my_list[1]  # Deletes the element at index 1\n",
    "print(\"After del:\", my_list)\n"
   ]
  },
  {
   "cell_type": "markdown",
   "id": "11ee78cb-d60b-4b7e-b641-238e3e8b083e",
   "metadata": {},
   "source": [
    "### Checking membership in Python means determining whether a specific element is present within a given list (or another iterable). This operation is typically performed using the in keyword or the not in keyword."
   ]
  },
  {
   "cell_type": "code",
   "execution_count": 37,
   "id": "bab1221d-5b3f-4c60-9746-436aa3e8d301",
   "metadata": {},
   "outputs": [
    {
     "name": "stdout",
     "output_type": "stream",
     "text": [
      "True\n",
      "7\n",
      "2\n",
      "96\n",
      "24\n",
      "64\n"
     ]
    }
   ],
   "source": [
    "my_list = [7, 2 ,96, 24,64]\n",
    "\n",
    "if 2 in my_list:\n",
    "    print(True)\n",
    "else:\n",
    "    print(False)\n",
    "\n",
    "for i in my_list:\n",
    "    if i == 96:\n",
    "        print(i)"
   ]
  },
  {
   "cell_type": "markdown",
   "id": "29e0f920-7822-43d3-bdbe-83fec81a8584",
   "metadata": {},
   "source": [
    "#### The len() function returns the number of items in an object when the object is a string, the len() function returns the number of characters in the string."
   ]
  },
  {
   "cell_type": "code",
   "execution_count": 31,
   "id": "db3ad7b6-5a05-4f4e-8b5f-951c01ca9991",
   "metadata": {},
   "outputs": [
    {
     "name": "stdout",
     "output_type": "stream",
     "text": [
      "3\n"
     ]
    }
   ],
   "source": [
    "my_list = [1, 2, 3]\n",
    "length = len(my_list)  # Returns the number of elements in the list\n",
    "print(length)"
   ]
  },
  {
   "cell_type": "markdown",
   "id": "1f1924a6-f448-4ac1-a002-1a4885f163d9",
   "metadata": {},
   "source": [
    "# List Manipulation Techniques\n"
   ]
  },
  {
   "cell_type": "markdown",
   "id": "1a614b03-6776-4958-8b69-ea4b88930e9e",
   "metadata": {},
   "source": [
    "### A) Reversing\n",
    "- The reverse() method changes the order of elements in the list, making the last element the first and vice versa.\n",
    "- Useful when the original order of the list needs to be flipped.\n"
   ]
  },
  {
   "cell_type": "code",
   "execution_count": 32,
   "id": "2b2b6b2a-ebbe-4c1c-8f86-e4fdf0e345cf",
   "metadata": {},
   "outputs": [
    {
     "name": "stdout",
     "output_type": "stream",
     "text": [
      "[1, 2, 3]\n"
     ]
    }
   ],
   "source": [
    "my_list = [3, 2, 1]\n",
    "my_list.reverse()  # Reverses the order of elements\n",
    "print(my_list)  # Output: [1, 2, 3]\n"
   ]
  },
  {
   "cell_type": "markdown",
   "id": "572e0a0d-7db2-4775-a477-b4576840f842",
   "metadata": {},
   "source": [
    "### B) Sorting:\n",
    "- The count() method determines how many times a specific element appears in the list.\n",
    "- Useful for analyzing data distribution and identifying patterns.\n"
   ]
  },
  {
   "cell_type": "code",
   "execution_count": 41,
   "id": "da7d05ac-2eb1-488e-bb31-d54e022ace15",
   "metadata": {},
   "outputs": [
    {
     "name": "stdout",
     "output_type": "stream",
     "text": [
      "None\n"
     ]
    }
   ],
   "source": [
    "my_list = [1, 2, 2, 3, 2]  # Counts occurrences of 2\n",
    " # Output: 3\n",
    "print(my_list.sort())"
   ]
  },
  {
   "cell_type": "markdown",
   "id": "a51edc1d-3991-4dde-b071-da7df2eace45",
   "metadata": {},
   "source": [
    "### C) Copying \n",
    " - Creating a copy is essential when you want to manipulate a list without altering the original.\n",
    " - Shallow copies ensure that changes to nested structures don't affect the original list.\n"
   ]
  },
  {
   "cell_type": "markdown",
   "id": "f7d61b82-483e-471d-9de5-22fe7a2706e4",
   "metadata": {},
   "source": [
    "### copy() - creates a shallow copy of the original list. This means that a new list object is created, and the elements of the original list are copied into the new list."
   ]
  },
  {
   "cell_type": "code",
   "execution_count": 2,
   "id": "3090a883-66ba-466c-995c-bf25992b6696",
   "metadata": {},
   "outputs": [
    {
     "name": "stdout",
     "output_type": "stream",
     "text": [
      "Copied List: [1, 2, 3]\n"
     ]
    }
   ],
   "source": [
    "# Using copy() method\n",
    "original_list = [1, 2, 3]\n",
    "copied_list = original_list.copy()  # Creates a shallow copy\n",
    "\n",
    "# Printing the copied list to demonstrate the copy\n",
    "print(\"Copied List:\", copied_list)\n",
    "\n"
   ]
  },
  {
   "cell_type": "markdown",
   "id": "a6c3e1bd-14fd-441c-8d22-f97531382796",
   "metadata": {},
   "source": [
    "### List Constructor - This method works by iterating over the elements of the original list and adding them to a new list that is being constructed."
   ]
  },
  {
   "cell_type": "code",
   "execution_count": 3,
   "id": "fbca2eee-1bf0-4e97-a9c0-e404ab983330",
   "metadata": {},
   "outputs": [
    {
     "name": "stdout",
     "output_type": "stream",
     "text": [
      "Copied List: [1, 2, 3]\n"
     ]
    }
   ],
   "source": [
    "# Using list constructor\n",
    "original_list = [1, 2, 3]\n",
    "copied_list = list(original_list)  # Creates a new list with the same elements\n",
    "\n",
    "# Printing the copied list to demonstrate the copy\n",
    "print(\"Copied List:\", copied_list)\n"
   ]
  },
  {
   "cell_type": "markdown",
   "id": "d575c462-9b57-497e-a657-3ed20a8b53e5",
   "metadata": {},
   "source": [
    "### D) Counting Occurrences:\n",
    "- The count() method determines how many times a specific element appears in the list.\n",
    "- Useful for analyzing data distribution and identifying patterns.\n"
   ]
  },
  {
   "cell_type": "code",
   "execution_count": 42,
   "id": "dbbff111-5605-4bbe-8596-a937bb9f1395",
   "metadata": {},
   "outputs": [
    {
     "name": "stdout",
     "output_type": "stream",
     "text": [
      "4\n"
     ]
    }
   ],
   "source": [
    "another_list = [5, 2, 7, 2, 8, 2, 9, 2, 1]\n",
    "count_of_2_another = another_list.count(2)  # Counts occurrences of 2\n",
    "print(count_of_2_another)  # Output: 4\n"
   ]
  },
  {
   "cell_type": "markdown",
   "id": "878686f2-d9bf-46cc-805d-ed22b684d086",
   "metadata": {},
   "source": [
    "## Slicing and Indexing in Lists\n"
   ]
  },
  {
   "cell_type": "markdown",
   "id": "27acbb37-62ba-4c32-891a-8fd6b1626cff",
   "metadata": {},
   "source": [
    "### Indexing refers to accessing individual elements in a list Zero-Based Indexing: In Python, indexing starts at 0.\n"
   ]
  },
  {
   "cell_type": "markdown",
   "id": "5e9c0fd0-78d6-49e3-b62f-4e8e20b42dec",
   "metadata": {},
   "source": [
    "### Positive indexing refers to counting from the beginning of the list, where the index of the first element is 0, the second element is 1, and so on."
   ]
  },
  {
   "cell_type": "code",
   "execution_count": 41,
   "id": "4132ef7a-23bc-4c6d-9d40-f0e9d975f0c2",
   "metadata": {},
   "outputs": [
    {
     "name": "stdout",
     "output_type": "stream",
     "text": [
      "First element: a\n",
      "Third element: python\n"
     ]
    }
   ],
   "source": [
    "my_list = ['a', 'b', 'c', 'd', 'python', 100]\n",
    "\n",
    "# Accessing the first element ('a')\n",
    "first_element = my_list[0]\n",
    "print(\"First element:\", first_element)\n",
    "\n",
    "# Accessing the fifth element ('python')\n",
    "third_element = my_list[4]\n",
    "print(\"Third element:\", third_element)\n"
   ]
  },
  {
   "cell_type": "markdown",
   "id": "9748859b-3391-4ac6-9015-9cbe18336d84",
   "metadata": {},
   "source": [
    "### Negative indexing refers to counting from the end of the list, where the index of the last element is -1, the second last element is -2, and so on."
   ]
  },
  {
   "cell_type": "code",
   "execution_count": 43,
   "id": "a9b15118-c650-4fb2-88de-c7e456589297",
   "metadata": {},
   "outputs": [
    {
     "name": "stdout",
     "output_type": "stream",
     "text": [
      "Last element: 100\n",
      "Second-to-last element: d\n"
     ]
    }
   ],
   "source": [
    "my_list = ['a', 'b', 'c', 'd', 'python', 100]\n",
    "\n",
    "# Accessing the last element (100)\n",
    "last_element = my_list[-1]\n",
    "print(\"Last element:\", last_element)\n",
    "\n",
    "# Accessing the second-to-last element ('d')\n",
    "second_last = my_list[-3]\n",
    "print(\"Second-to-last element:\", second_last)\n",
    "\n"
   ]
  },
  {
   "cell_type": "markdown",
   "id": "c0d893d2-3c85-4582-b678-64f41d1b8227",
   "metadata": {},
   "source": [
    "### Start (Optional): The index from which the slice begins. If not specified, it defaults to the beginning of the list.\n"
   ]
  },
  {
   "cell_type": "code",
   "execution_count": 25,
   "id": "4ad9268b-76e5-4010-b2c1-4307999a7efd",
   "metadata": {},
   "outputs": [
    {
     "name": "stdout",
     "output_type": "stream",
     "text": [
      "['a', 'b', 'c', 'd']\n"
     ]
    }
   ],
   "source": [
    "my_list = ['a', 'b', 'c', 'd', 'e', 'f', 'g']\n",
    "\n",
    "# Slice from index 2 to the end of the list\n",
    "slice_from_index_2 = my_list[:4]\n",
    "print(slice_from_index_2)  # Output: ['c', 'd', 'e', 'f', 'g']\n"
   ]
  },
  {
   "cell_type": "markdown",
   "id": "068e953a-7df8-4787-b7a6-fb30eb1b790d",
   "metadata": {},
   "source": [
    "### Stop (Required): The index at which the slice ends. The slice goes up to, but does not include, this index.\n"
   ]
  },
  {
   "cell_type": "code",
   "execution_count": 45,
   "id": "42e73bb0-4b63-4e52-aaab-6ae851f21b20",
   "metadata": {},
   "outputs": [
    {
     "name": "stdout",
     "output_type": "stream",
     "text": [
      "['a', 'b', 'c', 'd']\n"
     ]
    }
   ],
   "source": [
    "my_list = ['a', 'b', 'c', 'd', 'e', 'f', 'g']\n",
    "\n",
    "# Slice from the beginning of the list up to (but not including) index 4\n",
    "slice_up_to_index_4 = my_list[:4]\n",
    "print(slice_up_to_index_4)  # Output: ['a', 'b', 'c', 'd']\n"
   ]
  },
  {
   "cell_type": "markdown",
   "id": "924b6924-149f-4213-8d3a-53f500b11507",
   "metadata": {},
   "source": [
    "### Step (Optional): The step or interval between elements. If not specified, it defaults to 1.\n"
   ]
  },
  {
   "cell_type": "code",
   "execution_count": 47,
   "id": "20d0b5b2-2097-4ce5-bbc9-81be471d13ed",
   "metadata": {},
   "outputs": [
    {
     "name": "stdout",
     "output_type": "stream",
     "text": [
      "['a', 'c', 'e', 'g']\n"
     ]
    }
   ],
   "source": [
    "my_list = ['a', 'b', 'c', 'd', 'e', 'f', 'g']\n",
    "\n",
    "# Slice every second element starting from index 0\n",
    "slice_with_step = my_list[::2]\n",
    "print(slice_with_step)  # Output: ['a', 'c', 'e', 'g']\n"
   ]
  },
  {
   "cell_type": "markdown",
   "id": "92ae1cf4-22ee-4e65-baec-fcba5791eefc",
   "metadata": {},
   "source": [
    "#### Basic Slicing - Basic slicing in Python refers to the process of extracting a portion of a list by specifying start and stop indices\n"
   ]
  },
  {
   "cell_type": "code",
   "execution_count": 48,
   "id": "4e89f6e0-6b77-4af6-ad45-54041e4478d6",
   "metadata": {},
   "outputs": [
    {
     "name": "stdout",
     "output_type": "stream",
     "text": [
      "Subset: [2, 3, 4, 5]\n"
     ]
    }
   ],
   "source": [
    "numbers = [0, 1, 2, 3, 4, 5, 6, 7, 8, 9]\n",
    "\n",
    "# Slice from index 2 to index 6 (exclusive)\n",
    "subset = numbers[2:6]\n",
    "print(\"Subset:\", subset)\n"
   ]
  },
  {
   "cell_type": "markdown",
   "id": "9776f75a-823b-49bb-92b7-8e00bf0ebc36",
   "metadata": {},
   "source": [
    "### Slicing with Step - It involves selecting elements from a list with a specific interval. It allows you to skip elements during slicing. This is accomplished by specifying the step parameter in the slice notation.\n"
   ]
  },
  {
   "cell_type": "code",
   "execution_count": 50,
   "id": "1b481d1e-43c6-4210-8046-d5f0929670e6",
   "metadata": {},
   "outputs": [
    {
     "name": "stdout",
     "output_type": "stream",
     "text": [
      "Every second element: [0, 2, 4, 6, 8]\n"
     ]
    }
   ],
   "source": [
    "numbers = [0, 1, 2, 3, 4, 5, 6, 7, 8, 9]\n",
    "\n",
    "# Slice every second element starting from index 0\n",
    "every_second = numbers[::2]\n",
    "print(\"Every second element:\", every_second)\n"
   ]
  },
  {
   "cell_type": "markdown",
   "id": "b651a8ae-b911-4309-9c5c-27c0b9643f19",
   "metadata": {},
   "source": [
    "### Slicing from the End - It involves using negative indices to select elements starting from the end of the list. Negative indices count backward from the end of the list.\n"
   ]
  },
  {
   "cell_type": "code",
   "execution_count": 28,
   "id": "795592e5-51f8-4f3f-aa0b-1ccb06b31f9e",
   "metadata": {},
   "outputs": [
    {
     "name": "stdout",
     "output_type": "stream",
     "text": [
      "Last three elements: [7, 8]\n"
     ]
    }
   ],
   "source": [
    "numbers = [0, 1, 2, 3, 4, 5, 6, 7, 8, 9]\n",
    "\n",
    "# Slice the last three elements\n",
    "last_three = numbers[-3:-1]\n",
    "print(\"Last three elements:\", last_three)\n"
   ]
  },
  {
   "cell_type": "markdown",
   "id": "19250792-2ce0-4ea6-9268-50979f868bb8",
   "metadata": {},
   "source": [
    "### Reversed List - Reversing a list in Python involves arranging the elements of a list in reverse order. This can be achieved using the [::-1] slice notation, which creates a reversed copy of the original list.\n"
   ]
  },
  {
   "cell_type": "code",
   "execution_count": 52,
   "id": "3c5db8d5-1a9b-47c5-aa34-20fc9b777742",
   "metadata": {},
   "outputs": [
    {
     "name": "stdout",
     "output_type": "stream",
     "text": [
      "Reversed list: [9, 8, 7, 6, 5, 4, 3, 2, 1, 0]\n"
     ]
    }
   ],
   "source": [
    "numbers = [0, 1, 2, 3, 4, 5, 6, 7, 8, 9]\n",
    "# Reverses the list\n",
    "\n",
    "reversed_list = numbers[::-1]\n",
    "print(\"Reversed list:\", reversed_list)\n"
   ]
  },
  {
   "cell_type": "markdown",
   "id": "1e8ca77a-fee9-4178-b32b-8f0263e32b6e",
   "metadata": {},
   "source": [
    "### Omitted Indices - It refer to the practice of leaving out the start, stop, or step indices when slicing a list, which defaults to specific behaviors: starting from the beginning, ending at the end, or using a step of 1, respectively.\n"
   ]
  },
  {
   "cell_type": "code",
   "execution_count": 53,
   "id": "f9e32901-9119-440d-89ec-209ecd2cf611",
   "metadata": {},
   "outputs": [
    {
     "name": "stdout",
     "output_type": "stream",
     "text": [
      "All elements: [0, 1, 2, 3, 4, 5, 6, 7, 8, 9]\n",
      "Every second element: [0, 2, 4, 6, 8]\n"
     ]
    }
   ],
   "source": [
    "numbers = [0, 1, 2, 3, 4, 5, 6, 7, 8, 9]\n",
    "\n",
    "# Omitted start and stop, equivalent to numbers[:]\n",
    "all_elements = numbers[:]\n",
    "print(\"All elements:\", all_elements)\n",
    "\n",
    "# Omitted start, equivalent to numbers[::2]\n",
    "every_second = numbers[::2]\n",
    "print(\"Every second element:\", every_second)\n"
   ]
  },
  {
   "cell_type": "markdown",
   "id": "b95ceafd-eede-4dd1-b36f-92da9a9ddb05",
   "metadata": {},
   "source": [
    "### Slice Assignment- Slice assignment in Python allows you to replace a portion of a list with new values. It's a powerful feature that leverages slice notation to specify the range of elements to be replaced"
   ]
  },
  {
   "cell_type": "code",
   "execution_count": 35,
   "id": "bde7acec-0995-4f46-aed6-c7b92c0bd93f",
   "metadata": {},
   "outputs": [
    {
     "name": "stdout",
     "output_type": "stream",
     "text": [
      "[1, 6, 'try', 8, 6, 5]\n"
     ]
    }
   ],
   "source": [
    "# Define a list\n",
    "\n",
    "my_list = [1, 2, 3, 4, 5]\n",
    "\n",
    "# Replace a slice of the list with new values\n",
    "my_list[1:4] = [6, 'try', 8, 6]\n",
    "\n",
    "print(my_list)  # Output: [1, 6, 7, 8, 5]\n"
   ]
  },
  {
   "cell_type": "markdown",
   "id": "5b9a5e31-dc29-4b43-b313-21dbe4c69101",
   "metadata": {},
   "source": [
    "### The ellipsis (...) - It can be used in multidimensional lists or arrays to represent an unspecified number of dimensions. "
   ]
  },
  {
   "cell_type": "code",
   "execution_count": 39,
   "id": "a4b07f12-c8e2-4ce1-95f4-386a6afa2a96",
   "metadata": {},
   "outputs": [
    {
     "data": {
      "text/plain": [
       "10"
      ]
     },
     "execution_count": 39,
     "metadata": {},
     "output_type": "execute_result"
    }
   ],
   "source": [
    "# Define a 3D list\n",
    "arr_3d = [\n",
    "    [[1, 2, 3], [4, 5, 6]],   # First block of 2D lists\n",
    "    [[7, 8, 9], [10, 11, 12]]  # Second block of 2D lists\n",
    "]\n",
    "\n",
    "# Accessing all elements along the second dimension for each block in the first dimension\n",
    "# The ellipsis (...) is not necessary here\n",
    "# print([sublist for sublist in arr_3d])\n",
    "\n",
    "arr_3d[1][1][0]\n",
    "\n"
   ]
  },
  {
   "cell_type": "code",
   "execution_count": 1,
   "id": "4e40e439",
   "metadata": {},
   "outputs": [
    {
     "name": "stdout",
     "output_type": "stream",
     "text": [
      "[4, 5, 1, 2, 3]\n"
     ]
    }
   ],
   "source": [
    "list1 = [1, 2, 3, 4, 5]\n",
    "k = 4\n",
    "\n",
    "rotated_list = list1[-k:] + list1[:-k]\n",
    "print(rotated_list)"
   ]
  },
  {
   "attachments": {},
   "cell_type": "markdown",
   "id": "374a8a9c-10eb-4a3f-9e04-8a45068ff4fa",
   "metadata": {},
   "source": [
    "### List Comprehension - List comprehensions are a concise and readable way to create lists in Python. They provide a more compact syntax for generating lists compared to traditional for-loops.\n",
    "\n",
    "\n"
   ]
  },
  {
   "cell_type": "markdown",
   "id": "dcfb13ad-f6eb-4974-b8bd-9729dded7084",
   "metadata": {},
   "source": [
    "### Creating a Squares List\n",
    " - This creates a new list (squares) containing the square of each number in the range from 0 to 4.\n",
    " - Result: [0, 1, 4, 9, 16]\n",
    "\n"
   ]
  },
  {
   "cell_type": "code",
   "execution_count": 5,
   "id": "b3635036-fa63-4c04-9d21-1d1f99a796ef",
   "metadata": {},
   "outputs": [
    {
     "name": "stdout",
     "output_type": "stream",
     "text": [
      "[0, 2, 4, 6, 8]\n",
      "[0, 2, 4, 6, 8]\n",
      "[0, 1, 8, 27, 64]\n"
     ]
    }
   ],
   "source": [
    "list1 = []\n",
    "for x in range(5):\n",
    "    list1.append(x*2)\n",
    "print(list1)\n",
    "\n",
    "squares = [x*2 for x in range(5)]\n",
    "print(squares)\n",
    "\n",
    "cube = [x**3 for x in range(5)]\n",
    "print(cube)"
   ]
  },
  {
   "cell_type": "markdown",
   "id": "6d2baed9-9836-4e66-a845-48bdb529bf9c",
   "metadata": {},
   "source": [
    "### List Comprehension with Conditional Expression\n",
    " - This example creates a list (even_squared) where even numbers are squared, and odd numbers are cubed, for numbers in the range 0 to 5.\n",
    " - Result: [0, 1, 4, 27, 16, 125]\n"
   ]
  },
  {
   "cell_type": "code",
   "execution_count": 61,
   "id": "44831e78-2247-4105-93b9-5f4db6be8755",
   "metadata": {},
   "outputs": [
    {
     "name": "stdout",
     "output_type": "stream",
     "text": [
      "[0, 1, 4, 27, 16, 125]\n"
     ]
    }
   ],
   "source": [
    "# List comprehension to generate a list of squared values for even numbers and cubed values for odd numbers from 0 to 5\n",
    "even_squared = [x**2 if x % 2 == 0 else x**3 for x in range(6)]\n",
    "\n",
    "# Print the resulting list\n",
    "print(even_squared)\n"
   ]
  },
  {
   "cell_type": "markdown",
   "id": "23dd0e36-22b3-4413-9a86-d0e764fe77f2",
   "metadata": {},
   "source": [
    "### Filtering Odd Numbers:\n",
    " - This generates a list (odd_numbers) with only the odd numbers from 0 to 9.\n",
    " - Result: [1, 3, 5, 7, 9]\n",
    "\n"
   ]
  },
  {
   "cell_type": "code",
   "execution_count": 63,
   "id": "e8a1fa9e-ce05-48d5-8d40-7ec53b38c7d0",
   "metadata": {},
   "outputs": [
    {
     "name": "stdout",
     "output_type": "stream",
     "text": [
      "[1, 3, 5, 7, 9]\n"
     ]
    }
   ],
   "source": [
    "# List comprehension to generate a list of odd numbers from 0 to 9\n",
    "odd_numbers = [x for x in range(10) if x % 2 != 0]\n",
    "\n",
    "# Print the resulting list\n",
    "print(odd_numbers)\n"
   ]
  },
  {
   "cell_type": "markdown",
   "id": "cf205db0-e734-4abf-b6e5-9bb191fd23db",
   "metadata": {},
   "source": [
    "### Filtering and Transformation with Nested List Comprehensions:\n",
    " - This example filters rows with at least one even number, then squares those even numbers, creating a new list (filtered_squared).\n",
    " - Result: [4, 16, 64]\n"
   ]
  },
  {
   "cell_type": "code",
   "execution_count": 13,
   "id": "8244a677-7d3f-4f00-95f5-5da433304f33",
   "metadata": {},
   "outputs": [
    {
     "name": "stdout",
     "output_type": "stream",
     "text": [
      "[2116, 4356, 6400]\n",
      "[2116, 4356, 6400]\n"
     ]
    }
   ],
   "source": [
    "# Define a nested matrix\n",
    "nested_matrix = [[1, 29, 3], \n",
    "                 [46, 5, 66], \n",
    "                 [7, 80, 9]]\n",
    "\n",
    "[1, 29, 3, 46, 5, 66, 7, 80, 9]\n",
    "\n",
    "l1 = []\n",
    "for row in nested_matrix:\n",
    "    for x in row:\n",
    "        if x % 2 == 0:\n",
    "            l1.append(x**2)\n",
    "print(l1) \n",
    "\n",
    "# List comprehension to filter and square elements from the nested matrix\n",
    "filtered_squared = [i**2 for row in nested_matrix for i in row if i % 2 == 0]\n",
    "\n",
    "# Print the resulting list\n",
    "print(filtered_squared)\n",
    "\n",
    "\n",
    "\n"
   ]
  },
  {
   "cell_type": "code",
   "execution_count": 42,
   "id": "1ea1d427",
   "metadata": {},
   "outputs": [
    {
     "data": {
      "text/plain": [
       "[4, 16, 36, 64]"
      ]
     },
     "execution_count": 42,
     "metadata": {},
     "output_type": "execute_result"
    }
   ],
   "source": [
    "lis = []\n",
    "for row in nested_matrix:\n",
    "    for x in row:\n",
    "        if x % 2 == 0:\n",
    "            lis.append(x**2)\n",
    "lis"
   ]
  },
  {
   "cell_type": "markdown",
   "id": "e31a5bc5-e091-4d8c-88a0-f3f92b7d67fc",
   "metadata": {},
   "source": [
    "### Nested List Comprehension:\n",
    " - This example demonstrates a nested list comprehension, flattening a matrix into a single list (flattened).\n",
    " - Result: [1, 2, 3, 4, 5, 6, 7, 8, 9]\n"
   ]
  },
  {
   "cell_type": "code",
   "execution_count": 67,
   "id": "3eb331f8-4468-4a71-a7ea-c1a9851b9687",
   "metadata": {},
   "outputs": [
    {
     "name": "stdout",
     "output_type": "stream",
     "text": [
      "[1, 2, 3, 4, 5, 6, 7, 8, 9]\n"
     ]
    }
   ],
   "source": [
    "# Define a nested matrix\n",
    "matrix = [[1, 2, 3], [4, 5, 6], [7, 8, 9]]\n",
    "\n",
    "# List comprehension to flatten the nested matrix\n",
    "flattened = [num for row in matrix for num in row]\n",
    "\n",
    "# Print the resulting list\n",
    "print(flattened)\n"
   ]
  },
  {
   "cell_type": "markdown",
   "id": "cd4843ef-d1a8-457b-b1d8-570c59191cb4",
   "metadata": {},
   "source": [
    "### Using Functions in List Comprehension:\n",
    " - Here, a function (square_if_even) is applied within the list comprehension to square even numbers and leave odd numbers unchanged.\n",
    " - Result: [0, 1, 4, 3, 16, 5, 36, 7]\n"
   ]
  },
  {
   "cell_type": "code",
   "execution_count": 68,
   "id": "4aed9e7d-9691-4dc7-9f85-78b90d2bc0f0",
   "metadata": {},
   "outputs": [
    {
     "name": "stdout",
     "output_type": "stream",
     "text": [
      "[0, 1, 4, 3, 16, 5, 36, 7]\n"
     ]
    }
   ],
   "source": [
    "# Define a function to square a number if it's even\n",
    "def square_if_even(x):\n",
    "    return x**2 if x % 2 == 0 else x\n",
    "\n",
    "# List comprehension to apply the function to each element in the range\n",
    "squared_list = [square_if_even(x) for x in range(8)]\n",
    "\n",
    "# Print the resulting list\n",
    "print(squared_list)\n"
   ]
  },
  {
   "cell_type": "markdown",
   "id": "b39e15bf-2086-4a81-b471-b0e1388edab8",
   "metadata": {},
   "source": [
    "# Creation of Tuples\n"
   ]
  },
  {
   "cell_type": "markdown",
   "id": "9cb6cde6-7915-46ca-a5d4-62147bf36fb7",
   "metadata": {},
   "source": [
    "### Syntax for Creating Tuples:\n",
    " - Tuples are created using parentheses ().\n",
    " - my_tuple = (value1, value2, ...)"
   ]
  },
  {
   "cell_type": "markdown",
   "id": "50380983-27c1-49d7-8aee-03874fd0d974",
   "metadata": {},
   "source": [
    "### Creating a Tuple with Integers\n"
   ]
  },
  {
   "cell_type": "code",
   "execution_count": 69,
   "id": "375db711-14b4-4df7-af1c-1873767d3c71",
   "metadata": {},
   "outputs": [
    {
     "name": "stdout",
     "output_type": "stream",
     "text": [
      "(1, 2, 3)\n"
     ]
    }
   ],
   "source": [
    "# Define an integer tuple\n",
    "integer_tuple = (1, 2, 3)\n",
    "\n",
    "# Print the tuple\n",
    "print(integer_tuple)\n"
   ]
  },
  {
   "cell_type": "markdown",
   "id": "d2017bf1-43a2-47b5-b07c-438b9dce89d8",
   "metadata": {},
   "source": [
    "### Creating a Mixed-Type Tuple\n"
   ]
  },
  {
   "cell_type": "code",
   "execution_count": 70,
   "id": "2c12df26-2264-454f-85fd-f88434d0b2bd",
   "metadata": {},
   "outputs": [
    {
     "name": "stdout",
     "output_type": "stream",
     "text": [
      "('apple', 5, 2.5, True)\n"
     ]
    }
   ],
   "source": [
    "# Define a mixed tuple\n",
    "mixed_tuple = ('apple', 5, 2.5, True)\n",
    "\n",
    "# Print the tuple\n",
    "print(mixed_tuple)\n"
   ]
  },
  {
   "cell_type": "markdown",
   "id": "f4e3f72b-d6f6-4a4c-b441-d14f3a6f4c10",
   "metadata": {},
   "source": [
    "### Empty Tuple\n"
   ]
  },
  {
   "cell_type": "code",
   "execution_count": 71,
   "id": "02e4fd64-0ee5-43cd-bcbc-3c7052295c0b",
   "metadata": {},
   "outputs": [
    {
     "name": "stdout",
     "output_type": "stream",
     "text": [
      "()\n"
     ]
    }
   ],
   "source": [
    "# Define an empty tuple\n",
    "empty_tuple = ()\n",
    "\n",
    "# Print the empty tuple\n",
    "print(empty_tuple)\n"
   ]
  },
  {
   "cell_type": "markdown",
   "id": "b46f012d-ef2c-4282-9b95-2a7e6ce91afb",
   "metadata": {},
   "source": [
    "### Immutability of Tuples:Tuples are immutable, meaning their elements cannot be changed, added, or removed after creation\n"
   ]
  },
  {
   "cell_type": "markdown",
   "id": "c406e133-154d-45b8-88c1-320f966964ac",
   "metadata": {},
   "source": [
    "### Attempting to Change a Tuple (Results in an Error)"
   ]
  },
  {
   "cell_type": "code",
   "execution_count": 72,
   "id": "f28bccbc-e1ac-419e-92b3-66b98ba38ef4",
   "metadata": {},
   "outputs": [
    {
     "ename": "TypeError",
     "evalue": "'tuple' object does not support item assignment",
     "output_type": "error",
     "traceback": [
      "\u001b[1;31m---------------------------------------------------------------------------\u001b[0m",
      "\u001b[1;31mTypeError\u001b[0m                                 Traceback (most recent call last)",
      "Cell \u001b[1;32mIn[72], line 5\u001b[0m\n\u001b[0;32m      2\u001b[0m my_tuple \u001b[38;5;241m=\u001b[39m (\u001b[38;5;241m1\u001b[39m, \u001b[38;5;241m2\u001b[39m, \u001b[38;5;241m3\u001b[39m)\n\u001b[0;32m      4\u001b[0m \u001b[38;5;66;03m# Attempting to change the second element will raise a TypeError\u001b[39;00m\n\u001b[1;32m----> 5\u001b[0m my_tuple[\u001b[38;5;241m1\u001b[39m] \u001b[38;5;241m=\u001b[39m \u001b[38;5;241m5\u001b[39m  \u001b[38;5;66;03m# This line will raise an error\u001b[39;00m\n\u001b[0;32m      7\u001b[0m \u001b[38;5;66;03m# Print the modified tuple\u001b[39;00m\n\u001b[0;32m      8\u001b[0m \u001b[38;5;28mprint\u001b[39m(my_tuple)\n",
      "\u001b[1;31mTypeError\u001b[0m: 'tuple' object does not support item assignment"
     ]
    }
   ],
   "source": [
    "# Define a tuple\n",
    "my_tuple = (1, 2, 3)\n",
    "\n",
    "# Attempting to change the second element will raise a TypeError\n",
    "my_tuple[1] = 5  # This line will raise an error\n",
    "\n",
    "# Print the modified tuple\n",
    "print(my_tuple)\n"
   ]
  },
  {
   "cell_type": "markdown",
   "id": "3b6470a0-bcd2-40e7-8eab-f124eb9e6a42",
   "metadata": {},
   "source": [
    "### Creating a New Tuple Based on an Existing Tuple\n"
   ]
  },
  {
   "cell_type": "code",
   "execution_count": 73,
   "id": "f287e9f5-45fc-4c02-a714-3067d9cea0f6",
   "metadata": {},
   "outputs": [
    {
     "name": "stdout",
     "output_type": "stream",
     "text": [
      "(1, 2, 3, 4, 5)\n"
     ]
    }
   ],
   "source": [
    "# Define the original tuple\n",
    "original_tuple = (1, 2, 3)\n",
    "\n",
    "# Concatenate the original tuple with another tuple to create a new tuple\n",
    "new_tuple = original_tuple + (4, 5)\n",
    "\n",
    "# Print the new tuple\n",
    "print(new_tuple)\n"
   ]
  },
  {
   "cell_type": "markdown",
   "id": "a19904b8-9211-4ad7-b49c-c728688ce730",
   "metadata": {},
   "source": [
    "# Basic Operations on Tuples\n"
   ]
  },
  {
   "cell_type": "markdown",
   "id": "ccd0464a-0fce-4563-8944-754135006ebe",
   "metadata": {},
   "source": [
    "### Concatenating tuples is achieved using the + operator. When you concatenate two tuples tuple1 and tuple2 with tuple1 + tuple2, the resulting tuple contains all the elements of tuple1 followed by all the elements of tuple2."
   ]
  },
  {
   "cell_type": "code",
   "execution_count": 74,
   "id": "9f2f0dec-63c4-459f-8722-46f06e50644c",
   "metadata": {},
   "outputs": [
    {
     "name": "stdout",
     "output_type": "stream",
     "text": [
      "(1, 2, 3, 'a', 'b')\n"
     ]
    }
   ],
   "source": [
    "tuple1 = (1, 2, 3)\n",
    "tuple2 = ('a', 'b')\n",
    "\n",
    "concatenated_tuple = tuple1 + tuple2\n",
    "\n",
    "print(concatenated_tuple)\n"
   ]
  },
  {
   "cell_type": "markdown",
   "id": "d73885c4-ed0a-4bb1-b328-1e691d3150e3",
   "metadata": {},
   "source": [
    "### Repetition of tuples is achieved using the * operator. When you use the * operator with a tuple and an integer, it creates a new tuple by repeating the elements of the original tuple the specified number of times."
   ]
  },
  {
   "cell_type": "code",
   "execution_count": 75,
   "id": "ce56bd14-d25e-4d8d-9f9f-ef51ba3573b4",
   "metadata": {},
   "outputs": [
    {
     "name": "stdout",
     "output_type": "stream",
     "text": [
      "(1, 2, 1, 2, 1, 2)\n"
     ]
    }
   ],
   "source": [
    "# Define the original tuple\n",
    "original_tuple = (1, 2)\n",
    "\n",
    "# Repeat the original tuple three times\n",
    "repeated_tuple = original_tuple * 3\n",
    "\n",
    "# Print the repeated tuple\n",
    "print(repeated_tuple)\n"
   ]
  },
  {
   "cell_type": "markdown",
   "id": "8117f52a-a282-485c-b3b9-29333784ebe4",
   "metadata": {},
   "source": [
    "### Iteration is a fundamental concept in programming that refers to the process of accessing each element in a sequence, one at a time, and performing some operation on it. In Python, iteration is commonly achieved using loops, such as the for loop."
   ]
  },
  {
   "cell_type": "code",
   "execution_count": 76,
   "id": "ff3f8291-6c04-4990-9288-b2d512d6a3a1",
   "metadata": {},
   "outputs": [
    {
     "name": "stdout",
     "output_type": "stream",
     "text": [
      "1\n",
      "2\n",
      "3\n"
     ]
    }
   ],
   "source": [
    "# Define the tuple\n",
    "my_tuple = (1, 2, 3)\n",
    "\n",
    "# Iterate over each element in the tuple and print it\n",
    "for element in my_tuple:\n",
    "    print(element)\n"
   ]
  },
  {
   "cell_type": "markdown",
   "id": "a3d3f604-af2e-4961-983d-6a5867d70112",
   "metadata": {},
   "source": [
    "## Tuple Packing and Unpacking\n"
   ]
  },
  {
   "cell_type": "code",
   "execution_count": null,
   "id": "eba29597-c3c8-4214-9e67-6add394826c8",
   "metadata": {},
   "outputs": [],
   "source": [
    "Tuple Packing and Unpacking:\n",
    "Packing:\n",
    "my_tuple = 1, 2, 'three'\n",
    "\n",
    "Unpacking:\n",
    "a, b, c = my_tuple\n"
   ]
  },
  {
   "cell_type": "markdown",
   "id": "0a7e64a2-7c5f-4e26-97b0-63963de5ff5b",
   "metadata": {},
   "source": [
    "### Packing refers to the process of combining multiple values into a single tuple. It happens implicitly when you create a tuple without enclosing it in parentheses."
   ]
  },
  {
   "cell_type": "code",
   "execution_count": 78,
   "id": "aefdc636-e4d9-47c0-8376-f80efd1005f2",
   "metadata": {},
   "outputs": [
    {
     "name": "stdout",
     "output_type": "stream",
     "text": [
      "Packed tuple: (1, 2, 'three')\n"
     ]
    }
   ],
   "source": [
    "# Tuple Packing: Combining multiple values into a single tuple\n",
    "my_tuple = 1, 2, 'three'\n",
    "print(\"Packed tuple:\", my_tuple)\n",
    "\n"
   ]
  },
  {
   "cell_type": "markdown",
   "id": "3e96d62f-9c69-4755-b6bd-e73507c0fb34",
   "metadata": {},
   "source": [
    "### Unpacking is the process of assigning the elements of a tuple to individual variables. It allows you to extract values from a tuple and assign them to multiple variables in a single statement."
   ]
  },
  {
   "cell_type": "code",
   "execution_count": 79,
   "id": "e9467e49-3660-4667-9c1f-37baddf54494",
   "metadata": {},
   "outputs": [
    {
     "name": "stdout",
     "output_type": "stream",
     "text": [
      "Unpacked variables - a: 1 b: 2 c: three\n"
     ]
    }
   ],
   "source": [
    "# Tuple Unpacking: Assigning the elements of a tuple to multiple variables\n",
    "a, b, c = my_tuple\n",
    "print(\"Unpacked variables - a:\", a, \"b:\", b, \"c:\", c)"
   ]
  },
  {
   "cell_type": "markdown",
   "id": "5578b793-5359-4933-8dad-7a210ebadaaf",
   "metadata": {},
   "source": [
    "### The len() function in Python is used to determine the length or the number of items in a sequence (such as a list, tuple, string, etc.). It returns the number of elements present in the given sequence."
   ]
  },
  {
   "cell_type": "code",
   "execution_count": 80,
   "id": "f96cd773-ab39-4fe4-bbce-d15a4f270577",
   "metadata": {},
   "outputs": [
    {
     "name": "stdout",
     "output_type": "stream",
     "text": [
      "Length of the tuple: 3\n"
     ]
    }
   ],
   "source": [
    "my_tuple = (1, 2, 3)\n",
    "length = len(my_tuple)\n",
    "print(\"Length of the tuple:\", length)  # Output: Length of the tuple: 3\n"
   ]
  },
  {
   "cell_type": "markdown",
   "id": "7805835e-9cba-4f54-9141-ba5a1d0298bd",
   "metadata": {},
   "source": [
    "### Membership (in): The in operator in Python is used to check if a value exists in a sequence (such as a list, tuple, string, etc.). It returns True if the value is found in the sequence, otherwise it returns False."
   ]
  },
  {
   "cell_type": "code",
   "execution_count": 81,
   "id": "86107d5c-795a-49dc-a10b-2031b9fe9bdf",
   "metadata": {},
   "outputs": [
    {
     "name": "stdout",
     "output_type": "stream",
     "text": [
      "Is 2 present in the tuple? True\n"
     ]
    }
   ],
   "source": [
    "my_tuple = (1, 2, 3)\n",
    "is_present = 2 in my_tuple\n",
    "print(\"Is 2 present in the tuple?\", is_present)  # Output: Is 2 present in the tuple? True\n"
   ]
  },
  {
   "cell_type": "markdown",
   "id": "a727ba24-b2e2-4186-bfa5-779e116542b7",
   "metadata": {},
   "source": [
    "## Comparison with List Operations \n"
   ]
  },
  {
   "cell_type": "markdown",
   "id": "42f99bab-356a-412b-b950-a69b7aa67890",
   "metadata": {},
   "source": [
    "### Indexing refers to accessing individual elements in a tuple. In Python, indexing starts at 0, so the first element has an index of 0, the second has an index of 1, and so on."
   ]
  },
  {
   "cell_type": "code",
   "execution_count": 82,
   "id": "3153d1b3-9da0-466c-b153-507b0aee22d2",
   "metadata": {},
   "outputs": [
    {
     "name": "stdout",
     "output_type": "stream",
     "text": [
      "Element at index 2: 3\n"
     ]
    }
   ],
   "source": [
    "# Define a tuple\n",
    "my_tuple = (1, 2, 3, 4, 5)\n",
    "\n",
    "# Indexing: Access the element at index 2\n",
    "element = my_tuple[2]\n",
    "print(\"Element at index 2:\", element)  # Output: Element at index 2: 3\n"
   ]
  },
  {
   "cell_type": "markdown",
   "id": "32b53cd1-3a9d-4924-a7ab-97060b5604da",
   "metadata": {},
   "source": [
    "### Slicing allows you to access a subset of elements in a tuple by specifying a range of indices. It returns a new tuple containing the selected elements."
   ]
  },
  {
   "cell_type": "code",
   "execution_count": 83,
   "id": "53a9f7b9-4d3c-4f25-abb0-acce3ec2672e",
   "metadata": {},
   "outputs": [
    {
     "name": "stdout",
     "output_type": "stream",
     "text": [
      "Subset from index 1 to 3: (2, 3, 4)\n"
     ]
    }
   ],
   "source": [
    "# Define a tuple\n",
    "my_tuple = (1, 2, 3, 4, 5)\n",
    "\n",
    "# Slicing: Get a subset of elements from index 1 to 3 (exclusive)\n",
    "subset = my_tuple[1:4]\n",
    "print(\"Subset from index 1 to 3:\", subset)  # Output: Subset from index 1 to 3: (2, 3, 4)\n"
   ]
  },
  {
   "cell_type": "markdown",
   "id": "f4e9f544-d787-4075-9321-6efc4b292b64",
   "metadata": {},
   "source": [
    "### The len() function in Python is used to determine the length or the number of items in a sequence, such as a list, tuple, string, etc. It returns the number of elements present in the given sequence."
   ]
  },
  {
   "cell_type": "code",
   "execution_count": 84,
   "id": "77ee53b5-9379-4e24-8f17-62e280e3aab9",
   "metadata": {},
   "outputs": [
    {
     "name": "stdout",
     "output_type": "stream",
     "text": [
      "Length of the list: 5\n"
     ]
    }
   ],
   "source": [
    "# Define a list\n",
    "my_list = [1, 2, 3, 4, 5]\n",
    "\n",
    "# Get the length of the list\n",
    "length_list = len(my_list)\n",
    "\n",
    "# Print the length of the list\n",
    "print(\"Length of the list:\", length_list)\n"
   ]
  },
  {
   "cell_type": "markdown",
   "id": "be1cd6f4-3acc-4bce-b8c8-6ad0cd2b13d0",
   "metadata": {},
   "source": [
    "### The in operator in Python is used to check if a value exists in a sequence, such as a list, tuple, string, etc. It returns True if the value is found in the sequence, otherwise it returns False."
   ]
  },
  {
   "cell_type": "code",
   "execution_count": 86,
   "id": "c798537e-699e-4049-a498-3ac6ef60c975",
   "metadata": {},
   "outputs": [
    {
     "name": "stdout",
     "output_type": "stream",
     "text": [
      "Is 2 present in the list? True\n"
     ]
    }
   ],
   "source": [
    "# Define a list\n",
    "my_list = [1, 2, 3, 4, 5]\n",
    "\n",
    "# Membership check in a list\n",
    "is_present_list = 2 in my_list\n",
    "\n",
    "# Print whether the value is present in the list\n",
    "print(\"Is 2 present in the list?\", is_present_list)\n"
   ]
  },
  {
   "cell_type": "markdown",
   "id": "3f9d149f-dc76-4b94-b24d-b1b122e90d14",
   "metadata": {},
   "source": [
    "### Slicing and Indexing in Tuples\n"
   ]
  },
  {
   "cell_type": "markdown",
   "id": "ce6ea454-f82a-4b01-b319-60d8c895c108",
   "metadata": {},
   "source": [
    "### Indexing in tuples allows you to access individual elements by their position (index) in the tuple. Indexing starts from 0 for the first element, 1 for the second, and so on."
   ]
  },
  {
   "cell_type": "code",
   "execution_count": 87,
   "id": "06b67b35-a626-4e58-b851-533c8301d9c9",
   "metadata": {},
   "outputs": [
    {
     "name": "stdout",
     "output_type": "stream",
     "text": [
      "banana\n"
     ]
    }
   ],
   "source": [
    "# Example: Indexing in Tuples\n",
    "my_tuple = ('apple', 'banana', 'cherry')\n",
    "fruit = my_tuple[1]  # Accessing the second element ('banana')\n",
    "print(fruit)  # Output: banana\n"
   ]
  },
  {
   "cell_type": "markdown",
   "id": "3b67080d-c7c2-4d5e-9b07-0836bb68cc2a",
   "metadata": {},
   "source": [
    "### Slicing in tuples allows you to extract a subset of elements from a tuple by specifying a range of indices. It returns a new tuple containing the selected elements."
   ]
  },
  {
   "cell_type": "code",
   "execution_count": 88,
   "id": "8867afe3-181e-4789-860f-e3fa71edf59f",
   "metadata": {},
   "outputs": [
    {
     "name": "stdout",
     "output_type": "stream",
     "text": [
      "(2, 3, 4)\n"
     ]
    }
   ],
   "source": [
    "# Example: Slicing in Tuples\n",
    "my_tuple = (1, 2, 3, 4, 5)\n",
    "subset = my_tuple[1:4]  # Extracting elements at indices 1, 2, 3\n",
    "print(subset)  # Output: (2, 3, 4)\n"
   ]
  },
  {
   "cell_type": "markdown",
   "id": "cbdd4b0b-eb54-44d8-bc54-d05830993148",
   "metadata": {},
   "source": [
    "# Common Operations on Both Lists and Tuples"
   ]
  },
  {
   "cell_type": "markdown",
   "id": "dd0cbb88-1662-4635-878c-2aa44069104f",
   "metadata": {},
   "source": [
    "### Membership Testing (in)\n"
   ]
  },
  {
   "cell_type": "code",
   "execution_count": 89,
   "id": "f877a25e-d7cc-4366-9398-20d1ebebc6a0",
   "metadata": {},
   "outputs": [
    {
     "name": "stdout",
     "output_type": "stream",
     "text": [
      "Is 2 present in the list? True\n",
      "Is 'banana' present in the tuple? True\n"
     ]
    }
   ],
   "source": [
    "# Define a list\n",
    "my_list = [1, 2, 3]\n",
    "\n",
    "# Define a tuple\n",
    "my_tuple = ('apple', 'banana', 'cherry')\n",
    "\n",
    "# Membership testing in a list\n",
    "is_present_list = 2 in my_list\n",
    "\n",
    "# Membership testing in a tuple\n",
    "is_present_tuple = 'banana' in my_tuple\n",
    "\n",
    "# Print the results\n",
    "print(\"Is 2 present in the list?\", is_present_list)  # Output: Is 2 present in the list? True\n",
    "print(\"Is 'banana' present in the tuple?\", is_present_tuple)  # Output: Is 'banana' present in the tuple? True\n"
   ]
  },
  {
   "cell_type": "markdown",
   "id": "744c82af-845b-4a3f-a232-f8f0d522553d",
   "metadata": {},
   "source": [
    "### Concatenation (+)"
   ]
  },
  {
   "cell_type": "code",
   "execution_count": 91,
   "id": "63c80ae7-2957-49b1-b864-3b16948f4630",
   "metadata": {},
   "outputs": [
    {
     "name": "stdout",
     "output_type": "stream",
     "text": [
      "Concatenated list: [1, 2, 3, 4, 5]\n",
      "Concatenated tuple: ('a', 'b', 'c', 'd')\n"
     ]
    }
   ],
   "source": [
    "# Define lists\n",
    "list1 = [1, 2, 3]\n",
    "list2 = [4, 5]\n",
    "# Define tuples\n",
    "tuple1 = ('a', 'b')\n",
    "tuple2 = ('c', 'd')\n",
    "\n",
    "# Concatenation for lists\n",
    "concatenated_list = list1 + list2\n",
    "# Concatenation for tuples\n",
    "concatenated_tuple = tuple1 + tuple2\n",
    "\n",
    "# Print the concatenated lists and tuples\n",
    "print(\"Concatenated list:\", concatenated_list)  # Output: Concatenated list: [1, 2, 3, 4, 5]\n",
    "print(\"Concatenated tuple:\", concatenated_tuple)  # Output: Concatenated tuple: ('a', 'b', 'c', 'd')\n"
   ]
  },
  {
   "cell_type": "markdown",
   "id": "00f39837-16d0-4dd6-bb63-d8cb41c5cec2",
   "metadata": {},
   "source": [
    "### Repetition (*)"
   ]
  },
  {
   "cell_type": "code",
   "execution_count": 92,
   "id": "a924b615-0000-4a9a-8793-3c7ac9b0da0c",
   "metadata": {},
   "outputs": [
    {
     "name": "stdout",
     "output_type": "stream",
     "text": [
      "Repeated list: [1, 2, 1, 2, 1, 2]\n",
      "Repeated tuple: ('x', 'y', 'x', 'y')\n"
     ]
    }
   ],
   "source": [
    "# Define original lists and tuples\n",
    "original_list = [1, 2]\n",
    "original_tuple = ('x', 'y')\n",
    "\n",
    "# Repetition for lists\n",
    "repeated_list = original_list * 3\n",
    "# Repetition for tuples\n",
    "repeated_tuple = original_tuple * 2\n",
    "\n",
    "# Print the repeated lists and tuples\n",
    "print(\"Repeated list:\", repeated_list)  # Output: Repeated list: [1, 2, 1, 2, 1, 2]\n",
    "print(\"Repeated tuple:\", repeated_tuple)  # Output: Repeated tuple: ('x', 'y', 'x', 'y')\n"
   ]
  },
  {
   "cell_type": "markdown",
   "id": "4cee054d-0c21-4bd4-ac0f-2da384d57dee",
   "metadata": {},
   "source": [
    "### Conversion between Lists and Tuples:\n"
   ]
  },
  {
   "cell_type": "code",
   "execution_count": 94,
   "id": "8e5ef3dd-107d-4f1e-9ba8-b6cf03666173",
   "metadata": {},
   "outputs": [
    {
     "name": "stdout",
     "output_type": "stream",
     "text": [
      "Converted list to tuple: (1, 2, 3)\n",
      "Converted tuple to list: ['a', 'b', 'c']\n"
     ]
    }
   ],
   "source": [
    "# Define a list\n",
    "my_list = [1, 2, 3]\n",
    "\n",
    "# Convert list to tuple\n",
    "my_tuple = tuple(my_list)\n",
    "\n",
    "# Define a tuple\n",
    "another_tuple = ('a', 'b', 'c')\n",
    "\n",
    "# Convert tuple to list\n",
    "another_list = list(another_tuple)\n",
    "\n",
    "# Print the converted lists and tuples\n",
    "print(\"Converted list to tuple:\", my_tuple)  # Output: Converted list to tuple: (1, 2, 3)\n",
    "print(\"Converted tuple to list:\", another_list)  # Output: Converted tuple to list: ['a', 'b', 'c']\n"
   ]
  },
  {
   "cell_type": "code",
   "execution_count": null,
   "id": "e00c8521-f93b-4f84-93d0-e60f78ea89aa",
   "metadata": {},
   "outputs": [],
   "source": []
  }
 ],
 "metadata": {
  "kernelspec": {
   "display_name": "Python 3",
   "language": "python",
   "name": "python3"
  },
  "language_info": {
   "codemirror_mode": {
    "name": "ipython",
    "version": 3
   },
   "file_extension": ".py",
   "mimetype": "text/x-python",
   "name": "python",
   "nbconvert_exporter": "python",
   "pygments_lexer": "ipython3",
   "version": "3.12.3"
  }
 },
 "nbformat": 4,
 "nbformat_minor": 5
}
