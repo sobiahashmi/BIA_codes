{
 "cells": [
  {
   "cell_type": "code",
   "execution_count": null,
   "metadata": {},
   "outputs": [],
   "source": [
    "# parenthesis = '{[()]}' True\n",
    "# parenthesis = '[[()]}' False"
   ]
  },
  {
   "cell_type": "code",
   "execution_count": 48,
   "metadata": {},
   "outputs": [
    {
     "name": "stdout",
     "output_type": "stream",
     "text": [
      "bracked open: (\n"
     ]
    },
    {
     "ename": "TypeError",
     "evalue": "dict.values() takes no arguments (1 given)",
     "output_type": "error",
     "traceback": [
      "\u001b[1;31m---------------------------------------------------------------------------\u001b[0m",
      "\u001b[1;31mTypeError\u001b[0m                                 Traceback (most recent call last)",
      "Cell \u001b[1;32mIn[48], line 14\u001b[0m\n\u001b[0;32m     10\u001b[0m     \u001b[38;5;28;01mreturn\u001b[39;00m \u001b[38;5;28;01mTrue\u001b[39;00m\n\u001b[0;32m     12\u001b[0m     \u001b[38;5;28mprint\u001b[39m(Emp_list)\n\u001b[1;32m---> 14\u001b[0m \u001b[38;5;28mprint\u001b[39m(\u001b[43mcheck_parenthsis\u001b[49m\u001b[43m(\u001b[49m\u001b[38;5;124;43m'\u001b[39;49m\u001b[38;5;124;43m()]\u001b[39;49m\u001b[38;5;124;43m'\u001b[39;49m\u001b[43m)\u001b[49m)\n\u001b[0;32m     16\u001b[0m \u001b[38;5;66;03m# use pop to check the previous character available\u001b[39;00m\n\u001b[0;32m     17\u001b[0m \u001b[38;5;66;03m# use char\u001b[39;00m\n\u001b[0;32m     18\u001b[0m \u001b[38;5;66;03m# check bracket open and close\u001b[39;00m\n",
      "Cell \u001b[1;32mIn[48], line 8\u001b[0m, in \u001b[0;36mcheck_parenthsis\u001b[1;34m(string)\u001b[0m\n\u001b[0;32m      6\u001b[0m     \u001b[38;5;28;01mif\u001b[39;00m i \u001b[38;5;129;01min\u001b[39;00m Mapping_dict\u001b[38;5;241m.\u001b[39mkeys(): \u001b[38;5;66;03m# chr(40) = '(' , chr(41) = ')'\u001b[39;00m\n\u001b[0;32m      7\u001b[0m         \u001b[38;5;28mprint\u001b[39m(\u001b[38;5;124m'\u001b[39m\u001b[38;5;124mbracked open:\u001b[39m\u001b[38;5;124m'\u001b[39m, i)\n\u001b[1;32m----> 8\u001b[0m         pop_item \u001b[38;5;241m=\u001b[39m \u001b[43mMapping_dict\u001b[49m\u001b[38;5;241;43m.\u001b[39;49m\u001b[43mvalues\u001b[49m\u001b[43m(\u001b[49m\u001b[43mi\u001b[49m\u001b[43m)\u001b[49m\n\u001b[0;32m      9\u001b[0m         \u001b[38;5;28mprint\u001b[39m(\u001b[38;5;124m'\u001b[39m\u001b[38;5;124mPopped item:\u001b[39m\u001b[38;5;124m'\u001b[39m,Emp_list[pop_item])\n\u001b[0;32m     10\u001b[0m \u001b[38;5;28;01mreturn\u001b[39;00m \u001b[38;5;28;01mTrue\u001b[39;00m\n",
      "\u001b[1;31mTypeError\u001b[0m: dict.values() takes no arguments (1 given)"
     ]
    }
   ],
   "source": [
    "def check_parenthsis(string):\n",
    "    Emp_list = []\n",
    "    Mapping_dict = {'(':')' , '{':'}' , '[':']'}\n",
    "    for i in string:\n",
    "        Emp_list.append(i)\n",
    "        if i in Mapping_dict.keys(): # chr(40) = '(' , chr(41) = ')'\n",
    "            print('bracked open:', i)\n",
    "            pop_item = Mapping_dict.values(i)\n",
    "            print('Popped item:',Emp_list[pop_item])\n",
    "    return True\n",
    "        \n",
    "    print(Emp_list)\n",
    "\n",
    "print(check_parenthsis('()]'))\n",
    "\n",
    "# use pop to check the previous character available\n",
    "# use char\n",
    "# check bracket open and close"
   ]
  },
  {
   "cell_type": "code",
   "execution_count": 40,
   "metadata": {},
   "outputs": [],
   "source": [
    "# Problem: Create a function. Seprate num1 , num2 and operator"
   ]
  },
  {
   "cell_type": "code",
   "execution_count": 45,
   "metadata": {},
   "outputs": [
    {
     "name": "stdout",
     "output_type": "stream",
     "text": [
      "2.0\n"
     ]
    }
   ],
   "source": [
    "def calculation(num1,num2,operator):\n",
    "    if operator == '+':\n",
    "        return num1+num2\n",
    "    elif operator == '-':\n",
    "        return num1-num2\n",
    "    elif operator == '*':\n",
    "        return num1*num2\n",
    "    elif operator == '/':\n",
    "        return num1/num2\n",
    "    else:\n",
    "        print(\"Incorrect Operator\")\n",
    "\n",
    "print(calculation(4,2,'/'))"
   ]
  },
  {
   "cell_type": "code",
   "execution_count": null,
   "metadata": {},
   "outputs": [],
   "source": []
  }
 ],
 "metadata": {
  "kernelspec": {
   "display_name": "Python 3",
   "language": "python",
   "name": "python3"
  },
  "language_info": {
   "codemirror_mode": {
    "name": "ipython",
    "version": 3
   },
   "file_extension": ".py",
   "mimetype": "text/x-python",
   "name": "python",
   "nbconvert_exporter": "python",
   "pygments_lexer": "ipython3",
   "version": "3.12.3"
  }
 },
 "nbformat": 4,
 "nbformat_minor": 2
}
