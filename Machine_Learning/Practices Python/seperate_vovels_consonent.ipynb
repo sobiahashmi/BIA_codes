{
 "cells": [
  {
   "cell_type": "code",
   "execution_count": 10,
   "metadata": {},
   "outputs": [
    {
     "name": "stdout",
     "output_type": "stream",
     "text": [
      "(['i', 'i', 'a', 'o', 'o', 'e'], ['T', 'h', 's', ' ', 's', ' ', ' ', 'p', 'y', 't', 'h', 'n', ' ', 'p', 'r', 'b', 'l', 'm'])\n"
     ]
    }
   ],
   "source": [
    "# Seprate vowels and consonent from a string\n",
    "# Create a function that takes a string and returns two lists \n",
    "\n",
    "\n",
    "def separate_vowels_consonents(s):  \n",
    "    Emp_list1 = []\n",
    "    Emp_list2 = []\n",
    "  \n",
    "    for char in s: # 'This is a python problem'\n",
    "        if char in 'aeiouAEIOU':\n",
    "            Emp_list1.append(char)\n",
    "        else:\n",
    "            Emp_list2.append(char)\n",
    "\n",
    "    return Emp_list1,Emp_list2\n",
    "\n",
    "print(separate_vowels_consonents('This is a python problem'))\n"
   ]
  },
  {
   "cell_type": "markdown",
   "metadata": {},
   "source": []
  }
 ],
 "metadata": {
  "kernelspec": {
   "display_name": "Python 3",
   "language": "python",
   "name": "python3"
  },
  "language_info": {
   "codemirror_mode": {
    "name": "ipython",
    "version": 3
   },
   "file_extension": ".py",
   "mimetype": "text/x-python",
   "name": "python",
   "nbconvert_exporter": "python",
   "pygments_lexer": "ipython3",
   "version": "3.12.3"
  }
 },
 "nbformat": 4,
 "nbformat_minor": 2
}
