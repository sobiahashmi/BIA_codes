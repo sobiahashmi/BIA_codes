{
 "cells": [
  {
   "cell_type": "code",
   "execution_count": 10,
   "metadata": {},
   "outputs": [
    {
     "name": "stderr",
     "output_type": "stream",
     "text": [
      "ic| 'Python Program'\n"
     ]
    },
    {
     "name": "stdout",
     "output_type": "stream",
     "text": [
      "(['i', 'i', 'a', 'o', 'o', 'e'], ['T', 'h', 's', ' ', 's', ' ', ' ', 'p', 'y', 't', 'h', 'n', ' ', 'p', 'r', 'b', 'l', 'm'])\n"
     ]
    },
    {
     "data": {
      "text/plain": [
       "'Python Program'"
      ]
     },
     "execution_count": 10,
     "metadata": {},
     "output_type": "execute_result"
    }
   ],
   "source": [
    "# Seprate vowels and consonent from a string\n",
    "# Create a function that takes a string and returns two lists \n",
    "\n",
    "from icecream import ic\n",
    "\n",
    "def separate_vowels_consonents(s):  \n",
    "    Emp_list1 = []\n",
    "    Emp_list2 = []\n",
    "  \n",
    "    for char in s: # 'This is a python problem'\n",
    "        if char in 'aeiouAEIOU':\n",
    "            Emp_list1.append(char)\n",
    "        else:\n",
    "            Emp_list2.append(char)\n",
    "\n",
    "    return Emp_list1,Emp_list2\n",
    "\n",
    "print(separate_vowels_consonents('This is a python problem'))\n",
    "\n",
    "ic(\"Python Program\")\n"
   ]
  },
  {
   "cell_type": "code",
   "execution_count": null,
   "metadata": {},
   "outputs": [
    {
     "name": "stdout",
     "output_type": "stream",
     "text": [
      "Collecting icecream\n",
      "  Downloading icecream-2.1.3-py2.py3-none-any.whl.metadata (1.4 kB)\n",
      "Requirement already satisfied: colorama>=0.3.9 in c:\\users\\sobia alamgir\\appdata\\roaming\\python\\python312\\site-packages (from icecream) (0.4.6)\n",
      "Requirement already satisfied: pygments>=2.2.0 in c:\\users\\sobia alamgir\\appdata\\roaming\\python\\python312\\site-packages (from icecream) (2.18.0)\n",
      "Requirement already satisfied: executing>=0.3.1 in c:\\users\\sobia alamgir\\appdata\\roaming\\python\\python312\\site-packages (from icecream) (2.0.1)\n",
      "Requirement already satisfied: asttokens>=2.0.1 in c:\\users\\sobia alamgir\\appdata\\roaming\\python\\python312\\site-packages (from icecream) (2.4.1)\n",
      "Requirement already satisfied: six>=1.12.0 in c:\\users\\sobia alamgir\\appdata\\local\\programs\\python\\python312\\lib\\site-packages (from asttokens>=2.0.1->icecream) (1.16.0)\n",
      "Downloading icecream-2.1.3-py2.py3-none-any.whl (8.4 kB)\n",
      "Installing collected packages: icecream\n",
      "Successfully installed icecream-2.1.3\n",
      "Note: you may need to restart the kernel to use updated packages.\n"
     ]
    }
   ],
   "source": [
    "#pip install icecream"
   ]
  },
  {
   "cell_type": "markdown",
   "metadata": {},
   "source": []
  }
 ],
 "metadata": {
  "kernelspec": {
   "display_name": "Python 3",
   "language": "python",
   "name": "python3"
  },
  "language_info": {
   "codemirror_mode": {
    "name": "ipython",
    "version": 3
   },
   "file_extension": ".py",
   "mimetype": "text/x-python",
   "name": "python",
   "nbconvert_exporter": "python",
   "pygments_lexer": "ipython3",
   "version": "3.12.3"
  }
 },
 "nbformat": 4,
 "nbformat_minor": 2
}
