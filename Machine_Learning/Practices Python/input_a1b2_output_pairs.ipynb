{
 "cells": [
  {
   "cell_type": "code",
   "execution_count": null,
   "metadata": {},
   "outputs": [],
   "source": [
    "# input = 'a1b2'\n",
    "# output = ['a1b2' , 'A1b2 , 'a1B2' , A1B2]"
   ]
  },
  {
   "cell_type": "code",
   "execution_count": null,
   "metadata": {},
   "outputs": [
    {
     "name": "stdout",
     "output_type": "stream",
     "text": [
      "['a1b2', 'a1B2', 'A1b2', 'A1B2']\n"
     ]
    }
   ],
   "source": [
    "def combinations(s):\n",
    "   result = [\"\"]\n",
    "   for char in s:\n",
    "      new_result = []\n",
    "      if char.isalpha(): # a\n",
    "         for perm in result:\n",
    "            new_result.append(perm + char.lower())   #a\n",
    "            new_result.append(perm + char.upper()) #A\n",
    "      else:\n",
    "         for perm in result:\n",
    "            new_result.append(perm + char)\n",
    "      result = new_result\n",
    "   return result\n",
    "\n",
    "print(combinations('a1b2'))"
   ]
  },
  {
   "cell_type": "code",
   "execution_count": null,
   "metadata": {},
   "outputs": [],
   "source": []
  },
  {
   "cell_type": "code",
   "execution_count": null,
   "metadata": {},
   "outputs": [],
   "source": []
  }
 ],
 "metadata": {
  "kernelspec": {
   "display_name": "Python 3",
   "language": "python",
   "name": "python3"
  },
  "language_info": {
   "codemirror_mode": {
    "name": "ipython",
    "version": 3
   },
   "file_extension": ".py",
   "mimetype": "text/x-python",
   "name": "python",
   "nbconvert_exporter": "python",
   "pygments_lexer": "ipython3",
   "version": "3.12.3"
  }
 },
 "nbformat": 4,
 "nbformat_minor": 2
}
