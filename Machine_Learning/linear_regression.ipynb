{
 "cells": [
  {
   "cell_type": "markdown",
   "metadata": {},
   "source": [
    "# Supervised Learning​\n",
    "    - Utilizes labeled data for training.​\n",
    "    - Makes predictions based on patterns in labeled examples.​\n",
    "    - Common in tasks like classification and regression.​"
   ]
  },
  {
   "cell_type": "markdown",
   "metadata": {},
   "source": [
    "## STEP # 1 - Data Generation"
   ]
  },
  {
   "cell_type": "code",
   "execution_count": 3,
   "metadata": {},
   "outputs": [],
   "source": [
    "import pandas as pd\n",
    "import numpy as np\n",
    "import matplotlib.pyplot as plt\n",
    "from sklearn.model_selection import train_test_split\n",
    "from sklearn.linear_model import LinearRegression\n",
    "from sklearn.metrics import mean_squared_error,r2_score"
   ]
  },
  {
   "cell_type": "code",
   "execution_count": null,
   "metadata": {},
   "outputs": [],
   "source": [
    "# pip install scikit-learn\n",
    "# !python.exe -m pip install --upgrade pip"
   ]
  },
  {
   "cell_type": "code",
   "execution_count": null,
   "metadata": {},
   "outputs": [],
   "source": [
    "# Data Preparation\n",
    "np.random.seed(0)\n",
    "hours_studied = np.random.uniform(0,10,100) # synthetic data \n",
    "exam_scores = 50 + 5 * hours_studied + np.random.normal(0,2,100)  # synthetic data \n",
    "# np.random.normal(0,2,100) to add Noise"
   ]
  },
  {
   "cell_type": "code",
   "execution_count": 7,
   "metadata": {},
   "outputs": [
    {
     "data": {
      "text/plain": [
       "array([ 75.11037551,  87.56112129,  81.06949368,  74.17167178,\n",
       "        74.15924435,  86.08648401,  74.23691971,  94.22880037,\n",
       "        96.04163278,  71.2809794 ,  88.77989801,  78.88963613,\n",
       "        78.81877801,  98.23310999,  54.2645357 ,  55.76961132,\n",
       "        51.03191991,  95.20273327,  89.16166173,  94.30458614,\n",
       "       102.69721851,  87.26241009,  70.53299812,  90.96525223,\n",
       "        53.56747448,  85.88329344,  56.34042641,  95.73853623,\n",
       "        79.93830014,  73.69412658,  66.96289853,  90.52377379,\n",
       "        71.08506524,  82.24182735,  50.40348328,  82.48668765,\n",
       "        82.49929007,  80.53667966,  98.41556267,  85.9354283 ,\n",
       "        68.72824609,  69.65279611,  85.47803614,  55.66404537,\n",
       "        81.94920005,  83.2326244 ,  59.64882095,  60.14484234,\n",
       "        67.11600706,  69.00046222,  76.97000637,  73.00857406,\n",
       "        98.07002658,  55.16590165,  59.17214565,  59.41834248,\n",
       "        83.80859791,  62.24798262,  74.10755207,  60.03515658,\n",
       "        54.965964  ,  56.39754046,  83.14982646,  58.17921044,\n",
       "        64.59540763,  70.32521751,  89.22401704,  57.08909637,\n",
       "        89.26543055,  53.88175119,  98.68649004,  76.85924553,\n",
       "        97.34854477,  78.58939891,  86.76627392,  50.63243304,\n",
       "        66.39361997,  53.84996504,  62.51207257,  55.06074586,\n",
       "        64.90309407,  74.57221383,  55.10621643,  84.79870845,\n",
       "        75.87920167,  64.9582005 ,  74.16197198,  51.60748334,\n",
       "        81.17338436,  97.0986951 ,  67.77016527,  84.0079743 ,\n",
       "        58.30355434,  84.51430902,  62.40181896,  60.52275714,\n",
       "        77.71882741,  49.62627775,  90.53593645,  50.26973213])"
      ]
     },
     "execution_count": 7,
     "metadata": {},
     "output_type": "execute_result"
    }
   ],
   "source": [
    "exam_scores"
   ]
  },
  {
   "cell_type": "code",
   "execution_count": 12,
   "metadata": {},
   "outputs": [
    {
     "data": {
      "text/plain": [
       "array([-1.35605156e+00,  2.59569158e+00, -4.72834763e+00,  4.06683634e-02,\n",
       "       -2.69585085e+00, -1.52314678e+00,  4.02251336e+00, -8.91908529e-02,\n",
       "        3.90139394e-01, -3.56312571e+00, -1.45808932e+00,  3.93114801e-01,\n",
       "        7.09515386e-01,  1.23377311e+00,  1.72557978e-02,  1.05400842e+00,\n",
       "        9.07563825e-01, -3.65948082e+00,  7.40114438e-02,  1.53580482e+00,\n",
       "        1.17975964e+00, -7.27717620e-01, -1.61125302e+00, -2.23662385e+00,\n",
       "       -2.62108023e-01,  2.26615976e+00, -3.90360820e+00, -1.31978346e+00,\n",
       "       -2.27960491e+00,  1.56991504e+00, -1.10861925e+00, -9.41275316e-01,\n",
       "       -4.33899140e-01,  8.90786502e-01, -7.84777996e-01, -6.09228611e+00,\n",
       "        1.08662378e+00,  8.78085915e-01, -4.39082057e-01, -2.16807324e+00,\n",
       "        7.03560221e-01,  7.58471067e-01, -9.40065765e-01, -4.33462941e-01,\n",
       "       -1.86031301e+00, -3.57178184e-01, -3.10085869e+00,  8.34637642e-01,\n",
       "       -1.88873698e+00,  4.76206296e-01, -2.81192583e+00, -1.18011529e+00,\n",
       "       -2.20978810e-01, -3.32139962e+00,  2.30295746e-01, -7.58295126e-01,\n",
       "       -3.48471240e+00, -2.60648551e+00,  1.21024017e+00,  1.79111197e+00,\n",
       "       -2.63817280e-01,  8.09523624e-01,  4.47687127e-01,  6.59245964e-01,\n",
       "        2.57196801e+00, -3.01399680e+00,  1.35292146e+00, -7.64017911e-01,\n",
       "       -4.48517869e-01, -6.04499461e-01, -7.50294233e-01, -2.45239238e+00,\n",
       "        3.66678399e-01,  3.34188607e+00, -1.12266041e-01, -2.77008547e-03,\n",
       "       -1.37459807e+00, -2.34949093e-01,  9.32332852e-01, -7.40484881e-01,\n",
       "       -9.07608082e-01,  8.06529080e-01, -1.83600954e+00,  5.04993254e-01,\n",
       "        1.64064359e+00,  2.71989708e+00, -1.80764015e-01,  2.73519448e+00,\n",
       "        2.06881977e+00, -1.99242528e+00, -2.43587702e+00, -6.09927276e-01,\n",
       "        2.05787099e+00, -1.44574015e-01, -1.20131512e+00,  3.10448636e+00,\n",
       "        5.73808976e-01, -4.64118855e+00,  6.34321253e-01,  1.04008123e+00])"
      ]
     },
     "execution_count": 12,
     "metadata": {},
     "output_type": "execute_result"
    }
   ],
   "source": [
    "np.random.normal(0,2,100)"
   ]
  },
  {
   "cell_type": "code",
   "execution_count": null,
   "metadata": {},
   "outputs": [
    {
     "ename": "TypeError",
     "evalue": "unhashable type: 'numpy.ndarray'",
     "output_type": "error",
     "traceback": [
      "\u001b[1;31m---------------------------------------------------------------------------\u001b[0m",
      "\u001b[1;31mTypeError\u001b[0m                                 Traceback (most recent call last)",
      "Cell \u001b[1;32mIn[13], line 2\u001b[0m\n\u001b[0;32m      1\u001b[0m \u001b[38;5;66;03m# create dataframe\u001b[39;00m\n\u001b[1;32m----> 2\u001b[0m df \u001b[38;5;241m=\u001b[39m pd\u001b[38;5;241m.\u001b[39mDataFrame({hours_studied,exam_scores})\n\u001b[0;32m      3\u001b[0m df\n",
      "\u001b[1;31mTypeError\u001b[0m: unhashable type: 'numpy.ndarray'"
     ]
    }
   ],
   "source": [
    "# create dataframe\n",
    "df = pd.({hours_studied,exam_scores})\n",
    "df"
   ]
  },
  {
   "cell_type": "code",
   "execution_count": null,
   "metadata": {},
   "outputs": [],
   "source": []
  }
 ],
 "metadata": {
  "kernelspec": {
   "display_name": "Python 3",
   "language": "python",
   "name": "python3"
  },
  "language_info": {
   "codemirror_mode": {
    "name": "ipython",
    "version": 3
   },
   "file_extension": ".py",
   "mimetype": "text/x-python",
   "name": "python",
   "nbconvert_exporter": "python",
   "pygments_lexer": "ipython3",
   "version": "3.12.3"
  }
 },
 "nbformat": 4,
 "nbformat_minor": 2
}
