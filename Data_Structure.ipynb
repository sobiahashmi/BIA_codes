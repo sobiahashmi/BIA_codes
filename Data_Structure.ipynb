{
 "cells": [
  {
   "cell_type": "markdown",
   "metadata": {},
   "source": [
    "# List and Tuples"
   ]
  },
  {
   "cell_type": "markdown",
   "metadata": {},
   "source": [
    "### Creating List\n",
    "- Mutable\n",
    "- denoted by square brackets [  ]"
   ]
  },
  {
   "cell_type": "code",
   "execution_count": 1,
   "metadata": {},
   "outputs": [
    {
     "name": "stdout",
     "output_type": "stream",
     "text": [
      "[1, 2, 3, 4, 5]\n"
     ]
    }
   ],
   "source": [
    "numbers = [1,2,3,4,5]\n",
    "print(numbers)"
   ]
  },
  {
   "cell_type": "code",
   "execution_count": 5,
   "metadata": {},
   "outputs": [
    {
     "data": {
      "text/plain": [
       "list"
      ]
     },
     "execution_count": 5,
     "metadata": {},
     "output_type": "execute_result"
    }
   ],
   "source": [
    "# To check the datatype of variable\n",
    "type(numbers)"
   ]
  },
  {
   "cell_type": "markdown",
   "metadata": {},
   "source": [
    "### Create a Empty List"
   ]
  },
  {
   "cell_type": "code",
   "execution_count": 7,
   "metadata": {},
   "outputs": [
    {
     "name": "stdout",
     "output_type": "stream",
     "text": [
      "Empty List: []\n"
     ]
    }
   ],
   "source": [
    "empty_list = []\n",
    "print(\"Empty List:\", empty_list)"
   ]
  },
  {
   "cell_type": "markdown",
   "metadata": {},
   "source": [
    "### Creating a list with Elements"
   ]
  },
  {
   "cell_type": "code",
   "execution_count": 25,
   "metadata": {},
   "outputs": [
    {
     "name": "stdout",
     "output_type": "stream",
     "text": [
      "Numeric List: [1, 2, 3, 4]\n",
      "Mixed List: [1, 'two', 3.0, [4, [1, 2, 3]]]\n"
     ]
    },
    {
     "data": {
      "text/plain": [
       "1"
      ]
     },
     "execution_count": 25,
     "metadata": {},
     "output_type": "execute_result"
    }
   ],
   "source": [
    "numeric_list = [1,2,3,4]\n",
    "mixed_list = [1,'two',3.0,[4,[1,2,3]]]\n",
    "\n",
    "print(\"Numeric List:\",numeric_list)\n",
    "print(\"Mixed List:\", mixed_list)\n",
    "\n",
    "mixed_list[3][1][1] # Nested List Elements Access -- value = [1]\n",
    "mixed_list[3][0]    # -- value = [4]\n",
    "mixed_list[3][1][0] # Pick first element of 4rd INDEX"
   ]
  },
  {
   "cell_type": "code",
   "execution_count": 38,
   "metadata": {},
   "outputs": [
    {
     "name": "stdout",
     "output_type": "stream",
     "text": [
      "Python is easy and fun. <class 'str'>\n",
      "['Python', 'is', 'easy', 'and', 'fun.'] <class 'list'>\n",
      "['Python', 'is', 'easy', 'and fun.'] <class 'list'>\n",
      "Joined Sentence:  Python is easy and fun. <class 'str'>\n",
      "Python and fun.\n"
     ]
    }
   ],
   "source": [
    "sentence = \"Python is easy and fun.\"\n",
    "print(sentence,type(sentence))\n",
    "\n",
    "words = sentence.split() # split will work on Strings Functions Only\n",
    "print(words,type(words))  \n",
    "\n",
    "sentence2 = \"Python-is-easy-and fun.\"\n",
    "words = sentence2.split(\"-\")\n",
    "print(words,type(words))\n",
    "\n",
    "joined_sentence = \" \".join(words)\n",
    "print(\"Joined Sentence: \", joined_sentence,type(joined_sentence))\n",
    "\n",
    "print(words[0],words[3])"
   ]
  },
  {
   "cell_type": "markdown",
   "metadata": {},
   "source": [
    "### List is Mutable. Let's see"
   ]
  },
  {
   "cell_type": "code",
   "execution_count": 40,
   "metadata": {},
   "outputs": [
    {
     "name": "stdout",
     "output_type": "stream",
     "text": [
      "[1, 2, 4.0, 'str']\n"
     ]
    }
   ],
   "source": [
    "n_list = [1,2,3,4]\n",
    "\n",
    "n_list[2] = 4.0\n",
    "n_list[3] = \"str\"\n",
    "print(n_list)"
   ]
  },
  {
   "cell_type": "markdown",
   "metadata": {},
   "source": [
    "## Tuple\n",
    "- Immutable\n",
    "- denoted by round bracket (  )"
   ]
  },
  {
   "cell_type": "code",
   "execution_count": 45,
   "metadata": {},
   "outputs": [
    {
     "name": "stdout",
     "output_type": "stream",
     "text": [
      "('apple', 'banana', 'cherry')\n",
      "(1, 2, 'three', 4.0) <class 'tuple'>\n"
     ]
    }
   ],
   "source": [
    "fruits_tuple = (\"apple\", \"banana\",\"cherry\")\n",
    "print(fruits_tuple)  # Output: ('apple', 'banana', 'cherry')\n",
    "\n",
    "my_tuple = (1,2,'three',4.0)\n",
    "# my_tuple[2] = 'changed'\n",
    "print(my_tuple,type(my_tuple))"
   ]
  },
  {
   "cell_type": "markdown",
   "metadata": {},
   "source": [
    "### Common List Operations"
   ]
  },
  {
   "cell_type": "code",
   "execution_count": 48,
   "metadata": {},
   "outputs": [
    {
     "name": "stdout",
     "output_type": "stream",
     "text": [
      "[1, 2, 3, 23, 45]\n"
     ]
    }
   ],
   "source": [
    "my_list = [1,2,3]\n",
    "my_list.append(23) # Adds at the end\n",
    "my_list.append(45)\n",
    "\n",
    "print(my_list)"
   ]
  },
  {
   "cell_type": "code",
   "execution_count": 50,
   "metadata": {},
   "outputs": [
    {
     "name": "stdout",
     "output_type": "stream",
     "text": [
      "['try', 'try', 'try', 'try', 'try'] <class 'list'>\n"
     ]
    }
   ],
   "source": [
    "my_list = []\n",
    "for i in range(5):\n",
    "    my_list.append(\"try\")\n",
    "\n",
    "print(my_list,type(my_list))"
   ]
  },
  {
   "cell_type": "markdown",
   "metadata": {},
   "source": [
    "### Extend: Adds element of another list to the end of the list"
   ]
  },
  {
   "cell_type": "code",
   "execution_count": 53,
   "metadata": {},
   "outputs": [
    {
     "name": "stdout",
     "output_type": "stream",
     "text": [
      "After extend: [1, 2, 3, 4, 5, 1.0, 2]\n"
     ]
    }
   ],
   "source": [
    "list1 = [1,2,3]\n",
    "list2 = [4,5,1.0,2]\n",
    "\n",
    "list1.extend(list2)\n",
    "print(\"After extend:\", list1)"
   ]
  },
  {
   "cell_type": "markdown",
   "metadata": {},
   "source": [
    "Insert: Inserts an element at a specified position in the list."
   ]
  },
  {
   "cell_type": "code",
   "execution_count": 54,
   "metadata": {},
   "outputs": [
    {
     "name": "stdout",
     "output_type": "stream",
     "text": [
      "After insert: [1, [66, 77], 2, 3]\n"
     ]
    }
   ],
   "source": [
    "my_list = [1,2,3]\n",
    "my_list.insert(1,[66,77])\n",
    "print(\"After insert:\", my_list)"
   ]
  },
  {
   "cell_type": "code",
   "execution_count": 55,
   "metadata": {},
   "outputs": [
    {
     "data": {
      "text/plain": [
       "[99, [66, 77], 2, 3]"
      ]
     },
     "execution_count": 55,
     "metadata": {},
     "output_type": "execute_result"
    }
   ],
   "source": [
    "my_list[0] = 99\n",
    "my_list"
   ]
  },
  {
   "cell_type": "markdown",
   "metadata": {},
   "source": [
    "### Removal"
   ]
  },
  {
   "cell_type": "code",
   "execution_count": 59,
   "metadata": {},
   "outputs": [
    {
     "name": "stdout",
     "output_type": "stream",
     "text": [
      "After remove: [11, 33, 44, 22, 55]\n"
     ]
    }
   ],
   "source": [
    "# Element based removal\n",
    "my_list = [11,22,33,44,22,55]\n",
    "my_list.remove(22) # Remove the first occurance of 22\n",
    "print(\"After remove:\", my_list)"
   ]
  },
  {
   "cell_type": "markdown",
   "metadata": {},
   "source": [
    "pop(): removes and return the elementat a specified index"
   ]
  },
  {
   "cell_type": "code",
   "execution_count": 60,
   "metadata": {},
   "outputs": [
    {
     "name": "stdout",
     "output_type": "stream",
     "text": [
      "Popped item:  2\n",
      "After Pop:  [1, 3]\n"
     ]
    }
   ],
   "source": [
    "# Index based removal\n",
    "my_list = [1,2,3]\n",
    "popped_item = my_list.pop(1)\n",
    "print(\"Popped item: \", popped_item)\n",
    "print(\"After Pop: \", my_list)"
   ]
  },
  {
   "cell_type": "markdown",
   "metadata": {},
   "source": [
    "### del\n",
    "- index based deleting"
   ]
  },
  {
   "cell_type": "code",
   "execution_count": 61,
   "metadata": {},
   "outputs": [
    {
     "name": "stdout",
     "output_type": "stream",
     "text": [
      "After del: [1, 3]\n"
     ]
    }
   ],
   "source": [
    "my_list = [1,2,3]\n",
    "del my_list[1]\n",
    "print(\"After del:\", my_list)"
   ]
  },
  {
   "cell_type": "markdown",
   "metadata": {},
   "source": [
    "### Checking membership in Python"
   ]
  },
  {
   "cell_type": "code",
   "execution_count": 64,
   "metadata": {},
   "outputs": [
    {
     "name": "stdout",
     "output_type": "stream",
     "text": [
      "True\n",
      "7\n",
      "2\n",
      "96\n"
     ]
    }
   ],
   "source": [
    "my_list = [7,2,96]\n",
    "\n",
    "if 2 in my_list:\n",
    "    print(True)\n",
    "else:\n",
    "    print(False)\n",
    "\n",
    "for i in my_list:\n",
    "    print(i)"
   ]
  },
  {
   "cell_type": "code",
   "execution_count": 68,
   "metadata": {},
   "outputs": [
    {
     "name": "stdout",
     "output_type": "stream",
     "text": [
      "96\n"
     ]
    }
   ],
   "source": [
    "# Excecute the loop when value = 96\n",
    "\n",
    "list = [1,2,96]\n",
    "for i in list:\n",
    "    if i == 96:\n",
    "        print(i)"
   ]
  },
  {
   "cell_type": "markdown",
   "metadata": {},
   "source": [
    "### List Manipulation Techniques"
   ]
  },
  {
   "cell_type": "code",
   "execution_count": 70,
   "metadata": {},
   "outputs": [
    {
     "name": "stdout",
     "output_type": "stream",
     "text": [
      "[1, 2, 3]\n"
     ]
    }
   ],
   "source": [
    "# Reverse th string\n",
    "mylist = [3,2,1]\n",
    "mylist.reverse()\n",
    "print(mylist)"
   ]
  },
  {
   "cell_type": "code",
   "execution_count": 72,
   "metadata": {},
   "outputs": [
    {
     "name": "stdout",
     "output_type": "stream",
     "text": [
      "Copied List:  [1, 2, 3]\n"
     ]
    }
   ],
   "source": [
    "# Make a copy\n",
    "mylist = [1,2,3]\n",
    "copied_list = mylist.copy()\n",
    "\n",
    "print(\"Copied List: \", copied_list)"
   ]
  },
  {
   "cell_type": "code",
   "execution_count": 74,
   "metadata": {},
   "outputs": [
    {
     "name": "stdout",
     "output_type": "stream",
     "text": [
      "4\n"
     ]
    }
   ],
   "source": [
    "# Counting Occurances\n",
    "my_list = [1,2,3,4,5,23,3,3,4,4,2,3]\n",
    "count_occur = my_list.count(3)\n",
    "print(count_occur)"
   ]
  },
  {
   "cell_type": "code",
   "execution_count": 76,
   "metadata": {},
   "outputs": [
    {
     "name": "stdout",
     "output_type": "stream",
     "text": [
      "cherry\n",
      "cat\n"
     ]
    }
   ],
   "source": [
    "# Execute the loop, print those elements start with \"c\"\n",
    "\n",
    "fruits = [\"apple\",\"banana\",\"cherry\", \"cat\",\"bed\"]\n",
    "for i in fruits:\n",
    "    if i.startswith(\"c\"):\n",
    "        print(i)\n"
   ]
  },
  {
   "cell_type": "code",
   "execution_count": null,
   "metadata": {},
   "outputs": [],
   "source": []
  }
 ],
 "metadata": {
  "kernelspec": {
   "display_name": "Python 3",
   "language": "python",
   "name": "python3"
  },
  "language_info": {
   "codemirror_mode": {
    "name": "ipython",
    "version": 3
   },
   "file_extension": ".py",
   "mimetype": "text/x-python",
   "name": "python",
   "nbconvert_exporter": "python",
   "pygments_lexer": "ipython3",
   "version": "3.12.3"
  }
 },
 "nbformat": 4,
 "nbformat_minor": 2
}
