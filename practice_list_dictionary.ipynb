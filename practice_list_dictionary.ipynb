{
 "cells": [
  {
   "cell_type": "markdown",
   "metadata": {},
   "source": [
    "### List Questions:"
   ]
  },
  {
   "cell_type": "code",
   "execution_count": 2,
   "metadata": {},
   "outputs": [
    {
     "name": "stdout",
     "output_type": "stream",
     "text": [
      "[6, 5, 4, 3, 2, 1]\n"
     ]
    }
   ],
   "source": [
    "# Reverse a List: Write a Python program that reverses a list.\n",
    "list1 = [1,2,3,4,5,6]\n",
    "print(list1[::-1])"
   ]
  },
  {
   "cell_type": "code",
   "execution_count": 4,
   "metadata": {},
   "outputs": [
    {
     "name": "stdout",
     "output_type": "stream",
     "text": [
      "Maximum value: 12 \n",
      "Minimum value: 2\n"
     ]
    }
   ],
   "source": [
    "# Find the Maximum and Minimum: \n",
    "# Create a function that takes a list of numbers and returns the maximum and minimum numbers.\n",
    "list2 = [2,4,6,8,10,12]\n",
    "print(\"Maximum value:\",max(list2),\"\\nMinimum value:\", min(list2))\n",
    "\n"
   ]
  },
  {
   "cell_type": "code",
   "execution_count": 12,
   "metadata": {},
   "outputs": [
    {
     "name": "stdout",
     "output_type": "stream",
     "text": [
      "[4, 9, 16, 25]\n",
      "[4, 9, 16, 25, 36]\n"
     ]
    }
   ],
   "source": [
    "# List Comprehension: Use list comprehension to square every number in a given list.\n",
    "emp_list = []\n",
    "\n",
    "# Mehod#1\n",
    "def square (list):\n",
    "    for i in list:\n",
    "        emp_list.append(i**2)\n",
    "    return emp_list\n",
    "\n",
    "print(square([2,3,4,5]))\n",
    "\n",
    "# Method#2\n",
    "def list_square(num):\n",
    "    return [i**2 for i in num]\n",
    "\n",
    "numbers = [2,3,4,5,6]\n",
    "print(list_square(numbers))"
   ]
  },
  {
   "cell_type": "code",
   "execution_count": 20,
   "metadata": {},
   "outputs": [
    {
     "name": "stdout",
     "output_type": "stream",
     "text": [
      "[2, 3, 4, 5, 6, 7]\n"
     ]
    }
   ],
   "source": [
    "# Remove Duplicates: \n",
    "# Write a Python function that takes a list and returns a new list without duplicates.\n",
    "\n",
    "emp_list = []\n",
    "def remove_duplicates(num):\n",
    "    for i in num:  # [2,3,4,4,5,5,5,6,7]\n",
    "        if i not in emp_list:  \n",
    "            emp_list.append(i)        \n",
    "    return emp_list\n",
    "        \n",
    "numbers = [2,3,4,4,5,5,5,6,7]\n",
    "print(remove_duplicates(numbers))\n"
   ]
  },
  {
   "cell_type": "code",
   "execution_count": 31,
   "metadata": {},
   "outputs": [
    {
     "name": "stdout",
     "output_type": "stream",
     "text": [
      "[7, 8, 2, 3, 4, 5]\n"
     ]
    }
   ],
   "source": [
    "# Rotate List: \n",
    "# Write a function that rotates the elements of a list to the right by a given number of steps.\n",
    "\n",
    "k = 2\n",
    "list1 = [2,3,4,5,6,7,8]\n",
    "# Expected output: [7,8,2,3,4,5,6]\n",
    "\n",
    "output_list = list1[5:] + list1[:-3]\n",
    "print(output_list)"
   ]
  },
  {
   "cell_type": "markdown",
   "metadata": {},
   "source": [
    "### Dictionary Questions"
   ]
  },
  {
   "cell_type": "code",
   "execution_count": 38,
   "metadata": {},
   "outputs": [
    {
     "name": "stdout",
     "output_type": "stream",
     "text": [
      "Merge dict1 and dict2 :  {'Zainab': 6, 'Usman': 4, 'Ayesha': 5, 'Enaya': 11, 'Essa': 7}\n"
     ]
    }
   ],
   "source": [
    "# Merge Dictionaries: \n",
    "# Write a function that merges two dictionaries into one dictionary. \n",
    "# If there is an overlap, prefer the key-value pairs from the second dictionary.\n",
    "\n",
    "Emp_dict = {}\n",
    "def merge_dictionary():\n",
    "    dict1 = {\"Zainab\":6 , \"Usman\": 4, \"Ayesha\":6}\n",
    "    dict2 = {\"Enaya\":11, \"Essa\":7 , \"Ayesha\":5}\n",
    "    dict1.update(dict2)\n",
    "    return dict1\n",
    "print(\"Merge dict1 and dict2 : \" , merge_dictionary())\n",
    "\n"
   ]
  },
  {
   "cell_type": "code",
   "execution_count": null,
   "metadata": {},
   "outputs": [],
   "source": [
    "# Count Characters: \n",
    "# Create a function that counts the frequency of each character in a given string \n",
    "# and returns a dictionary with the characters as keys.\n",
    "\n",
    "\n"
   ]
  },
  {
   "cell_type": "code",
   "execution_count": null,
   "metadata": {},
   "outputs": [],
   "source": [
    "# Dictionary Comprehension: Use dictionary comprehension to create a dictionary where the keys are numbers between 1 and 10 (inclusive) and the values are the squares of the keys.\n"
   ]
  },
  {
   "cell_type": "code",
   "execution_count": null,
   "metadata": {},
   "outputs": [],
   "source": [
    "# Invert a Dictionary: Write a function that inverts a dictionary, swapping keys with their values. Handle the case where multiple keys have the same value.\n"
   ]
  },
  {
   "cell_type": "code",
   "execution_count": null,
   "metadata": {},
   "outputs": [],
   "source": [
    "# Extract Unique Values: Given a dictionary, write a function that returns a list of all unique values in the dictionary."
   ]
  }
 ],
 "metadata": {
  "kernelspec": {
   "display_name": "Python 3",
   "language": "python",
   "name": "python3"
  },
  "language_info": {
   "codemirror_mode": {
    "name": "ipython",
    "version": 3
   },
   "file_extension": ".py",
   "mimetype": "text/x-python",
   "name": "python",
   "nbconvert_exporter": "python",
   "pygments_lexer": "ipython3",
   "version": "3.12.3"
  }
 },
 "nbformat": 4,
 "nbformat_minor": 2
}
