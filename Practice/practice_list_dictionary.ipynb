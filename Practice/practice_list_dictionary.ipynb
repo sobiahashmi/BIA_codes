{
 "cells": [
  {
   "cell_type": "markdown",
   "metadata": {},
   "source": [
    "## **List Practice Questions**\n"
   ]
  },
  {
   "cell_type": "markdown",
   "metadata": {},
   "source": [
    "- Sum of Elements: Write a function that takes a list of numbers and returns the sum of all the elements."
   ]
  },
  {
   "cell_type": "code",
   "execution_count": 1,
   "metadata": {},
   "outputs": [
    {
     "name": "stdout",
     "output_type": "stream",
     "text": [
      "12\n"
     ]
    }
   ],
   "source": [
    "def sum_of_list(list):\n",
    "    a = sum(list)\n",
    "    return a\n",
    "print(sum_of_list([2,4,6]))\n"
   ]
  },
  {
   "cell_type": "markdown",
   "metadata": {},
   "source": [
    "- Largest Element: Write a function that finds the largest number in a list."
   ]
  },
  {
   "cell_type": "code",
   "execution_count": 3,
   "metadata": {},
   "outputs": [
    {
     "name": "stdout",
     "output_type": "stream",
     "text": [
      "67\n"
     ]
    }
   ],
   "source": [
    "def largest_number (list):\n",
    "    a = max(list)\n",
    "    return a\n",
    "print(largest_number([2,5,67,34,23]))"
   ]
  },
  {
   "cell_type": "markdown",
   "metadata": {},
   "source": [
    "- Count Occurrences: Given a list of strings, write a function that counts how many times each string appears and returns a dictionary with the counts."
   ]
  },
  {
   "cell_type": "code",
   "execution_count": 8,
   "metadata": {},
   "outputs": [
    {
     "name": "stdout",
     "output_type": "stream",
     "text": [
      "{'s': 1, 'o': 1, 'b': 1, 'i': 2, 'a': 3, '-': 1, 'l': 1, 'm': 1, 'g': 1, 'r': 1}\n"
     ]
    }
   ],
   "source": [
    "\n",
    "Emp_dict = {}\n",
    "\n",
    "def count_occurance(string):\n",
    "    \n",
    "    for i in string: # sobia-alamgir\n",
    "        if i in Emp_dict:             \n",
    "            Emp_dict[i] += 1\n",
    "        else:\n",
    "            Emp_dict[i] = 1\n",
    "    \n",
    "    return Emp_dict\n",
    "print(count_occurance('sobia-alamgir'))"
   ]
  },
  {
   "cell_type": "markdown",
   "metadata": {},
   "source": [
    "- Remove Duplicates: Write a function that takes string  and removes all duplicate elements, returning a new list with only unique items."
   ]
  },
  {
   "cell_type": "code",
   "execution_count": 9,
   "metadata": {},
   "outputs": [
    {
     "name": "stdout",
     "output_type": "stream",
     "text": [
      "['s', 'o', 'b', 'i', 'a', 'l', 'm', 'g', 'r']\n"
     ]
    }
   ],
   "source": [
    "def remove_duplicates(string):\n",
    "    Emp_list = []\n",
    "    for i in string:\n",
    "        if i not in Emp_list:\n",
    "            Emp_list.append(i)\n",
    "    return Emp_list\n",
    "print(remove_duplicates('sobiaalamgir'))\n",
    "\n"
   ]
  },
  {
   "cell_type": "markdown",
   "metadata": {},
   "source": [
    "- Remove Duplicates: Write a function that takes list  and removes all duplicate elements, returning a new list with only unique items."
   ]
  },
  {
   "cell_type": "code",
   "execution_count": 10,
   "metadata": {},
   "outputs": [
    {
     "name": "stdout",
     "output_type": "stream",
     "text": [
      "['s', 'o', 'b', 'i', 'a', 'l', 'm', 'g', 'r']\n"
     ]
    }
   ],
   "source": [
    "def remove_duplicates(list):\n",
    "    Emp_list = []\n",
    "    for i in list:\n",
    "        if i not in Emp_list:\n",
    "            Emp_list.append(i)\n",
    "    return Emp_list\n",
    "print(remove_duplicates(['s','o','b','i','a','a','l','a','m','g','i','r']))"
   ]
  },
  {
   "cell_type": "markdown",
   "metadata": {},
   "source": [
    "- Reverse a List: Create a function that takes a list and returns a new list that is the reverse of the original list."
   ]
  },
  {
   "cell_type": "code",
   "execution_count": 13,
   "metadata": {},
   "outputs": [
    {
     "name": "stdout",
     "output_type": "stream",
     "text": [
      "['r', 'g', 'm', 'l', 'a', 'i', 'b', 'o', 's']\n"
     ]
    }
   ],
   "source": [
    "def reverse_list(list):\n",
    "    return list[::-1]\n",
    "print(reverse_list(['s', 'o', 'b', 'i', 'a', 'l', 'm', 'g', 'r']))"
   ]
  },
  {
   "cell_type": "code",
   "execution_count": null,
   "metadata": {},
   "outputs": [],
   "source": []
  }
 ],
 "metadata": {
  "kernelspec": {
   "display_name": "Python 3",
   "language": "python",
   "name": "python3"
  },
  "language_info": {
   "codemirror_mode": {
    "name": "ipython",
    "version": 3
   },
   "file_extension": ".py",
   "mimetype": "text/x-python",
   "name": "python",
   "nbconvert_exporter": "python",
   "pygments_lexer": "ipython3",
   "version": "3.12.3"
  }
 },
 "nbformat": 4,
 "nbformat_minor": 2
}
