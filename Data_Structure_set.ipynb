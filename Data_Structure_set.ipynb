{
 "cells": [
  {
   "cell_type": "markdown",
   "metadata": {},
   "source": [
    "# List and Tuples"
   ]
  },
  {
   "cell_type": "markdown",
   "metadata": {},
   "source": [
    "### Creating List\n",
    "- Mutable\n",
    "- denoted by square brackets [  ]"
   ]
  },
  {
   "cell_type": "code",
   "execution_count": 1,
   "metadata": {},
   "outputs": [
    {
     "name": "stdout",
     "output_type": "stream",
     "text": [
      "[1, 2, 3, 4, 5]\n"
     ]
    }
   ],
   "source": [
    "numbers = [1,2,3,4,5]\n",
    "print(numbers)"
   ]
  },
  {
   "cell_type": "code",
   "execution_count": 5,
   "metadata": {},
   "outputs": [
    {
     "data": {
      "text/plain": [
       "list"
      ]
     },
     "execution_count": 5,
     "metadata": {},
     "output_type": "execute_result"
    }
   ],
   "source": [
    "# To check the datatype of variable\n",
    "type(numbers)"
   ]
  },
  {
   "cell_type": "markdown",
   "metadata": {},
   "source": [
    "### Create a Empty List"
   ]
  },
  {
   "cell_type": "code",
   "execution_count": 7,
   "metadata": {},
   "outputs": [
    {
     "name": "stdout",
     "output_type": "stream",
     "text": [
      "Empty List: []\n"
     ]
    }
   ],
   "source": [
    "empty_list = []\n",
    "print(\"Empty List:\", empty_list)"
   ]
  },
  {
   "cell_type": "markdown",
   "metadata": {},
   "source": [
    "### Creating a list with Elements"
   ]
  },
  {
   "cell_type": "code",
   "execution_count": 25,
   "metadata": {},
   "outputs": [
    {
     "name": "stdout",
     "output_type": "stream",
     "text": [
      "Numeric List: [1, 2, 3, 4]\n",
      "Mixed List: [1, 'two', 3.0, [4, [1, 2, 3]]]\n"
     ]
    },
    {
     "data": {
      "text/plain": [
       "1"
      ]
     },
     "execution_count": 25,
     "metadata": {},
     "output_type": "execute_result"
    }
   ],
   "source": [
    "numeric_list = [1,2,3,4]\n",
    "mixed_list = [1,'two',3.0,[4,[1,2,3]]]\n",
    "\n",
    "print(\"Numeric List:\",numeric_list)\n",
    "print(\"Mixed List:\", mixed_list)\n",
    "\n",
    "mixed_list[3][1][1] # Nested List Elements Access -- value = [1]\n",
    "mixed_list[3][0]    # -- value = [4]\n",
    "mixed_list[3][1][0] # Pick first element of 4rd INDEX"
   ]
  },
  {
   "cell_type": "code",
   "execution_count": 38,
   "metadata": {},
   "outputs": [
    {
     "name": "stdout",
     "output_type": "stream",
     "text": [
      "Python is easy and fun. <class 'str'>\n",
      "['Python', 'is', 'easy', 'and', 'fun.'] <class 'list'>\n",
      "['Python', 'is', 'easy', 'and fun.'] <class 'list'>\n",
      "Joined Sentence:  Python is easy and fun. <class 'str'>\n",
      "Python and fun.\n"
     ]
    }
   ],
   "source": [
    "sentence = \"Python is easy and fun.\"\n",
    "print(sentence,type(sentence))\n",
    "\n",
    "words = sentence.split() # split will work on Strings Functions Only\n",
    "print(words,type(words))  \n",
    "\n",
    "sentence2 = \"Python-is-easy-and fun.\"\n",
    "words = sentence2.split(\"-\")\n",
    "print(words,type(words))\n",
    "\n",
    "joined_sentence = \" \".join(words)\n",
    "print(\"Joined Sentence: \", joined_sentence,type(joined_sentence))\n",
    "\n",
    "print(words[0],words[3])"
   ]
  },
  {
   "cell_type": "markdown",
   "metadata": {},
   "source": [
    "### List is Mutable. Let's see"
   ]
  },
  {
   "cell_type": "code",
   "execution_count": 40,
   "metadata": {},
   "outputs": [
    {
     "name": "stdout",
     "output_type": "stream",
     "text": [
      "[1, 2, 4.0, 'str']\n"
     ]
    }
   ],
   "source": [
    "n_list = [1,2,3,4]\n",
    "\n",
    "n_list[2] = 4.0\n",
    "n_list[3] = \"str\"\n",
    "print(n_list)"
   ]
  },
  {
   "cell_type": "markdown",
   "metadata": {},
   "source": [
    "## Tuple\n",
    "- Immutable\n",
    "- denoted by round bracket (  )"
   ]
  },
  {
   "cell_type": "code",
   "execution_count": 45,
   "metadata": {},
   "outputs": [
    {
     "name": "stdout",
     "output_type": "stream",
     "text": [
      "('apple', 'banana', 'cherry')\n",
      "(1, 2, 'three', 4.0) <class 'tuple'>\n"
     ]
    }
   ],
   "source": [
    "fruits_tuple = (\"apple\", \"banana\",\"cherry\")\n",
    "print(fruits_tuple)  # Output: ('apple', 'banana', 'cherry')\n",
    "\n",
    "my_tuple = (1,2,'three',4.0)\n",
    "# my_tuple[2] = 'changed'\n",
    "print(my_tuple,type(my_tuple))"
   ]
  },
  {
   "cell_type": "markdown",
   "metadata": {},
   "source": [
    "### Common List Operations"
   ]
  },
  {
   "cell_type": "code",
   "execution_count": 48,
   "metadata": {},
   "outputs": [
    {
     "name": "stdout",
     "output_type": "stream",
     "text": [
      "[1, 2, 3, 23, 45]\n"
     ]
    }
   ],
   "source": [
    "my_list = [1,2,3]\n",
    "my_list.append(23) # Adds at the end\n",
    "my_list.append(45)\n",
    "\n",
    "print(my_list)"
   ]
  },
  {
   "cell_type": "code",
   "execution_count": 50,
   "metadata": {},
   "outputs": [
    {
     "name": "stdout",
     "output_type": "stream",
     "text": [
      "['try', 'try', 'try', 'try', 'try'] <class 'list'>\n"
     ]
    }
   ],
   "source": [
    "my_list = []\n",
    "for i in range(5):\n",
    "    my_list.append(\"try\")\n",
    "\n",
    "print(my_list,type(my_list))"
   ]
  },
  {
   "cell_type": "markdown",
   "metadata": {},
   "source": [
    "### Extend: Adds element of another list to the end of the list"
   ]
  },
  {
   "cell_type": "code",
   "execution_count": 53,
   "metadata": {},
   "outputs": [
    {
     "name": "stdout",
     "output_type": "stream",
     "text": [
      "After extend: [1, 2, 3, 4, 5, 1.0, 2]\n"
     ]
    }
   ],
   "source": [
    "list1 = [1,2,3]\n",
    "list2 = [4,5,1.0,2]\n",
    "\n",
    "list1.extend(list2)\n",
    "print(\"After extend:\", list1)"
   ]
  },
  {
   "cell_type": "markdown",
   "metadata": {},
   "source": [
    "Insert: Inserts an element at a specified position in the list."
   ]
  },
  {
   "cell_type": "code",
   "execution_count": 54,
   "metadata": {},
   "outputs": [
    {
     "name": "stdout",
     "output_type": "stream",
     "text": [
      "After insert: [1, [66, 77], 2, 3]\n"
     ]
    }
   ],
   "source": [
    "my_list = [1,2,3]\n",
    "my_list.insert(1,[66,77])\n",
    "print(\"After insert:\", my_list)"
   ]
  },
  {
   "cell_type": "code",
   "execution_count": 55,
   "metadata": {},
   "outputs": [
    {
     "data": {
      "text/plain": [
       "[99, [66, 77], 2, 3]"
      ]
     },
     "execution_count": 55,
     "metadata": {},
     "output_type": "execute_result"
    }
   ],
   "source": [
    "my_list[0] = 99\n",
    "my_list"
   ]
  },
  {
   "cell_type": "markdown",
   "metadata": {},
   "source": [
    "### Removal"
   ]
  },
  {
   "cell_type": "code",
   "execution_count": 59,
   "metadata": {},
   "outputs": [
    {
     "name": "stdout",
     "output_type": "stream",
     "text": [
      "After remove: [11, 33, 44, 22, 55]\n"
     ]
    }
   ],
   "source": [
    "# Element based removal\n",
    "my_list = [11,22,33,44,22,55]\n",
    "my_list.remove(22) # Remove the first occurance of 22\n",
    "print(\"After remove:\", my_list)"
   ]
  },
  {
   "cell_type": "markdown",
   "metadata": {},
   "source": [
    "pop(): removes and return the elementat a specified index"
   ]
  },
  {
   "cell_type": "code",
   "execution_count": 60,
   "metadata": {},
   "outputs": [
    {
     "name": "stdout",
     "output_type": "stream",
     "text": [
      "Popped item:  2\n",
      "After Pop:  [1, 3]\n"
     ]
    }
   ],
   "source": [
    "# Index based removal\n",
    "my_list = [1,2,3]\n",
    "popped_item = my_list.pop(1)\n",
    "print(\"Popped item: \", popped_item)\n",
    "print(\"After Pop: \", my_list)"
   ]
  },
  {
   "cell_type": "markdown",
   "metadata": {},
   "source": [
    "### del\n",
    "- index based deleting"
   ]
  },
  {
   "cell_type": "code",
   "execution_count": 61,
   "metadata": {},
   "outputs": [
    {
     "name": "stdout",
     "output_type": "stream",
     "text": [
      "After del: [1, 3]\n"
     ]
    }
   ],
   "source": [
    "my_list = [1,2,3]\n",
    "del my_list[1]\n",
    "print(\"After del:\", my_list)"
   ]
  },
  {
   "cell_type": "markdown",
   "metadata": {},
   "source": [
    "### Checking membership in Python"
   ]
  },
  {
   "cell_type": "code",
   "execution_count": 64,
   "metadata": {},
   "outputs": [
    {
     "name": "stdout",
     "output_type": "stream",
     "text": [
      "True\n",
      "7\n",
      "2\n",
      "96\n"
     ]
    }
   ],
   "source": [
    "my_list = [7,2,96]\n",
    "\n",
    "if 2 in my_list:\n",
    "    print(True)\n",
    "else:\n",
    "    print(False)\n",
    "\n",
    "for i in my_list:\n",
    "    print(i)"
   ]
  },
  {
   "cell_type": "code",
   "execution_count": 68,
   "metadata": {},
   "outputs": [
    {
     "name": "stdout",
     "output_type": "stream",
     "text": [
      "96\n"
     ]
    }
   ],
   "source": [
    "# Excecute the loop when value = 96\n",
    "\n",
    "list = [1,2,96]\n",
    "for i in list:\n",
    "    if i == 96:\n",
    "        print(i)"
   ]
  },
  {
   "cell_type": "markdown",
   "metadata": {},
   "source": [
    "### List Manipulation Techniques"
   ]
  },
  {
   "cell_type": "code",
   "execution_count": 70,
   "metadata": {},
   "outputs": [
    {
     "name": "stdout",
     "output_type": "stream",
     "text": [
      "[1, 2, 3]\n"
     ]
    }
   ],
   "source": [
    "# Reverse th string\n",
    "mylist = [3,2,1]\n",
    "mylist.reverse()\n",
    "print(mylist)"
   ]
  },
  {
   "cell_type": "code",
   "execution_count": 72,
   "metadata": {},
   "outputs": [
    {
     "name": "stdout",
     "output_type": "stream",
     "text": [
      "Copied List:  [1, 2, 3]\n"
     ]
    }
   ],
   "source": [
    "# Make a copy\n",
    "mylist = [1,2,3]\n",
    "copied_list = mylist.copy()\n",
    "\n",
    "print(\"Copied List: \", copied_list)"
   ]
  },
  {
   "cell_type": "code",
   "execution_count": 74,
   "metadata": {},
   "outputs": [
    {
     "name": "stdout",
     "output_type": "stream",
     "text": [
      "4\n"
     ]
    }
   ],
   "source": [
    "# Counting Occurances\n",
    "my_list = [1,2,3,4,5,23,3,3,4,4,2,3]\n",
    "count_occur = my_list.count(3)\n",
    "print(count_occur)"
   ]
  },
  {
   "cell_type": "code",
   "execution_count": 76,
   "metadata": {},
   "outputs": [
    {
     "name": "stdout",
     "output_type": "stream",
     "text": [
      "cherry\n",
      "cat\n"
     ]
    }
   ],
   "source": [
    "# Execute the loop, print those elements start with \"c\"\n",
    "\n",
    "fruits = [\"apple\",\"banana\",\"cherry\", \"cat\",\"bed\"]\n",
    "for i in fruits:\n",
    "    if i.startswith(\"c\"):\n",
    "        print(i)\n"
   ]
  },
  {
   "cell_type": "code",
   "execution_count": 82,
   "metadata": {},
   "outputs": [
    {
     "name": "stdout",
     "output_type": "stream",
     "text": [
      "123 <class 'int'>\n"
     ]
    }
   ],
   "source": [
    "a = 123\n",
    "print(a,type(a))"
   ]
  },
  {
   "cell_type": "code",
   "execution_count": 83,
   "metadata": {},
   "outputs": [
    {
     "name": "stdout",
     "output_type": "stream",
     "text": [
      "[123] <class 'list'>\n"
     ]
    }
   ],
   "source": [
    "a = [123]\n",
    "print(a,type(a))"
   ]
  },
  {
   "cell_type": "code",
   "execution_count": 85,
   "metadata": {},
   "outputs": [
    {
     "name": "stdout",
     "output_type": "stream",
     "text": [
      "(123,) <class 'tuple'>\n"
     ]
    }
   ],
   "source": [
    "a = (123,)\n",
    "print(a,type(a))"
   ]
  },
  {
   "cell_type": "code",
   "execution_count": 90,
   "metadata": {},
   "outputs": [
    {
     "name": "stdout",
     "output_type": "stream",
     "text": [
      "(1, 2, 3, 3, 4, 5)\n"
     ]
    }
   ],
   "source": [
    "# Using Add Operator\n",
    "original_tuple = (1,2,3)\n",
    "new_tuple = original_tuple + (3,4,5)\n",
    "print(new_tuple)\n"
   ]
  },
  {
   "cell_type": "code",
   "execution_count": 93,
   "metadata": {},
   "outputs": [
    {
     "name": "stdout",
     "output_type": "stream",
     "text": [
      "(1, 2, 3, 1, 2, 3, 1, 2, 3)\n"
     ]
    }
   ],
   "source": [
    "# Using Multiply Operator \n",
    "original_tuple = (1,2,3)\n",
    "new_tuple = original_tuple * 3\n",
    "print(new_tuple)"
   ]
  },
  {
   "cell_type": "markdown",
   "metadata": {},
   "source": [
    "* Lets apply for loop on Tuple\n",
    "\n",
    "Iteration is a fundamental concept in programming that refers to"
   ]
  },
  {
   "cell_type": "code",
   "execution_count": 96,
   "metadata": {},
   "outputs": [
    {
     "name": "stdout",
     "output_type": "stream",
     "text": [
      "25\n"
     ]
    }
   ],
   "source": [
    "my_tuple = (12,25,34)\n",
    "\n",
    "for i in my_tuple:\n",
    "    if i == 25:\n",
    "        print(i)"
   ]
  },
  {
   "cell_type": "markdown",
   "metadata": {},
   "source": [
    "### Tuple Packing and Unpacking"
   ]
  },
  {
   "cell_type": "code",
   "execution_count": 107,
   "metadata": {},
   "outputs": [
    {
     "name": "stdout",
     "output_type": "stream",
     "text": [
      "(1, 2, 'three') <class 'tuple'>\n",
      "1 2 three <class 'int'>\n"
     ]
    }
   ],
   "source": [
    "# Packing\n",
    "a = 1 ,2 ,'three'\n",
    "print(a, type(a))\n",
    "\n",
    "# Unpacking\n",
    "a,b,c = a\n",
    "print(a,b,c,type(a))\n",
    "\n",
    "# a,b,c = a\n",
    "# print(a,b,c,type(a))"
   ]
  },
  {
   "cell_type": "code",
   "execution_count": 108,
   "metadata": {},
   "outputs": [
    {
     "name": "stdout",
     "output_type": "stream",
     "text": [
      "Is 2 present in the loop? True\n"
     ]
    }
   ],
   "source": [
    "my_tuple = (1,2,3)\n",
    "is_present = 2 in my_tuple\n",
    "print(\"Is 2 present in the loop?\",is_present)"
   ]
  },
  {
   "cell_type": "code",
   "execution_count": 109,
   "metadata": {},
   "outputs": [
    {
     "name": "stdout",
     "output_type": "stream",
     "text": [
      "(2, 3, 4)\n"
     ]
    }
   ],
   "source": [
    "my_tuple = (1,2,3,4,5)\n",
    "print(my_tuple[1:4])\n"
   ]
  },
  {
   "cell_type": "code",
   "execution_count": 111,
   "metadata": {},
   "outputs": [
    {
     "name": "stdout",
     "output_type": "stream",
     "text": [
      "Contatination of LIsts: [1, 2, 3, 4, 5]\n",
      "Concatination of Tuples: ('a', 'b', 'c', 'd')\n"
     ]
    }
   ],
   "source": [
    "# Define Lists\n",
    "list1 = [1,2,3]\n",
    "list2 = [4,5]\n",
    "\n",
    "# Define Tuples\n",
    "tuple1 = ('a','b')\n",
    "tuple2 = ('c','d')\n",
    "\n",
    "print(\"Contatination of LIsts:\", list1 + list2)\n",
    "print(\"Concatination of Tuples:\",tuple1 + tuple2)\n",
    "\n"
   ]
  },
  {
   "cell_type": "markdown",
   "metadata": {},
   "source": [
    "### Conversion between Tuple and List"
   ]
  },
  {
   "cell_type": "code",
   "execution_count": 114,
   "metadata": {},
   "outputs": [
    {
     "name": "stdout",
     "output_type": "stream",
     "text": [
      "(1, 2, 3) <class 'tuple'>\n",
      "[1, 2, 3] <class 'list'>\n",
      "('a', 'b', 'c') <class 'tuple'>\n",
      "[1, 2, 3] <class 'list'>\n"
     ]
    }
   ],
   "source": [
    "my_list = [1,2,3]\n",
    "my_tuple = tuple(my_list)\n",
    "print(my_tuple,type(my_tuple))\n",
    "print(my_list,type(my_list))\n",
    "\n",
    "# another tuple\n",
    "my_tuple = ('a','b','c')\n",
    "mu_list = type(my_tuple)\n",
    "print(my_tuple,type(my_tuple))\n",
    "print(my_list,type(my_list))"
   ]
  },
  {
   "cell_type": "markdown",
   "metadata": {},
   "source": [
    "### Creation of Dictionaries\n",
    "\n",
    "* Dictionaries in python are Data Structures\n",
    "* Syntax: dictionaties = {'key1':'value2', 'key2':'value2, 'key3':'value3',...}"
   ]
  },
  {
   "cell_type": "code",
   "execution_count": 117,
   "metadata": {},
   "outputs": [
    {
     "name": "stdout",
     "output_type": "stream",
     "text": [
      "Alice 22 1.2\n",
      "<class 'dict'>\n"
     ]
    }
   ],
   "source": [
    "# Basic Dictionary\n",
    "student_info = {'name':'Alice','age':22, 'grade':1.2}\n",
    "\n",
    "print(student_info['name'],     # Output:Alice\n",
    "      student_info['age'],      # age : 22\n",
    "      student_info['grade'])    # grade: 1.2\n",
    "\n",
    "print(type(student_info))"
   ]
  },
  {
   "cell_type": "code",
   "execution_count": 119,
   "metadata": {},
   "outputs": [
    {
     "name": "stdout",
     "output_type": "stream",
     "text": [
      "1.4\n",
      "<class 'dict'>\n"
     ]
    }
   ],
   "source": [
    "# Access grade 1.4\n",
    "student_info = {'name':'Alice','age':22, 'grade':[1.2,1.4]}\n",
    "\n",
    "print(student_info['grade'][1])    \n",
    "\n",
    "print(type(student_info))"
   ]
  },
  {
   "cell_type": "markdown",
   "metadata": {},
   "source": [
    "### Dictionary with mixed datatypes"
   ]
  },
  {
   "cell_type": "code",
   "execution_count": 120,
   "metadata": {},
   "outputs": [
    {
     "name": "stdout",
     "output_type": "stream",
     "text": [
      "Bob 30 HR True\n"
     ]
    }
   ],
   "source": [
    "employee_details = {'name':'Bob','age':30,'department':'HR', 'it_Manager':True}\n",
    "\n",
    "print(employee_details['name'],employee_details['age'],\n",
    "      employee_details['department'],employee_details['it_Manager'])"
   ]
  },
  {
   "cell_type": "markdown",
   "metadata": {},
   "source": [
    "* Empty Dictionary - They are often used as a placeholder when you expect to populate them later in your code"
   ]
  },
  {
   "cell_type": "code",
   "execution_count": 121,
   "metadata": {},
   "outputs": [],
   "source": [
    "Empty_dict = {}"
   ]
  },
  {
   "cell_type": "markdown",
   "metadata": {},
   "source": [
    "* Basic Operations in Dictionary"
   ]
  },
  {
   "cell_type": "code",
   "execution_count": 124,
   "metadata": {},
   "outputs": [
    {
     "name": "stdout",
     "output_type": "stream",
     "text": [
      "{'name': 'Alice', 'Age': 24, 'grade': 'A', 'city': 45}\n",
      "{'name': 'Alice', 'Age': 24, 'grade': 'A', 'city': 'Lahore'}\n"
     ]
    }
   ],
   "source": [
    "student_info = {'name':'Alice','Age':24,'grade':'A'}\n",
    "student_info['city'] = 45   # Add new key value pair\n",
    "\n",
    "print(student_info)\n",
    "\n",
    "student_info['city']='Lahore'\n",
    "print(student_info)\n"
   ]
  },
  {
   "cell_type": "markdown",
   "metadata": {},
   "source": [
    "* Update - You can update a dictionary with the contents of another dictionary using the update() method"
   ]
  },
  {
   "cell_type": "code",
   "execution_count": 126,
   "metadata": {},
   "outputs": [
    {
     "name": "stdout",
     "output_type": "stream",
     "text": [
      "{'name': 'Alice', 'Age': 24, 'grade': 'A', 'city': 'Newyork', 'mark': 95, 'Mark': 95}\n",
      "{'city': 'Newyork', 'Mark': 95}\n"
     ]
    }
   ],
   "source": [
    "additional_info = {'city':'Newyork', 'Mark':95}\n",
    "student_info.update(additional_info) # update a dictionary\n",
    "print(student_info)\n",
    "print(additional_info)"
   ]
  },
  {
   "cell_type": "markdown",
   "metadata": {},
   "source": [
    "* Removal in dictionary"
   ]
  },
  {
   "cell_type": "code",
   "execution_count": 132,
   "metadata": {},
   "outputs": [
    {
     "name": "stdout",
     "output_type": "stream",
     "text": [
      "{'name': 'Alice', 'Age': 24, 'grade': 'A', 'city': 'Newyork', 'mark': 95, 'Mark': 95}\n",
      "95\n",
      "{'city': 'Newyork'}\n"
     ]
    }
   ],
   "source": [
    "additional_info = {'city':'Newyork', 'Mark':95}\n",
    "removed_age = additional_info.pop('Mark') # remova element in a dictionary\n",
    "\n",
    "print(student_info)\n",
    "print(removed_age)\n",
    "print(additional_info)"
   ]
  },
  {
   "cell_type": "code",
   "execution_count": 133,
   "metadata": {},
   "outputs": [
    {
     "name": "stdout",
     "output_type": "stream",
     "text": [
      "{'name': 'Alice', 'Age': 24}\n",
      "('grade', 'A')\n"
     ]
    }
   ],
   "source": [
    "student_info = {'name':'Alice','Age':24,'grade':'A'}\n",
    "removed_pair = student_info.popitem()\n",
    "\n",
    "print(student_info)\n",
    "print(removed_pair)"
   ]
  },
  {
   "cell_type": "markdown",
   "metadata": {},
   "source": [
    "* del - allows you to delete the key-value pair from a dictionary"
   ]
  },
  {
   "cell_type": "code",
   "execution_count": 134,
   "metadata": {},
   "outputs": [
    {
     "name": "stdout",
     "output_type": "stream",
     "text": [
      "{'name': 'Alice', 'Age': 24}\n"
     ]
    }
   ],
   "source": [
    "student_info = {'name':'Alice','Age':24,'grade':'A'}\n",
    "del student_info['grade']\n",
    "print(student_info)"
   ]
  },
  {
   "cell_type": "markdown",
   "metadata": {},
   "source": [
    "### Checking Membership with 'in'  allows you to check if the key is present in the dictionary"
   ]
  },
  {
   "cell_type": "code",
   "execution_count": 137,
   "metadata": {},
   "outputs": [
    {
     "name": "stdout",
     "output_type": "stream",
     "text": [
      "{'name': 'Alice', 'Age': 24, 'grade': 'A'} True\n"
     ]
    }
   ],
   "source": [
    "student_info = {'name':'Alice','Age':24,'grade':'A'}\n",
    "is_age_present = 'Age' in student_info\n",
    "\n",
    "print(student_info , is_age_present)"
   ]
  },
  {
   "cell_type": "markdown",
   "metadata": {},
   "source": [
    "* The keys() - This method return an iterable view of keys in the dictionary"
   ]
  },
  {
   "cell_type": "code",
   "execution_count": 2,
   "metadata": {},
   "outputs": [
    {
     "name": "stdout",
     "output_type": "stream",
     "text": [
      "dict_keys(['name', 'Age', 'grade']) <class 'dict_keys'>\n",
      "Keys in the dictionary: ['name', 'Age', 'grade']\n"
     ]
    }
   ],
   "source": [
    "student_info = {'name':'Alice','Age':24,'grade':'A'}\n",
    "keys_student_info = student_info.keys()\n",
    "print(keys_student_info,type(keys_student_info))\n",
    "print(\"Keys in the dictionary:\", list(keys_student_info))"
   ]
  },
  {
   "cell_type": "markdown",
   "metadata": {},
   "source": [
    "* The values() - This method return an iterable view of keys in the dictionary"
   ]
  },
  {
   "cell_type": "code",
   "execution_count": 3,
   "metadata": {},
   "outputs": [
    {
     "name": "stdout",
     "output_type": "stream",
     "text": [
      "dict_values(['Alice', 24, 'A']) <class 'dict_values'>\n",
      "Keys in the dictionary: ['Alice', 24, 'A']\n"
     ]
    }
   ],
   "source": [
    "student_info = {'name':'Alice','Age':24,'grade':'A'}\n",
    "values_student_info = student_info.values()\n",
    "print(values_student_info,type(values_student_info))\n",
    "print(\"Keys in the dictionary:\", list(values_student_info))"
   ]
  },
  {
   "cell_type": "markdown",
   "metadata": {},
   "source": [
    "* The items() - This method return an iterable view of keys-value pair in the dictionary"
   ]
  },
  {
   "cell_type": "code",
   "execution_count": 9,
   "metadata": {},
   "outputs": [
    {
     "name": "stdout",
     "output_type": "stream",
     "text": [
      "dict_items([('name', 'Alice'), ('Age', 24), ('grade', 'A')]) <class 'dict_items'>\n",
      "Keys values in the dictionary: [('name', 'Alice'), ('Age', 24), ('grade', 'A')]\n",
      "name Alice\n",
      "Age 24\n",
      "grade A\n"
     ]
    }
   ],
   "source": [
    "student_info = {'name':'Alice','Age':24,'grade':'A'}\n",
    "items = student_info.items()\n",
    "print(items, type(items))\n",
    "print(\"Keys values in the dictionary:\", list(items))\n",
    "\n",
    "for i,j in student_info.items():\n",
    "    print(i,j)"
   ]
  },
  {
   "cell_type": "code",
   "execution_count": 15,
   "metadata": {},
   "outputs": [
    {
     "name": "stdout",
     "output_type": "stream",
     "text": [
      "dict_items([('name', 'Alice'), ('Age', 24), ('grade', 'A')]) <class 'dict_items'>\n",
      "{'name': 'Alice', 'grade': 'A', 'Age': 24} <class 'dict'>\n"
     ]
    }
   ],
   "source": [
    "student_info = {'name':'Alice','Age':24,'grade':'A'}\n",
    "sorted_dict = dict(sorted(student_info.items(), reverse=True))\n",
    "\n",
    "print(student_info.items(),type(student_info.items()))\n",
    "print(sorted_dict,type(sorted_dict))"
   ]
  },
  {
   "cell_type": "markdown",
   "metadata": {},
   "source": [
    "* Nested Dictionary - you can nest dictionaries by having a key in a dictionary refer to another dictionary"
   ]
  },
  {
   "cell_type": "code",
   "execution_count": 17,
   "metadata": {},
   "outputs": [
    {
     "name": "stdout",
     "output_type": "stream",
     "text": [
      "{'person': {'name': 'Alice', 'age': 25, 'city': 'Chicago'}}\n",
      "90\n"
     ]
    }
   ],
   "source": [
    "nested_dict = {'person':{'name':'Alice','age':25,'city':'Chicago'}}\n",
    "print(nested_dict)\n",
    "\n",
    "nested_dict = {'person':{'name':'Alice','age':25,'city':[45,56,[34,90]]}}\n",
    "print(nested_dict['person']['city'][2][1])\n"
   ]
  },
  {
   "cell_type": "code",
   "execution_count": 11,
   "metadata": {},
   "outputs": [
    {
     "name": "stdout",
     "output_type": "stream",
     "text": [
      "737\n"
     ]
    }
   ],
   "source": [
    "# Example:\n",
    "y = 0\n",
    "list1 = [23,532,54,63,65]\n",
    "for i in list1:    \n",
    "    y += i \n",
    "    \n",
    "print(y)\n"
   ]
  },
  {
   "cell_type": "markdown",
   "metadata": {},
   "source": [
    "* Modulus Operator"
   ]
  },
  {
   "cell_type": "code",
   "execution_count": 12,
   "metadata": {},
   "outputs": [
    {
     "data": {
      "text/plain": [
       "2"
      ]
     },
     "execution_count": 12,
     "metadata": {},
     "output_type": "execute_result"
    }
   ],
   "source": [
    "23 % 3"
   ]
  },
  {
   "cell_type": "code",
   "execution_count": 18,
   "metadata": {},
   "outputs": [
    {
     "name": "stdout",
     "output_type": "stream",
     "text": [
      "Number is Odd: 23\n"
     ]
    }
   ],
   "source": [
    "# Example: Check number is even and odd\n",
    "num = int(input(\"Enter number: \"))\n",
    "\n",
    "if num % 2 == 0:\n",
    "    print(\"Number is Even:\",num)\n",
    "else:\n",
    "    print(\"Number is Odd:\",num)"
   ]
  },
  {
   "cell_type": "code",
   "execution_count": 28,
   "metadata": {},
   "outputs": [
    {
     "name": "stdout",
     "output_type": "stream",
     "text": [
      "True\n"
     ]
    }
   ],
   "source": [
    "# Example: check number is float\n",
    "\n",
    "number = 77.55\n",
    "new_number = str(number)\n",
    "if '.' in new_number:\n",
    "    print('True')\n",
    "else:\n",
    "    print('False')"
   ]
  },
  {
   "cell_type": "markdown",
   "metadata": {},
   "source": [
    "### Basic Set Creation\n",
    "\n",
    "- Immutable datatype\n",
    "- values will not be repeated\n",
    "- denoted by curly brackets  { }"
   ]
  },
  {
   "cell_type": "code",
   "execution_count": 111,
   "metadata": {},
   "outputs": [
    {
     "name": "stdout",
     "output_type": "stream",
     "text": [
      "{'blue', 'green', 'red', 'yellow'} <class 'set'>\n"
     ]
    }
   ],
   "source": [
    "colors = {'red','green','blue','yellow'}\n",
    "print(colors,type(colors))"
   ]
  },
  {
   "cell_type": "markdown",
   "metadata": {},
   "source": [
    "### Typecasting [list] to {set}"
   ]
  },
  {
   "cell_type": "code",
   "execution_count": 2,
   "metadata": {},
   "outputs": [
    {
     "name": "stdout",
     "output_type": "stream",
     "text": [
      "{'blue', 'green', 'red', 'yellow'} <class 'set'>\n"
     ]
    }
   ],
   "source": [
    "fruits = set(['red','green','blue','yellow'])\n",
    "print(fruits,type(fruits))"
   ]
  },
  {
   "cell_type": "markdown",
   "metadata": {},
   "source": [
    "### Typecasting {set} to [list]"
   ]
  },
  {
   "cell_type": "code",
   "execution_count": 4,
   "metadata": {},
   "outputs": [
    {
     "name": "stdout",
     "output_type": "stream",
     "text": [
      "['blue', 'green', 'red', 'yellow'] <class 'list'>\n"
     ]
    }
   ],
   "source": [
    "fruits = list({'red','green','blue','yellow'})\n",
    "print(fruits,type(fruits))"
   ]
  },
  {
   "cell_type": "markdown",
   "metadata": {},
   "source": [
    "* Update() - Method adds element from another iterable (such as set, list or tuple) "
   ]
  },
  {
   "cell_type": "code",
   "execution_count": 5,
   "metadata": {},
   "outputs": [
    {
     "name": "stdout",
     "output_type": "stream",
     "text": [
      "{1, 2, 3, 4, 5, 6, 7}\n"
     ]
    }
   ],
   "source": [
    "my_set = {1,2,3,4,5}\n",
    "set_to_update = {5,6,7}\n",
    "\n",
    "my_set.update(set_to_update)\n",
    "print(my_set)"
   ]
  },
  {
   "cell_type": "markdown",
   "metadata": {},
   "source": [
    "* Add() = This function add single element in the set"
   ]
  },
  {
   "cell_type": "code",
   "execution_count": 8,
   "metadata": {},
   "outputs": [
    {
     "name": "stdout",
     "output_type": "stream",
     "text": [
      "{1, 2, 3, 4, 5, 8}\n"
     ]
    }
   ],
   "source": [
    "my_set = {1,2,3,4,5}\n",
    "set_to_update = {5,6,7}\n",
    "\n",
    "my_set.add(8)\n",
    "print(my_set)"
   ]
  },
  {
   "cell_type": "markdown",
   "metadata": {},
   "source": [
    "* Remove() - Method to remove specific element from the set"
   ]
  },
  {
   "cell_type": "code",
   "execution_count": 13,
   "metadata": {},
   "outputs": [
    {
     "name": "stdout",
     "output_type": "stream",
     "text": [
      "Set after removing element 3:  {1, 2, 4, 5}\n"
     ]
    }
   ],
   "source": [
    "my_set = {1,2,3,4,5}\n",
    "set_to_update = {5,6,7}\n",
    "\n",
    "my_set.remove(3)\n",
    "print(\"Set after removing element 3: \",my_set)"
   ]
  },
  {
   "cell_type": "markdown",
   "metadata": {},
   "source": [
    "* Pop - Method to remove first element from the set and return the arbitary element"
   ]
  },
  {
   "cell_type": "code",
   "execution_count": 113,
   "metadata": {},
   "outputs": [
    {
     "name": "stdout",
     "output_type": "stream",
     "text": [
      "{2, 3, 4, 5} \n",
      " Pop Element:  1\n"
     ]
    }
   ],
   "source": [
    "my_set = {1,2,3,4,5}\n",
    "set_to_update = {5,6,7}\n",
    "\n",
    "pop_element = my_set.pop()\n",
    "print(my_set, \"\\n Pop Element: \",pop_element)"
   ]
  },
  {
   "cell_type": "markdown",
   "metadata": {},
   "source": [
    "  **In - Memebership Operator**\n",
    "  - The membership operator in checks if a value exists within a sequence, like a list, string, or dictionary."
   ]
  },
  {
   "cell_type": "code",
   "execution_count": 114,
   "metadata": {},
   "outputs": [
    {
     "name": "stdout",
     "output_type": "stream",
     "text": [
      "Is 4 present in the set:  True\n"
     ]
    }
   ],
   "source": [
    "my_set = {1,2,3,4,5}\n",
    "\n",
    "is_four_present = 4 in my_set\n",
    "print(\"Is 4 present in the set: \", is_four_present)"
   ]
  },
  {
   "cell_type": "markdown",
   "metadata": {},
   "source": [
    "* Manipulating Sets\n",
    "  \n",
    "  - Union - '|'\n",
    "  - Intersection - '&'"
   ]
  },
  {
   "cell_type": "code",
   "execution_count": 17,
   "metadata": {},
   "outputs": [
    {
     "name": "stdout",
     "output_type": "stream",
     "text": [
      "Union of the set1 and set2:  {1, 2, 3, 4, 5}\n"
     ]
    }
   ],
   "source": [
    "set1 = {1,2,3}\n",
    "set2 = {3,4,5}\n",
    "\n",
    "union_result = set1 | set2\n",
    "\n",
    "print(\"Union of the set1 and set2: \", union_result)"
   ]
  },
  {
   "cell_type": "code",
   "execution_count": 18,
   "metadata": {},
   "outputs": [
    {
     "name": "stdout",
     "output_type": "stream",
     "text": [
      "Intersection of the set1 and set2:  {3}\n"
     ]
    }
   ],
   "source": [
    "set1 = {1,2,3}\n",
    "set2 = {3,4,5}\n",
    "\n",
    "intersection_result = set1 & set2\n",
    "\n",
    "print(\"Intersection of the set1 and set2: \", intersection_result)"
   ]
  },
  {
   "cell_type": "markdown",
   "metadata": {},
   "source": [
    "* Difference ( - ) \n",
    "  \n",
    "  - resulting in a new set containing elements that are unique to the first set "
   ]
  },
  {
   "cell_type": "code",
   "execution_count": 19,
   "metadata": {},
   "outputs": [
    {
     "name": "stdout",
     "output_type": "stream",
     "text": [
      "Difference of the set1 and set2:  {1, 2}\n"
     ]
    }
   ],
   "source": [
    "set1 = {1,2,3}\n",
    "set2 = {3,4,5}\n",
    "\n",
    "difference = set1 - set2\n",
    "\n",
    "print(\"Difference of the set1 and set2: \", difference)"
   ]
  },
  {
   "cell_type": "markdown",
   "metadata": {},
   "source": [
    "### Common Operators in Dictionaries and sets"
   ]
  },
  {
   "cell_type": "markdown",
   "metadata": {},
   "source": [
    "* Iterative over items"
   ]
  },
  {
   "cell_type": "code",
   "execution_count": 20,
   "metadata": {},
   "outputs": [
    {
     "name": "stdout",
     "output_type": "stream",
     "text": [
      "1\n",
      "2\n",
      "3\n",
      "4\n",
      "5\n"
     ]
    }
   ],
   "source": [
    "my_set = {1,2,3,4,5}\n",
    "\n",
    "for i in my_set:\n",
    "    print(i)"
   ]
  },
  {
   "cell_type": "markdown",
   "metadata": {},
   "source": [
    "* Intersection"
   ]
  },
  {
   "cell_type": "code",
   "execution_count": 23,
   "metadata": {},
   "outputs": [
    {
     "name": "stdout",
     "output_type": "stream",
     "text": [
      "Common keys:  {'b', 'c'}\n"
     ]
    }
   ],
   "source": [
    "dict1 = {'a':1,'b':2,'c':3}\n",
    "dict2 = {'b':4,'c':5,'d':6}\n",
    "\n",
    "common_keys = dict1.keys() & dict2.keys()\n",
    "\n",
    "print(\"Common keys: \",common_keys)"
   ]
  },
  {
   "cell_type": "code",
   "execution_count": 110,
   "metadata": {},
   "outputs": [
    {
     "name": "stdout",
     "output_type": "stream",
     "text": [
      "['Jan = January ', ' Feb = February ', ' Mar = March'] <class 'list'>\n",
      "Jan = January  Feb = February  Mar = March\n"
     ]
    }
   ],
   "source": [
    "string = \"Jan = January ; Feb = February ; Mar = March\"\n",
    "\n",
    "string_type = string.split(';')\n",
    "print(string_type, type(string_type))\n",
    "\n",
    "join_string = \"\".join(string_type)\n",
    "print(join_string)"
   ]
  },
  {
   "cell_type": "code",
   "execution_count": 39,
   "metadata": {},
   "outputs": [
    {
     "name": "stdout",
     "output_type": "stream",
     "text": [
      "[4, 5]\n",
      "[1, 2, 3]\n",
      "[4, 5, 1, 2, 3]\n",
      "[4, 5, 1, 2, 3]\n"
     ]
    }
   ],
   "source": [
    "# Problem: Rotate the list values two times\n",
    "list1 = [1,2,3,4,5]\n",
    "k  = 2 # value of rotation [4,5,1,2,3]\n",
    "\n",
    "# Solution: Rotate the list values two times\n",
    "# This is also term as Slicing\n",
    "\n",
    "print(list1[-k:])  # \n",
    "print(list1[:-k])\n",
    "print(list1[-k:] + list1[:-k])\n",
    "print(list1[-2:] + list1[:-2])"
   ]
  },
  {
   "cell_type": "markdown",
   "metadata": {},
   "source": [
    "### List Comprehension\n",
    " - We use when we want output in LIST\n",
    " - when we have one condition, so you can use. This is a Good Technique"
   ]
  },
  {
   "cell_type": "code",
   "execution_count": 41,
   "metadata": {},
   "outputs": [
    {
     "name": "stdout",
     "output_type": "stream",
     "text": [
      "[0, 2, 4, 6, 8]\n",
      "[0, 1, 4, 9, 16]\n"
     ]
    }
   ],
   "source": [
    "# way 1\n",
    "list1 = []\n",
    "for x in range(5):\n",
    "    list1.append(x*2)\n",
    "print(list1)\n",
    "\n",
    "# way 2\n",
    "squares = [x*2 for x in range(5)]\n",
    "print(squares)\n",
    "\n"
   ]
  },
  {
   "cell_type": "markdown",
   "metadata": {},
   "source": [
    "* for loop in List Comprehension"
   ]
  },
  {
   "cell_type": "code",
   "execution_count": 49,
   "metadata": {},
   "outputs": [
    {
     "name": "stdout",
     "output_type": "stream",
     "text": [
      "[1, 3, 5, 7, 9]\n",
      "[0, 2, 4, 6, 8]\n",
      "[0, 1, 4, 27, 16, 125]\n"
     ]
    }
   ],
   "source": [
    "odd_numbers = [x for x in range(10) if x%2 != 0]\n",
    "print(odd_numbers)\n",
    "\n",
    "# if in list comprehension\n",
    "even_numbers = [x for x in range(10) if x % 2 == 0]\n",
    "print(even_numbers)\n",
    "\n",
    "# if else in list comprehension [square on Even values and cube on Odd values]\n",
    "if_else_LC = [x**2 if x % 2 == 0 else x**3 for x in range(6) ]\n",
    "print(if_else_LC)"
   ]
  },
  {
   "cell_type": "markdown",
   "metadata": {},
   "source": [
    "### Filtering and Transformation with Nested List Comprehension\n"
   ]
  },
  {
   "cell_type": "code",
   "execution_count": 72,
   "metadata": {},
   "outputs": [
    {
     "name": "stdout",
     "output_type": "stream",
     "text": [
      "[1, 29, 3, 46, 5, 66, 7, 80, 9]\n",
      "[1, 29, 3, 46, 5, 66, 7, 80, 9]\n",
      "[2116, 4356, 6400]\n"
     ]
    }
   ],
   "source": [
    "empty_list = []\n",
    "nested_matrix = [[1,29,3],[46,5,66],[7,80,9]]\n",
    "\n",
    "for i in nested_matrix:\n",
    "    for j in i:\n",
    "        empty_list.append(j)\n",
    "\n",
    "print(empty_list)\n",
    "\n",
    "\n",
    "# same work in list comprehension\n",
    "filtered_squared = [j for i in nested_matrix for j in i]\n",
    "print(filtered_squared)\n",
    "\n",
    "filtered_squared = [j**2 for i in nested_matrix for j in i if j % 2 == 0]\n",
    "print(filtered_squared)\n",
    "\n"
   ]
  },
  {
   "cell_type": "markdown",
   "metadata": {},
   "source": [
    "### Dictionary Comprehension"
   ]
  },
  {
   "cell_type": "code",
   "execution_count": 73,
   "metadata": {},
   "outputs": [
    {
     "name": "stdout",
     "output_type": "stream",
     "text": [
      "{1: 1, 2: 4, 3: 9, 4: 16, 5: 25}\n"
     ]
    }
   ],
   "source": [
    "square_dict = {x:x**2 for x in range(1,6)}\n",
    "print(square_dict)"
   ]
  },
  {
   "cell_type": "code",
   "execution_count": 75,
   "metadata": {},
   "outputs": [
    {
     "name": "stdout",
     "output_type": "stream",
     "text": [
      "{1: 1, 2: 4, 3: 9, 4: 16, 5: 25}\n"
     ]
    }
   ],
   "source": [
    "square_dict = {}\n",
    "\n",
    "# for x in range(1,6):\n",
    "#     x:x**2 \n",
    "\n",
    "for x in range(1,6):\n",
    "    i = x\n",
    "    j = x**2 \n",
    "    square_dict[x] = x**2\n",
    "    \n",
    "print(square_dict)"
   ]
  },
  {
   "cell_type": "code",
   "execution_count": 79,
   "metadata": {},
   "outputs": [
    {
     "name": "stdout",
     "output_type": "stream",
     "text": [
      "{'banana': 6, 'orange': 6}\n"
     ]
    }
   ],
   "source": [
    "words = ['apple','banana','orange']\n",
    "word_length = {word:len(word) for word in words if len(word)==6}\n",
    "print(word_length)\n",
    "\n",
    "# empty_dict = {}\n",
    "# for word in words:\n",
    "#     if len(word) == 6:\n",
    "#         empty_list[word] = len(word)\n",
    "\n",
    "# print(empty_dict)\n"
   ]
  },
  {
   "cell_type": "code",
   "execution_count": 85,
   "metadata": {},
   "outputs": [
    {
     "name": "stdout",
     "output_type": "stream",
     "text": [
      "{'name': 'Alice', 'age': 25, 'city': 'Newyork'}\n",
      "{'name': 'Alice', 'age': 25, 'city': 'Newyork'}\n"
     ]
    }
   ],
   "source": [
    "# Make a dictionary. {key:value}\n",
    "keys = ['name','age','city']\n",
    "values = ['Alice',25,'Newyork']\n",
    "\n",
    "# By using simple Loop\n",
    "Empty_dict = {}\n",
    "for i in range(len(keys)):\n",
    "    Empty_dict[keys[i]] = values[i]\n",
    "\n",
    "print(Empty_dict)  \n",
    "\n",
    "# By Dictionary Comprehension\n",
    "dict_comp = {keys[i]:values[i] for i in range(len(keys))}\n",
    "print(dict_comp)"
   ]
  },
  {
   "cell_type": "code",
   "execution_count": 1,
   "metadata": {},
   "outputs": [
    {
     "name": "stdout",
     "output_type": "stream",
     "text": [
      "{'Name': 'Zainab', 'age': '7', 'gender': 'Female'}\n"
     ]
    }
   ],
   "source": [
    "list1 = ['Name','age','gender']\n",
    "list2 = ['Zainab','7','Female']\n",
    "Dict_Comprehansion = {list1[i]:list2[i] for i in range(len(list1))}\n",
    "\n",
    "print(Dict_Comprehansion)"
   ]
  },
  {
   "cell_type": "markdown",
   "metadata": {},
   "source": [
    "### Split Function in Dictionary"
   ]
  },
  {
   "cell_type": "code",
   "execution_count": 107,
   "metadata": {},
   "outputs": [
    {
     "name": "stdout",
     "output_type": "stream",
     "text": [
      "\n",
      "Jan = January ; Feb = February ; Mar = March <class 'str'>\n"
     ]
    },
    {
     "data": {
      "text/plain": [
       "{'Jan ': ' January ', ' Feb ': ' February ', ' Mar ': ' March'}"
      ]
     },
     "execution_count": 107,
     "metadata": {},
     "output_type": "execute_result"
    }
   ],
   "source": [
    "string = \"Jan = January ; Feb = February ; Mar = March\"\n",
    "\n",
    "# string_type = string.split(';')\n",
    "# print(string_type, type(string_type))\n",
    "\n",
    "# Dictionary1 = dict(substring.split('=') for  substring in string.split(';'))\n",
    "# print(Dictionary1)\n",
    "\n",
    "# Dictionary2 = [substring.split('=') for  substring in string.split(';')]\n",
    "# print(Dictionary2)\n",
    "\n",
    "# dictionary = {}\n",
    "# for substring in string.split(\";\"):\n",
    "#     print(substring.split('='))\n",
    "#     key = substring.split('=')[0]\n",
    "#     values = substring.split('=')[1]\n",
    "#     dictionary[key] = values\n",
    "\n",
    "# dictionary\n",
    "\n",
    "emp_dict = {}\n",
    "print(\"\")\n",
    "print(string,type(string))\n",
    "for i in string.split(';'):\n",
    "    key = i.split('=')[0]\n",
    "    values = i.split(\"=\")[1]\n",
    "    emp_dict[key] = values\n",
    "\n",
    "emp_dict\n",
    "\n"
   ]
  },
  {
   "cell_type": "code",
   "execution_count": null,
   "metadata": {},
   "outputs": [],
   "source": []
  }
 ],
 "metadata": {
  "kernelspec": {
   "display_name": "Python 3",
   "language": "python",
   "name": "python3"
  },
  "language_info": {
   "codemirror_mode": {
    "name": "ipython",
    "version": 3
   },
   "file_extension": ".py",
   "mimetype": "text/x-python",
   "name": "python",
   "nbconvert_exporter": "python",
   "pygments_lexer": "ipython3",
   "version": "3.12.3"
  }
 },
 "nbformat": 4,
 "nbformat_minor": 2
}
