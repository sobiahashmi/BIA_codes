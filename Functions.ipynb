{
 "cells": [
  {
   "cell_type": "markdown",
   "metadata": {},
   "source": [
    "# Loops, Functions and Error Handling"
   ]
  },
  {
   "cell_type": "markdown",
   "metadata": {},
   "source": [
    "### Loops \n",
    "\n",
    "- break\n",
    "- continue\n",
    "- pass"
   ]
  },
  {
   "cell_type": "code",
   "execution_count": 6,
   "metadata": {},
   "outputs": [
    {
     "name": "stdout",
     "output_type": "stream",
     "text": [
      "0\n",
      "1\n",
      "2\n"
     ]
    }
   ],
   "source": [
    "# break\n",
    "for i in range (5):\n",
    "    if i == 3:\n",
    "        break\n",
    "    print(i)"
   ]
  },
  {
   "cell_type": "code",
   "execution_count": 7,
   "metadata": {},
   "outputs": [
    {
     "name": "stdout",
     "output_type": "stream",
     "text": [
      "0\n",
      "1\n",
      "2\n",
      "4\n",
      "5\n"
     ]
    }
   ],
   "source": [
    "# continue\n",
    "for i in range (6):\n",
    "    if i == 3:\n",
    "        continue\n",
    "    print(i)"
   ]
  },
  {
   "cell_type": "code",
   "execution_count": 8,
   "metadata": {},
   "outputs": [
    {
     "name": "stdout",
     "output_type": "stream",
     "text": [
      "0\n",
      "1\n",
      "2\n",
      "3\n",
      "4\n",
      "5\n"
     ]
    }
   ],
   "source": [
    "# pass\n",
    "for i in range (6):\n",
    "    if i == 3:\n",
    "        pass\n",
    "    print(i)"
   ]
  },
  {
   "cell_type": "markdown",
   "metadata": {},
   "source": [
    "# BUILT-IN FUNCTIONS"
   ]
  },
  {
   "cell_type": "code",
   "execution_count": 10,
   "metadata": {},
   "outputs": [
    {
     "name": "stdout",
     "output_type": "stream",
     "text": [
      "Index: 0 Fruits: ['apple', 'banana', 'orangle', 'kiwi']\n",
      "Index: 1 Fruits: ['apple', 'banana', 'orangle', 'kiwi']\n",
      "Index: 2 Fruits: ['apple', 'banana', 'orangle', 'kiwi']\n",
      "Index: 3 Fruits: ['apple', 'banana', 'orangle', 'kiwi']\n"
     ]
    }
   ],
   "source": [
    "fruits = ['apple','banana', 'orangle', 'kiwi']\n",
    "\n",
    "for index,fruit in enumerate(fruits):\n",
    "  print(\"Index:\",index, \"Fruits:\",fruits)"
   ]
  },
  {
   "cell_type": "code",
   "execution_count": 21,
   "metadata": {},
   "outputs": [
    {
     "name": "stdout",
     "output_type": "stream",
     "text": [
      "Index: 0 Character: P\n",
      "Index: 1 Character: y\n",
      "Index: 2 Character: t\n",
      "Index: 3 Character: h\n",
      "Index: 4 Character: o\n",
      "Index: 5 Character: n\n"
     ]
    }
   ],
   "source": [
    "text = \"Python\"\n",
    "\n",
    "for index, char in enumerate(text):\n",
    "    print(\"Index:\",index, \"Character:\",char)"
   ]
  },
  {
   "cell_type": "markdown",
   "metadata": {},
   "source": [
    "# USER DEFINED FUNCTION\n",
    "\n",
    "- def is a keyword used to define a function\n",
    "- it is reusable"
   ]
  },
  {
   "cell_type": "code",
   "execution_count": 18,
   "metadata": {},
   "outputs": [
    {
     "name": "stdout",
     "output_type": "stream",
     "text": [
      "25\n"
     ]
    }
   ],
   "source": [
    "def square(x):\n",
    "    x = x**2\n",
    "    return x\n",
    "\n",
    "print(square(5))"
   ]
  },
  {
   "cell_type": "code",
   "execution_count": 23,
   "metadata": {},
   "outputs": [
    {
     "name": "stdout",
     "output_type": "stream",
     "text": [
      "25 1 3\n"
     ]
    }
   ],
   "source": [
    "def square(x,y,z):\n",
    "    x = x**2\n",
    "    y = y**3\n",
    "    z = z+y\n",
    "    return x,y,z\n",
    "\n",
    "a,b,c = square(5,1,2)\n",
    "\n",
    "print(a,b,c)"
   ]
  },
  {
   "cell_type": "code",
   "execution_count": 38,
   "metadata": {},
   "outputs": [
    {
     "name": "stdout",
     "output_type": "stream",
     "text": [
      "9\n"
     ]
    }
   ],
   "source": [
    "# Problem: Take input from user, and add two numbers\n",
    "a = int(input(\"Enter First Number:\"))\n",
    "b = int(input(\"Enter Second Number:\"))\n",
    "\n",
    "def sum(a,b):\n",
    "    x = a+b\n",
    "    return x\n",
    "\n",
    "print(sum(a,b))"
   ]
  },
  {
   "cell_type": "code",
   "execution_count": 29,
   "metadata": {},
   "outputs": [
    {
     "name": "stdout",
     "output_type": "stream",
     "text": [
      "('Hello,', 'Alice', 'How are you today!')\n"
     ]
    }
   ],
   "source": [
    "def greet(name):\n",
    "    return \"Hello,\", name, \"How are you today!\"\n",
    "\n",
    "print(greet(\"Alice\"))"
   ]
  },
  {
   "cell_type": "markdown",
   "metadata": {},
   "source": [
    "* Default Arguments - return the default value when value is not specify"
   ]
  },
  {
   "cell_type": "code",
   "execution_count": 37,
   "metadata": {},
   "outputs": [
    {
     "name": "stdout",
     "output_type": "stream",
     "text": [
      "Hello! Alice\n",
      "Hello! Sobia\n",
      "Hi Bob\n",
      "Hola Sobia\n",
      "Hello! Charlie\n"
     ]
    }
   ],
   "source": [
    "def greet(name = \"Sobia\", greetings = \"Hello!\"):\n",
    "    print(greetings,name)\n",
    "\n",
    "greet (\"Alice\")\n",
    "greet ()\n",
    "greet (\"Bob\",\"Hi\")\n",
    "greet (greetings=\"Hola\")\n",
    "greet (\"Charlie\")\n"
   ]
  },
  {
   "cell_type": "code",
   "execution_count": 42,
   "metadata": {},
   "outputs": [
    {
     "data": {
      "text/plain": [
       "'Positive'"
      ]
     },
     "execution_count": 42,
     "metadata": {},
     "output_type": "execute_result"
    }
   ],
   "source": [
    "# Problem: Input a number, check it is Positive, Negative or Zero\n",
    "\n",
    "n = int(input(\"Enter Number:\"))\n",
    "\n",
    "def check_number(n):\n",
    "    if n > 0:\n",
    "        return \"Positive\" \n",
    "    elif n < 0:\n",
    "        print(\"Negative\")\n",
    "    else:\n",
    "        print(\"Zero\")\n",
    "\n",
    "check_number(n)"
   ]
  },
  {
   "cell_type": "markdown",
   "metadata": {},
   "source": [
    "### NESTED FUNCTION\n",
    "\n",
    "- A nested function is a function that is defined inside another function. The inner function has access to the\n",
    "variables of the outer function, even when the outer function has returned.\n",
    "\n",
    "- It is compulsory to return inner_function"
   ]
  },
  {
   "cell_type": "code",
   "execution_count": 43,
   "metadata": {},
   "outputs": [
    {
     "name": "stdout",
     "output_type": "stream",
     "text": [
      "15\n"
     ]
    }
   ],
   "source": [
    "def outer_function(x):\n",
    "    def inner_function(y):\n",
    "        return x + y\n",
    "    return inner_function\n",
    "closure = outer_function(10)\n",
    "result = closure(5)\n",
    "print(result)"
   ]
  },
  {
   "cell_type": "code",
   "execution_count": 1,
   "metadata": {},
   "outputs": [
    {
     "name": "stdout",
     "output_type": "stream",
     "text": [
      "Factorial of 4: 24\n"
     ]
    }
   ],
   "source": [
    "# Factorial [Recurrsion]\n",
    "\n",
    "def factorial(n):\n",
    "    if n == 0:\n",
    "        return 1\n",
    "    else:\n",
    "        return n * factorial(n-1)\n",
    "    \n",
    "result = factorial(4)\n",
    "print(\"Factorial of 4:\",result)"
   ]
  },
  {
   "cell_type": "code",
   "execution_count": 49,
   "metadata": {},
   "outputs": [
    {
     "name": "stdout",
     "output_type": "stream",
     "text": [
      "Prime Number:  True\n"
     ]
    }
   ],
   "source": [
    "# Prime Number\n",
    "# A prime number is a natural number greater than 1 that has no positive divisors other than\n",
    "# 1 and itself.\n",
    "\n",
    "def prime(n):\n",
    "    if n <= 1:\n",
    "        return False\n",
    "    for i in range(2, int(n**0.5) + 1):\n",
    "        if n % i == 0:\n",
    "            return False\n",
    "        return True\n",
    "    \n",
    "print(\"Prime Number: \",prime(11))\n"
   ]
  },
  {
   "cell_type": "markdown",
   "metadata": {},
   "source": [
    "# Lambda Function\n",
    "- Basic Syntax : Lambda arguments : expression"
   ]
  },
  {
   "cell_type": "code",
   "execution_count": 54,
   "metadata": {},
   "outputs": [
    {
     "name": "stdout",
     "output_type": "stream",
     "text": [
      "5\n",
      "True\n",
      "25\n"
     ]
    }
   ],
   "source": [
    "# Addition\n",
    "add = lambda x,y : x + y\n",
    "print(add(2,3))\n",
    "\n",
    "# Is_even\n",
    "is_even = lambda x: x%2 == 0\n",
    "print(is_even(6))  # True\n",
    "\n",
    "# Square\n",
    "square = lambda x : x*x\n",
    "print(square(5))  # 25"
   ]
  }
 ],
 "metadata": {
  "kernelspec": {
   "display_name": "Python 3",
   "language": "python",
   "name": "python3"
  },
  "language_info": {
   "codemirror_mode": {
    "name": "ipython",
    "version": 3
   },
   "file_extension": ".py",
   "mimetype": "text/x-python",
   "name": "python",
   "nbconvert_exporter": "python",
   "pygments_lexer": "ipython3",
   "version": "3.12.3"
  }
 },
 "nbformat": 4,
 "nbformat_minor": 2
}
